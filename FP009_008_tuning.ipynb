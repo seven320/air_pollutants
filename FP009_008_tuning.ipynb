{
  "nbformat": 4,
  "nbformat_minor": 0,
  "metadata": {
    "colab": {
      "name": "FP009-008-tuning",
      "provenance": [],
      "machine_shape": "hm",
      "collapsed_sections": [
        "8vAXJVnWSySV",
        "ZO0WqelkHyfS"
      ],
      "authorship_tag": "ABX9TyMA/n31Vz/e9wz04uLeuDfk",
      "include_colab_link": true
    },
    "kernelspec": {
      "name": "python3",
      "display_name": "Python 3"
    },
    "language_info": {
      "name": "python"
    },
    "accelerator": "GPU"
  },
  "cells": [
    {
      "cell_type": "markdown",
      "metadata": {
        "id": "view-in-github",
        "colab_type": "text"
      },
      "source": [
        "<a href=\"https://colab.research.google.com/github/seven320/air_pollutants/blob/main/FP009_008_tuning.ipynb\" target=\"_parent\"><img src=\"https://colab.research.google.com/assets/colab-badge.svg\" alt=\"Open In Colab\"/></a>"
      ]
    },
    {
      "cell_type": "markdown",
      "source": [
        "# Env"
      ],
      "metadata": {
        "id": "TCnFX004iEpo"
      }
    },
    {
      "cell_type": "code",
      "execution_count": 1,
      "metadata": {
        "colab": {
          "base_uri": "https://localhost:8080/"
        },
        "id": "8OhibwrnFAQk",
        "outputId": "37853781-a4c3-47d6-f285-f89ef22020ac"
      },
      "outputs": [
        {
          "output_type": "stream",
          "name": "stdout",
          "text": [
            "Tue Apr 19 12:03:08 2022       \n",
            "+-----------------------------------------------------------------------------+\n",
            "| NVIDIA-SMI 460.32.03    Driver Version: 460.32.03    CUDA Version: 11.2     |\n",
            "|-------------------------------+----------------------+----------------------+\n",
            "| GPU  Name        Persistence-M| Bus-Id        Disp.A | Volatile Uncorr. ECC |\n",
            "| Fan  Temp  Perf  Pwr:Usage/Cap|         Memory-Usage | GPU-Util  Compute M. |\n",
            "|                               |                      |               MIG M. |\n",
            "|===============================+======================+======================|\n",
            "|   0  Tesla T4            Off  | 00000000:00:04.0 Off |                    0 |\n",
            "| N/A   38C    P8    10W /  70W |      0MiB / 15109MiB |      0%      Default |\n",
            "|                               |                      |                  N/A |\n",
            "+-------------------------------+----------------------+----------------------+\n",
            "                                                                               \n",
            "+-----------------------------------------------------------------------------+\n",
            "| Processes:                                                                  |\n",
            "|  GPU   GI   CI        PID   Type   Process name                  GPU Memory |\n",
            "|        ID   ID                                                   Usage      |\n",
            "|=============================================================================|\n",
            "|  No running processes found                                                 |\n",
            "+-----------------------------------------------------------------------------+\n"
          ]
        }
      ],
      "source": [
        "!nvidia-smi"
      ]
    },
    {
      "cell_type": "code",
      "source": [
        "import os, sys\n",
        "COLAB = \"google.colab\" in sys.modules\n",
        "\n",
        "if COLAB:\n",
        "    from google.colab import drive\n",
        "    from google.colab import output\n",
        "    drive.mount(\"/content/drive\")"
      ],
      "metadata": {
        "colab": {
          "base_uri": "https://localhost:8080/"
        },
        "id": "b09jV65gFc3Y",
        "outputId": "59410da4-1685-4787-dd14-978e79b26117"
      },
      "execution_count": 2,
      "outputs": [
        {
          "output_type": "stream",
          "name": "stdout",
          "text": [
            "Mounted at /content/drive\n"
          ]
        }
      ]
    },
    {
      "cell_type": "code",
      "source": [
        "if COLAB:\n",
        "    !pip install transformers > /dev/null\n",
        "    !pip install einops > /dev/null\n",
        "    !pip install optuna > /dev/null\n",
        "    # !pip install timm > /dev/null\n",
        "    # !pip install kaggle > /dev/null\n",
        "    # !pip install kaggle_datasets > /dev/null\n",
        "    # !pip install git+https://github.com/albumentations-team/albumentations\n",
        "    # !pip install tensorflow-determinism\n",
        "    !pip install -q iterative-stratification\n",
        "    !pip install python-Levenshtein > /dev/null\n",
        "\n",
        "    # for gpu\n",
        "    !git clone --recursive https://github.com/Microsoft/LightGBM\n",
        "    %cd /content/LightGBM/\n",
        "    !mkdir build\n",
        "    !cmake -DUSE_GPU=1 \n",
        "    !make -j$(nproc)\n",
        "    !sudo apt-get -y install python-pip\n",
        "\n",
        "    !sudo -H pip install setuptools pandas numpy scipy scikit-learn -U\n",
        "    #pandasのエラーが出る場合は上記のコードからpandasを削除\n",
        "\n",
        "    !sudo -H pip install setuptools numpy scipy scikit-learn -U\n",
        "    %cd /content/LightGBM/python-package\n",
        "    !sudo python setup.py install --precompile\n",
        "\n",
        "    output.clear()"
      ],
      "metadata": {
        "id": "MvUvD3E2I6sj"
      },
      "execution_count": 3,
      "outputs": []
    },
    {
      "cell_type": "code",
      "source": [
        "import gc\n",
        "import json\n",
        "import math\n",
        "import os\n",
        "import random\n",
        "import re\n",
        "import time\n",
        "import copy\n",
        "import warnings\n",
        "from requests import get\n",
        "from contextlib import contextmanager\n",
        "from typing import List, Optional, TypeVar, Type, Dict\n",
        "\n",
        "import matplotlib.pyplot as plt\n",
        "import numpy as np\n",
        "import pandas as pd\n",
        "import seaborn as sns\n",
        "import torch\n",
        "import torch.nn as nn\n",
        "from pathlib import Path\n",
        "from sklearn.ensemble import RandomForestRegressor\n",
        "from sklearn.model_selection import GroupKFold, train_test_split, KFold\n",
        "from sklearn.preprocessing import RobustScaler, LabelEncoder, StandardScaler, MinMaxScaler\n",
        "from sklearn.metrics import mean_squared_error\n",
        "from torch.nn import functional as F\n",
        "from torch.utils.data import DataLoader, Dataset\n",
        "# from einops.layers.torch import Rearrange, Reduce\n",
        "# import timm\n",
        "import Levenshtein\n",
        "\n",
        "from tqdm.notebook import tqdm\n",
        "from transformers import AdamW, get_cosine_schedule_with_warmup\n",
        "from typing import Optional, Tuple\n",
        "from xgboost import XGBRegressor\n",
        "import lightgbm as lgb\n",
        "import optuna"
      ],
      "metadata": {
        "id": "VX7ZxFBMH3mX"
      },
      "execution_count": 4,
      "outputs": []
    },
    {
      "cell_type": "code",
      "source": [
        ""
      ],
      "metadata": {
        "id": "B2Ml_n6_Cw7F"
      },
      "execution_count": 4,
      "outputs": []
    },
    {
      "cell_type": "code",
      "source": [
        "warnings.simplefilter('ignore')"
      ],
      "metadata": {
        "id": "3TLiFn8H_V90"
      },
      "execution_count": 5,
      "outputs": []
    },
    {
      "cell_type": "code",
      "source": [
        "if COLAB:    \n",
        "    NOTEBOOK_NAME = get('http://172.28.0.2:9000/api/sessions').json()[0]['name']\n",
        "    print(NOTEBOOK_NAME)"
      ],
      "metadata": {
        "id": "jAG9b0Tb_YdF",
        "colab": {
          "base_uri": "https://localhost:8080/"
        },
        "outputId": "8dc291cc-a466-4171-9c93-eadafb7dec80"
      },
      "execution_count": 6,
      "outputs": [
        {
          "output_type": "stream",
          "name": "stdout",
          "text": [
            "FP009-008-tuning\n"
          ]
        }
      ]
    },
    {
      "cell_type": "code",
      "source": [
        "COMPE_NAME = \"air_pollutants\"\n",
        "BASE_DIR = f\"/content/drive/MyDrive/signate/{COMPE_NAME}\"\n",
        "\n",
        "# KAGGLE ONLY HAS 1, BUT OFFLINE, YOU CAN USE MORE\n",
        "os.environ[\"CUDA_VISIBLE_DEVICES\"]=\"0\" #0,1,2,3 for four gpu"
      ],
      "metadata": {
        "id": "BiWCgj_XI4y2"
      },
      "execution_count": 7,
      "outputs": []
    },
    {
      "cell_type": "code",
      "source": [
        "if COLAB:\n",
        "    INPUT_DIR = Path(os.path.join(BASE_DIR ,f\"input\"))\n",
        "    INPUT_DIR.mkdir(exist_ok=True, parents=True)\n",
        "\n",
        "    SAVE_DIR = Path(os.path.join(BASE_DIR ,f\"models/{NOTEBOOK_NAME}\"))\n",
        "    SAVE_DIR.mkdir(exist_ok=True, parents=True)\n",
        "\n",
        "    OOF_DIR = Path(os.path.join(BASE_DIR, f\"oof/{NOTEBOOK_NAME}\"))\n",
        "    OOF_DIR.mkdir(exist_ok=True, parents = True)\n",
        "\n",
        "    SUB_DIR = Path(os.path.join(BASE_DIR, f\"submission/{NOTEBOOK_NAME}\"))\n",
        "    SUB_DIR.mkdir(exist_ok=True, parents = True)"
      ],
      "metadata": {
        "id": "tUAtLXzhI-Xr"
      },
      "execution_count": 8,
      "outputs": []
    },
    {
      "cell_type": "code",
      "source": [
        "train_df = pd.read_csv(os.path.join(INPUT_DIR, \"train.csv\"))\n",
        "test_df = pd.read_csv(os.path.join(INPUT_DIR, \"test.csv\"))\n",
        "sample_df = pd.read_csv(os.path.join(INPUT_DIR, \"submit_sample.csv\"), names=[\"id\", \"predict\"])\n",
        "\n",
        "print(train_df.shape, test_df.shape, sample_df.shape)"
      ],
      "metadata": {
        "id": "z50ynnGpI-a-",
        "colab": {
          "base_uri": "https://localhost:8080/"
        },
        "outputId": "de1a63be-6f78-446a-c51c-429ca0ae0410"
      },
      "execution_count": 9,
      "outputs": [
        {
          "output_type": "stream",
          "name": "stdout",
          "text": [
            "(195941, 54) (53509, 53) (53509, 2)\n"
          ]
        }
      ]
    },
    {
      "cell_type": "markdown",
      "source": [
        "# add city population"
      ],
      "metadata": {
        "id": "xJgrFC5tVZt3"
      }
    },
    {
      "cell_type": "code",
      "source": [
        "population_df = pd.read_csv(os.path.join(INPUT_DIR, \"city_population.csv\"))\n",
        "population_df[\"City\"] = population_df[\"Name\"]"
      ],
      "metadata": {
        "id": "fD-VnMAxyd8F"
      },
      "execution_count": 10,
      "outputs": []
    },
    {
      "cell_type": "code",
      "source": [
        "# 同じ都市名かつ国名のものを削除する\n",
        "population_df[\"CC\"] = population_df[\"Country\"] + population_df[\"City\"]\n",
        "population_df[\"CC\"].value_counts()\n",
        "for k, v in population_df[\"CC\"].value_counts().items():\n",
        "    # print(k, v)\n",
        "    if v > 1:\n",
        "        print(f\"{k} の行を削除\")\n",
        "        population_df = population_df[population_df[\"CC\"] != k]"
      ],
      "metadata": {
        "colab": {
          "base_uri": "https://localhost:8080/"
        },
        "id": "PyVhbHAGdwTx",
        "outputId": "78e8078d-7629-4adb-c29f-054fa192ff51"
      },
      "execution_count": 11,
      "outputs": [
        {
          "output_type": "stream",
          "name": "stdout",
          "text": [
            "ChinaSuzhou の行を削除\n"
          ]
        }
      ]
    },
    {
      "cell_type": "code",
      "source": [
        "def df_to_country_dict(df: pd.DataFrame) -> Dict:\n",
        "    country_city = {}\n",
        "\n",
        "    for t_c in set(df[\"Country\"].tolist()):\n",
        "        country_city[t_c] = []\n",
        "\n",
        "    for country, city in zip(df[\"Country\"], df[\"City\"]):\n",
        "        country_city[country].append(city)\n",
        "\n",
        "    for k, v in country_city.items():\n",
        "        country_city[k] = set(v)\n",
        "\n",
        "    return country_city\n",
        "    "
      ],
      "metadata": {
        "id": "GHh1_7_-Dtka"
      },
      "execution_count": 12,
      "outputs": []
    },
    {
      "cell_type": "code",
      "source": [
        "train_country_city = df_to_country_dict(pd.concat([train_df, test_df]))\n",
        "\n",
        "p_country_city = df_to_country_dict(population_df)"
      ],
      "metadata": {
        "id": "JR3hx22DD7zE"
      },
      "execution_count": 13,
      "outputs": []
    },
    {
      "cell_type": "code",
      "source": [
        "def cal_leven(str1: str, str2: str) -> float:\n",
        "    # レーベンシュタイン距離の取得\n",
        "    lev_dist = Levenshtein.distance(str1, str2)\n",
        "    # 標準化(長い方の文字列の長さで割る)\n",
        "    divider = len(str1) if len(str1) > len(str2) else len(str2)\n",
        "    lev_dist = lev_dist / divider\n",
        "    # 指標を合わせる(0:完全不一致 → 1:完全一致)\n",
        "    return 1 - lev_dist"
      ],
      "metadata": {
        "id": "1Y2yypTHJBdQ"
      },
      "execution_count": 14,
      "outputs": []
    },
    {
      "cell_type": "code",
      "source": [
        "city_pairs = {}\n",
        "\n",
        "for t_k, t_values in train_country_city.items():\n",
        "    for p_k, p_values in p_country_city.items():\n",
        "        # countryが一致\n",
        "        if t_k != p_k:\n",
        "            continue\n",
        "        for t_v in t_values:\n",
        "            max_score = -1\n",
        "            for p_v in p_values:\n",
        "                score = cal_leven(t_v, p_v)\n",
        "                if max_score < score:\n",
        "                    pairs = [t_v, p_v]\n",
        "                    max_score = score\n",
        "\n",
        "            if max_score > 0.8:\n",
        "                city_pairs[pairs[1]] = pairs[0]\n",
        "print(f\"pair cities:{len(city_pairs)}\")"
      ],
      "metadata": {
        "colab": {
          "base_uri": "https://localhost:8080/"
        },
        "id": "ktKYCePw0-WV",
        "outputId": "dc8b5e85-6219-4336-87a0-22e30a7e53b2"
      },
      "execution_count": 15,
      "outputs": [
        {
          "output_type": "stream",
          "name": "stdout",
          "text": [
            "pair cities:177\n"
          ]
        }
      ]
    },
    {
      "cell_type": "code",
      "source": [
        "a = population_df[\"City\"]\n",
        "for key, value in city_pairs.items():\n",
        "    # print(key, value)\n",
        "    a = copy.deepcopy(a.replace(key, value))\n",
        "\n",
        "population_df[\"City\"] = a"
      ],
      "metadata": {
        "id": "o7H-pU-SOcQR"
      },
      "execution_count": 16,
      "outputs": []
    },
    {
      "cell_type": "code",
      "source": [
        "train_df"
      ],
      "metadata": {
        "colab": {
          "base_uri": "https://localhost:8080/",
          "height": 540
        },
        "id": "5znOfOv0YvQe",
        "outputId": "f10ed6e8-d373-4e21-9d1a-2ecadc574b3d"
      },
      "execution_count": 17,
      "outputs": [
        {
          "output_type": "execute_result",
          "data": {
            "text/plain": [
              "            id  year  month  day        Country          City       lat  \\\n",
              "0            1  2019      1    1      Australia      Brisbane -27.46794   \n",
              "1            2  2019      1    1      Australia        Darwin -12.46113   \n",
              "2            3  2019      1    1      Australia     Melbourne -37.81400   \n",
              "3            4  2019      1    1      Australia     Newcastle -32.92953   \n",
              "4            5  2019      1    1      Australia         Perth -31.95224   \n",
              "...        ...   ...    ...  ...            ...           ...       ...   \n",
              "195936  195937  2021     12   31  United States  Jacksonville  30.33218   \n",
              "195937  195938  2021     12   31  United States     Las Vegas  36.17497   \n",
              "195938  195939  2021     12   31  United States     Milwaukee  43.03890   \n",
              "195939  195940  2021     12   31        Vietnam         Hanoi  21.02450   \n",
              "195940  195941  2021     12   31        Vietnam       Hạ Long  20.95045   \n",
              "\n",
              "              lon  co_cnt  co_min  ...  ws_min  ws_mid  ws_max  ws_var  \\\n",
              "0       153.02809      38   0.749  ...   0.241   1.088   3.101   1.983   \n",
              "1       130.84185      47   2.594  ...   0.828   3.473   7.396  10.411   \n",
              "2       144.96332      17   1.190  ...   0.000   2.107   8.089  15.719   \n",
              "3       151.78010      63   4.586  ...   0.284   0.503   3.592   2.485   \n",
              "4       115.86140      47   4.689  ...   0.500   0.755   3.396   1.937   \n",
              "...           ...     ...     ...  ...     ...     ...     ...     ...   \n",
              "195936  -81.65565      12   0.694  ...   2.195   2.710   6.125   3.757   \n",
              "195937 -115.13722      14   0.528  ...   1.002   2.974   6.861   8.354   \n",
              "195938  -87.90647     171   1.975  ...   0.994   1.087   2.578   0.612   \n",
              "195939  105.84117      31   2.613  ...   1.005   3.058   6.005   6.085   \n",
              "195940  107.07336      26   0.069  ...   0.190   2.775   3.412   2.528   \n",
              "\n",
              "        dew_cnt  dew_min  dew_mid  dew_max  dew_var  pm25_mid  \n",
              "0            17    7.671   10.358   15.112   13.424    19.901  \n",
              "1            62   21.324   23.813   24.221    2.021    13.741  \n",
              "2            22   10.309   13.133   15.422    6.355    25.918  \n",
              "3           116    7.146   10.685   13.344    9.417   174.370  \n",
              "4            93    1.091    3.277   12.272    4.109   167.063  \n",
              "...         ...      ...      ...      ...      ...       ...  \n",
              "195936       12   16.774   22.679   26.058   13.252    16.150  \n",
              "195937       12   10.432   14.741   15.827    7.078    16.895  \n",
              "195938       26    2.049    3.531    6.686    5.286    86.299  \n",
              "195939       51    1.922    7.443    7.716    4.642    36.523  \n",
              "195940       16    8.448   10.372   18.886   11.536    62.021  \n",
              "\n",
              "[195941 rows x 54 columns]"
            ],
            "text/html": [
              "\n",
              "  <div id=\"df-3f334bca-7d3f-426c-aefc-c6b151124d62\">\n",
              "    <div class=\"colab-df-container\">\n",
              "      <div>\n",
              "<style scoped>\n",
              "    .dataframe tbody tr th:only-of-type {\n",
              "        vertical-align: middle;\n",
              "    }\n",
              "\n",
              "    .dataframe tbody tr th {\n",
              "        vertical-align: top;\n",
              "    }\n",
              "\n",
              "    .dataframe thead th {\n",
              "        text-align: right;\n",
              "    }\n",
              "</style>\n",
              "<table border=\"1\" class=\"dataframe\">\n",
              "  <thead>\n",
              "    <tr style=\"text-align: right;\">\n",
              "      <th></th>\n",
              "      <th>id</th>\n",
              "      <th>year</th>\n",
              "      <th>month</th>\n",
              "      <th>day</th>\n",
              "      <th>Country</th>\n",
              "      <th>City</th>\n",
              "      <th>lat</th>\n",
              "      <th>lon</th>\n",
              "      <th>co_cnt</th>\n",
              "      <th>co_min</th>\n",
              "      <th>...</th>\n",
              "      <th>ws_min</th>\n",
              "      <th>ws_mid</th>\n",
              "      <th>ws_max</th>\n",
              "      <th>ws_var</th>\n",
              "      <th>dew_cnt</th>\n",
              "      <th>dew_min</th>\n",
              "      <th>dew_mid</th>\n",
              "      <th>dew_max</th>\n",
              "      <th>dew_var</th>\n",
              "      <th>pm25_mid</th>\n",
              "    </tr>\n",
              "  </thead>\n",
              "  <tbody>\n",
              "    <tr>\n",
              "      <th>0</th>\n",
              "      <td>1</td>\n",
              "      <td>2019</td>\n",
              "      <td>1</td>\n",
              "      <td>1</td>\n",
              "      <td>Australia</td>\n",
              "      <td>Brisbane</td>\n",
              "      <td>-27.46794</td>\n",
              "      <td>153.02809</td>\n",
              "      <td>38</td>\n",
              "      <td>0.749</td>\n",
              "      <td>...</td>\n",
              "      <td>0.241</td>\n",
              "      <td>1.088</td>\n",
              "      <td>3.101</td>\n",
              "      <td>1.983</td>\n",
              "      <td>17</td>\n",
              "      <td>7.671</td>\n",
              "      <td>10.358</td>\n",
              "      <td>15.112</td>\n",
              "      <td>13.424</td>\n",
              "      <td>19.901</td>\n",
              "    </tr>\n",
              "    <tr>\n",
              "      <th>1</th>\n",
              "      <td>2</td>\n",
              "      <td>2019</td>\n",
              "      <td>1</td>\n",
              "      <td>1</td>\n",
              "      <td>Australia</td>\n",
              "      <td>Darwin</td>\n",
              "      <td>-12.46113</td>\n",
              "      <td>130.84185</td>\n",
              "      <td>47</td>\n",
              "      <td>2.594</td>\n",
              "      <td>...</td>\n",
              "      <td>0.828</td>\n",
              "      <td>3.473</td>\n",
              "      <td>7.396</td>\n",
              "      <td>10.411</td>\n",
              "      <td>62</td>\n",
              "      <td>21.324</td>\n",
              "      <td>23.813</td>\n",
              "      <td>24.221</td>\n",
              "      <td>2.021</td>\n",
              "      <td>13.741</td>\n",
              "    </tr>\n",
              "    <tr>\n",
              "      <th>2</th>\n",
              "      <td>3</td>\n",
              "      <td>2019</td>\n",
              "      <td>1</td>\n",
              "      <td>1</td>\n",
              "      <td>Australia</td>\n",
              "      <td>Melbourne</td>\n",
              "      <td>-37.81400</td>\n",
              "      <td>144.96332</td>\n",
              "      <td>17</td>\n",
              "      <td>1.190</td>\n",
              "      <td>...</td>\n",
              "      <td>0.000</td>\n",
              "      <td>2.107</td>\n",
              "      <td>8.089</td>\n",
              "      <td>15.719</td>\n",
              "      <td>22</td>\n",
              "      <td>10.309</td>\n",
              "      <td>13.133</td>\n",
              "      <td>15.422</td>\n",
              "      <td>6.355</td>\n",
              "      <td>25.918</td>\n",
              "    </tr>\n",
              "    <tr>\n",
              "      <th>3</th>\n",
              "      <td>4</td>\n",
              "      <td>2019</td>\n",
              "      <td>1</td>\n",
              "      <td>1</td>\n",
              "      <td>Australia</td>\n",
              "      <td>Newcastle</td>\n",
              "      <td>-32.92953</td>\n",
              "      <td>151.78010</td>\n",
              "      <td>63</td>\n",
              "      <td>4.586</td>\n",
              "      <td>...</td>\n",
              "      <td>0.284</td>\n",
              "      <td>0.503</td>\n",
              "      <td>3.592</td>\n",
              "      <td>2.485</td>\n",
              "      <td>116</td>\n",
              "      <td>7.146</td>\n",
              "      <td>10.685</td>\n",
              "      <td>13.344</td>\n",
              "      <td>9.417</td>\n",
              "      <td>174.370</td>\n",
              "    </tr>\n",
              "    <tr>\n",
              "      <th>4</th>\n",
              "      <td>5</td>\n",
              "      <td>2019</td>\n",
              "      <td>1</td>\n",
              "      <td>1</td>\n",
              "      <td>Australia</td>\n",
              "      <td>Perth</td>\n",
              "      <td>-31.95224</td>\n",
              "      <td>115.86140</td>\n",
              "      <td>47</td>\n",
              "      <td>4.689</td>\n",
              "      <td>...</td>\n",
              "      <td>0.500</td>\n",
              "      <td>0.755</td>\n",
              "      <td>3.396</td>\n",
              "      <td>1.937</td>\n",
              "      <td>93</td>\n",
              "      <td>1.091</td>\n",
              "      <td>3.277</td>\n",
              "      <td>12.272</td>\n",
              "      <td>4.109</td>\n",
              "      <td>167.063</td>\n",
              "    </tr>\n",
              "    <tr>\n",
              "      <th>...</th>\n",
              "      <td>...</td>\n",
              "      <td>...</td>\n",
              "      <td>...</td>\n",
              "      <td>...</td>\n",
              "      <td>...</td>\n",
              "      <td>...</td>\n",
              "      <td>...</td>\n",
              "      <td>...</td>\n",
              "      <td>...</td>\n",
              "      <td>...</td>\n",
              "      <td>...</td>\n",
              "      <td>...</td>\n",
              "      <td>...</td>\n",
              "      <td>...</td>\n",
              "      <td>...</td>\n",
              "      <td>...</td>\n",
              "      <td>...</td>\n",
              "      <td>...</td>\n",
              "      <td>...</td>\n",
              "      <td>...</td>\n",
              "      <td>...</td>\n",
              "    </tr>\n",
              "    <tr>\n",
              "      <th>195936</th>\n",
              "      <td>195937</td>\n",
              "      <td>2021</td>\n",
              "      <td>12</td>\n",
              "      <td>31</td>\n",
              "      <td>United States</td>\n",
              "      <td>Jacksonville</td>\n",
              "      <td>30.33218</td>\n",
              "      <td>-81.65565</td>\n",
              "      <td>12</td>\n",
              "      <td>0.694</td>\n",
              "      <td>...</td>\n",
              "      <td>2.195</td>\n",
              "      <td>2.710</td>\n",
              "      <td>6.125</td>\n",
              "      <td>3.757</td>\n",
              "      <td>12</td>\n",
              "      <td>16.774</td>\n",
              "      <td>22.679</td>\n",
              "      <td>26.058</td>\n",
              "      <td>13.252</td>\n",
              "      <td>16.150</td>\n",
              "    </tr>\n",
              "    <tr>\n",
              "      <th>195937</th>\n",
              "      <td>195938</td>\n",
              "      <td>2021</td>\n",
              "      <td>12</td>\n",
              "      <td>31</td>\n",
              "      <td>United States</td>\n",
              "      <td>Las Vegas</td>\n",
              "      <td>36.17497</td>\n",
              "      <td>-115.13722</td>\n",
              "      <td>14</td>\n",
              "      <td>0.528</td>\n",
              "      <td>...</td>\n",
              "      <td>1.002</td>\n",
              "      <td>2.974</td>\n",
              "      <td>6.861</td>\n",
              "      <td>8.354</td>\n",
              "      <td>12</td>\n",
              "      <td>10.432</td>\n",
              "      <td>14.741</td>\n",
              "      <td>15.827</td>\n",
              "      <td>7.078</td>\n",
              "      <td>16.895</td>\n",
              "    </tr>\n",
              "    <tr>\n",
              "      <th>195938</th>\n",
              "      <td>195939</td>\n",
              "      <td>2021</td>\n",
              "      <td>12</td>\n",
              "      <td>31</td>\n",
              "      <td>United States</td>\n",
              "      <td>Milwaukee</td>\n",
              "      <td>43.03890</td>\n",
              "      <td>-87.90647</td>\n",
              "      <td>171</td>\n",
              "      <td>1.975</td>\n",
              "      <td>...</td>\n",
              "      <td>0.994</td>\n",
              "      <td>1.087</td>\n",
              "      <td>2.578</td>\n",
              "      <td>0.612</td>\n",
              "      <td>26</td>\n",
              "      <td>2.049</td>\n",
              "      <td>3.531</td>\n",
              "      <td>6.686</td>\n",
              "      <td>5.286</td>\n",
              "      <td>86.299</td>\n",
              "    </tr>\n",
              "    <tr>\n",
              "      <th>195939</th>\n",
              "      <td>195940</td>\n",
              "      <td>2021</td>\n",
              "      <td>12</td>\n",
              "      <td>31</td>\n",
              "      <td>Vietnam</td>\n",
              "      <td>Hanoi</td>\n",
              "      <td>21.02450</td>\n",
              "      <td>105.84117</td>\n",
              "      <td>31</td>\n",
              "      <td>2.613</td>\n",
              "      <td>...</td>\n",
              "      <td>1.005</td>\n",
              "      <td>3.058</td>\n",
              "      <td>6.005</td>\n",
              "      <td>6.085</td>\n",
              "      <td>51</td>\n",
              "      <td>1.922</td>\n",
              "      <td>7.443</td>\n",
              "      <td>7.716</td>\n",
              "      <td>4.642</td>\n",
              "      <td>36.523</td>\n",
              "    </tr>\n",
              "    <tr>\n",
              "      <th>195940</th>\n",
              "      <td>195941</td>\n",
              "      <td>2021</td>\n",
              "      <td>12</td>\n",
              "      <td>31</td>\n",
              "      <td>Vietnam</td>\n",
              "      <td>Hạ Long</td>\n",
              "      <td>20.95045</td>\n",
              "      <td>107.07336</td>\n",
              "      <td>26</td>\n",
              "      <td>0.069</td>\n",
              "      <td>...</td>\n",
              "      <td>0.190</td>\n",
              "      <td>2.775</td>\n",
              "      <td>3.412</td>\n",
              "      <td>2.528</td>\n",
              "      <td>16</td>\n",
              "      <td>8.448</td>\n",
              "      <td>10.372</td>\n",
              "      <td>18.886</td>\n",
              "      <td>11.536</td>\n",
              "      <td>62.021</td>\n",
              "    </tr>\n",
              "  </tbody>\n",
              "</table>\n",
              "<p>195941 rows × 54 columns</p>\n",
              "</div>\n",
              "      <button class=\"colab-df-convert\" onclick=\"convertToInteractive('df-3f334bca-7d3f-426c-aefc-c6b151124d62')\"\n",
              "              title=\"Convert this dataframe to an interactive table.\"\n",
              "              style=\"display:none;\">\n",
              "        \n",
              "  <svg xmlns=\"http://www.w3.org/2000/svg\" height=\"24px\"viewBox=\"0 0 24 24\"\n",
              "       width=\"24px\">\n",
              "    <path d=\"M0 0h24v24H0V0z\" fill=\"none\"/>\n",
              "    <path d=\"M18.56 5.44l.94 2.06.94-2.06 2.06-.94-2.06-.94-.94-2.06-.94 2.06-2.06.94zm-11 1L8.5 8.5l.94-2.06 2.06-.94-2.06-.94L8.5 2.5l-.94 2.06-2.06.94zm10 10l.94 2.06.94-2.06 2.06-.94-2.06-.94-.94-2.06-.94 2.06-2.06.94z\"/><path d=\"M17.41 7.96l-1.37-1.37c-.4-.4-.92-.59-1.43-.59-.52 0-1.04.2-1.43.59L10.3 9.45l-7.72 7.72c-.78.78-.78 2.05 0 2.83L4 21.41c.39.39.9.59 1.41.59.51 0 1.02-.2 1.41-.59l7.78-7.78 2.81-2.81c.8-.78.8-2.07 0-2.86zM5.41 20L4 18.59l7.72-7.72 1.47 1.35L5.41 20z\"/>\n",
              "  </svg>\n",
              "      </button>\n",
              "      \n",
              "  <style>\n",
              "    .colab-df-container {\n",
              "      display:flex;\n",
              "      flex-wrap:wrap;\n",
              "      gap: 12px;\n",
              "    }\n",
              "\n",
              "    .colab-df-convert {\n",
              "      background-color: #E8F0FE;\n",
              "      border: none;\n",
              "      border-radius: 50%;\n",
              "      cursor: pointer;\n",
              "      display: none;\n",
              "      fill: #1967D2;\n",
              "      height: 32px;\n",
              "      padding: 0 0 0 0;\n",
              "      width: 32px;\n",
              "    }\n",
              "\n",
              "    .colab-df-convert:hover {\n",
              "      background-color: #E2EBFA;\n",
              "      box-shadow: 0px 1px 2px rgba(60, 64, 67, 0.3), 0px 1px 3px 1px rgba(60, 64, 67, 0.15);\n",
              "      fill: #174EA6;\n",
              "    }\n",
              "\n",
              "    [theme=dark] .colab-df-convert {\n",
              "      background-color: #3B4455;\n",
              "      fill: #D2E3FC;\n",
              "    }\n",
              "\n",
              "    [theme=dark] .colab-df-convert:hover {\n",
              "      background-color: #434B5C;\n",
              "      box-shadow: 0px 1px 3px 1px rgba(0, 0, 0, 0.15);\n",
              "      filter: drop-shadow(0px 1px 2px rgba(0, 0, 0, 0.3));\n",
              "      fill: #FFFFFF;\n",
              "    }\n",
              "  </style>\n",
              "\n",
              "      <script>\n",
              "        const buttonEl =\n",
              "          document.querySelector('#df-3f334bca-7d3f-426c-aefc-c6b151124d62 button.colab-df-convert');\n",
              "        buttonEl.style.display =\n",
              "          google.colab.kernel.accessAllowed ? 'block' : 'none';\n",
              "\n",
              "        async function convertToInteractive(key) {\n",
              "          const element = document.querySelector('#df-3f334bca-7d3f-426c-aefc-c6b151124d62');\n",
              "          const dataTable =\n",
              "            await google.colab.kernel.invokeFunction('convertToInteractive',\n",
              "                                                     [key], {});\n",
              "          if (!dataTable) return;\n",
              "\n",
              "          const docLinkHtml = 'Like what you see? Visit the ' +\n",
              "            '<a target=\"_blank\" href=https://colab.research.google.com/notebooks/data_table.ipynb>data table notebook</a>'\n",
              "            + ' to learn more about interactive tables.';\n",
              "          element.innerHTML = '';\n",
              "          dataTable['output_type'] = 'display_data';\n",
              "          await google.colab.output.renderOutput(dataTable, element);\n",
              "          const docLink = document.createElement('div');\n",
              "          docLink.innerHTML = docLinkHtml;\n",
              "          element.appendChild(docLink);\n",
              "        }\n",
              "      </script>\n",
              "    </div>\n",
              "  </div>\n",
              "  "
            ]
          },
          "metadata": {},
          "execution_count": 17
        }
      ]
    },
    {
      "cell_type": "code",
      "source": [
        "if not \"Prev\" in train_df.columns:\n",
        "    train_df = train_df.merge(population_df[[\"rank\", \"City\", \"Country\", \"Population\", \"Prev\", \"Growth\"]], on = [\"City\", \"Country\"], how=\"left\")\n",
        "    test_df = test_df.merge(population_df[[\"rank\", \"City\", \"Country\",  \"Population\", \"Prev\", \"Growth\"]], on = [\"City\", \"Country\"], how=\"left\")\n",
        "\n",
        "assert len(test_df) == len(sample_df)"
      ],
      "metadata": {
        "id": "o5b40dm-zrPh"
      },
      "execution_count": 18,
      "outputs": []
    },
    {
      "cell_type": "code",
      "source": [
        "# Config\n",
        "NUM_FOLDS = 5"
      ],
      "metadata": {
        "id": "pab-ry5T83Xa"
      },
      "execution_count": 19,
      "outputs": []
    },
    {
      "cell_type": "code",
      "source": [
        "#############\n",
        "## Utility ##\n",
        "#############\n",
        "@contextmanager\n",
        "def timer(name: str):\n",
        "    t0 = time.time()\n",
        "    print(f\"[{name}] start\")\n",
        "    yield\n",
        "    print(f\"[{name}] done - elapsed {time.time() - t0:.2f}s\")"
      ],
      "metadata": {
        "id": "QO13XyUmI-dG"
      },
      "execution_count": 20,
      "outputs": []
    },
    {
      "cell_type": "code",
      "source": [
        "def seed_everything(seed):\n",
        "    \"\"\"\n",
        "    Seeds basic parameters for reproductibility of results\n",
        "    \n",
        "    Arguments:\n",
        "        seed {int} -- Number of the seed\n",
        "    \"\"\"\n",
        "    random.seed(seed)\n",
        "    os.environ[\"PYTHONHASHSEED\"] = str(seed)\n",
        "    np.random.seed(seed)\n",
        "    torch.manual_seed(seed)\n",
        "    torch.cuda.manual_seed(seed)\n",
        "    torch.backends.cudnn.deterministic = True\n",
        "    torch.backends.cudnn.benchmark = False\n",
        "\n",
        "def set_seed(seed):\n",
        "    random.seed(seed)\n",
        "    os.environ[\"PYTHONHASHSEED\"] = str(seed)\n",
        "    np.random.seed(seed)\n",
        "    torch.manual_seed(seed)\n",
        "    torch.cuda.manual_seed(seed)\n",
        "    torch.cuda.manual_seed_all(seed)\n",
        "    torch.backends.cudnn.deterministic = True\n",
        "    torch.backends.cudnn.benchmark = False\n",
        "\n",
        "seed_everything(42)"
      ],
      "metadata": {
        "id": "IeHnNhCrJNvb"
      },
      "execution_count": 21,
      "outputs": []
    },
    {
      "cell_type": "code",
      "source": [
        "train_df.head()"
      ],
      "metadata": {
        "id": "1JcbNGglJNxv",
        "colab": {
          "base_uri": "https://localhost:8080/",
          "height": 299
        },
        "outputId": "8e595bf5-cb39-40f7-a296-ed00ccb06704"
      },
      "execution_count": 22,
      "outputs": [
        {
          "output_type": "execute_result",
          "data": {
            "text/plain": [
              "   id  year  month  day    Country       City       lat        lon  co_cnt  \\\n",
              "0   1  2019      1    1  Australia   Brisbane -27.46794  153.02809      38   \n",
              "1   2  2019      1    1  Australia     Darwin -12.46113  130.84185      47   \n",
              "2   3  2019      1    1  Australia  Melbourne -37.81400  144.96332      17   \n",
              "3   4  2019      1    1  Australia  Newcastle -32.92953  151.78010      63   \n",
              "4   5  2019      1    1  Australia      Perth -31.95224  115.86140      47   \n",
              "\n",
              "   co_min  ...  dew_cnt  dew_min  dew_mid  dew_max  dew_var  pm25_mid   rank  \\\n",
              "0   0.749  ...       17    7.671   10.358   15.112   13.424    19.901  201.0   \n",
              "1   2.594  ...       62   21.324   23.813   24.221    2.021    13.741    NaN   \n",
              "2   1.190  ...       22   10.309   13.133   15.422    6.355    25.918   79.0   \n",
              "3   4.586  ...      116    7.146   10.685   13.344    9.417   174.370    NaN   \n",
              "4   4.689  ...       93    1.091    3.277   12.272    4.109   167.063  242.0   \n",
              "\n",
              "   Population       Prev  Growth  \n",
              "0   2472222.0  2439467.0  0.0134  \n",
              "1         NaN        NaN     NaN  \n",
              "2   5150766.0  5061439.0  0.0176  \n",
              "3         NaN        NaN     NaN  \n",
              "4   2092649.0  2067333.0  0.0122  \n",
              "\n",
              "[5 rows x 58 columns]"
            ],
            "text/html": [
              "\n",
              "  <div id=\"df-2ebe0792-e1a7-4ce7-a96a-7b15f8de1241\">\n",
              "    <div class=\"colab-df-container\">\n",
              "      <div>\n",
              "<style scoped>\n",
              "    .dataframe tbody tr th:only-of-type {\n",
              "        vertical-align: middle;\n",
              "    }\n",
              "\n",
              "    .dataframe tbody tr th {\n",
              "        vertical-align: top;\n",
              "    }\n",
              "\n",
              "    .dataframe thead th {\n",
              "        text-align: right;\n",
              "    }\n",
              "</style>\n",
              "<table border=\"1\" class=\"dataframe\">\n",
              "  <thead>\n",
              "    <tr style=\"text-align: right;\">\n",
              "      <th></th>\n",
              "      <th>id</th>\n",
              "      <th>year</th>\n",
              "      <th>month</th>\n",
              "      <th>day</th>\n",
              "      <th>Country</th>\n",
              "      <th>City</th>\n",
              "      <th>lat</th>\n",
              "      <th>lon</th>\n",
              "      <th>co_cnt</th>\n",
              "      <th>co_min</th>\n",
              "      <th>...</th>\n",
              "      <th>dew_cnt</th>\n",
              "      <th>dew_min</th>\n",
              "      <th>dew_mid</th>\n",
              "      <th>dew_max</th>\n",
              "      <th>dew_var</th>\n",
              "      <th>pm25_mid</th>\n",
              "      <th>rank</th>\n",
              "      <th>Population</th>\n",
              "      <th>Prev</th>\n",
              "      <th>Growth</th>\n",
              "    </tr>\n",
              "  </thead>\n",
              "  <tbody>\n",
              "    <tr>\n",
              "      <th>0</th>\n",
              "      <td>1</td>\n",
              "      <td>2019</td>\n",
              "      <td>1</td>\n",
              "      <td>1</td>\n",
              "      <td>Australia</td>\n",
              "      <td>Brisbane</td>\n",
              "      <td>-27.46794</td>\n",
              "      <td>153.02809</td>\n",
              "      <td>38</td>\n",
              "      <td>0.749</td>\n",
              "      <td>...</td>\n",
              "      <td>17</td>\n",
              "      <td>7.671</td>\n",
              "      <td>10.358</td>\n",
              "      <td>15.112</td>\n",
              "      <td>13.424</td>\n",
              "      <td>19.901</td>\n",
              "      <td>201.0</td>\n",
              "      <td>2472222.0</td>\n",
              "      <td>2439467.0</td>\n",
              "      <td>0.0134</td>\n",
              "    </tr>\n",
              "    <tr>\n",
              "      <th>1</th>\n",
              "      <td>2</td>\n",
              "      <td>2019</td>\n",
              "      <td>1</td>\n",
              "      <td>1</td>\n",
              "      <td>Australia</td>\n",
              "      <td>Darwin</td>\n",
              "      <td>-12.46113</td>\n",
              "      <td>130.84185</td>\n",
              "      <td>47</td>\n",
              "      <td>2.594</td>\n",
              "      <td>...</td>\n",
              "      <td>62</td>\n",
              "      <td>21.324</td>\n",
              "      <td>23.813</td>\n",
              "      <td>24.221</td>\n",
              "      <td>2.021</td>\n",
              "      <td>13.741</td>\n",
              "      <td>NaN</td>\n",
              "      <td>NaN</td>\n",
              "      <td>NaN</td>\n",
              "      <td>NaN</td>\n",
              "    </tr>\n",
              "    <tr>\n",
              "      <th>2</th>\n",
              "      <td>3</td>\n",
              "      <td>2019</td>\n",
              "      <td>1</td>\n",
              "      <td>1</td>\n",
              "      <td>Australia</td>\n",
              "      <td>Melbourne</td>\n",
              "      <td>-37.81400</td>\n",
              "      <td>144.96332</td>\n",
              "      <td>17</td>\n",
              "      <td>1.190</td>\n",
              "      <td>...</td>\n",
              "      <td>22</td>\n",
              "      <td>10.309</td>\n",
              "      <td>13.133</td>\n",
              "      <td>15.422</td>\n",
              "      <td>6.355</td>\n",
              "      <td>25.918</td>\n",
              "      <td>79.0</td>\n",
              "      <td>5150766.0</td>\n",
              "      <td>5061439.0</td>\n",
              "      <td>0.0176</td>\n",
              "    </tr>\n",
              "    <tr>\n",
              "      <th>3</th>\n",
              "      <td>4</td>\n",
              "      <td>2019</td>\n",
              "      <td>1</td>\n",
              "      <td>1</td>\n",
              "      <td>Australia</td>\n",
              "      <td>Newcastle</td>\n",
              "      <td>-32.92953</td>\n",
              "      <td>151.78010</td>\n",
              "      <td>63</td>\n",
              "      <td>4.586</td>\n",
              "      <td>...</td>\n",
              "      <td>116</td>\n",
              "      <td>7.146</td>\n",
              "      <td>10.685</td>\n",
              "      <td>13.344</td>\n",
              "      <td>9.417</td>\n",
              "      <td>174.370</td>\n",
              "      <td>NaN</td>\n",
              "      <td>NaN</td>\n",
              "      <td>NaN</td>\n",
              "      <td>NaN</td>\n",
              "    </tr>\n",
              "    <tr>\n",
              "      <th>4</th>\n",
              "      <td>5</td>\n",
              "      <td>2019</td>\n",
              "      <td>1</td>\n",
              "      <td>1</td>\n",
              "      <td>Australia</td>\n",
              "      <td>Perth</td>\n",
              "      <td>-31.95224</td>\n",
              "      <td>115.86140</td>\n",
              "      <td>47</td>\n",
              "      <td>4.689</td>\n",
              "      <td>...</td>\n",
              "      <td>93</td>\n",
              "      <td>1.091</td>\n",
              "      <td>3.277</td>\n",
              "      <td>12.272</td>\n",
              "      <td>4.109</td>\n",
              "      <td>167.063</td>\n",
              "      <td>242.0</td>\n",
              "      <td>2092649.0</td>\n",
              "      <td>2067333.0</td>\n",
              "      <td>0.0122</td>\n",
              "    </tr>\n",
              "  </tbody>\n",
              "</table>\n",
              "<p>5 rows × 58 columns</p>\n",
              "</div>\n",
              "      <button class=\"colab-df-convert\" onclick=\"convertToInteractive('df-2ebe0792-e1a7-4ce7-a96a-7b15f8de1241')\"\n",
              "              title=\"Convert this dataframe to an interactive table.\"\n",
              "              style=\"display:none;\">\n",
              "        \n",
              "  <svg xmlns=\"http://www.w3.org/2000/svg\" height=\"24px\"viewBox=\"0 0 24 24\"\n",
              "       width=\"24px\">\n",
              "    <path d=\"M0 0h24v24H0V0z\" fill=\"none\"/>\n",
              "    <path d=\"M18.56 5.44l.94 2.06.94-2.06 2.06-.94-2.06-.94-.94-2.06-.94 2.06-2.06.94zm-11 1L8.5 8.5l.94-2.06 2.06-.94-2.06-.94L8.5 2.5l-.94 2.06-2.06.94zm10 10l.94 2.06.94-2.06 2.06-.94-2.06-.94-.94-2.06-.94 2.06-2.06.94z\"/><path d=\"M17.41 7.96l-1.37-1.37c-.4-.4-.92-.59-1.43-.59-.52 0-1.04.2-1.43.59L10.3 9.45l-7.72 7.72c-.78.78-.78 2.05 0 2.83L4 21.41c.39.39.9.59 1.41.59.51 0 1.02-.2 1.41-.59l7.78-7.78 2.81-2.81c.8-.78.8-2.07 0-2.86zM5.41 20L4 18.59l7.72-7.72 1.47 1.35L5.41 20z\"/>\n",
              "  </svg>\n",
              "      </button>\n",
              "      \n",
              "  <style>\n",
              "    .colab-df-container {\n",
              "      display:flex;\n",
              "      flex-wrap:wrap;\n",
              "      gap: 12px;\n",
              "    }\n",
              "\n",
              "    .colab-df-convert {\n",
              "      background-color: #E8F0FE;\n",
              "      border: none;\n",
              "      border-radius: 50%;\n",
              "      cursor: pointer;\n",
              "      display: none;\n",
              "      fill: #1967D2;\n",
              "      height: 32px;\n",
              "      padding: 0 0 0 0;\n",
              "      width: 32px;\n",
              "    }\n",
              "\n",
              "    .colab-df-convert:hover {\n",
              "      background-color: #E2EBFA;\n",
              "      box-shadow: 0px 1px 2px rgba(60, 64, 67, 0.3), 0px 1px 3px 1px rgba(60, 64, 67, 0.15);\n",
              "      fill: #174EA6;\n",
              "    }\n",
              "\n",
              "    [theme=dark] .colab-df-convert {\n",
              "      background-color: #3B4455;\n",
              "      fill: #D2E3FC;\n",
              "    }\n",
              "\n",
              "    [theme=dark] .colab-df-convert:hover {\n",
              "      background-color: #434B5C;\n",
              "      box-shadow: 0px 1px 3px 1px rgba(0, 0, 0, 0.15);\n",
              "      filter: drop-shadow(0px 1px 2px rgba(0, 0, 0, 0.3));\n",
              "      fill: #FFFFFF;\n",
              "    }\n",
              "  </style>\n",
              "\n",
              "      <script>\n",
              "        const buttonEl =\n",
              "          document.querySelector('#df-2ebe0792-e1a7-4ce7-a96a-7b15f8de1241 button.colab-df-convert');\n",
              "        buttonEl.style.display =\n",
              "          google.colab.kernel.accessAllowed ? 'block' : 'none';\n",
              "\n",
              "        async function convertToInteractive(key) {\n",
              "          const element = document.querySelector('#df-2ebe0792-e1a7-4ce7-a96a-7b15f8de1241');\n",
              "          const dataTable =\n",
              "            await google.colab.kernel.invokeFunction('convertToInteractive',\n",
              "                                                     [key], {});\n",
              "          if (!dataTable) return;\n",
              "\n",
              "          const docLinkHtml = 'Like what you see? Visit the ' +\n",
              "            '<a target=\"_blank\" href=https://colab.research.google.com/notebooks/data_table.ipynb>data table notebook</a>'\n",
              "            + ' to learn more about interactive tables.';\n",
              "          element.innerHTML = '';\n",
              "          dataTable['output_type'] = 'display_data';\n",
              "          await google.colab.output.renderOutput(dataTable, element);\n",
              "          const docLink = document.createElement('div');\n",
              "          docLink.innerHTML = docLinkHtml;\n",
              "          element.appendChild(docLink);\n",
              "        }\n",
              "      </script>\n",
              "    </div>\n",
              "  </div>\n",
              "  "
            ]
          },
          "metadata": {},
          "execution_count": 22
        }
      ]
    },
    {
      "cell_type": "code",
      "source": [
        "train_city = train_df[\"City\"].unique().tolist()\n",
        "test_city = test_df[\"City\"].unique().tolist()\n",
        "\n",
        "train_city_cnt = len(train_city)\n",
        "test_city_cnt = len(test_city)\n",
        "\n",
        "print(f\"train city count: {train_city_cnt}\")\n",
        "print(f\"test city count: {test_city_cnt}\")\n",
        "\n",
        "print(f\"{len(set(train_city) & set(test_city))}\")"
      ],
      "metadata": {
        "colab": {
          "base_uri": "https://localhost:8080/"
        },
        "id": "PZZhyY_iXJyQ",
        "outputId": "b0d5f159-1376-48bc-c511-77543bd7f519"
      },
      "execution_count": 23,
      "outputs": [
        {
          "output_type": "stream",
          "name": "stdout",
          "text": [
            "train city count: 239\n",
            "test city count: 63\n",
            "0\n"
          ]
        }
      ]
    },
    {
      "cell_type": "code",
      "source": [
        "kf = GroupKFold(n_splits = NUM_FOLDS)\n",
        "\n",
        "if not \"kfold\" in train_df.columns:\n",
        "    folds = copy.deepcopy(train_df[[\"id\"]])\n",
        "    folds[\"kfold\"] = -1\n",
        "\n",
        "    for fold, (train_idx, valid_idx) in enumerate(kf.split(train_df, train_df[\"pm25_mid\"], train_df[\"City\"])):\n",
        "        print(f\"train_idx: {len(train_idx)}, valid_idx: {len(valid_idx)}\")\n",
        "        folds.loc[valid_idx, \"kfold\"] = fold\n",
        "\n",
        "    train_df = train_df.merge(folds[[\"id\", \"kfold\"]], on=\"id\", how=\"left\")"
      ],
      "metadata": {
        "id": "NAxJgCMWvzyq",
        "colab": {
          "base_uri": "https://localhost:8080/"
        },
        "outputId": "6d63a83a-7472-4370-8fc4-b60384fa78d7"
      },
      "execution_count": 24,
      "outputs": [
        {
          "output_type": "stream",
          "name": "stdout",
          "text": [
            "train_idx: 156755, valid_idx: 39186\n",
            "train_idx: 156758, valid_idx: 39183\n",
            "train_idx: 156760, valid_idx: 39181\n",
            "train_idx: 156730, valid_idx: 39211\n",
            "train_idx: 156761, valid_idx: 39180\n"
          ]
        }
      ]
    },
    {
      "cell_type": "markdown",
      "source": [
        "# Train"
      ],
      "metadata": {
        "id": "GgLI7LLc1szm"
      }
    },
    {
      "cell_type": "code",
      "source": [
        "import logging\n",
        "from typing import List, Optional, TypeVar\n",
        "\n",
        "import pandas as pd\n",
        "\n",
        "class AbstractFeatureTransformer:\n",
        "    def __init__(self):\n",
        "        self.name = self.__class__.__name__\n",
        "\n",
        "    def fit_transform(self, input_df: pd.DataFrame, y=None):\n",
        "        self.fit(input_df, y)\n",
        "        return self.transform(input_df)\n",
        "\n",
        "    def fit(self, input_df: pd.DataFrame, y=None):\n",
        "        pass\n",
        "\n",
        "    def transform(self, input_df: pd.DataFrame) -> pd.DataFrame:\n",
        "        raise NotImplementedError\n",
        "\n",
        "Transformer = TypeVar(\"Transformer\", bound=AbstractFeatureTransformer)\n",
        "\n",
        "def extract_features(input_df: pd.DataFrame,\n",
        "                     transformers: List[Transformer],\n",
        "                     fit: bool = True,\n",
        "                     logger: Optional[logging.Logger] = None):\n",
        "    feature_dfs = []\n",
        "    for transformer in transformers:\n",
        "        # timerはブロックの実行時間を計測するユーティリティ\n",
        "        with timer(f\"Extract features with {transformer.name}\", logger):\n",
        "            if fit:\n",
        "                feature_dfs.append(transformer.fit_transform(input_df))\n",
        "            else:\n",
        "                feature_dfs.append(transformer.transform(input_df))\n",
        "    all_features = pd.concat(feature_dfs, axis=1)\n",
        "    return all_features"
      ],
      "metadata": {
        "id": "ckDad6r_AevZ"
      },
      "execution_count": 25,
      "outputs": []
    },
    {
      "cell_type": "code",
      "source": [
        "class Numericals(AbstractFeatureTransformer):\n",
        "    def transform(self, input_df: pd.DataFrame) -> pd.DataFrame:\n",
        "        cols = [pd.api.types.is_numeric_dtype(dtype) for dtype in input_df.dtypes]\n",
        "        return input_df.loc[:, cols]\n",
        "\n",
        "class LabelEncoding(AbstractFeatureTransformer):\n",
        "    def __init__(self, columns: List[str]):\n",
        "        super().__init__()\n",
        "        self.le_columns = columns\n",
        "        self.encoders = {\n",
        "            column: LabelEncoder()\n",
        "            for column in self.le_columns\n",
        "        }\n",
        "        self.__is_fitted = False\n",
        "\n",
        "    def fit(self, input_df: pd.DataFrame, y: Optional[np.ndarray] = None):\n",
        "        \"\"\"\n",
        "        ラベルに変換する前に欠損値を埋める\n",
        "        \"\"\"\n",
        "        for column in self.le_columns:\n",
        "            self.encoders[column].fit(input_df[column].fillna(\"\"))\n",
        "        self.__is_fitted = True\n",
        "\n",
        "    def transform(\n",
        "        self, \n",
        "        input_df: pd.DataFrame, \n",
        "        y: Optional[np.ndarray] = None\n",
        "    ) -> pd.DataFrame:\n",
        "        assert self.__is_fitted, \"You need to call `fit` first.\"\n",
        "        encoded = {}\n",
        "        for column in self.le_columns:\n",
        "            encoded[column] = self.encoders[column].transform(\n",
        "                input_df[column].fillna(\"\"))\n",
        "        return pd.DataFrame(encoded)"
      ],
      "metadata": {
        "id": "HrG0N8hZDsoR"
      },
      "execution_count": 26,
      "outputs": []
    },
    {
      "cell_type": "code",
      "source": [
        "def preprocess(df:pd.DataFrame)->pd.DataFrame:\n",
        "    df_ = copy.deepcopy(df)\n",
        "    # 経度をcosに変換\n",
        "    cnt = 0\n",
        "\n",
        "    df_[\"lon_cos\"] = np.cos(np.radians((df_[\"lon\"] + 180)))\n",
        "    df_[\"lon_sin\"] = np.sin(np.radians((df_[\"lon\"] + 180)))\n",
        "    df_[\"month_cos\"] = np.cos(np.radians(df_[\"month\"] / 12 * 360))\n",
        "    df_[\"month_sin\"] = np.sin(np.radians(df_[\"month\"] / 12 * 360))\n",
        "    cnt += 4\n",
        "\n",
        "    # 四則演算\n",
        "\n",
        "    # 南半球を北半球のmonthに変更\n",
        "    df_[\"month_world\"] = df_[\"month\"]\n",
        "    df_.loc[df_[\"lat\"] < 0, \"month_world\"] = df_[\"month\"] + 6\n",
        "    df_.loc[df_[\"month_world\"] > 12, \"month_world\"] = df_[\"month\"] - 6\n",
        "\n",
        "    cnt += 1\n",
        "    # mid同士を4則\n",
        "    columns = df_.columns\n",
        "    mids = []\n",
        "    for c in columns:\n",
        "        if \"_mid\" in c and c != \"pm25_mid\":\n",
        "            mids.append(c)\n",
        "    scaler = MinMaxScaler()\n",
        "    \n",
        "    # scaling_columns = []\n",
        "    # for i in range(len(mids)):\n",
        "    #     for j in range(i):\n",
        "    #         df_[f\"{mids[i]}x{mids[j]}\"] = df_[mids[i]] * df_[mids[j]]\n",
        "    #         df_[f\"{mids[i]}/{mids[j]}\"] = df_[mids[i]] / (df_[mids[j]] + 1e-6)\n",
        "    #         df_[f\"{mids[i]}+{mids[j]}\"] = df_[mids[i]] + df_[mids[j]]\n",
        "    #         df_[f\"{mids[i]}-{mids[j]}\"] = df_[mids[i]] - df_[mids[j]]\n",
        "    #         cnt += 4\n",
        "\n",
        "    #         scaling_columns += [f\"{mids[i]}x{mids[j]}\", f\"{mids[i]}/{mids[j]}\", f\"{mids[i]}+{mids[j]}\", f\"{mids[i]}-{mids[j]}\"]\n",
        "    print(f\"add {cnt} columns\")\n",
        "\n",
        "    # df_[scaling_columns] = scaler.fit_transform(df_[scaling_columns])\n",
        "\n",
        "    print(\"scaled columns\")\n",
        "\n",
        "    return df_"
      ],
      "metadata": {
        "id": "QNf23jZJLku0"
      },
      "execution_count": 27,
      "outputs": []
    },
    {
      "cell_type": "code",
      "source": [
        "# label encoding\n",
        "\n",
        "cat_cols = [\"Country\", \"City\"]\n",
        "\n",
        "for c in cat_cols:\n",
        "    le = LabelEncoder()\n",
        "    le.fit(pd.concat([train_df, test_df])[c])\n",
        "    train_df[c] = le.transform(train_df[c])\n",
        "    test_df[c] = le.transform(test_df[c])"
      ],
      "metadata": {
        "id": "BzCu4V4EnvT6"
      },
      "execution_count": 28,
      "outputs": []
    },
    {
      "cell_type": "code",
      "source": [
        "train_df_ = preprocess(train_df)\n",
        "test_df_ = preprocess(test_df)"
      ],
      "metadata": {
        "id": "m7mclN_sNFiC",
        "colab": {
          "base_uri": "https://localhost:8080/"
        },
        "outputId": "7d042906-ebcb-4541-c67e-466dde7eaa2f"
      },
      "execution_count": 29,
      "outputs": [
        {
          "output_type": "stream",
          "name": "stdout",
          "text": [
            "add 5 columns\n",
            "scaled columns\n",
            "add 5 columns\n",
            "scaled columns\n"
          ]
        }
      ]
    },
    {
      "cell_type": "code",
      "source": [
        "train_df_.head(20)"
      ],
      "metadata": {
        "colab": {
          "base_uri": "https://localhost:8080/",
          "height": 770
        },
        "id": "4QfrMHWLNLcC",
        "outputId": "1fedb2f4-45e7-441e-bbaf-a722af9265e5"
      },
      "execution_count": 30,
      "outputs": [
        {
          "output_type": "execute_result",
          "data": {
            "text/plain": [
              "    id  year  month  day  Country  City       lat        lon  co_cnt  co_min  \\\n",
              "0    1  2019      1    1        0    24 -27.46794  153.02809      38   0.749   \n",
              "1    2  2019      1    1        0    54 -12.46113  130.84185      47   2.594   \n",
              "2    3  2019      1    1        0   146 -37.81400  144.96332      17   1.190   \n",
              "3    4  2019      1    1        0   176 -32.92953  151.78010      63   4.586   \n",
              "4    5  2019      1    1        0   193 -31.95224  115.86140      47   4.689   \n",
              "5    6  2019      1    1        0   278 -34.42400  150.89345     179   4.554   \n",
              "6    7  2019      1    1        1     8  51.22047    4.40026      93   4.011   \n",
              "7    8  2019      1    1        1    38  50.41136    4.44448      11   0.096   \n",
              "8    9  2019      1    1        1   137  50.63373    5.56749      12   0.097   \n",
              "9   10  2019      1    1        3   247 -23.54750  -46.63611     354   1.048   \n",
              "10  11  2019      1    1        3   275 -20.31944  -40.33778      29   0.117   \n",
              "11  12  2019      1    1        4   272  49.24966 -123.11934      34   0.110   \n",
              "12  13  2019      1    1        5    31 -22.45667  -68.92371      22   2.320   \n",
              "13  14  2019      1    1        5   208 -33.04752  -71.44249      28   0.078   \n",
              "14  15  2019      1    1        5   255 -35.42640  -71.65542     241   0.058   \n",
              "15  16  2019      1    1        6    15  39.90750  116.39723     199   5.209   \n",
              "16  17  2019      1    1        6    35  28.19874  112.97087      47   0.073   \n",
              "17  18  2019      1    1        6    40  30.66667  104.06667     336   5.015   \n",
              "18  19  2019      1    1        6    65  23.02677  113.13148     162   2.152   \n",
              "19  20  2019      1    1        6    68  41.88669  123.94363     103   2.543   \n",
              "\n",
              "    ...   rank  Population        Prev  Growth  kfold   lon_cos   lon_sin  \\\n",
              "0   ...  201.0   2472222.0   2439467.0  0.0134      0  0.891229 -0.453554   \n",
              "1   ...    NaN         NaN         NaN     NaN      2  0.653973 -0.756518   \n",
              "2   ...   79.0   5150766.0   5061439.0  0.0176      2  0.818785 -0.574101   \n",
              "3   ...    NaN         NaN         NaN     NaN      1  0.881139 -0.472857   \n",
              "4   ...  242.0   2092649.0   2067333.0  0.0122      1  0.436196 -0.899852   \n",
              "5   ...    NaN         NaN         NaN     NaN      0  0.873717 -0.486435   \n",
              "6   ...    NaN         NaN         NaN     NaN      3 -0.997052 -0.076724   \n",
              "7   ...    NaN         NaN         NaN     NaN      3 -0.996993 -0.077493   \n",
              "8   ...    NaN         NaN         NaN     NaN      0 -0.995283 -0.097018   \n",
              "9   ...    5.0  22429800.0  22237472.0  0.0086      0 -0.686629  0.727008   \n",
              "10  ...    NaN         NaN         NaN     NaN      0 -0.762242  0.647293   \n",
              "11  ...  191.0   2631690.0   2606351.0  0.0097      3  0.546385  0.837534   \n",
              "12  ...    NaN         NaN         NaN     NaN      0 -0.359611  0.933102   \n",
              "13  ...    NaN         NaN         NaN     NaN      2 -0.318256  0.948005   \n",
              "14  ...    NaN         NaN         NaN     NaN      3 -0.314731  0.949181   \n",
              "15  ...    8.0  21333332.0  20896820.0  0.0209      4  0.444592 -0.895733   \n",
              "16  ...   84.0   4809887.0   4694722.0  0.0245      2  0.390263 -0.920703   \n",
              "17  ...   36.0   9478521.0   9305116.0  0.0186      3  0.243051 -0.970014   \n",
              "18  ...   54.0   7497263.0   7406751.0  0.0122      1  0.392842 -0.919606   \n",
              "19  ...    NaN         NaN         NaN     NaN      1  0.558377 -0.829587   \n",
              "\n",
              "    month_cos  month_sin  month_world  \n",
              "0    0.866025        0.5            7  \n",
              "1    0.866025        0.5            7  \n",
              "2    0.866025        0.5            7  \n",
              "3    0.866025        0.5            7  \n",
              "4    0.866025        0.5            7  \n",
              "5    0.866025        0.5            7  \n",
              "6    0.866025        0.5            1  \n",
              "7    0.866025        0.5            1  \n",
              "8    0.866025        0.5            1  \n",
              "9    0.866025        0.5            7  \n",
              "10   0.866025        0.5            7  \n",
              "11   0.866025        0.5            1  \n",
              "12   0.866025        0.5            7  \n",
              "13   0.866025        0.5            7  \n",
              "14   0.866025        0.5            7  \n",
              "15   0.866025        0.5            1  \n",
              "16   0.866025        0.5            1  \n",
              "17   0.866025        0.5            1  \n",
              "18   0.866025        0.5            1  \n",
              "19   0.866025        0.5            1  \n",
              "\n",
              "[20 rows x 64 columns]"
            ],
            "text/html": [
              "\n",
              "  <div id=\"df-8face887-a3dd-4fbb-8dac-af6ee7c48755\">\n",
              "    <div class=\"colab-df-container\">\n",
              "      <div>\n",
              "<style scoped>\n",
              "    .dataframe tbody tr th:only-of-type {\n",
              "        vertical-align: middle;\n",
              "    }\n",
              "\n",
              "    .dataframe tbody tr th {\n",
              "        vertical-align: top;\n",
              "    }\n",
              "\n",
              "    .dataframe thead th {\n",
              "        text-align: right;\n",
              "    }\n",
              "</style>\n",
              "<table border=\"1\" class=\"dataframe\">\n",
              "  <thead>\n",
              "    <tr style=\"text-align: right;\">\n",
              "      <th></th>\n",
              "      <th>id</th>\n",
              "      <th>year</th>\n",
              "      <th>month</th>\n",
              "      <th>day</th>\n",
              "      <th>Country</th>\n",
              "      <th>City</th>\n",
              "      <th>lat</th>\n",
              "      <th>lon</th>\n",
              "      <th>co_cnt</th>\n",
              "      <th>co_min</th>\n",
              "      <th>...</th>\n",
              "      <th>rank</th>\n",
              "      <th>Population</th>\n",
              "      <th>Prev</th>\n",
              "      <th>Growth</th>\n",
              "      <th>kfold</th>\n",
              "      <th>lon_cos</th>\n",
              "      <th>lon_sin</th>\n",
              "      <th>month_cos</th>\n",
              "      <th>month_sin</th>\n",
              "      <th>month_world</th>\n",
              "    </tr>\n",
              "  </thead>\n",
              "  <tbody>\n",
              "    <tr>\n",
              "      <th>0</th>\n",
              "      <td>1</td>\n",
              "      <td>2019</td>\n",
              "      <td>1</td>\n",
              "      <td>1</td>\n",
              "      <td>0</td>\n",
              "      <td>24</td>\n",
              "      <td>-27.46794</td>\n",
              "      <td>153.02809</td>\n",
              "      <td>38</td>\n",
              "      <td>0.749</td>\n",
              "      <td>...</td>\n",
              "      <td>201.0</td>\n",
              "      <td>2472222.0</td>\n",
              "      <td>2439467.0</td>\n",
              "      <td>0.0134</td>\n",
              "      <td>0</td>\n",
              "      <td>0.891229</td>\n",
              "      <td>-0.453554</td>\n",
              "      <td>0.866025</td>\n",
              "      <td>0.5</td>\n",
              "      <td>7</td>\n",
              "    </tr>\n",
              "    <tr>\n",
              "      <th>1</th>\n",
              "      <td>2</td>\n",
              "      <td>2019</td>\n",
              "      <td>1</td>\n",
              "      <td>1</td>\n",
              "      <td>0</td>\n",
              "      <td>54</td>\n",
              "      <td>-12.46113</td>\n",
              "      <td>130.84185</td>\n",
              "      <td>47</td>\n",
              "      <td>2.594</td>\n",
              "      <td>...</td>\n",
              "      <td>NaN</td>\n",
              "      <td>NaN</td>\n",
              "      <td>NaN</td>\n",
              "      <td>NaN</td>\n",
              "      <td>2</td>\n",
              "      <td>0.653973</td>\n",
              "      <td>-0.756518</td>\n",
              "      <td>0.866025</td>\n",
              "      <td>0.5</td>\n",
              "      <td>7</td>\n",
              "    </tr>\n",
              "    <tr>\n",
              "      <th>2</th>\n",
              "      <td>3</td>\n",
              "      <td>2019</td>\n",
              "      <td>1</td>\n",
              "      <td>1</td>\n",
              "      <td>0</td>\n",
              "      <td>146</td>\n",
              "      <td>-37.81400</td>\n",
              "      <td>144.96332</td>\n",
              "      <td>17</td>\n",
              "      <td>1.190</td>\n",
              "      <td>...</td>\n",
              "      <td>79.0</td>\n",
              "      <td>5150766.0</td>\n",
              "      <td>5061439.0</td>\n",
              "      <td>0.0176</td>\n",
              "      <td>2</td>\n",
              "      <td>0.818785</td>\n",
              "      <td>-0.574101</td>\n",
              "      <td>0.866025</td>\n",
              "      <td>0.5</td>\n",
              "      <td>7</td>\n",
              "    </tr>\n",
              "    <tr>\n",
              "      <th>3</th>\n",
              "      <td>4</td>\n",
              "      <td>2019</td>\n",
              "      <td>1</td>\n",
              "      <td>1</td>\n",
              "      <td>0</td>\n",
              "      <td>176</td>\n",
              "      <td>-32.92953</td>\n",
              "      <td>151.78010</td>\n",
              "      <td>63</td>\n",
              "      <td>4.586</td>\n",
              "      <td>...</td>\n",
              "      <td>NaN</td>\n",
              "      <td>NaN</td>\n",
              "      <td>NaN</td>\n",
              "      <td>NaN</td>\n",
              "      <td>1</td>\n",
              "      <td>0.881139</td>\n",
              "      <td>-0.472857</td>\n",
              "      <td>0.866025</td>\n",
              "      <td>0.5</td>\n",
              "      <td>7</td>\n",
              "    </tr>\n",
              "    <tr>\n",
              "      <th>4</th>\n",
              "      <td>5</td>\n",
              "      <td>2019</td>\n",
              "      <td>1</td>\n",
              "      <td>1</td>\n",
              "      <td>0</td>\n",
              "      <td>193</td>\n",
              "      <td>-31.95224</td>\n",
              "      <td>115.86140</td>\n",
              "      <td>47</td>\n",
              "      <td>4.689</td>\n",
              "      <td>...</td>\n",
              "      <td>242.0</td>\n",
              "      <td>2092649.0</td>\n",
              "      <td>2067333.0</td>\n",
              "      <td>0.0122</td>\n",
              "      <td>1</td>\n",
              "      <td>0.436196</td>\n",
              "      <td>-0.899852</td>\n",
              "      <td>0.866025</td>\n",
              "      <td>0.5</td>\n",
              "      <td>7</td>\n",
              "    </tr>\n",
              "    <tr>\n",
              "      <th>5</th>\n",
              "      <td>6</td>\n",
              "      <td>2019</td>\n",
              "      <td>1</td>\n",
              "      <td>1</td>\n",
              "      <td>0</td>\n",
              "      <td>278</td>\n",
              "      <td>-34.42400</td>\n",
              "      <td>150.89345</td>\n",
              "      <td>179</td>\n",
              "      <td>4.554</td>\n",
              "      <td>...</td>\n",
              "      <td>NaN</td>\n",
              "      <td>NaN</td>\n",
              "      <td>NaN</td>\n",
              "      <td>NaN</td>\n",
              "      <td>0</td>\n",
              "      <td>0.873717</td>\n",
              "      <td>-0.486435</td>\n",
              "      <td>0.866025</td>\n",
              "      <td>0.5</td>\n",
              "      <td>7</td>\n",
              "    </tr>\n",
              "    <tr>\n",
              "      <th>6</th>\n",
              "      <td>7</td>\n",
              "      <td>2019</td>\n",
              "      <td>1</td>\n",
              "      <td>1</td>\n",
              "      <td>1</td>\n",
              "      <td>8</td>\n",
              "      <td>51.22047</td>\n",
              "      <td>4.40026</td>\n",
              "      <td>93</td>\n",
              "      <td>4.011</td>\n",
              "      <td>...</td>\n",
              "      <td>NaN</td>\n",
              "      <td>NaN</td>\n",
              "      <td>NaN</td>\n",
              "      <td>NaN</td>\n",
              "      <td>3</td>\n",
              "      <td>-0.997052</td>\n",
              "      <td>-0.076724</td>\n",
              "      <td>0.866025</td>\n",
              "      <td>0.5</td>\n",
              "      <td>1</td>\n",
              "    </tr>\n",
              "    <tr>\n",
              "      <th>7</th>\n",
              "      <td>8</td>\n",
              "      <td>2019</td>\n",
              "      <td>1</td>\n",
              "      <td>1</td>\n",
              "      <td>1</td>\n",
              "      <td>38</td>\n",
              "      <td>50.41136</td>\n",
              "      <td>4.44448</td>\n",
              "      <td>11</td>\n",
              "      <td>0.096</td>\n",
              "      <td>...</td>\n",
              "      <td>NaN</td>\n",
              "      <td>NaN</td>\n",
              "      <td>NaN</td>\n",
              "      <td>NaN</td>\n",
              "      <td>3</td>\n",
              "      <td>-0.996993</td>\n",
              "      <td>-0.077493</td>\n",
              "      <td>0.866025</td>\n",
              "      <td>0.5</td>\n",
              "      <td>1</td>\n",
              "    </tr>\n",
              "    <tr>\n",
              "      <th>8</th>\n",
              "      <td>9</td>\n",
              "      <td>2019</td>\n",
              "      <td>1</td>\n",
              "      <td>1</td>\n",
              "      <td>1</td>\n",
              "      <td>137</td>\n",
              "      <td>50.63373</td>\n",
              "      <td>5.56749</td>\n",
              "      <td>12</td>\n",
              "      <td>0.097</td>\n",
              "      <td>...</td>\n",
              "      <td>NaN</td>\n",
              "      <td>NaN</td>\n",
              "      <td>NaN</td>\n",
              "      <td>NaN</td>\n",
              "      <td>0</td>\n",
              "      <td>-0.995283</td>\n",
              "      <td>-0.097018</td>\n",
              "      <td>0.866025</td>\n",
              "      <td>0.5</td>\n",
              "      <td>1</td>\n",
              "    </tr>\n",
              "    <tr>\n",
              "      <th>9</th>\n",
              "      <td>10</td>\n",
              "      <td>2019</td>\n",
              "      <td>1</td>\n",
              "      <td>1</td>\n",
              "      <td>3</td>\n",
              "      <td>247</td>\n",
              "      <td>-23.54750</td>\n",
              "      <td>-46.63611</td>\n",
              "      <td>354</td>\n",
              "      <td>1.048</td>\n",
              "      <td>...</td>\n",
              "      <td>5.0</td>\n",
              "      <td>22429800.0</td>\n",
              "      <td>22237472.0</td>\n",
              "      <td>0.0086</td>\n",
              "      <td>0</td>\n",
              "      <td>-0.686629</td>\n",
              "      <td>0.727008</td>\n",
              "      <td>0.866025</td>\n",
              "      <td>0.5</td>\n",
              "      <td>7</td>\n",
              "    </tr>\n",
              "    <tr>\n",
              "      <th>10</th>\n",
              "      <td>11</td>\n",
              "      <td>2019</td>\n",
              "      <td>1</td>\n",
              "      <td>1</td>\n",
              "      <td>3</td>\n",
              "      <td>275</td>\n",
              "      <td>-20.31944</td>\n",
              "      <td>-40.33778</td>\n",
              "      <td>29</td>\n",
              "      <td>0.117</td>\n",
              "      <td>...</td>\n",
              "      <td>NaN</td>\n",
              "      <td>NaN</td>\n",
              "      <td>NaN</td>\n",
              "      <td>NaN</td>\n",
              "      <td>0</td>\n",
              "      <td>-0.762242</td>\n",
              "      <td>0.647293</td>\n",
              "      <td>0.866025</td>\n",
              "      <td>0.5</td>\n",
              "      <td>7</td>\n",
              "    </tr>\n",
              "    <tr>\n",
              "      <th>11</th>\n",
              "      <td>12</td>\n",
              "      <td>2019</td>\n",
              "      <td>1</td>\n",
              "      <td>1</td>\n",
              "      <td>4</td>\n",
              "      <td>272</td>\n",
              "      <td>49.24966</td>\n",
              "      <td>-123.11934</td>\n",
              "      <td>34</td>\n",
              "      <td>0.110</td>\n",
              "      <td>...</td>\n",
              "      <td>191.0</td>\n",
              "      <td>2631690.0</td>\n",
              "      <td>2606351.0</td>\n",
              "      <td>0.0097</td>\n",
              "      <td>3</td>\n",
              "      <td>0.546385</td>\n",
              "      <td>0.837534</td>\n",
              "      <td>0.866025</td>\n",
              "      <td>0.5</td>\n",
              "      <td>1</td>\n",
              "    </tr>\n",
              "    <tr>\n",
              "      <th>12</th>\n",
              "      <td>13</td>\n",
              "      <td>2019</td>\n",
              "      <td>1</td>\n",
              "      <td>1</td>\n",
              "      <td>5</td>\n",
              "      <td>31</td>\n",
              "      <td>-22.45667</td>\n",
              "      <td>-68.92371</td>\n",
              "      <td>22</td>\n",
              "      <td>2.320</td>\n",
              "      <td>...</td>\n",
              "      <td>NaN</td>\n",
              "      <td>NaN</td>\n",
              "      <td>NaN</td>\n",
              "      <td>NaN</td>\n",
              "      <td>0</td>\n",
              "      <td>-0.359611</td>\n",
              "      <td>0.933102</td>\n",
              "      <td>0.866025</td>\n",
              "      <td>0.5</td>\n",
              "      <td>7</td>\n",
              "    </tr>\n",
              "    <tr>\n",
              "      <th>13</th>\n",
              "      <td>14</td>\n",
              "      <td>2019</td>\n",
              "      <td>1</td>\n",
              "      <td>1</td>\n",
              "      <td>5</td>\n",
              "      <td>208</td>\n",
              "      <td>-33.04752</td>\n",
              "      <td>-71.44249</td>\n",
              "      <td>28</td>\n",
              "      <td>0.078</td>\n",
              "      <td>...</td>\n",
              "      <td>NaN</td>\n",
              "      <td>NaN</td>\n",
              "      <td>NaN</td>\n",
              "      <td>NaN</td>\n",
              "      <td>2</td>\n",
              "      <td>-0.318256</td>\n",
              "      <td>0.948005</td>\n",
              "      <td>0.866025</td>\n",
              "      <td>0.5</td>\n",
              "      <td>7</td>\n",
              "    </tr>\n",
              "    <tr>\n",
              "      <th>14</th>\n",
              "      <td>15</td>\n",
              "      <td>2019</td>\n",
              "      <td>1</td>\n",
              "      <td>1</td>\n",
              "      <td>5</td>\n",
              "      <td>255</td>\n",
              "      <td>-35.42640</td>\n",
              "      <td>-71.65542</td>\n",
              "      <td>241</td>\n",
              "      <td>0.058</td>\n",
              "      <td>...</td>\n",
              "      <td>NaN</td>\n",
              "      <td>NaN</td>\n",
              "      <td>NaN</td>\n",
              "      <td>NaN</td>\n",
              "      <td>3</td>\n",
              "      <td>-0.314731</td>\n",
              "      <td>0.949181</td>\n",
              "      <td>0.866025</td>\n",
              "      <td>0.5</td>\n",
              "      <td>7</td>\n",
              "    </tr>\n",
              "    <tr>\n",
              "      <th>15</th>\n",
              "      <td>16</td>\n",
              "      <td>2019</td>\n",
              "      <td>1</td>\n",
              "      <td>1</td>\n",
              "      <td>6</td>\n",
              "      <td>15</td>\n",
              "      <td>39.90750</td>\n",
              "      <td>116.39723</td>\n",
              "      <td>199</td>\n",
              "      <td>5.209</td>\n",
              "      <td>...</td>\n",
              "      <td>8.0</td>\n",
              "      <td>21333332.0</td>\n",
              "      <td>20896820.0</td>\n",
              "      <td>0.0209</td>\n",
              "      <td>4</td>\n",
              "      <td>0.444592</td>\n",
              "      <td>-0.895733</td>\n",
              "      <td>0.866025</td>\n",
              "      <td>0.5</td>\n",
              "      <td>1</td>\n",
              "    </tr>\n",
              "    <tr>\n",
              "      <th>16</th>\n",
              "      <td>17</td>\n",
              "      <td>2019</td>\n",
              "      <td>1</td>\n",
              "      <td>1</td>\n",
              "      <td>6</td>\n",
              "      <td>35</td>\n",
              "      <td>28.19874</td>\n",
              "      <td>112.97087</td>\n",
              "      <td>47</td>\n",
              "      <td>0.073</td>\n",
              "      <td>...</td>\n",
              "      <td>84.0</td>\n",
              "      <td>4809887.0</td>\n",
              "      <td>4694722.0</td>\n",
              "      <td>0.0245</td>\n",
              "      <td>2</td>\n",
              "      <td>0.390263</td>\n",
              "      <td>-0.920703</td>\n",
              "      <td>0.866025</td>\n",
              "      <td>0.5</td>\n",
              "      <td>1</td>\n",
              "    </tr>\n",
              "    <tr>\n",
              "      <th>17</th>\n",
              "      <td>18</td>\n",
              "      <td>2019</td>\n",
              "      <td>1</td>\n",
              "      <td>1</td>\n",
              "      <td>6</td>\n",
              "      <td>40</td>\n",
              "      <td>30.66667</td>\n",
              "      <td>104.06667</td>\n",
              "      <td>336</td>\n",
              "      <td>5.015</td>\n",
              "      <td>...</td>\n",
              "      <td>36.0</td>\n",
              "      <td>9478521.0</td>\n",
              "      <td>9305116.0</td>\n",
              "      <td>0.0186</td>\n",
              "      <td>3</td>\n",
              "      <td>0.243051</td>\n",
              "      <td>-0.970014</td>\n",
              "      <td>0.866025</td>\n",
              "      <td>0.5</td>\n",
              "      <td>1</td>\n",
              "    </tr>\n",
              "    <tr>\n",
              "      <th>18</th>\n",
              "      <td>19</td>\n",
              "      <td>2019</td>\n",
              "      <td>1</td>\n",
              "      <td>1</td>\n",
              "      <td>6</td>\n",
              "      <td>65</td>\n",
              "      <td>23.02677</td>\n",
              "      <td>113.13148</td>\n",
              "      <td>162</td>\n",
              "      <td>2.152</td>\n",
              "      <td>...</td>\n",
              "      <td>54.0</td>\n",
              "      <td>7497263.0</td>\n",
              "      <td>7406751.0</td>\n",
              "      <td>0.0122</td>\n",
              "      <td>1</td>\n",
              "      <td>0.392842</td>\n",
              "      <td>-0.919606</td>\n",
              "      <td>0.866025</td>\n",
              "      <td>0.5</td>\n",
              "      <td>1</td>\n",
              "    </tr>\n",
              "    <tr>\n",
              "      <th>19</th>\n",
              "      <td>20</td>\n",
              "      <td>2019</td>\n",
              "      <td>1</td>\n",
              "      <td>1</td>\n",
              "      <td>6</td>\n",
              "      <td>68</td>\n",
              "      <td>41.88669</td>\n",
              "      <td>123.94363</td>\n",
              "      <td>103</td>\n",
              "      <td>2.543</td>\n",
              "      <td>...</td>\n",
              "      <td>NaN</td>\n",
              "      <td>NaN</td>\n",
              "      <td>NaN</td>\n",
              "      <td>NaN</td>\n",
              "      <td>1</td>\n",
              "      <td>0.558377</td>\n",
              "      <td>-0.829587</td>\n",
              "      <td>0.866025</td>\n",
              "      <td>0.5</td>\n",
              "      <td>1</td>\n",
              "    </tr>\n",
              "  </tbody>\n",
              "</table>\n",
              "<p>20 rows × 64 columns</p>\n",
              "</div>\n",
              "      <button class=\"colab-df-convert\" onclick=\"convertToInteractive('df-8face887-a3dd-4fbb-8dac-af6ee7c48755')\"\n",
              "              title=\"Convert this dataframe to an interactive table.\"\n",
              "              style=\"display:none;\">\n",
              "        \n",
              "  <svg xmlns=\"http://www.w3.org/2000/svg\" height=\"24px\"viewBox=\"0 0 24 24\"\n",
              "       width=\"24px\">\n",
              "    <path d=\"M0 0h24v24H0V0z\" fill=\"none\"/>\n",
              "    <path d=\"M18.56 5.44l.94 2.06.94-2.06 2.06-.94-2.06-.94-.94-2.06-.94 2.06-2.06.94zm-11 1L8.5 8.5l.94-2.06 2.06-.94-2.06-.94L8.5 2.5l-.94 2.06-2.06.94zm10 10l.94 2.06.94-2.06 2.06-.94-2.06-.94-.94-2.06-.94 2.06-2.06.94z\"/><path d=\"M17.41 7.96l-1.37-1.37c-.4-.4-.92-.59-1.43-.59-.52 0-1.04.2-1.43.59L10.3 9.45l-7.72 7.72c-.78.78-.78 2.05 0 2.83L4 21.41c.39.39.9.59 1.41.59.51 0 1.02-.2 1.41-.59l7.78-7.78 2.81-2.81c.8-.78.8-2.07 0-2.86zM5.41 20L4 18.59l7.72-7.72 1.47 1.35L5.41 20z\"/>\n",
              "  </svg>\n",
              "      </button>\n",
              "      \n",
              "  <style>\n",
              "    .colab-df-container {\n",
              "      display:flex;\n",
              "      flex-wrap:wrap;\n",
              "      gap: 12px;\n",
              "    }\n",
              "\n",
              "    .colab-df-convert {\n",
              "      background-color: #E8F0FE;\n",
              "      border: none;\n",
              "      border-radius: 50%;\n",
              "      cursor: pointer;\n",
              "      display: none;\n",
              "      fill: #1967D2;\n",
              "      height: 32px;\n",
              "      padding: 0 0 0 0;\n",
              "      width: 32px;\n",
              "    }\n",
              "\n",
              "    .colab-df-convert:hover {\n",
              "      background-color: #E2EBFA;\n",
              "      box-shadow: 0px 1px 2px rgba(60, 64, 67, 0.3), 0px 1px 3px 1px rgba(60, 64, 67, 0.15);\n",
              "      fill: #174EA6;\n",
              "    }\n",
              "\n",
              "    [theme=dark] .colab-df-convert {\n",
              "      background-color: #3B4455;\n",
              "      fill: #D2E3FC;\n",
              "    }\n",
              "\n",
              "    [theme=dark] .colab-df-convert:hover {\n",
              "      background-color: #434B5C;\n",
              "      box-shadow: 0px 1px 3px 1px rgba(0, 0, 0, 0.15);\n",
              "      filter: drop-shadow(0px 1px 2px rgba(0, 0, 0, 0.3));\n",
              "      fill: #FFFFFF;\n",
              "    }\n",
              "  </style>\n",
              "\n",
              "      <script>\n",
              "        const buttonEl =\n",
              "          document.querySelector('#df-8face887-a3dd-4fbb-8dac-af6ee7c48755 button.colab-df-convert');\n",
              "        buttonEl.style.display =\n",
              "          google.colab.kernel.accessAllowed ? 'block' : 'none';\n",
              "\n",
              "        async function convertToInteractive(key) {\n",
              "          const element = document.querySelector('#df-8face887-a3dd-4fbb-8dac-af6ee7c48755');\n",
              "          const dataTable =\n",
              "            await google.colab.kernel.invokeFunction('convertToInteractive',\n",
              "                                                     [key], {});\n",
              "          if (!dataTable) return;\n",
              "\n",
              "          const docLinkHtml = 'Like what you see? Visit the ' +\n",
              "            '<a target=\"_blank\" href=https://colab.research.google.com/notebooks/data_table.ipynb>data table notebook</a>'\n",
              "            + ' to learn more about interactive tables.';\n",
              "          element.innerHTML = '';\n",
              "          dataTable['output_type'] = 'display_data';\n",
              "          await google.colab.output.renderOutput(dataTable, element);\n",
              "          const docLink = document.createElement('div');\n",
              "          docLink.innerHTML = docLinkHtml;\n",
              "          element.appendChild(docLink);\n",
              "        }\n",
              "      </script>\n",
              "    </div>\n",
              "  </div>\n",
              "  "
            ]
          },
          "metadata": {},
          "execution_count": 30
        }
      ]
    },
    {
      "cell_type": "code",
      "source": [
        "# numericals = Numericals()\n",
        "# 数字に関する変換\n",
        "# train_df_num = numericals.transform(train_df)\n",
        "\n",
        "# ラベルに関する変換\n",
        "# labelencoding = LabelEncoding(columns = [])\n",
        "\n",
        "# labelencoding.fit(train_df_num)\n",
        "# train_df_labeled = labelencoding.transform(train_df_num)"
      ],
      "metadata": {
        "id": "90PpUjny14tH"
      },
      "execution_count": 31,
      "outputs": []
    },
    {
      "cell_type": "code",
      "source": [
        "class AbstractTreeModel:\n",
        "    def __init__(self, prediction_type=\"regression\"):\n",
        "        self.model = None\n",
        "        self.prediction_type = prediction_type\n",
        "\n",
        "    def train(self,\n",
        "              params: dict,\n",
        "              X_train: pd.DataFrame,\n",
        "              y_train: np.ndarray,\n",
        "              X_val: pd.DataFrame,\n",
        "              y_val: np.ndarray,\n",
        "              train_weights: Optional[np.ndarray] = None,\n",
        "              val_weights: Optional[np.ndarray] = None,\n",
        "              train_params: Optional[dict] = None):\n",
        "        if train_params is None:\n",
        "            train_params = {}\n",
        "\n",
        "        model = self._train(\n",
        "            params,\n",
        "            X_train, y_train,\n",
        "            X_val, y_val,\n",
        "            train_weights, val_weights,\n",
        "            train_params)\n",
        "        self.model = model\n",
        "        return self\n",
        "\n",
        "    def _train(self,\n",
        "               params,\n",
        "               X_train,\n",
        "               y_train,\n",
        "               X_val,\n",
        "               y_val,\n",
        "               train_weights,\n",
        "               val_weights,\n",
        "               train_params):\n",
        "        raise NotImplementedError\n",
        "\n",
        "    def predict(self, X: pd.DataFrame) -> np.ndarray:\n",
        "        raise NotImplementedError\n",
        "\n",
        "    @property\n",
        "    def feature_names_(self):\n",
        "        raise NotImplementedError\n",
        "\n",
        "    @property\n",
        "    def feature_importances_(self):\n",
        "        raise NotImplementedError\n",
        "\n",
        "    def _check_if_trained(self):\n",
        "        assert self.model is not None, \"You need to train the model first\"\n",
        "\n",
        "\n",
        "class LGBModel(AbstractTreeModel):\n",
        "    def _train(self,\n",
        "               params,\n",
        "               X_train, y_train,\n",
        "               X_val, y_val,\n",
        "               train_weights, val_weights,\n",
        "               train_params):\n",
        "        trn_data = lgb.Dataset(X_train, y_train, weight=train_weights)\n",
        "        val_data = lgb.Dataset(X_val, y_val, weight=val_weights)\n",
        "        model = lgb.train(params=params,\n",
        "                          train_set=trn_data,\n",
        "                          valid_sets=[trn_data, val_data],\n",
        "                          **train_params,)\n",
        "                        #   verbose_eval=False)\n",
        "        return model\n",
        "\n",
        "    def predict(self, X: pd.DataFrame) -> np.ndarray:\n",
        "        self._check_if_trained()\n",
        "        return self.model.predict(X, num_iteration=self.model.best_iteration)\n",
        "\n",
        "    @property\n",
        "    def feature_names_(self):\n",
        "        self._check_if_trained()\n",
        "        return self.model.feature_name()\n",
        "\n",
        "    @property\n",
        "    def feature_importances_(self):\n",
        "        self._check_if_trained()\n",
        "        return self.model.feature_importance(importance_type=\"gain\")\n",
        "\n",
        "\n",
        "def get_tree_model(name: str) -> Type[AbstractTreeModel]:\n",
        "    DEFINED_MODELS = {\n",
        "        \"lgb\": LGBModel,\n",
        "        # 実装していない\n",
        "        # \"xgb\": XGBModel,\n",
        "        # \"cat\": CatBoostModel\n",
        "    }\n",
        "    model = DEFINED_MODELS.get(name)\n",
        "    if model is None:\n",
        "        raise ValueError(\n",
        "            \"\"\"Invalid model name: {}.\n",
        "            Pre-defined model names are as follows: {}\"\"\".format(\n",
        "                name,\n",
        "                \",\".join(DEFINED_MODELS.keys())\n",
        "            ))\n",
        "    return model"
      ],
      "metadata": {
        "id": "6YsXccMiCXvd"
      },
      "execution_count": 32,
      "outputs": []
    },
    {
      "cell_type": "code",
      "source": [
        "def viz_feature_importances(feature_importances: pd.DataFrame)-> None:\n",
        "    fi_gby = feature_importances.groupby(\"feature\").agg({\n",
        "        \"importance\": [\"mean\", \"std\"]\n",
        "    }).sort_values((\"importance\", \"mean\"), ascending=0).index\n",
        "    plt.figure(figsize=(20, 10))\n",
        "\n",
        "    sns.barplot(x=\"importance\", y=\"feature\", data=feature_importances, order=fi_gby)\n",
        "\n",
        "    plt.title('LightGBM Features (avg over folds)')\n",
        "    plt.tight_layout()\n",
        "    plt.show()\n",
        "    # plt.savefig('lgbm_importances-01.png')"
      ],
      "metadata": {
        "id": "70dJPb20ISl_"
      },
      "execution_count": 33,
      "outputs": []
    },
    {
      "cell_type": "code",
      "source": [
        "train_params = {\n",
        "    \"num_boost_round\": 10000,\n",
        "    \"callbacks\": [\n",
        "                  lgb.early_stopping(stopping_rounds= 200, verbose=True),\n",
        "                  lgb.log_evaluation(period = 500)\n",
        "    ]\n",
        "}"
      ],
      "metadata": {
        "id": "55k-amEm_9Xb"
      },
      "execution_count": 84,
      "outputs": []
    },
    {
      "cell_type": "code",
      "source": [
        "model = get_tree_model(\"lgb\")()\n",
        "\n",
        "num_cols = [c for c in train_df_.columns if train_df_[c].dtype != np.object]\n",
        "if \"id\" in num_cols:\n",
        "    num_cols.remove(\"id\")\n",
        "if \"kfold\" in num_cols:\n",
        "    num_cols.remove(\"kfold\")\n",
        "num_cols.remove(\"pm25_mid\")\n",
        "\n",
        "target_cols = \"pm25_mid\""
      ],
      "metadata": {
        "id": "gm7PQWKwWS7W"
      },
      "execution_count": 49,
      "outputs": []
    },
    {
      "cell_type": "code",
      "source": [
        "use_cols = [\n",
        "'year',\n",
        "'month', \n",
        "# 'day', \n",
        "'lat', 'lon',\n",
        " 'co_cnt', 'co_min', 'co_mid', 'co_max', 'co_var', \n",
        " 'o3_cnt', 'o3_min', 'o3_mid', 'o3_max', 'o3_var', \n",
        " 'so2_cnt', 'so2_min', 'so2_mid', 'so2_max', 'so2_var', 'no2_cnt', \n",
        " 'no2_min', 'no2_mid', 'no2_max', 'no2_var',\n",
        "'temperature_cnt', 'temperature_min', 'temperature_mid', 'temperature_max', 'temperature_var', \n",
        "'humidity_cnt', 'humidity_min', 'humidity_mid', 'humidity_max', 'humidity_var', \n",
        "'pressure_cnt', 'pressure_min', 'pressure_mid', 'pressure_max', 'pressure_var', \n",
        "'ws_cnt', 'ws_min', 'ws_mid', 'ws_max', 'ws_var', \n",
        "'dew_cnt', 'dew_min', 'dew_mid', 'dew_max', 'dew_var', \n",
        "'rank', 'Population', 'Prev', 'Growth', 'lon_cos', 'lon_sin', 'month_cos', 'month_sin', 'month_world'\n",
        "] + cat_cols"
      ],
      "metadata": {
        "id": "4zuVyajikQhk"
      },
      "execution_count": 50,
      "outputs": []
    },
    {
      "cell_type": "code",
      "source": [
        "i = 1\n",
        "train_data = train_df_[train_df_[\"kfold\"] != i].reset_index(drop = True)\n",
        "valid_data = train_df_[train_df_[\"kfold\"] == i].reset_index(drop = True)\n",
        "\n",
        "lgb_train = lgb.Dataset(train_data[use_cols], train_data[target_cols])\n",
        "lgb_eval = lgb.Dataset(valid_data[use_cols], valid_data[target_cols])\n",
        "\n",
        "\n",
        "def objective(trial):\n",
        "    params= {\n",
        "            'boosting': 'gbdt',\n",
        "            'objective': 'rmse',\n",
        "            'metric': 'rmse',\n",
        "            'learning_rate': trial.suggest_uniform('learning_rate', 0.001, 0.1),\n",
        "            \"max_depth\": trial.suggest_categorical(\"max_depth\", [8, 16, 32]),\n",
        "            \"num_leaves\": trial.suggest_categorical(\"num_leaves\", [8, 16, 32, 64]),\n",
        "            'subsample': 0.7,\n",
        "            'subsample_freq': 1,\n",
        "            \"min_data_in_leaf\":30, \n",
        "            \"device\": \"gpu\",  \n",
        "            \"seed\":2022,\n",
        "    }\n",
        "\n",
        "    gbm = lgb.train(params, lgb_train, valid_sets=lgb_eval, **train_params)\n",
        "    preds = gbm.predict(valid_data[use_cols])\n",
        "\n",
        "    accuracy = np.sqrt(mean_squared_error(valid_data[target_cols], preds))\n",
        "    return accuracy"
      ],
      "metadata": {
        "id": "sIcqSSNHv4s7"
      },
      "execution_count": 89,
      "outputs": []
    },
    {
      "cell_type": "code",
      "source": [
        "study = optuna.create_study(direction = \"minimize\")\n",
        "study.optimize(objective, n_trials = 50)"
      ],
      "metadata": {
        "colab": {
          "base_uri": "https://localhost:8080/"
        },
        "id": "Ecr7FVcIv4vv",
        "outputId": "a4125cf4-1637-4fae-e36c-b90d86b29884"
      },
      "execution_count": 91,
      "outputs": [
        {
          "output_type": "stream",
          "name": "stderr",
          "text": [
            "\u001b[32m[I 2022-04-19 12:54:55,796]\u001b[0m A new study created in memory with name: no-name-e28b8a48-bed7-4b4f-9b89-63604cb11219\u001b[0m\n"
          ]
        },
        {
          "output_type": "stream",
          "name": "stdout",
          "text": [
            "[LightGBM] [Info] This is the GPU trainer!!\n",
            "[LightGBM] [Info] Total Bins 12906\n",
            "[LightGBM] [Info] Number of data points in the train set: 156758, number of used features: 60\n",
            "[LightGBM] [Info] Using GPU Device: Tesla T4, Vendor: NVIDIA Corporation\n",
            "[LightGBM] [Info] Compiling OpenCL Kernel with 256 bins...\n",
            "[LightGBM] [Info] GPU programs have been built\n",
            "[LightGBM] [Info] Size of histogram bin entry: 8\n",
            "[LightGBM] [Info] 60 dense feature groups (8.97 MB) transferred to GPU in 0.012300 secs. 0 sparse feature groups\n",
            "[LightGBM] [Info] Start training from score 59.317361\n",
            "Training until validation scores don't improve for 200 rounds\n",
            "[500]\tvalid_0's rmse: 21.3979\n",
            "[1000]\tvalid_0's rmse: 21.2946\n",
            "Early stopping, best iteration is:\n",
            "[1239]\tvalid_0's rmse: 21.2692\n"
          ]
        },
        {
          "output_type": "stream",
          "name": "stderr",
          "text": [
            "\u001b[32m[I 2022-04-19 12:55:07,776]\u001b[0m Trial 0 finished with value: 21.26924628191411 and parameters: {'learning_rate': 0.06251589821700465, 'max_depth': 32, 'num_leaves': 16}. Best is trial 0 with value: 21.26924628191411.\u001b[0m\n"
          ]
        },
        {
          "output_type": "stream",
          "name": "stdout",
          "text": [
            "[LightGBM] [Info] This is the GPU trainer!!\n",
            "[LightGBM] [Info] Total Bins 12906\n",
            "[LightGBM] [Info] Number of data points in the train set: 156758, number of used features: 60\n",
            "[LightGBM] [Info] Using GPU Device: Tesla T4, Vendor: NVIDIA Corporation\n",
            "[LightGBM] [Info] Compiling OpenCL Kernel with 256 bins...\n",
            "[LightGBM] [Info] GPU programs have been built\n",
            "[LightGBM] [Info] Size of histogram bin entry: 8\n",
            "[LightGBM] [Info] 60 dense feature groups (8.97 MB) transferred to GPU in 0.008150 secs. 0 sparse feature groups\n",
            "[LightGBM] [Info] Start training from score 59.317361\n",
            "Training until validation scores don't improve for 200 rounds\n",
            "[500]\tvalid_0's rmse: 24.9367\n",
            "[1000]\tvalid_0's rmse: 22.8769\n",
            "[1500]\tvalid_0's rmse: 22.1897\n",
            "[2000]\tvalid_0's rmse: 21.8681\n",
            "[2500]\tvalid_0's rmse: 21.6584\n",
            "[3000]\tvalid_0's rmse: 21.5106\n",
            "[3500]\tvalid_0's rmse: 21.4124\n",
            "[4000]\tvalid_0's rmse: 21.338\n",
            "[4500]\tvalid_0's rmse: 21.2813\n",
            "[5000]\tvalid_0's rmse: 21.2435\n",
            "[5500]\tvalid_0's rmse: 21.2138\n",
            "[6000]\tvalid_0's rmse: 21.1925\n",
            "[6500]\tvalid_0's rmse: 21.1732\n",
            "[7000]\tvalid_0's rmse: 21.1573\n",
            "[7500]\tvalid_0's rmse: 21.1433\n",
            "[8000]\tvalid_0's rmse: 21.1307\n",
            "[8500]\tvalid_0's rmse: 21.1201\n",
            "[9000]\tvalid_0's rmse: 21.115\n",
            "[9500]\tvalid_0's rmse: 21.1046\n",
            "[10000]\tvalid_0's rmse: 21.0987\n",
            "Did not meet early stopping. Best iteration is:\n",
            "[9998]\tvalid_0's rmse: 21.0987\n"
          ]
        },
        {
          "output_type": "stream",
          "name": "stderr",
          "text": [
            "\u001b[32m[I 2022-04-19 12:58:35,993]\u001b[0m Trial 1 finished with value: 21.09865653847205 and parameters: {'learning_rate': 0.00202375133369951, 'max_depth': 16, 'num_leaves': 64}. Best is trial 1 with value: 21.09865653847205.\u001b[0m\n"
          ]
        },
        {
          "output_type": "stream",
          "name": "stdout",
          "text": [
            "[LightGBM] [Info] This is the GPU trainer!!\n",
            "[LightGBM] [Info] Total Bins 12906\n",
            "[LightGBM] [Info] Number of data points in the train set: 156758, number of used features: 60\n",
            "[LightGBM] [Info] Using GPU Device: Tesla T4, Vendor: NVIDIA Corporation\n",
            "[LightGBM] [Info] Compiling OpenCL Kernel with 256 bins...\n",
            "[LightGBM] [Info] GPU programs have been built\n",
            "[LightGBM] [Info] Size of histogram bin entry: 8\n",
            "[LightGBM] [Info] 60 dense feature groups (8.97 MB) transferred to GPU in 0.007792 secs. 0 sparse feature groups\n",
            "[LightGBM] [Info] Start training from score 59.317361\n",
            "Training until validation scores don't improve for 200 rounds\n",
            "[500]\tvalid_0's rmse: 21.3074\n",
            "Early stopping, best iteration is:\n",
            "[619]\tvalid_0's rmse: 21.3\n"
          ]
        },
        {
          "output_type": "stream",
          "name": "stderr",
          "text": [
            "\u001b[32m[I 2022-04-19 12:58:44,930]\u001b[0m Trial 2 finished with value: 21.299978558013866 and parameters: {'learning_rate': 0.08316989406730703, 'max_depth': 32, 'num_leaves': 32}. Best is trial 1 with value: 21.09865653847205.\u001b[0m\n"
          ]
        },
        {
          "output_type": "stream",
          "name": "stdout",
          "text": [
            "[LightGBM] [Info] This is the GPU trainer!!\n",
            "[LightGBM] [Info] Total Bins 12906\n",
            "[LightGBM] [Info] Number of data points in the train set: 156758, number of used features: 60\n",
            "[LightGBM] [Info] Using GPU Device: Tesla T4, Vendor: NVIDIA Corporation\n",
            "[LightGBM] [Info] Compiling OpenCL Kernel with 256 bins...\n",
            "[LightGBM] [Info] GPU programs have been built\n",
            "[LightGBM] [Info] Size of histogram bin entry: 8\n",
            "[LightGBM] [Info] 60 dense feature groups (8.97 MB) transferred to GPU in 0.008029 secs. 0 sparse feature groups\n",
            "[LightGBM] [Info] Start training from score 59.317361\n",
            "Training until validation scores don't improve for 200 rounds\n",
            "Early stopping, best iteration is:\n",
            "[281]\tvalid_0's rmse: 21.4594\n"
          ]
        },
        {
          "output_type": "stream",
          "name": "stderr",
          "text": [
            "\u001b[32m[I 2022-04-19 12:58:50,334]\u001b[0m Trial 3 finished with value: 21.459438478621802 and parameters: {'learning_rate': 0.09752154455827944, 'max_depth': 16, 'num_leaves': 32}. Best is trial 1 with value: 21.09865653847205.\u001b[0m\n"
          ]
        },
        {
          "output_type": "stream",
          "name": "stdout",
          "text": [
            "[LightGBM] [Info] This is the GPU trainer!!\n",
            "[LightGBM] [Info] Total Bins 12906\n",
            "[LightGBM] [Info] Number of data points in the train set: 156758, number of used features: 60\n",
            "[LightGBM] [Info] Using GPU Device: Tesla T4, Vendor: NVIDIA Corporation\n",
            "[LightGBM] [Info] Compiling OpenCL Kernel with 256 bins...\n",
            "[LightGBM] [Info] GPU programs have been built\n",
            "[LightGBM] [Info] Size of histogram bin entry: 8\n",
            "[LightGBM] [Info] 60 dense feature groups (8.97 MB) transferred to GPU in 0.012666 secs. 0 sparse feature groups\n",
            "[LightGBM] [Info] Start training from score 59.317361\n",
            "Training until validation scores don't improve for 200 rounds\n",
            "[500]\tvalid_0's rmse: 21.6283\n",
            "[1000]\tvalid_0's rmse: 21.3309\n",
            "[1500]\tvalid_0's rmse: 21.2629\n",
            "[2000]\tvalid_0's rmse: 21.2088\n",
            "[2500]\tvalid_0's rmse: 21.2\n",
            "[3000]\tvalid_0's rmse: 21.1746\n",
            "Early stopping, best iteration is:\n",
            "[3209]\tvalid_0's rmse: 21.1646\n"
          ]
        },
        {
          "output_type": "stream",
          "name": "stderr",
          "text": [
            "\u001b[32m[I 2022-04-19 12:59:29,965]\u001b[0m Trial 4 finished with value: 21.164561500196488 and parameters: {'learning_rate': 0.01782760406034501, 'max_depth': 16, 'num_leaves': 32}. Best is trial 1 with value: 21.09865653847205.\u001b[0m\n"
          ]
        },
        {
          "output_type": "stream",
          "name": "stdout",
          "text": [
            "[LightGBM] [Info] This is the GPU trainer!!\n",
            "[LightGBM] [Info] Total Bins 12906\n",
            "[LightGBM] [Info] Number of data points in the train set: 156758, number of used features: 60\n",
            "[LightGBM] [Info] Using GPU Device: Tesla T4, Vendor: NVIDIA Corporation\n",
            "[LightGBM] [Info] Compiling OpenCL Kernel with 256 bins...\n",
            "[LightGBM] [Info] GPU programs have been built\n",
            "[LightGBM] [Info] Size of histogram bin entry: 8\n",
            "[LightGBM] [Info] 60 dense feature groups (8.97 MB) transferred to GPU in 0.007936 secs. 0 sparse feature groups\n",
            "[LightGBM] [Info] Start training from score 59.317361\n",
            "Training until validation scores don't improve for 200 rounds\n",
            "Early stopping, best iteration is:\n",
            "[215]\tvalid_0's rmse: 21.2986\n"
          ]
        },
        {
          "output_type": "stream",
          "name": "stderr",
          "text": [
            "\u001b[32m[I 2022-04-19 12:59:37,314]\u001b[0m Trial 5 finished with value: 21.29855066969297 and parameters: {'learning_rate': 0.08578852796881131, 'max_depth': 32, 'num_leaves': 64}. Best is trial 1 with value: 21.09865653847205.\u001b[0m\n"
          ]
        },
        {
          "output_type": "stream",
          "name": "stdout",
          "text": [
            "[LightGBM] [Info] This is the GPU trainer!!\n",
            "[LightGBM] [Info] Total Bins 12906\n",
            "[LightGBM] [Info] Number of data points in the train set: 156758, number of used features: 60\n",
            "[LightGBM] [Info] Using GPU Device: Tesla T4, Vendor: NVIDIA Corporation\n",
            "[LightGBM] [Info] Compiling OpenCL Kernel with 256 bins...\n",
            "[LightGBM] [Info] GPU programs have been built\n",
            "[LightGBM] [Info] Size of histogram bin entry: 8\n",
            "[LightGBM] [Info] 60 dense feature groups (8.97 MB) transferred to GPU in 0.007821 secs. 0 sparse feature groups\n",
            "[LightGBM] [Info] Start training from score 59.317361\n",
            "Training until validation scores don't improve for 200 rounds\n",
            "[500]\tvalid_0's rmse: 21.9129\n",
            "[1000]\tvalid_0's rmse: 21.5226\n",
            "[1500]\tvalid_0's rmse: 21.3864\n",
            "[2000]\tvalid_0's rmse: 21.3283\n",
            "[2500]\tvalid_0's rmse: 21.287\n",
            "[3000]\tvalid_0's rmse: 21.2634\n",
            "Early stopping, best iteration is:\n",
            "[3054]\tvalid_0's rmse: 21.257\n"
          ]
        },
        {
          "output_type": "stream",
          "name": "stderr",
          "text": [
            "\u001b[32m[I 2022-04-19 13:00:04,630]\u001b[0m Trial 6 finished with value: 21.257033309298397 and parameters: {'learning_rate': 0.020372830835990303, 'max_depth': 8, 'num_leaves': 16}. Best is trial 1 with value: 21.09865653847205.\u001b[0m\n"
          ]
        },
        {
          "output_type": "stream",
          "name": "stdout",
          "text": [
            "[LightGBM] [Info] This is the GPU trainer!!\n",
            "[LightGBM] [Info] Total Bins 12906\n",
            "[LightGBM] [Info] Number of data points in the train set: 156758, number of used features: 60\n",
            "[LightGBM] [Info] Using GPU Device: Tesla T4, Vendor: NVIDIA Corporation\n",
            "[LightGBM] [Info] Compiling OpenCL Kernel with 256 bins...\n",
            "[LightGBM] [Info] GPU programs have been built\n",
            "[LightGBM] [Info] Size of histogram bin entry: 8\n",
            "[LightGBM] [Info] 60 dense feature groups (8.97 MB) transferred to GPU in 0.007651 secs. 0 sparse feature groups\n",
            "[LightGBM] [Info] Start training from score 59.317361\n",
            "Training until validation scores don't improve for 200 rounds\n",
            "[500]\tvalid_0's rmse: 21.9816\n",
            "[1000]\tvalid_0's rmse: 21.4101\n",
            "[1500]\tvalid_0's rmse: 21.2431\n",
            "[2000]\tvalid_0's rmse: 21.1789\n",
            "[2500]\tvalid_0's rmse: 21.142\n",
            "[3000]\tvalid_0's rmse: 21.1147\n",
            "[3500]\tvalid_0's rmse: 21.0985\n",
            "Early stopping, best iteration is:\n",
            "[3645]\tvalid_0's rmse: 21.0961\n"
          ]
        },
        {
          "output_type": "stream",
          "name": "stderr",
          "text": [
            "\u001b[32m[I 2022-04-19 13:01:19,279]\u001b[0m Trial 7 finished with value: 21.096056681586532 and parameters: {'learning_rate': 0.007309021087733992, 'max_depth': 16, 'num_leaves': 64}. Best is trial 7 with value: 21.096056681586532.\u001b[0m\n"
          ]
        },
        {
          "output_type": "stream",
          "name": "stdout",
          "text": [
            "[LightGBM] [Info] This is the GPU trainer!!\n",
            "[LightGBM] [Info] Total Bins 12906\n",
            "[LightGBM] [Info] Number of data points in the train set: 156758, number of used features: 60\n",
            "[LightGBM] [Info] Using GPU Device: Tesla T4, Vendor: NVIDIA Corporation\n",
            "[LightGBM] [Info] Compiling OpenCL Kernel with 256 bins...\n",
            "[LightGBM] [Info] GPU programs have been built\n",
            "[LightGBM] [Info] Size of histogram bin entry: 8\n",
            "[LightGBM] [Info] 60 dense feature groups (8.97 MB) transferred to GPU in 0.007807 secs. 0 sparse feature groups\n",
            "[LightGBM] [Info] Start training from score 59.317361\n",
            "Training until validation scores don't improve for 200 rounds\n",
            "[500]\tvalid_0's rmse: 21.3975\n",
            "[1000]\tvalid_0's rmse: 21.3312\n",
            "Early stopping, best iteration is:\n",
            "[999]\tvalid_0's rmse: 21.331\n"
          ]
        },
        {
          "output_type": "stream",
          "name": "stderr",
          "text": [
            "\u001b[32m[I 2022-04-19 13:01:28,730]\u001b[0m Trial 8 finished with value: 21.330955824657007 and parameters: {'learning_rate': 0.07315589085079434, 'max_depth': 8, 'num_leaves': 16}. Best is trial 7 with value: 21.096056681586532.\u001b[0m\n"
          ]
        },
        {
          "output_type": "stream",
          "name": "stdout",
          "text": [
            "[LightGBM] [Info] This is the GPU trainer!!\n",
            "[LightGBM] [Info] Total Bins 12906\n",
            "[LightGBM] [Info] Number of data points in the train set: 156758, number of used features: 60\n",
            "[LightGBM] [Info] Using GPU Device: Tesla T4, Vendor: NVIDIA Corporation\n",
            "[LightGBM] [Info] Compiling OpenCL Kernel with 256 bins...\n",
            "[LightGBM] [Info] GPU programs have been built\n",
            "[LightGBM] [Info] Size of histogram bin entry: 8\n",
            "[LightGBM] [Info] 60 dense feature groups (8.97 MB) transferred to GPU in 0.007718 secs. 0 sparse feature groups\n",
            "[LightGBM] [Info] Start training from score 59.317361\n",
            "Training until validation scores don't improve for 200 rounds\n",
            "[500]\tvalid_0's rmse: 22.6522\n",
            "[1000]\tvalid_0's rmse: 21.9525\n",
            "[1500]\tvalid_0's rmse: 21.689\n",
            "[2000]\tvalid_0's rmse: 21.5634\n",
            "[2500]\tvalid_0's rmse: 21.4711\n",
            "[3000]\tvalid_0's rmse: 21.4149\n",
            "[3500]\tvalid_0's rmse: 21.3701\n",
            "[4000]\tvalid_0's rmse: 21.3375\n",
            "[4500]\tvalid_0's rmse: 21.3125\n",
            "[5000]\tvalid_0's rmse: 21.2927\n",
            "[5500]\tvalid_0's rmse: 21.2852\n",
            "[6000]\tvalid_0's rmse: 21.2754\n",
            "[6500]\tvalid_0's rmse: 21.2695\n",
            "Early stopping, best iteration is:\n",
            "[6308]\tvalid_0's rmse: 21.2689\n"
          ]
        },
        {
          "output_type": "stream",
          "name": "stderr",
          "text": [
            "\u001b[32m[I 2022-04-19 13:02:24,025]\u001b[0m Trial 9 finished with value: 21.26887438962333 and parameters: {'learning_rate': 0.00947374034058138, 'max_depth': 8, 'num_leaves': 16}. Best is trial 7 with value: 21.096056681586532.\u001b[0m\n"
          ]
        },
        {
          "output_type": "stream",
          "name": "stdout",
          "text": [
            "[LightGBM] [Info] This is the GPU trainer!!\n",
            "[LightGBM] [Info] Total Bins 12906\n",
            "[LightGBM] [Info] Number of data points in the train set: 156758, number of used features: 60\n",
            "[LightGBM] [Info] Using GPU Device: Tesla T4, Vendor: NVIDIA Corporation\n",
            "[LightGBM] [Info] Compiling OpenCL Kernel with 256 bins...\n",
            "[LightGBM] [Info] GPU programs have been built\n",
            "[LightGBM] [Info] Size of histogram bin entry: 8\n",
            "[LightGBM] [Info] 60 dense feature groups (8.97 MB) transferred to GPU in 0.007579 secs. 0 sparse feature groups\n",
            "[LightGBM] [Info] Start training from score 59.317361\n",
            "Training until validation scores don't improve for 200 rounds\n",
            "[500]\tvalid_0's rmse: 22.0063\n",
            "[1000]\tvalid_0's rmse: 21.6085\n",
            "[1500]\tvalid_0's rmse: 21.4647\n",
            "[2000]\tvalid_0's rmse: 21.4039\n",
            "[2500]\tvalid_0's rmse: 21.3571\n",
            "[3000]\tvalid_0's rmse: 21.333\n",
            "[3500]\tvalid_0's rmse: 21.3038\n",
            "Early stopping, best iteration is:\n",
            "[3394]\tvalid_0's rmse: 21.2948\n"
          ]
        },
        {
          "output_type": "stream",
          "name": "stderr",
          "text": [
            "\u001b[32m[I 2022-04-19 13:02:46,290]\u001b[0m Trial 10 finished with value: 21.29482712809557 and parameters: {'learning_rate': 0.03964973941998728, 'max_depth': 16, 'num_leaves': 8}. Best is trial 7 with value: 21.096056681586532.\u001b[0m\n"
          ]
        },
        {
          "output_type": "stream",
          "name": "stdout",
          "text": [
            "[LightGBM] [Info] This is the GPU trainer!!\n",
            "[LightGBM] [Info] Total Bins 12906\n",
            "[LightGBM] [Info] Number of data points in the train set: 156758, number of used features: 60\n",
            "[LightGBM] [Info] Using GPU Device: Tesla T4, Vendor: NVIDIA Corporation\n",
            "[LightGBM] [Info] Compiling OpenCL Kernel with 256 bins...\n",
            "[LightGBM] [Info] GPU programs have been built\n",
            "[LightGBM] [Info] Size of histogram bin entry: 8\n",
            "[LightGBM] [Info] 60 dense feature groups (8.97 MB) transferred to GPU in 0.008773 secs. 0 sparse feature groups\n",
            "[LightGBM] [Info] Start training from score 59.317361\n",
            "Training until validation scores don't improve for 200 rounds\n",
            "[500]\tvalid_0's rmse: 21.0911\n",
            "Early stopping, best iteration is:\n",
            "[629]\tvalid_0's rmse: 21.0641\n"
          ]
        },
        {
          "output_type": "stream",
          "name": "stderr",
          "text": [
            "\u001b[32m[I 2022-04-19 13:03:01,818]\u001b[0m Trial 11 finished with value: 21.06409970188268 and parameters: {'learning_rate': 0.03610474734378254, 'max_depth': 16, 'num_leaves': 64}. Best is trial 11 with value: 21.06409970188268.\u001b[0m\n"
          ]
        },
        {
          "output_type": "stream",
          "name": "stdout",
          "text": [
            "[LightGBM] [Info] This is the GPU trainer!!\n",
            "[LightGBM] [Info] Total Bins 12906\n",
            "[LightGBM] [Info] Number of data points in the train set: 156758, number of used features: 60\n",
            "[LightGBM] [Info] Using GPU Device: Tesla T4, Vendor: NVIDIA Corporation\n",
            "[LightGBM] [Info] Compiling OpenCL Kernel with 256 bins...\n",
            "[LightGBM] [Info] GPU programs have been built\n",
            "[LightGBM] [Info] Size of histogram bin entry: 8\n",
            "[LightGBM] [Info] 60 dense feature groups (8.97 MB) transferred to GPU in 0.008209 secs. 0 sparse feature groups\n",
            "[LightGBM] [Info] Start training from score 59.317361\n",
            "Training until validation scores don't improve for 200 rounds\n",
            "[500]\tvalid_0's rmse: 21.1783\n",
            "Early stopping, best iteration is:\n",
            "[484]\tvalid_0's rmse: 21.1708\n"
          ]
        },
        {
          "output_type": "stream",
          "name": "stderr",
          "text": [
            "\u001b[32m[I 2022-04-19 13:03:14,570]\u001b[0m Trial 12 finished with value: 21.17076224648513 and parameters: {'learning_rate': 0.038805099898794826, 'max_depth': 16, 'num_leaves': 64}. Best is trial 11 with value: 21.06409970188268.\u001b[0m\n"
          ]
        },
        {
          "output_type": "stream",
          "name": "stdout",
          "text": [
            "[LightGBM] [Info] This is the GPU trainer!!\n",
            "[LightGBM] [Info] Total Bins 12906\n",
            "[LightGBM] [Info] Number of data points in the train set: 156758, number of used features: 60\n",
            "[LightGBM] [Info] Using GPU Device: Tesla T4, Vendor: NVIDIA Corporation\n",
            "[LightGBM] [Info] Compiling OpenCL Kernel with 256 bins...\n",
            "[LightGBM] [Info] GPU programs have been built\n",
            "[LightGBM] [Info] Size of histogram bin entry: 8\n",
            "[LightGBM] [Info] 60 dense feature groups (8.97 MB) transferred to GPU in 0.007528 secs. 0 sparse feature groups\n",
            "[LightGBM] [Info] Start training from score 59.317361\n",
            "Training until validation scores don't improve for 200 rounds\n",
            "[500]\tvalid_0's rmse: 21.1909\n",
            "[1000]\tvalid_0's rmse: 21.1325\n",
            "Early stopping, best iteration is:\n",
            "[901]\tvalid_0's rmse: 21.1302\n"
          ]
        },
        {
          "output_type": "stream",
          "name": "stderr",
          "text": [
            "\u001b[32m[I 2022-04-19 13:03:34,661]\u001b[0m Trial 13 finished with value: 21.13017425245341 and parameters: {'learning_rate': 0.031763813759346865, 'max_depth': 16, 'num_leaves': 64}. Best is trial 11 with value: 21.06409970188268.\u001b[0m\n"
          ]
        },
        {
          "output_type": "stream",
          "name": "stdout",
          "text": [
            "[LightGBM] [Info] This is the GPU trainer!!\n",
            "[LightGBM] [Info] Total Bins 12906\n",
            "[LightGBM] [Info] Number of data points in the train set: 156758, number of used features: 60\n",
            "[LightGBM] [Info] Using GPU Device: Tesla T4, Vendor: NVIDIA Corporation\n",
            "[LightGBM] [Info] Compiling OpenCL Kernel with 256 bins...\n",
            "[LightGBM] [Info] GPU programs have been built\n",
            "[LightGBM] [Info] Size of histogram bin entry: 8\n",
            "[LightGBM] [Info] 60 dense feature groups (8.97 MB) transferred to GPU in 0.012252 secs. 0 sparse feature groups\n",
            "[LightGBM] [Info] Start training from score 59.317361\n",
            "Training until validation scores don't improve for 200 rounds\n",
            "[500]\tvalid_0's rmse: 21.2298\n",
            "Early stopping, best iteration is:\n",
            "[523]\tvalid_0's rmse: 21.2133\n"
          ]
        },
        {
          "output_type": "stream",
          "name": "stderr",
          "text": [
            "\u001b[32m[I 2022-04-19 13:03:47,569]\u001b[0m Trial 14 finished with value: 21.213320958452897 and parameters: {'learning_rate': 0.05368394310227474, 'max_depth': 16, 'num_leaves': 64}. Best is trial 11 with value: 21.06409970188268.\u001b[0m\n"
          ]
        },
        {
          "output_type": "stream",
          "name": "stdout",
          "text": [
            "[LightGBM] [Info] This is the GPU trainer!!\n",
            "[LightGBM] [Info] Total Bins 12906\n",
            "[LightGBM] [Info] Number of data points in the train set: 156758, number of used features: 60\n",
            "[LightGBM] [Info] Using GPU Device: Tesla T4, Vendor: NVIDIA Corporation\n",
            "[LightGBM] [Info] Compiling OpenCL Kernel with 256 bins...\n",
            "[LightGBM] [Info] GPU programs have been built\n",
            "[LightGBM] [Info] Size of histogram bin entry: 8\n",
            "[LightGBM] [Info] 60 dense feature groups (8.97 MB) transferred to GPU in 0.007777 secs. 0 sparse feature groups\n",
            "[LightGBM] [Info] Start training from score 59.317361\n",
            "Training until validation scores don't improve for 200 rounds\n",
            "[500]\tvalid_0's rmse: 22.3212\n",
            "[1000]\tvalid_0's rmse: 21.8511\n",
            "[1500]\tvalid_0's rmse: 21.6293\n",
            "[2000]\tvalid_0's rmse: 21.4931\n",
            "[2500]\tvalid_0's rmse: 21.4257\n",
            "[3000]\tvalid_0's rmse: 21.3849\n",
            "[3500]\tvalid_0's rmse: 21.3443\n",
            "Early stopping, best iteration is:\n",
            "[3395]\tvalid_0's rmse: 21.3416\n"
          ]
        },
        {
          "output_type": "stream",
          "name": "stderr",
          "text": [
            "\u001b[32m[I 2022-04-19 13:04:10,410]\u001b[0m Trial 15 finished with value: 21.341576760800134 and parameters: {'learning_rate': 0.026375973323377933, 'max_depth': 16, 'num_leaves': 8}. Best is trial 11 with value: 21.06409970188268.\u001b[0m\n"
          ]
        },
        {
          "output_type": "stream",
          "name": "stdout",
          "text": [
            "[LightGBM] [Info] This is the GPU trainer!!\n",
            "[LightGBM] [Info] Total Bins 12906\n",
            "[LightGBM] [Info] Number of data points in the train set: 156758, number of used features: 60\n",
            "[LightGBM] [Info] Using GPU Device: Tesla T4, Vendor: NVIDIA Corporation\n",
            "[LightGBM] [Info] Compiling OpenCL Kernel with 256 bins...\n",
            "[LightGBM] [Info] GPU programs have been built\n",
            "[LightGBM] [Info] Size of histogram bin entry: 8\n",
            "[LightGBM] [Info] 60 dense feature groups (8.97 MB) transferred to GPU in 0.007691 secs. 0 sparse feature groups\n",
            "[LightGBM] [Info] Start training from score 59.317361\n",
            "Training until validation scores don't improve for 200 rounds\n",
            "[500]\tvalid_0's rmse: 21.3828\n",
            "Early stopping, best iteration is:\n",
            "[523]\tvalid_0's rmse: 21.3677\n"
          ]
        },
        {
          "output_type": "stream",
          "name": "stderr",
          "text": [
            "\u001b[32m[I 2022-04-19 13:04:23,326]\u001b[0m Trial 16 finished with value: 21.367685194946382 and parameters: {'learning_rate': 0.05011965210743135, 'max_depth': 16, 'num_leaves': 64}. Best is trial 11 with value: 21.06409970188268.\u001b[0m\n"
          ]
        },
        {
          "output_type": "stream",
          "name": "stdout",
          "text": [
            "[LightGBM] [Info] This is the GPU trainer!!\n",
            "[LightGBM] [Info] Total Bins 12906\n",
            "[LightGBM] [Info] Number of data points in the train set: 156758, number of used features: 60\n",
            "[LightGBM] [Info] Using GPU Device: Tesla T4, Vendor: NVIDIA Corporation\n",
            "[LightGBM] [Info] Compiling OpenCL Kernel with 256 bins...\n",
            "[LightGBM] [Info] GPU programs have been built\n",
            "[LightGBM] [Info] Size of histogram bin entry: 8\n",
            "[LightGBM] [Info] 60 dense feature groups (8.97 MB) transferred to GPU in 0.008278 secs. 0 sparse feature groups\n",
            "[LightGBM] [Info] Start training from score 59.317361\n",
            "Training until validation scores don't improve for 200 rounds\n",
            "[500]\tvalid_0's rmse: 27.8766\n",
            "[1000]\tvalid_0's rmse: 24.8636\n",
            "[1500]\tvalid_0's rmse: 23.5254\n",
            "[2000]\tvalid_0's rmse: 22.8393\n",
            "[2500]\tvalid_0's rmse: 22.4252\n",
            "[3000]\tvalid_0's rmse: 22.1662\n",
            "[3500]\tvalid_0's rmse: 21.9893\n",
            "[4000]\tvalid_0's rmse: 21.8541\n",
            "[4500]\tvalid_0's rmse: 21.7413\n",
            "[5000]\tvalid_0's rmse: 21.645\n",
            "[5500]\tvalid_0's rmse: 21.5663\n",
            "[6000]\tvalid_0's rmse: 21.4997\n",
            "[6500]\tvalid_0's rmse: 21.4466\n",
            "[7000]\tvalid_0's rmse: 21.4012\n",
            "[7500]\tvalid_0's rmse: 21.3632\n",
            "[8000]\tvalid_0's rmse: 21.3316\n",
            "[8500]\tvalid_0's rmse: 21.3052\n",
            "[9000]\tvalid_0's rmse: 21.2796\n",
            "[9500]\tvalid_0's rmse: 21.2608\n",
            "[10000]\tvalid_0's rmse: 21.2408\n",
            "Did not meet early stopping. Best iteration is:\n",
            "[9998]\tvalid_0's rmse: 21.2407\n"
          ]
        },
        {
          "output_type": "stream",
          "name": "stderr",
          "text": [
            "\u001b[32m[I 2022-04-19 13:08:15,620]\u001b[0m Trial 17 finished with value: 21.240733785957072 and parameters: {'learning_rate': 0.0010304868024737955, 'max_depth': 16, 'num_leaves': 64}. Best is trial 11 with value: 21.06409970188268.\u001b[0m\n"
          ]
        },
        {
          "output_type": "stream",
          "name": "stdout",
          "text": [
            "[LightGBM] [Info] This is the GPU trainer!!\n",
            "[LightGBM] [Info] Total Bins 12906\n",
            "[LightGBM] [Info] Number of data points in the train set: 156758, number of used features: 60\n",
            "[LightGBM] [Info] Using GPU Device: Tesla T4, Vendor: NVIDIA Corporation\n",
            "[LightGBM] [Info] Compiling OpenCL Kernel with 256 bins...\n",
            "[LightGBM] [Info] GPU programs have been built\n",
            "[LightGBM] [Info] Size of histogram bin entry: 8\n",
            "[LightGBM] [Info] 60 dense feature groups (8.97 MB) transferred to GPU in 0.007519 secs. 0 sparse feature groups\n",
            "[LightGBM] [Info] Start training from score 59.317361\n",
            "Training until validation scores don't improve for 200 rounds\n",
            "[500]\tvalid_0's rmse: 21.5331\n",
            "[LightGBM] [Warning] No further splits with positive gain, best gain: -inf\n",
            "[LightGBM] [Warning] No further splits with positive gain, best gain: -inf\n",
            "[LightGBM] [Warning] No further splits with positive gain, best gain: -inf\n",
            "[LightGBM] [Warning] No further splits with positive gain, best gain: -inf\n",
            "[LightGBM] [Warning] No further splits with positive gain, best gain: -inf\n",
            "[LightGBM] [Warning] No further splits with positive gain, best gain: -inf\n",
            "[LightGBM] [Warning] No further splits with positive gain, best gain: -inf\n",
            "[LightGBM] [Warning] No further splits with positive gain, best gain: -inf\n",
            "[1000]\tvalid_0's rmse: 21.2387\n",
            "[LightGBM] [Warning] No further splits with positive gain, best gain: -inf\n",
            "[LightGBM] [Warning] No further splits with positive gain, best gain: -inf\n",
            "[LightGBM] [Warning] No further splits with positive gain, best gain: -inf\n",
            "[LightGBM] [Warning] No further splits with positive gain, best gain: -inf\n",
            "[LightGBM] [Warning] No further splits with positive gain, best gain: -inf\n",
            "[LightGBM] [Warning] No further splits with positive gain, best gain: -inf\n",
            "[LightGBM] [Warning] No further splits with positive gain, best gain: -inf\n",
            "[LightGBM] [Warning] No further splits with positive gain, best gain: -inf\n",
            "[1500]\tvalid_0's rmse: 21.1757\n",
            "[LightGBM] [Warning] No further splits with positive gain, best gain: -inf\n",
            "[LightGBM] [Warning] No further splits with positive gain, best gain: -inf\n",
            "[LightGBM] [Warning] No further splits with positive gain, best gain: -inf\n",
            "[2000]\tvalid_0's rmse: 21.1661\n",
            "Early stopping, best iteration is:\n",
            "[1823]\tvalid_0's rmse: 21.1598\n"
          ]
        },
        {
          "output_type": "stream",
          "name": "stderr",
          "text": [
            "\u001b[32m[I 2022-04-19 13:08:54,661]\u001b[0m Trial 18 finished with value: 21.15976373729886 and parameters: {'learning_rate': 0.01270005105803481, 'max_depth': 8, 'num_leaves': 64}. Best is trial 11 with value: 21.06409970188268.\u001b[0m\n"
          ]
        },
        {
          "output_type": "stream",
          "name": "stdout",
          "text": [
            "[LightGBM] [Info] This is the GPU trainer!!\n",
            "[LightGBM] [Info] Total Bins 12906\n",
            "[LightGBM] [Info] Number of data points in the train set: 156758, number of used features: 60\n",
            "[LightGBM] [Info] Using GPU Device: Tesla T4, Vendor: NVIDIA Corporation\n",
            "[LightGBM] [Info] Compiling OpenCL Kernel with 256 bins...\n",
            "[LightGBM] [Info] GPU programs have been built\n",
            "[LightGBM] [Info] Size of histogram bin entry: 8\n",
            "[LightGBM] [Info] 60 dense feature groups (8.97 MB) transferred to GPU in 0.007857 secs. 0 sparse feature groups\n",
            "[LightGBM] [Info] Start training from score 59.317361\n",
            "Training until validation scores don't improve for 200 rounds\n",
            "[500]\tvalid_0's rmse: 21.934\n",
            "[1000]\tvalid_0's rmse: 21.5734\n",
            "[1500]\tvalid_0's rmse: 21.4867\n",
            "[2000]\tvalid_0's rmse: 21.4266\n",
            "Early stopping, best iteration is:\n",
            "[1915]\tvalid_0's rmse: 21.4087\n"
          ]
        },
        {
          "output_type": "stream",
          "name": "stderr",
          "text": [
            "\u001b[32m[I 2022-04-19 13:09:08,026]\u001b[0m Trial 19 finished with value: 21.40870575495391 and parameters: {'learning_rate': 0.04504667415044112, 'max_depth': 32, 'num_leaves': 8}. Best is trial 11 with value: 21.06409970188268.\u001b[0m\n"
          ]
        },
        {
          "output_type": "stream",
          "name": "stdout",
          "text": [
            "[LightGBM] [Info] This is the GPU trainer!!\n",
            "[LightGBM] [Info] Total Bins 12906\n",
            "[LightGBM] [Info] Number of data points in the train set: 156758, number of used features: 60\n",
            "[LightGBM] [Info] Using GPU Device: Tesla T4, Vendor: NVIDIA Corporation\n",
            "[LightGBM] [Info] Compiling OpenCL Kernel with 256 bins...\n",
            "[LightGBM] [Info] GPU programs have been built\n",
            "[LightGBM] [Info] Size of histogram bin entry: 8\n",
            "[LightGBM] [Info] 60 dense feature groups (8.97 MB) transferred to GPU in 0.007800 secs. 0 sparse feature groups\n",
            "[LightGBM] [Info] Start training from score 59.317361\n",
            "Training until validation scores don't improve for 200 rounds\n",
            "[500]\tvalid_0's rmse: 21.174\n",
            "Early stopping, best iteration is:\n",
            "[761]\tvalid_0's rmse: 21.1128\n"
          ]
        },
        {
          "output_type": "stream",
          "name": "stderr",
          "text": [
            "\u001b[32m[I 2022-04-19 13:09:26,347]\u001b[0m Trial 20 finished with value: 21.11277670981082 and parameters: {'learning_rate': 0.02910040506631278, 'max_depth': 16, 'num_leaves': 64}. Best is trial 11 with value: 21.06409970188268.\u001b[0m\n"
          ]
        },
        {
          "output_type": "stream",
          "name": "stdout",
          "text": [
            "[LightGBM] [Info] This is the GPU trainer!!\n",
            "[LightGBM] [Info] Total Bins 12906\n",
            "[LightGBM] [Info] Number of data points in the train set: 156758, number of used features: 60\n",
            "[LightGBM] [Info] Using GPU Device: Tesla T4, Vendor: NVIDIA Corporation\n",
            "[LightGBM] [Info] Compiling OpenCL Kernel with 256 bins...\n",
            "[LightGBM] [Info] GPU programs have been built\n",
            "[LightGBM] [Info] Size of histogram bin entry: 8\n",
            "[LightGBM] [Info] 60 dense feature groups (8.97 MB) transferred to GPU in 0.007678 secs. 0 sparse feature groups\n",
            "[LightGBM] [Info] Start training from score 59.317361\n",
            "Training until validation scores don't improve for 200 rounds\n",
            "[500]\tvalid_0's rmse: 23.421\n",
            "[1000]\tvalid_0's rmse: 22.114\n",
            "[1500]\tvalid_0's rmse: 21.698\n",
            "[2000]\tvalid_0's rmse: 21.4692\n",
            "[2500]\tvalid_0's rmse: 21.3332\n",
            "[3000]\tvalid_0's rmse: 21.2517\n",
            "[3500]\tvalid_0's rmse: 21.2052\n",
            "[4000]\tvalid_0's rmse: 21.169\n",
            "[4500]\tvalid_0's rmse: 21.1414\n",
            "[5000]\tvalid_0's rmse: 21.1202\n",
            "[5500]\tvalid_0's rmse: 21.1069\n",
            "[6000]\tvalid_0's rmse: 21.0925\n",
            "[6500]\tvalid_0's rmse: 21.0838\n",
            "[7000]\tvalid_0's rmse: 21.078\n",
            "[7500]\tvalid_0's rmse: 21.0736\n",
            "[8000]\tvalid_0's rmse: 21.0695\n",
            "Early stopping, best iteration is:\n",
            "[8134]\tvalid_0's rmse: 21.0662\n"
          ]
        },
        {
          "output_type": "stream",
          "name": "stderr",
          "text": [
            "\u001b[32m[I 2022-04-19 13:12:07,741]\u001b[0m Trial 21 finished with value: 21.066214263726557 and parameters: {'learning_rate': 0.003234090566851679, 'max_depth': 16, 'num_leaves': 64}. Best is trial 11 with value: 21.06409970188268.\u001b[0m\n"
          ]
        },
        {
          "output_type": "stream",
          "name": "stdout",
          "text": [
            "[LightGBM] [Info] This is the GPU trainer!!\n",
            "[LightGBM] [Info] Total Bins 12906\n",
            "[LightGBM] [Info] Number of data points in the train set: 156758, number of used features: 60\n",
            "[LightGBM] [Info] Using GPU Device: Tesla T4, Vendor: NVIDIA Corporation\n",
            "[LightGBM] [Info] Compiling OpenCL Kernel with 256 bins...\n",
            "[LightGBM] [Info] GPU programs have been built\n",
            "[LightGBM] [Info] Size of histogram bin entry: 8\n",
            "[LightGBM] [Info] 60 dense feature groups (8.97 MB) transferred to GPU in 0.007686 secs. 0 sparse feature groups\n",
            "[LightGBM] [Info] Start training from score 59.317361\n",
            "Training until validation scores don't improve for 200 rounds\n",
            "[500]\tvalid_0's rmse: 21.7485\n",
            "[1000]\tvalid_0's rmse: 21.2996\n",
            "[1500]\tvalid_0's rmse: 21.1922\n",
            "[2000]\tvalid_0's rmse: 21.1537\n",
            "[2500]\tvalid_0's rmse: 21.1325\n",
            "[3000]\tvalid_0's rmse: 21.1214\n",
            "[3500]\tvalid_0's rmse: 21.1054\n",
            "[4000]\tvalid_0's rmse: 21.0988\n",
            "[4500]\tvalid_0's rmse: 21.0936\n",
            "Early stopping, best iteration is:\n",
            "[4442]\tvalid_0's rmse: 21.0908\n"
          ]
        },
        {
          "output_type": "stream",
          "name": "stderr",
          "text": [
            "\u001b[32m[I 2022-04-19 13:13:29,523]\u001b[0m Trial 22 finished with value: 21.090790173377272 and parameters: {'learning_rate': 0.009514948318552024, 'max_depth': 16, 'num_leaves': 64}. Best is trial 11 with value: 21.06409970188268.\u001b[0m\n"
          ]
        },
        {
          "output_type": "stream",
          "name": "stdout",
          "text": [
            "[LightGBM] [Info] This is the GPU trainer!!\n",
            "[LightGBM] [Info] Total Bins 12906\n",
            "[LightGBM] [Info] Number of data points in the train set: 156758, number of used features: 60\n",
            "[LightGBM] [Info] Using GPU Device: Tesla T4, Vendor: NVIDIA Corporation\n",
            "[LightGBM] [Info] Compiling OpenCL Kernel with 256 bins...\n",
            "[LightGBM] [Info] GPU programs have been built\n",
            "[LightGBM] [Info] Size of histogram bin entry: 8\n",
            "[LightGBM] [Info] 60 dense feature groups (8.97 MB) transferred to GPU in 0.008214 secs. 0 sparse feature groups\n",
            "[LightGBM] [Info] Start training from score 59.317361\n",
            "Training until validation scores don't improve for 200 rounds\n",
            "[500]\tvalid_0's rmse: 21.2592\n",
            "[1000]\tvalid_0's rmse: 21.1099\n",
            "Early stopping, best iteration is:\n",
            "[1117]\tvalid_0's rmse: 21.0991\n"
          ]
        },
        {
          "output_type": "stream",
          "name": "stderr",
          "text": [
            "\u001b[32m[I 2022-04-19 13:13:54,378]\u001b[0m Trial 23 finished with value: 21.099101223478236 and parameters: {'learning_rate': 0.021212913264422064, 'max_depth': 16, 'num_leaves': 64}. Best is trial 11 with value: 21.06409970188268.\u001b[0m\n"
          ]
        },
        {
          "output_type": "stream",
          "name": "stdout",
          "text": [
            "[LightGBM] [Info] This is the GPU trainer!!\n",
            "[LightGBM] [Info] Total Bins 12906\n",
            "[LightGBM] [Info] Number of data points in the train set: 156758, number of used features: 60\n",
            "[LightGBM] [Info] Using GPU Device: Tesla T4, Vendor: NVIDIA Corporation\n",
            "[LightGBM] [Info] Compiling OpenCL Kernel with 256 bins...\n",
            "[LightGBM] [Info] GPU programs have been built\n",
            "[LightGBM] [Info] Size of histogram bin entry: 8\n",
            "[LightGBM] [Info] 60 dense feature groups (8.97 MB) transferred to GPU in 0.007941 secs. 0 sparse feature groups\n",
            "[LightGBM] [Info] Start training from score 59.317361\n",
            "Training until validation scores don't improve for 200 rounds\n",
            "[500]\tvalid_0's rmse: 21.4198\n",
            "[1000]\tvalid_0's rmse: 21.1538\n",
            "[1500]\tvalid_0's rmse: 21.0963\n",
            "[2000]\tvalid_0's rmse: 21.0722\n",
            "Early stopping, best iteration is:\n",
            "[1922]\tvalid_0's rmse: 21.0703\n"
          ]
        },
        {
          "output_type": "stream",
          "name": "stderr",
          "text": [
            "\u001b[32m[I 2022-04-19 13:14:34,515]\u001b[0m Trial 24 finished with value: 21.070267055510257 and parameters: {'learning_rate': 0.014054453018578753, 'max_depth': 16, 'num_leaves': 64}. Best is trial 11 with value: 21.06409970188268.\u001b[0m\n"
          ]
        },
        {
          "output_type": "stream",
          "name": "stdout",
          "text": [
            "[LightGBM] [Info] This is the GPU trainer!!\n",
            "[LightGBM] [Info] Total Bins 12906\n",
            "[LightGBM] [Info] Number of data points in the train set: 156758, number of used features: 60\n",
            "[LightGBM] [Info] Using GPU Device: Tesla T4, Vendor: NVIDIA Corporation\n",
            "[LightGBM] [Info] Compiling OpenCL Kernel with 256 bins...\n",
            "[LightGBM] [Info] GPU programs have been built\n",
            "[LightGBM] [Info] Size of histogram bin entry: 8\n",
            "[LightGBM] [Info] 60 dense feature groups (8.97 MB) transferred to GPU in 0.008074 secs. 0 sparse feature groups\n",
            "[LightGBM] [Info] Start training from score 59.317361\n",
            "Training until validation scores don't improve for 200 rounds\n",
            "[500]\tvalid_0's rmse: 21.1954\n",
            "Early stopping, best iteration is:\n",
            "[649]\tvalid_0's rmse: 21.1804\n"
          ]
        },
        {
          "output_type": "stream",
          "name": "stderr",
          "text": [
            "\u001b[32m[I 2022-04-19 13:14:50,374]\u001b[0m Trial 25 finished with value: 21.180399524936387 and parameters: {'learning_rate': 0.034913353708312486, 'max_depth': 16, 'num_leaves': 64}. Best is trial 11 with value: 21.06409970188268.\u001b[0m\n"
          ]
        },
        {
          "output_type": "stream",
          "name": "stdout",
          "text": [
            "[LightGBM] [Info] This is the GPU trainer!!\n",
            "[LightGBM] [Info] Total Bins 12906\n",
            "[LightGBM] [Info] Number of data points in the train set: 156758, number of used features: 60\n",
            "[LightGBM] [Info] Using GPU Device: Tesla T4, Vendor: NVIDIA Corporation\n",
            "[LightGBM] [Info] Compiling OpenCL Kernel with 256 bins...\n",
            "[LightGBM] [Info] GPU programs have been built\n",
            "[LightGBM] [Info] Size of histogram bin entry: 8\n",
            "[LightGBM] [Info] 60 dense feature groups (8.97 MB) transferred to GPU in 0.007525 secs. 0 sparse feature groups\n",
            "[LightGBM] [Info] Start training from score 59.317361\n",
            "Training until validation scores don't improve for 200 rounds\n",
            "[500]\tvalid_0's rmse: 21.3445\n",
            "[1000]\tvalid_0's rmse: 21.1385\n",
            "Early stopping, best iteration is:\n",
            "[1266]\tvalid_0's rmse: 21.1042\n"
          ]
        },
        {
          "output_type": "stream",
          "name": "stderr",
          "text": [
            "\u001b[32m[I 2022-04-19 13:15:19,199]\u001b[0m Trial 26 finished with value: 21.104237023501806 and parameters: {'learning_rate': 0.017096481448807557, 'max_depth': 16, 'num_leaves': 64}. Best is trial 11 with value: 21.06409970188268.\u001b[0m\n"
          ]
        },
        {
          "output_type": "stream",
          "name": "stdout",
          "text": [
            "[LightGBM] [Info] This is the GPU trainer!!\n",
            "[LightGBM] [Info] Total Bins 12906\n",
            "[LightGBM] [Info] Number of data points in the train set: 156758, number of used features: 60\n",
            "[LightGBM] [Info] Using GPU Device: Tesla T4, Vendor: NVIDIA Corporation\n",
            "[LightGBM] [Info] Compiling OpenCL Kernel with 256 bins...\n",
            "[LightGBM] [Info] GPU programs have been built\n",
            "[LightGBM] [Info] Size of histogram bin entry: 8\n",
            "[LightGBM] [Info] 60 dense feature groups (8.97 MB) transferred to GPU in 0.007388 secs. 0 sparse feature groups\n",
            "[LightGBM] [Info] Start training from score 59.317361\n",
            "Training until validation scores don't improve for 200 rounds\n",
            "[500]\tvalid_0's rmse: 21.4359\n",
            "[1000]\tvalid_0's rmse: 21.2491\n",
            "[1500]\tvalid_0's rmse: 21.2181\n",
            "Early stopping, best iteration is:\n",
            "[1678]\tvalid_0's rmse: 21.1993\n"
          ]
        },
        {
          "output_type": "stream",
          "name": "stderr",
          "text": [
            "\u001b[32m[I 2022-04-19 13:15:41,383]\u001b[0m Trial 27 finished with value: 21.19927895345008 and parameters: {'learning_rate': 0.02588262666660538, 'max_depth': 16, 'num_leaves': 32}. Best is trial 11 with value: 21.06409970188268.\u001b[0m\n"
          ]
        },
        {
          "output_type": "stream",
          "name": "stdout",
          "text": [
            "[LightGBM] [Info] This is the GPU trainer!!\n",
            "[LightGBM] [Info] Total Bins 12906\n",
            "[LightGBM] [Info] Number of data points in the train set: 156758, number of used features: 60\n",
            "[LightGBM] [Info] Using GPU Device: Tesla T4, Vendor: NVIDIA Corporation\n",
            "[LightGBM] [Info] Compiling OpenCL Kernel with 256 bins...\n",
            "[LightGBM] [Info] GPU programs have been built\n",
            "[LightGBM] [Info] Size of histogram bin entry: 8\n",
            "[LightGBM] [Info] 60 dense feature groups (8.97 MB) transferred to GPU in 0.007841 secs. 0 sparse feature groups\n",
            "[LightGBM] [Info] Start training from score 59.317361\n",
            "Training until validation scores don't improve for 200 rounds\n",
            "[500]\tvalid_0's rmse: 21.8842\n",
            "[1000]\tvalid_0's rmse: 21.5537\n",
            "[1500]\tvalid_0's rmse: 21.4554\n",
            "Early stopping, best iteration is:\n",
            "[1732]\tvalid_0's rmse: 21.4226\n"
          ]
        },
        {
          "output_type": "stream",
          "name": "stderr",
          "text": [
            "\u001b[32m[I 2022-04-19 13:15:53,123]\u001b[0m Trial 28 finished with value: 21.42256761049742 and parameters: {'learning_rate': 0.06080615453197049, 'max_depth': 32, 'num_leaves': 8}. Best is trial 11 with value: 21.06409970188268.\u001b[0m\n"
          ]
        },
        {
          "output_type": "stream",
          "name": "stdout",
          "text": [
            "[LightGBM] [Info] This is the GPU trainer!!\n",
            "[LightGBM] [Info] Total Bins 12906\n",
            "[LightGBM] [Info] Number of data points in the train set: 156758, number of used features: 60\n",
            "[LightGBM] [Info] Using GPU Device: Tesla T4, Vendor: NVIDIA Corporation\n",
            "[LightGBM] [Info] Compiling OpenCL Kernel with 256 bins...\n",
            "[LightGBM] [Info] GPU programs have been built\n",
            "[LightGBM] [Info] Size of histogram bin entry: 8\n",
            "[LightGBM] [Info] 60 dense feature groups (8.97 MB) transferred to GPU in 0.007698 secs. 0 sparse feature groups\n",
            "[LightGBM] [Info] Start training from score 59.317361\n",
            "Training until validation scores don't improve for 200 rounds\n",
            "[500]\tvalid_0's rmse: 22.1733\n",
            "[1000]\tvalid_0's rmse: 21.6623\n",
            "[1500]\tvalid_0's rmse: 21.4776\n",
            "[2000]\tvalid_0's rmse: 21.3736\n",
            "[2500]\tvalid_0's rmse: 21.3282\n",
            "[3000]\tvalid_0's rmse: 21.2961\n",
            "[3500]\tvalid_0's rmse: 21.2708\n",
            "[4000]\tvalid_0's rmse: 21.2515\n",
            "[4500]\tvalid_0's rmse: 21.245\n",
            "Early stopping, best iteration is:\n",
            "[4338]\tvalid_0's rmse: 21.241\n"
          ]
        },
        {
          "output_type": "stream",
          "name": "stderr",
          "text": [
            "\u001b[32m[I 2022-04-19 13:16:30,480]\u001b[0m Trial 29 finished with value: 21.240960737744768 and parameters: {'learning_rate': 0.014821065310326502, 'max_depth': 8, 'num_leaves': 16}. Best is trial 11 with value: 21.06409970188268.\u001b[0m\n"
          ]
        },
        {
          "output_type": "stream",
          "name": "stdout",
          "text": [
            "[LightGBM] [Info] This is the GPU trainer!!\n",
            "[LightGBM] [Info] Total Bins 12906\n",
            "[LightGBM] [Info] Number of data points in the train set: 156758, number of used features: 60\n",
            "[LightGBM] [Info] Using GPU Device: Tesla T4, Vendor: NVIDIA Corporation\n",
            "[LightGBM] [Info] Compiling OpenCL Kernel with 256 bins...\n",
            "[LightGBM] [Info] GPU programs have been built\n",
            "[LightGBM] [Info] Size of histogram bin entry: 8\n",
            "[LightGBM] [Info] 60 dense feature groups (8.97 MB) transferred to GPU in 0.007980 secs. 0 sparse feature groups\n",
            "[LightGBM] [Info] Start training from score 59.317361\n",
            "Training until validation scores don't improve for 200 rounds\n",
            "[500]\tvalid_0's rmse: 22.5106\n",
            "[1000]\tvalid_0's rmse: 21.693\n",
            "[1500]\tvalid_0's rmse: 21.3964\n",
            "[2000]\tvalid_0's rmse: 21.268\n",
            "[2500]\tvalid_0's rmse: 21.1921\n",
            "[3000]\tvalid_0's rmse: 21.142\n",
            "[3500]\tvalid_0's rmse: 21.1233\n",
            "[4000]\tvalid_0's rmse: 21.1025\n",
            "[4500]\tvalid_0's rmse: 21.0955\n",
            "Early stopping, best iteration is:\n",
            "[4345]\tvalid_0's rmse: 21.094\n"
          ]
        },
        {
          "output_type": "stream",
          "name": "stderr",
          "text": [
            "\u001b[32m[I 2022-04-19 13:18:00,705]\u001b[0m Trial 30 finished with value: 21.094043012291408 and parameters: {'learning_rate': 0.00492720984153789, 'max_depth': 32, 'num_leaves': 64}. Best is trial 11 with value: 21.06409970188268.\u001b[0m\n"
          ]
        },
        {
          "output_type": "stream",
          "name": "stdout",
          "text": [
            "[LightGBM] [Info] This is the GPU trainer!!\n",
            "[LightGBM] [Info] Total Bins 12906\n",
            "[LightGBM] [Info] Number of data points in the train set: 156758, number of used features: 60\n",
            "[LightGBM] [Info] Using GPU Device: Tesla T4, Vendor: NVIDIA Corporation\n",
            "[LightGBM] [Info] Compiling OpenCL Kernel with 256 bins...\n",
            "[LightGBM] [Info] GPU programs have been built\n",
            "[LightGBM] [Info] Size of histogram bin entry: 8\n",
            "[LightGBM] [Info] 60 dense feature groups (8.97 MB) transferred to GPU in 0.012103 secs. 0 sparse feature groups\n",
            "[LightGBM] [Info] Start training from score 59.317361\n",
            "Training until validation scores don't improve for 200 rounds\n",
            "[500]\tvalid_0's rmse: 21.8014\n",
            "[1000]\tvalid_0's rmse: 21.3057\n",
            "[1500]\tvalid_0's rmse: 21.1854\n",
            "[2000]\tvalid_0's rmse: 21.1337\n",
            "[2500]\tvalid_0's rmse: 21.1133\n",
            "[3000]\tvalid_0's rmse: 21.0956\n",
            "[3500]\tvalid_0's rmse: 21.0754\n",
            "Early stopping, best iteration is:\n",
            "[3435]\tvalid_0's rmse: 21.075\n"
          ]
        },
        {
          "output_type": "stream",
          "name": "stderr",
          "text": [
            "\u001b[32m[I 2022-04-19 13:19:08,563]\u001b[0m Trial 31 finished with value: 21.07501463016563 and parameters: {'learning_rate': 0.008766290092249909, 'max_depth': 16, 'num_leaves': 64}. Best is trial 11 with value: 21.06409970188268.\u001b[0m\n"
          ]
        },
        {
          "output_type": "stream",
          "name": "stdout",
          "text": [
            "[LightGBM] [Info] This is the GPU trainer!!\n",
            "[LightGBM] [Info] Total Bins 12906\n",
            "[LightGBM] [Info] Number of data points in the train set: 156758, number of used features: 60\n",
            "[LightGBM] [Info] Using GPU Device: Tesla T4, Vendor: NVIDIA Corporation\n",
            "[LightGBM] [Info] Compiling OpenCL Kernel with 256 bins...\n",
            "[LightGBM] [Info] GPU programs have been built\n",
            "[LightGBM] [Info] Size of histogram bin entry: 8\n",
            "[LightGBM] [Info] 60 dense feature groups (8.97 MB) transferred to GPU in 0.010586 secs. 0 sparse feature groups\n",
            "[LightGBM] [Info] Start training from score 59.317361\n",
            "Training until validation scores don't improve for 200 rounds\n",
            "[500]\tvalid_0's rmse: 24.5591\n",
            "[1000]\tvalid_0's rmse: 22.6797\n",
            "[1500]\tvalid_0's rmse: 22.0714\n",
            "[2000]\tvalid_0's rmse: 21.7854\n",
            "[2500]\tvalid_0's rmse: 21.5836\n",
            "[3000]\tvalid_0's rmse: 21.4494\n",
            "[3500]\tvalid_0's rmse: 21.3627\n",
            "[4000]\tvalid_0's rmse: 21.3039\n",
            "[4500]\tvalid_0's rmse: 21.2544\n",
            "[5000]\tvalid_0's rmse: 21.2202\n",
            "[5500]\tvalid_0's rmse: 21.1943\n",
            "[6000]\tvalid_0's rmse: 21.1721\n",
            "[6500]\tvalid_0's rmse: 21.1548\n",
            "[7000]\tvalid_0's rmse: 21.1391\n",
            "[7500]\tvalid_0's rmse: 21.1263\n",
            "[8000]\tvalid_0's rmse: 21.1156\n",
            "[8500]\tvalid_0's rmse: 21.1086\n",
            "[9000]\tvalid_0's rmse: 21.1044\n",
            "[9500]\tvalid_0's rmse: 21.0987\n",
            "[10000]\tvalid_0's rmse: 21.0942\n",
            "Did not meet early stopping. Best iteration is:\n",
            "[9991]\tvalid_0's rmse: 21.094\n"
          ]
        },
        {
          "output_type": "stream",
          "name": "stderr",
          "text": [
            "\u001b[32m[I 2022-04-19 13:22:27,651]\u001b[0m Trial 32 finished with value: 21.094038739395216 and parameters: {'learning_rate': 0.002235114244076862, 'max_depth': 16, 'num_leaves': 64}. Best is trial 11 with value: 21.06409970188268.\u001b[0m\n"
          ]
        },
        {
          "output_type": "stream",
          "name": "stdout",
          "text": [
            "[LightGBM] [Info] This is the GPU trainer!!\n",
            "[LightGBM] [Info] Total Bins 12906\n",
            "[LightGBM] [Info] Number of data points in the train set: 156758, number of used features: 60\n",
            "[LightGBM] [Info] Using GPU Device: Tesla T4, Vendor: NVIDIA Corporation\n",
            "[LightGBM] [Info] Compiling OpenCL Kernel with 256 bins...\n",
            "[LightGBM] [Info] GPU programs have been built\n",
            "[LightGBM] [Info] Size of histogram bin entry: 8\n",
            "[LightGBM] [Info] 60 dense feature groups (8.97 MB) transferred to GPU in 0.007437 secs. 0 sparse feature groups\n",
            "[LightGBM] [Info] Start training from score 59.317361\n",
            "Training until validation scores don't improve for 200 rounds\n",
            "[500]\tvalid_0's rmse: 21.1901\n",
            "[1000]\tvalid_0's rmse: 21.0619\n",
            "Early stopping, best iteration is:\n",
            "[1070]\tvalid_0's rmse: 21.0546\n"
          ]
        },
        {
          "output_type": "stream",
          "name": "stderr",
          "text": [
            "\u001b[32m[I 2022-04-19 13:22:51,440]\u001b[0m Trial 33 finished with value: 21.054599271507584 and parameters: {'learning_rate': 0.022683360798373735, 'max_depth': 16, 'num_leaves': 64}. Best is trial 33 with value: 21.054599271507584.\u001b[0m\n"
          ]
        },
        {
          "output_type": "stream",
          "name": "stdout",
          "text": [
            "[LightGBM] [Info] This is the GPU trainer!!\n",
            "[LightGBM] [Info] Total Bins 12906\n",
            "[LightGBM] [Info] Number of data points in the train set: 156758, number of used features: 60\n",
            "[LightGBM] [Info] Using GPU Device: Tesla T4, Vendor: NVIDIA Corporation\n",
            "[LightGBM] [Info] Compiling OpenCL Kernel with 256 bins...\n",
            "[LightGBM] [Info] GPU programs have been built\n",
            "[LightGBM] [Info] Size of histogram bin entry: 8\n",
            "[LightGBM] [Info] 60 dense feature groups (8.97 MB) transferred to GPU in 0.011232 secs. 0 sparse feature groups\n",
            "[LightGBM] [Info] Start training from score 59.317361\n",
            "Training until validation scores don't improve for 200 rounds\n",
            "[500]\tvalid_0's rmse: 21.1661\n",
            "[1000]\tvalid_0's rmse: 21.0629\n",
            "Early stopping, best iteration is:\n",
            "[1287]\tvalid_0's rmse: 21.0516\n"
          ]
        },
        {
          "output_type": "stream",
          "name": "stderr",
          "text": [
            "\u001b[32m[I 2022-04-19 13:23:18,013]\u001b[0m Trial 34 finished with value: 21.051582599514024 and parameters: {'learning_rate': 0.026406281478069466, 'max_depth': 16, 'num_leaves': 64}. Best is trial 34 with value: 21.051582599514024.\u001b[0m\n"
          ]
        },
        {
          "output_type": "stream",
          "name": "stdout",
          "text": [
            "[LightGBM] [Info] This is the GPU trainer!!\n",
            "[LightGBM] [Info] Total Bins 12906\n",
            "[LightGBM] [Info] Number of data points in the train set: 156758, number of used features: 60\n",
            "[LightGBM] [Info] Using GPU Device: Tesla T4, Vendor: NVIDIA Corporation\n",
            "[LightGBM] [Info] Compiling OpenCL Kernel with 256 bins...\n",
            "[LightGBM] [Info] GPU programs have been built\n",
            "[LightGBM] [Info] Size of histogram bin entry: 8\n",
            "[LightGBM] [Info] 60 dense feature groups (8.97 MB) transferred to GPU in 0.007807 secs. 0 sparse feature groups\n",
            "[LightGBM] [Info] Start training from score 59.317361\n",
            "Training until validation scores don't improve for 200 rounds\n",
            "[500]\tvalid_0's rmse: 21.3369\n",
            "[1000]\tvalid_0's rmse: 21.224\n",
            "Early stopping, best iteration is:\n",
            "[1229]\tvalid_0's rmse: 21.2035\n"
          ]
        },
        {
          "output_type": "stream",
          "name": "stderr",
          "text": [
            "\u001b[32m[I 2022-04-19 13:23:34,288]\u001b[0m Trial 35 finished with value: 21.203509012502092 and parameters: {'learning_rate': 0.0425628185370528, 'max_depth': 16, 'num_leaves': 32}. Best is trial 34 with value: 21.051582599514024.\u001b[0m\n"
          ]
        },
        {
          "output_type": "stream",
          "name": "stdout",
          "text": [
            "[LightGBM] [Info] This is the GPU trainer!!\n",
            "[LightGBM] [Info] Total Bins 12906\n",
            "[LightGBM] [Info] Number of data points in the train set: 156758, number of used features: 60\n",
            "[LightGBM] [Info] Using GPU Device: Tesla T4, Vendor: NVIDIA Corporation\n",
            "[LightGBM] [Info] Compiling OpenCL Kernel with 256 bins...\n",
            "[LightGBM] [Info] GPU programs have been built\n",
            "[LightGBM] [Info] Size of histogram bin entry: 8\n",
            "[LightGBM] [Info] 60 dense feature groups (8.97 MB) transferred to GPU in 0.007433 secs. 0 sparse feature groups\n",
            "[LightGBM] [Info] Start training from score 59.317361\n",
            "Training until validation scores don't improve for 200 rounds\n",
            "[500]\tvalid_0's rmse: 21.2564\n",
            "[1000]\tvalid_0's rmse: 21.1609\n",
            "[1500]\tvalid_0's rmse: 21.1408\n",
            "Early stopping, best iteration is:\n",
            "[1471]\tvalid_0's rmse: 21.1329\n"
          ]
        },
        {
          "output_type": "stream",
          "name": "stderr",
          "text": [
            "\u001b[32m[I 2022-04-19 13:24:04,553]\u001b[0m Trial 36 finished with value: 21.132884617368227 and parameters: {'learning_rate': 0.023092248419491385, 'max_depth': 16, 'num_leaves': 64}. Best is trial 34 with value: 21.051582599514024.\u001b[0m\n"
          ]
        },
        {
          "output_type": "stream",
          "name": "stdout",
          "text": [
            "[LightGBM] [Info] This is the GPU trainer!!\n",
            "[LightGBM] [Info] Total Bins 12906\n",
            "[LightGBM] [Info] Number of data points in the train set: 156758, number of used features: 60\n",
            "[LightGBM] [Info] Using GPU Device: Tesla T4, Vendor: NVIDIA Corporation\n",
            "[LightGBM] [Info] Compiling OpenCL Kernel with 256 bins...\n",
            "[LightGBM] [Info] GPU programs have been built\n",
            "[LightGBM] [Info] Size of histogram bin entry: 8\n",
            "[LightGBM] [Info] 60 dense feature groups (8.97 MB) transferred to GPU in 0.007518 secs. 0 sparse feature groups\n",
            "[LightGBM] [Info] Start training from score 59.317361\n",
            "Training until validation scores don't improve for 200 rounds\n",
            "[500]\tvalid_0's rmse: 21.3386\n",
            "[1000]\tvalid_0's rmse: 21.2244\n",
            "[1500]\tvalid_0's rmse: 21.1967\n",
            "Early stopping, best iteration is:\n",
            "[1567]\tvalid_0's rmse: 21.188\n"
          ]
        },
        {
          "output_type": "stream",
          "name": "stderr",
          "text": [
            "\u001b[32m[I 2022-04-19 13:24:25,014]\u001b[0m Trial 37 finished with value: 21.18799492032906 and parameters: {'learning_rate': 0.03308414279168931, 'max_depth': 32, 'num_leaves': 32}. Best is trial 34 with value: 21.051582599514024.\u001b[0m\n"
          ]
        },
        {
          "output_type": "stream",
          "name": "stdout",
          "text": [
            "[LightGBM] [Info] This is the GPU trainer!!\n",
            "[LightGBM] [Info] Total Bins 12906\n",
            "[LightGBM] [Info] Number of data points in the train set: 156758, number of used features: 60\n",
            "[LightGBM] [Info] Using GPU Device: Tesla T4, Vendor: NVIDIA Corporation\n",
            "[LightGBM] [Info] Compiling OpenCL Kernel with 256 bins...\n",
            "[LightGBM] [Info] GPU programs have been built\n",
            "[LightGBM] [Info] Size of histogram bin entry: 8\n",
            "[LightGBM] [Info] 60 dense feature groups (8.97 MB) transferred to GPU in 0.007905 secs. 0 sparse feature groups\n",
            "[LightGBM] [Info] Start training from score 59.317361\n",
            "Training until validation scores don't improve for 200 rounds\n",
            "[500]\tvalid_0's rmse: 21.2714\n",
            "Early stopping, best iteration is:\n",
            "[648]\tvalid_0's rmse: 21.2591\n"
          ]
        },
        {
          "output_type": "stream",
          "name": "stderr",
          "text": [
            "\u001b[32m[I 2022-04-19 13:24:39,872]\u001b[0m Trial 38 finished with value: 21.25912099647053 and parameters: {'learning_rate': 0.04882971280293125, 'max_depth': 16, 'num_leaves': 64}. Best is trial 34 with value: 21.051582599514024.\u001b[0m\n"
          ]
        },
        {
          "output_type": "stream",
          "name": "stdout",
          "text": [
            "[LightGBM] [Info] This is the GPU trainer!!\n",
            "[LightGBM] [Info] Total Bins 12906\n",
            "[LightGBM] [Info] Number of data points in the train set: 156758, number of used features: 60\n",
            "[LightGBM] [Info] Using GPU Device: Tesla T4, Vendor: NVIDIA Corporation\n",
            "[LightGBM] [Info] Compiling OpenCL Kernel with 256 bins...\n",
            "[LightGBM] [Info] GPU programs have been built\n",
            "[LightGBM] [Info] Size of histogram bin entry: 8\n",
            "[LightGBM] [Info] 60 dense feature groups (8.97 MB) transferred to GPU in 0.007963 secs. 0 sparse feature groups\n",
            "[LightGBM] [Info] Start training from score 59.317361\n",
            "Training until validation scores don't improve for 200 rounds\n",
            "[500]\tvalid_0's rmse: 21.2743\n",
            "Early stopping, best iteration is:\n",
            "[624]\tvalid_0's rmse: 21.2559\n"
          ]
        },
        {
          "output_type": "stream",
          "name": "stderr",
          "text": [
            "\u001b[32m[I 2022-04-19 13:24:54,107]\u001b[0m Trial 39 finished with value: 21.255888342207147 and parameters: {'learning_rate': 0.0563904787943764, 'max_depth': 16, 'num_leaves': 64}. Best is trial 34 with value: 21.051582599514024.\u001b[0m\n"
          ]
        },
        {
          "output_type": "stream",
          "name": "stdout",
          "text": [
            "[LightGBM] [Info] This is the GPU trainer!!\n",
            "[LightGBM] [Info] Total Bins 12906\n",
            "[LightGBM] [Info] Number of data points in the train set: 156758, number of used features: 60\n",
            "[LightGBM] [Info] Using GPU Device: Tesla T4, Vendor: NVIDIA Corporation\n",
            "[LightGBM] [Info] Compiling OpenCL Kernel with 256 bins...\n",
            "[LightGBM] [Info] GPU programs have been built\n",
            "[LightGBM] [Info] Size of histogram bin entry: 8\n",
            "[LightGBM] [Info] 60 dense feature groups (8.97 MB) transferred to GPU in 0.008047 secs. 0 sparse feature groups\n",
            "[LightGBM] [Info] Start training from score 59.317361\n",
            "Training until validation scores don't improve for 200 rounds\n",
            "[500]\tvalid_0's rmse: 21.9139\n",
            "[1000]\tvalid_0's rmse: 21.5027\n",
            "[1500]\tvalid_0's rmse: 21.3398\n",
            "[2000]\tvalid_0's rmse: 21.267\n",
            "[2500]\tvalid_0's rmse: 21.2392\n",
            "[3000]\tvalid_0's rmse: 21.2223\n",
            "[3500]\tvalid_0's rmse: 21.2133\n",
            "Early stopping, best iteration is:\n",
            "[3766]\tvalid_0's rmse: 21.2005\n"
          ]
        },
        {
          "output_type": "stream",
          "name": "stderr",
          "text": [
            "\u001b[32m[I 2022-04-19 13:25:26,301]\u001b[0m Trial 40 finished with value: 21.200486982163113 and parameters: {'learning_rate': 0.020357881946167514, 'max_depth': 8, 'num_leaves': 16}. Best is trial 34 with value: 21.051582599514024.\u001b[0m\n"
          ]
        },
        {
          "output_type": "stream",
          "name": "stdout",
          "text": [
            "[LightGBM] [Info] This is the GPU trainer!!\n",
            "[LightGBM] [Info] Total Bins 12906\n",
            "[LightGBM] [Info] Number of data points in the train set: 156758, number of used features: 60\n",
            "[LightGBM] [Info] Using GPU Device: Tesla T4, Vendor: NVIDIA Corporation\n",
            "[LightGBM] [Info] Compiling OpenCL Kernel with 256 bins...\n",
            "[LightGBM] [Info] GPU programs have been built\n",
            "[LightGBM] [Info] Size of histogram bin entry: 8\n",
            "[LightGBM] [Info] 60 dense feature groups (8.97 MB) transferred to GPU in 0.007581 secs. 0 sparse feature groups\n",
            "[LightGBM] [Info] Start training from score 59.317361\n",
            "Training until validation scores don't improve for 200 rounds\n",
            "[500]\tvalid_0's rmse: 21.3404\n",
            "[1000]\tvalid_0's rmse: 21.1341\n",
            "[1500]\tvalid_0's rmse: 21.1035\n",
            "Early stopping, best iteration is:\n",
            "[1470]\tvalid_0's rmse: 21.1005\n"
          ]
        },
        {
          "output_type": "stream",
          "name": "stderr",
          "text": [
            "\u001b[32m[I 2022-04-19 13:25:58,063]\u001b[0m Trial 41 finished with value: 21.10051804971697 and parameters: {'learning_rate': 0.016704266687052896, 'max_depth': 16, 'num_leaves': 64}. Best is trial 34 with value: 21.051582599514024.\u001b[0m\n"
          ]
        },
        {
          "output_type": "stream",
          "name": "stdout",
          "text": [
            "[LightGBM] [Info] This is the GPU trainer!!\n",
            "[LightGBM] [Info] Total Bins 12906\n",
            "[LightGBM] [Info] Number of data points in the train set: 156758, number of used features: 60\n",
            "[LightGBM] [Info] Using GPU Device: Tesla T4, Vendor: NVIDIA Corporation\n",
            "[LightGBM] [Info] Compiling OpenCL Kernel with 256 bins...\n",
            "[LightGBM] [Info] GPU programs have been built\n",
            "[LightGBM] [Info] Size of histogram bin entry: 8\n",
            "[LightGBM] [Info] 60 dense feature groups (8.97 MB) transferred to GPU in 0.007705 secs. 0 sparse feature groups\n",
            "[LightGBM] [Info] Start training from score 59.317361\n",
            "Training until validation scores don't improve for 200 rounds\n",
            "[500]\tvalid_0's rmse: 21.4779\n",
            "[1000]\tvalid_0's rmse: 21.1688\n",
            "[1500]\tvalid_0's rmse: 21.0993\n",
            "[2000]\tvalid_0's rmse: 21.0647\n",
            "[2500]\tvalid_0's rmse: 21.0455\n",
            "[3000]\tvalid_0's rmse: 21.0232\n",
            "[3500]\tvalid_0's rmse: 21.0176\n",
            "Early stopping, best iteration is:\n",
            "[3503]\tvalid_0's rmse: 21.0173\n"
          ]
        },
        {
          "output_type": "stream",
          "name": "stderr",
          "text": [
            "\u001b[32m[I 2022-04-19 13:27:02,990]\u001b[0m Trial 42 finished with value: 21.017326176587435 and parameters: {'learning_rate': 0.012555278381634567, 'max_depth': 16, 'num_leaves': 64}. Best is trial 42 with value: 21.017326176587435.\u001b[0m\n"
          ]
        },
        {
          "output_type": "stream",
          "name": "stdout",
          "text": [
            "[LightGBM] [Info] This is the GPU trainer!!\n",
            "[LightGBM] [Info] Total Bins 12906\n",
            "[LightGBM] [Info] Number of data points in the train set: 156758, number of used features: 60\n",
            "[LightGBM] [Info] Using GPU Device: Tesla T4, Vendor: NVIDIA Corporation\n",
            "[LightGBM] [Info] Compiling OpenCL Kernel with 256 bins...\n",
            "[LightGBM] [Info] GPU programs have been built\n",
            "[LightGBM] [Info] Size of histogram bin entry: 8\n",
            "[LightGBM] [Info] 60 dense feature groups (8.97 MB) transferred to GPU in 0.007279 secs. 0 sparse feature groups\n",
            "[LightGBM] [Info] Start training from score 59.317361\n",
            "Training until validation scores don't improve for 200 rounds\n",
            "[500]\tvalid_0's rmse: 21.2824\n",
            "[1000]\tvalid_0's rmse: 21.2329\n",
            "Early stopping, best iteration is:\n",
            "[1041]\tvalid_0's rmse: 21.227\n"
          ]
        },
        {
          "output_type": "stream",
          "name": "stderr",
          "text": [
            "\u001b[32m[I 2022-04-19 13:27:24,777]\u001b[0m Trial 43 finished with value: 21.22698130769275 and parameters: {'learning_rate': 0.03732831341470372, 'max_depth': 16, 'num_leaves': 64}. Best is trial 42 with value: 21.017326176587435.\u001b[0m\n"
          ]
        },
        {
          "output_type": "stream",
          "name": "stdout",
          "text": [
            "[LightGBM] [Info] This is the GPU trainer!!\n",
            "[LightGBM] [Info] Total Bins 12906\n",
            "[LightGBM] [Info] Number of data points in the train set: 156758, number of used features: 60\n",
            "[LightGBM] [Info] Using GPU Device: Tesla T4, Vendor: NVIDIA Corporation\n",
            "[LightGBM] [Info] Compiling OpenCL Kernel with 256 bins...\n",
            "[LightGBM] [Info] GPU programs have been built\n",
            "[LightGBM] [Info] Size of histogram bin entry: 8\n",
            "[LightGBM] [Info] 60 dense feature groups (8.97 MB) transferred to GPU in 0.007542 secs. 0 sparse feature groups\n",
            "[LightGBM] [Info] Start training from score 59.317361\n",
            "Training until validation scores don't improve for 200 rounds\n",
            "[500]\tvalid_0's rmse: 21.1696\n",
            "[1000]\tvalid_0's rmse: 21.0838\n",
            "[1500]\tvalid_0's rmse: 21.0666\n",
            "Early stopping, best iteration is:\n",
            "[1614]\tvalid_0's rmse: 21.0629\n"
          ]
        },
        {
          "output_type": "stream",
          "name": "stderr",
          "text": [
            "\u001b[32m[I 2022-04-19 13:27:56,935]\u001b[0m Trial 44 finished with value: 21.062875101280326 and parameters: {'learning_rate': 0.02603219000205154, 'max_depth': 16, 'num_leaves': 64}. Best is trial 42 with value: 21.017326176587435.\u001b[0m\n"
          ]
        },
        {
          "output_type": "stream",
          "name": "stdout",
          "text": [
            "[LightGBM] [Info] This is the GPU trainer!!\n",
            "[LightGBM] [Info] Total Bins 12906\n",
            "[LightGBM] [Info] Number of data points in the train set: 156758, number of used features: 60\n",
            "[LightGBM] [Info] Using GPU Device: Tesla T4, Vendor: NVIDIA Corporation\n",
            "[LightGBM] [Info] Compiling OpenCL Kernel with 256 bins...\n",
            "[LightGBM] [Info] GPU programs have been built\n",
            "[LightGBM] [Info] Size of histogram bin entry: 8\n",
            "[LightGBM] [Info] 60 dense feature groups (8.97 MB) transferred to GPU in 0.007974 secs. 0 sparse feature groups\n",
            "[LightGBM] [Info] Start training from score 59.317361\n",
            "Training until validation scores don't improve for 200 rounds\n",
            "[500]\tvalid_0's rmse: 21.1439\n",
            "[1000]\tvalid_0's rmse: 21.0959\n",
            "Early stopping, best iteration is:\n",
            "[1124]\tvalid_0's rmse: 21.0856\n"
          ]
        },
        {
          "output_type": "stream",
          "name": "stderr",
          "text": [
            "\u001b[32m[I 2022-04-19 13:28:20,704]\u001b[0m Trial 45 finished with value: 21.085584814370836 and parameters: {'learning_rate': 0.029452671987212423, 'max_depth': 16, 'num_leaves': 64}. Best is trial 42 with value: 21.017326176587435.\u001b[0m\n"
          ]
        },
        {
          "output_type": "stream",
          "name": "stdout",
          "text": [
            "[LightGBM] [Info] This is the GPU trainer!!\n",
            "[LightGBM] [Info] Total Bins 12906\n",
            "[LightGBM] [Info] Number of data points in the train set: 156758, number of used features: 60\n",
            "[LightGBM] [Info] Using GPU Device: Tesla T4, Vendor: NVIDIA Corporation\n",
            "[LightGBM] [Info] Compiling OpenCL Kernel with 256 bins...\n",
            "[LightGBM] [Info] GPU programs have been built\n",
            "[LightGBM] [Info] Size of histogram bin entry: 8\n",
            "[LightGBM] [Info] 60 dense feature groups (8.97 MB) transferred to GPU in 0.007874 secs. 0 sparse feature groups\n",
            "[LightGBM] [Info] Start training from score 59.317361\n",
            "Training until validation scores don't improve for 200 rounds\n",
            "[500]\tvalid_0's rmse: 21.7882\n",
            "[1000]\tvalid_0's rmse: 21.459\n",
            "[1500]\tvalid_0's rmse: 21.3416\n",
            "[2000]\tvalid_0's rmse: 21.272\n",
            "[2500]\tvalid_0's rmse: 21.2544\n",
            "Early stopping, best iteration is:\n",
            "[2702]\tvalid_0's rmse: 21.2382\n"
          ]
        },
        {
          "output_type": "stream",
          "name": "stderr",
          "text": [
            "\u001b[32m[I 2022-04-19 13:28:44,633]\u001b[0m Trial 46 finished with value: 21.238174874198155 and parameters: {'learning_rate': 0.02464623770178221, 'max_depth': 16, 'num_leaves': 16}. Best is trial 42 with value: 21.017326176587435.\u001b[0m\n"
          ]
        },
        {
          "output_type": "stream",
          "name": "stdout",
          "text": [
            "[LightGBM] [Info] This is the GPU trainer!!\n",
            "[LightGBM] [Info] Total Bins 12906\n",
            "[LightGBM] [Info] Number of data points in the train set: 156758, number of used features: 60\n",
            "[LightGBM] [Info] Using GPU Device: Tesla T4, Vendor: NVIDIA Corporation\n",
            "[LightGBM] [Info] Compiling OpenCL Kernel with 256 bins...\n",
            "[LightGBM] [Info] GPU programs have been built\n",
            "[LightGBM] [Info] Size of histogram bin entry: 8\n",
            "[LightGBM] [Info] 60 dense feature groups (8.97 MB) transferred to GPU in 0.007581 secs. 0 sparse feature groups\n",
            "[LightGBM] [Info] Start training from score 59.317361\n",
            "Training until validation scores don't improve for 200 rounds\n",
            "[500]\tvalid_0's rmse: 21.6809\n",
            "Early stopping, best iteration is:\n",
            "[657]\tvalid_0's rmse: 21.5709\n"
          ]
        },
        {
          "output_type": "stream",
          "name": "stderr",
          "text": [
            "\u001b[32m[I 2022-04-19 13:28:49,804]\u001b[0m Trial 47 finished with value: 21.57093744290167 and parameters: {'learning_rate': 0.09510066489346752, 'max_depth': 16, 'num_leaves': 8}. Best is trial 42 with value: 21.017326176587435.\u001b[0m\n"
          ]
        },
        {
          "output_type": "stream",
          "name": "stdout",
          "text": [
            "[LightGBM] [Info] This is the GPU trainer!!\n",
            "[LightGBM] [Info] Total Bins 12906\n",
            "[LightGBM] [Info] Number of data points in the train set: 156758, number of used features: 60\n",
            "[LightGBM] [Info] Using GPU Device: Tesla T4, Vendor: NVIDIA Corporation\n",
            "[LightGBM] [Info] Compiling OpenCL Kernel with 256 bins...\n",
            "[LightGBM] [Info] GPU programs have been built\n",
            "[LightGBM] [Info] Size of histogram bin entry: 8\n",
            "[LightGBM] [Info] 60 dense feature groups (8.97 MB) transferred to GPU in 0.007431 secs. 0 sparse feature groups\n",
            "[LightGBM] [Info] Start training from score 59.317361\n",
            "Training until validation scores don't improve for 200 rounds\n",
            "[LightGBM] [Warning] No further splits with positive gain, best gain: -inf\n",
            "[500]\tvalid_0's rmse: 21.4102\n",
            "Early stopping, best iteration is:\n",
            "[335]\tvalid_0's rmse: 21.3618\n"
          ]
        },
        {
          "output_type": "stream",
          "name": "stderr",
          "text": [
            "\u001b[32m[I 2022-04-19 13:28:58,731]\u001b[0m Trial 48 finished with value: 21.36178565569087 and parameters: {'learning_rate': 0.06960520551192806, 'max_depth': 8, 'num_leaves': 64}. Best is trial 42 with value: 21.017326176587435.\u001b[0m\n"
          ]
        },
        {
          "output_type": "stream",
          "name": "stdout",
          "text": [
            "[LightGBM] [Info] This is the GPU trainer!!\n",
            "[LightGBM] [Info] Total Bins 12906\n",
            "[LightGBM] [Info] Number of data points in the train set: 156758, number of used features: 60\n",
            "[LightGBM] [Info] Using GPU Device: Tesla T4, Vendor: NVIDIA Corporation\n",
            "[LightGBM] [Info] Compiling OpenCL Kernel with 256 bins...\n",
            "[LightGBM] [Info] GPU programs have been built\n",
            "[LightGBM] [Info] Size of histogram bin entry: 8\n",
            "[LightGBM] [Info] 60 dense feature groups (8.97 MB) transferred to GPU in 0.007727 secs. 0 sparse feature groups\n",
            "[LightGBM] [Info] Start training from score 59.317361\n",
            "Training until validation scores don't improve for 200 rounds\n",
            "[500]\tvalid_0's rmse: 21.3422\n",
            "[1000]\tvalid_0's rmse: 21.1909\n",
            "Early stopping, best iteration is:\n",
            "[1132]\tvalid_0's rmse: 21.1768\n"
          ]
        },
        {
          "output_type": "stream",
          "name": "stderr",
          "text": [
            "\u001b[32m[I 2022-04-19 13:29:14,539]\u001b[0m Trial 49 finished with value: 21.17675800111147 and parameters: {'learning_rate': 0.030142478359765402, 'max_depth': 16, 'num_leaves': 32}. Best is trial 42 with value: 21.017326176587435.\u001b[0m\n"
          ]
        }
      ]
    },
    {
      "cell_type": "code",
      "source": [
        "print(study.best_params, study.best_trial, study.best_trials, study.best_value)\n",
        "study.best_params"
      ],
      "metadata": {
        "colab": {
          "base_uri": "https://localhost:8080/"
        },
        "id": "_36NJX3Cuesq",
        "outputId": "23cb87d7-15f0-44cc-fa3f-fd80a8a44e58"
      },
      "execution_count": 95,
      "outputs": [
        {
          "output_type": "stream",
          "name": "stdout",
          "text": [
            "{'learning_rate': 0.012555278381634567, 'max_depth': 16, 'num_leaves': 64} FrozenTrial(number=42, values=[21.017326176587435], datetime_start=datetime.datetime(2022, 4, 19, 13, 25, 58, 65232), datetime_complete=datetime.datetime(2022, 4, 19, 13, 27, 2, 989814), params={'learning_rate': 0.012555278381634567, 'max_depth': 16, 'num_leaves': 64}, distributions={'learning_rate': UniformDistribution(high=0.1, low=0.001), 'max_depth': CategoricalDistribution(choices=(8, 16, 32)), 'num_leaves': CategoricalDistribution(choices=(8, 16, 32, 64))}, user_attrs={}, system_attrs={}, intermediate_values={}, trial_id=42, state=TrialState.COMPLETE, value=None) [FrozenTrial(number=42, values=[21.017326176587435], datetime_start=datetime.datetime(2022, 4, 19, 13, 25, 58, 65232), datetime_complete=datetime.datetime(2022, 4, 19, 13, 27, 2, 989814), params={'learning_rate': 0.012555278381634567, 'max_depth': 16, 'num_leaves': 64}, distributions={'learning_rate': UniformDistribution(high=0.1, low=0.001), 'max_depth': CategoricalDistribution(choices=(8, 16, 32)), 'num_leaves': CategoricalDistribution(choices=(8, 16, 32, 64))}, user_attrs={}, system_attrs={}, intermediate_values={}, trial_id=42, state=TrialState.COMPLETE, value=None)] 21.017326176587435\n"
          ]
        },
        {
          "output_type": "execute_result",
          "data": {
            "text/plain": [
              "{'learning_rate': 0.012555278381634567, 'max_depth': 16, 'num_leaves': 64}"
            ]
          },
          "metadata": {},
          "execution_count": 95
        }
      ]
    },
    {
      "cell_type": "code",
      "source": [
        "params= {\n",
        "        'boosting': 'gbdt',\n",
        "        'objective': 'rmse',\n",
        "        'metric': 'rmse',\n",
        "        'learning_rate': study.best_params[\"learning_rate\"],\n",
        "        \"max_depth\": study.best_params[\"max_depth\"],\n",
        "        \"num_leaves\": study.best_params[\"num_leaves\"],\n",
        "        'subsample': 0.7,\n",
        "        'subsample_freq': 1,\n",
        "        \"min_data_in_leaf\":30, \n",
        "        \"device\": \"gpu\",  \n",
        "        \"seed\":2022,\n",
        "}"
      ],
      "metadata": {
        "id": "O7gneSfCue0V"
      },
      "execution_count": 96,
      "outputs": []
    },
    {
      "cell_type": "code",
      "source": [
        "models = []\n",
        "\n",
        "oof_df = train_df_[[\"id\"]]\n",
        "oof_df[\"oof\"] = -1\n",
        "\n",
        "from lightgbm import early_stopping\n",
        "from lightgbm import log_evaluation\n",
        "\n",
        "for i in range(NUM_FOLDS):\n",
        "    train_data = train_df_[train_df_[\"kfold\"] != i].reset_index(drop = True)\n",
        "    valid_data = train_df_[train_df_[\"kfold\"] == i].reset_index(drop = True)\n",
        "\n",
        "    print(f\"train_data nums: {len(train_data)}, valid_data nums: {len(valid_data)}\")\n",
        "\n",
        "    model.train(\n",
        "        params,\n",
        "        train_params = train_params,\n",
        "        X_train = train_data[use_cols],\n",
        "        y_train = train_data[target_cols],\n",
        "        X_val = valid_data[use_cols],\n",
        "        y_val = valid_data[target_cols],\n",
        "    )\n",
        "    models.append(model)\n",
        "\n",
        "    feature_importance = pd.DataFrame()\n",
        "    feature_importance[\"feature\"] = model.feature_names_\n",
        "    feature_importance[\"importance\"] = model.feature_importances_\n",
        "    feature_importance[\"fold\"] = i\n",
        "\n",
        "    oof = model.predict(\n",
        "        valid_data[use_cols]\n",
        "    )\n",
        "    oof_df.loc[train_df[\"kfold\"] == i, \"oof\"] = oof\n",
        "\n",
        "train_oof = train_df.merge(oof_df[[\"id\", \"oof\"]], on = \"id\", how = \"left\")"
      ],
      "metadata": {
        "colab": {
          "base_uri": "https://localhost:8080/"
        },
        "id": "-7MEvpyAW-s_",
        "outputId": "a315dbcc-7802-4385-9192-84511c2c4c97"
      },
      "execution_count": 97,
      "outputs": [
        {
          "output_type": "stream",
          "name": "stdout",
          "text": [
            "train_data nums: 156755, valid_data nums: 39186\n",
            "[LightGBM] [Info] This is the GPU trainer!!\n",
            "[LightGBM] [Info] Total Bins 12927\n",
            "[LightGBM] [Info] Number of data points in the train set: 156755, number of used features: 60\n",
            "[LightGBM] [Info] Using GPU Device: Tesla T4, Vendor: NVIDIA Corporation\n",
            "[LightGBM] [Info] Compiling OpenCL Kernel with 256 bins...\n",
            "[LightGBM] [Info] GPU programs have been built\n",
            "[LightGBM] [Info] Size of histogram bin entry: 8\n",
            "[LightGBM] [Info] 60 dense feature groups (8.97 MB) transferred to GPU in 0.008042 secs. 0 sparse feature groups\n",
            "[LightGBM] [Info] Start training from score 58.695189\n",
            "Training until validation scores don't improve for 200 rounds\n",
            "[500]\ttraining's rmse: 19.2941\tvalid_1's rmse: 25.0635\n",
            "[1000]\ttraining's rmse: 18.0418\tvalid_1's rmse: 24.7778\n",
            "[1500]\ttraining's rmse: 17.2151\tvalid_1's rmse: 24.6921\n",
            "[2000]\ttraining's rmse: 16.5452\tvalid_1's rmse: 24.6278\n",
            "[2500]\ttraining's rmse: 15.9591\tvalid_1's rmse: 24.6099\n",
            "Early stopping, best iteration is:\n",
            "[2368]\ttraining's rmse: 16.1074\tvalid_1's rmse: 24.5983\n",
            "train_data nums: 156758, valid_data nums: 39183\n",
            "[LightGBM] [Info] This is the GPU trainer!!\n",
            "[LightGBM] [Info] Total Bins 12906\n",
            "[LightGBM] [Info] Number of data points in the train set: 156758, number of used features: 60\n",
            "[LightGBM] [Info] Using GPU Device: Tesla T4, Vendor: NVIDIA Corporation\n",
            "[LightGBM] [Info] Compiling OpenCL Kernel with 256 bins...\n",
            "[LightGBM] [Info] GPU programs have been built\n",
            "[LightGBM] [Info] Size of histogram bin entry: 8\n",
            "[LightGBM] [Info] 60 dense feature groups (8.97 MB) transferred to GPU in 0.007494 secs. 0 sparse feature groups\n",
            "[LightGBM] [Info] Start training from score 59.317361\n",
            "Training until validation scores don't improve for 200 rounds\n",
            "[500]\ttraining's rmse: 19.4916\tvalid_1's rmse: 21.4976\n",
            "[1000]\ttraining's rmse: 18.2141\tvalid_1's rmse: 21.1813\n",
            "[1500]\ttraining's rmse: 17.3711\tvalid_1's rmse: 21.1055\n",
            "[2000]\ttraining's rmse: 16.6848\tvalid_1's rmse: 21.0805\n",
            "Early stopping, best iteration is:\n",
            "[1920]\ttraining's rmse: 16.7878\tvalid_1's rmse: 21.078\n",
            "train_data nums: 156760, valid_data nums: 39181\n",
            "[LightGBM] [Info] This is the GPU trainer!!\n",
            "[LightGBM] [Info] Total Bins 12934\n",
            "[LightGBM] [Info] Number of data points in the train set: 156760, number of used features: 60\n",
            "[LightGBM] [Info] Using GPU Device: Tesla T4, Vendor: NVIDIA Corporation\n",
            "[LightGBM] [Info] Compiling OpenCL Kernel with 256 bins...\n",
            "[LightGBM] [Info] GPU programs have been built\n",
            "[LightGBM] [Info] Size of histogram bin entry: 8\n",
            "[LightGBM] [Info] 60 dense feature groups (8.97 MB) transferred to GPU in 0.007416 secs. 0 sparse feature groups\n",
            "[LightGBM] [Info] Start training from score 60.259055\n",
            "Training until validation scores don't improve for 200 rounds\n",
            "[500]\ttraining's rmse: 19.4546\tvalid_1's rmse: 21.983\n",
            "[1000]\ttraining's rmse: 18.1833\tvalid_1's rmse: 21.7314\n",
            "[1500]\ttraining's rmse: 17.3481\tvalid_1's rmse: 21.6316\n",
            "[2000]\ttraining's rmse: 16.6665\tvalid_1's rmse: 21.585\n",
            "[2500]\ttraining's rmse: 16.0785\tvalid_1's rmse: 21.5606\n",
            "[3000]\ttraining's rmse: 15.5497\tvalid_1's rmse: 21.5488\n",
            "[3500]\ttraining's rmse: 15.0706\tvalid_1's rmse: 21.5353\n",
            "Early stopping, best iteration is:\n",
            "[3525]\ttraining's rmse: 15.0465\tvalid_1's rmse: 21.5322\n",
            "train_data nums: 156730, valid_data nums: 39211\n",
            "[LightGBM] [Info] This is the GPU trainer!!\n",
            "[LightGBM] [Info] Total Bins 12935\n",
            "[LightGBM] [Info] Number of data points in the train set: 156730, number of used features: 60\n",
            "[LightGBM] [Info] Using GPU Device: Tesla T4, Vendor: NVIDIA Corporation\n",
            "[LightGBM] [Info] Compiling OpenCL Kernel with 256 bins...\n",
            "[LightGBM] [Info] GPU programs have been built\n",
            "[LightGBM] [Info] Size of histogram bin entry: 8\n",
            "[LightGBM] [Info] 60 dense feature groups (8.97 MB) transferred to GPU in 0.007662 secs. 0 sparse feature groups\n",
            "[LightGBM] [Info] Start training from score 59.072621\n",
            "Training until validation scores don't improve for 200 rounds\n",
            "[500]\ttraining's rmse: 19.2694\tvalid_1's rmse: 22.2298\n",
            "[1000]\ttraining's rmse: 17.9893\tvalid_1's rmse: 21.92\n",
            "[1500]\ttraining's rmse: 17.1519\tvalid_1's rmse: 21.8228\n",
            "[2000]\ttraining's rmse: 16.4784\tvalid_1's rmse: 21.7606\n",
            "[2500]\ttraining's rmse: 15.8893\tvalid_1's rmse: 21.7304\n",
            "[3000]\ttraining's rmse: 15.3628\tvalid_1's rmse: 21.7011\n",
            "[3500]\ttraining's rmse: 14.878\tvalid_1's rmse: 21.684\n",
            "[4000]\ttraining's rmse: 14.4293\tvalid_1's rmse: 21.6683\n",
            "[4500]\ttraining's rmse: 14.014\tvalid_1's rmse: 21.6615\n",
            "[5000]\ttraining's rmse: 13.6231\tvalid_1's rmse: 21.6535\n",
            "Early stopping, best iteration is:\n",
            "[4993]\ttraining's rmse: 13.6282\tvalid_1's rmse: 21.653\n",
            "train_data nums: 156761, valid_data nums: 39180\n",
            "[LightGBM] [Info] This is the GPU trainer!!\n",
            "[LightGBM] [Info] Total Bins 12932\n",
            "[LightGBM] [Info] Number of data points in the train set: 156761, number of used features: 60\n",
            "[LightGBM] [Info] Using GPU Device: Tesla T4, Vendor: NVIDIA Corporation\n",
            "[LightGBM] [Info] Compiling OpenCL Kernel with 256 bins...\n",
            "[LightGBM] [Info] GPU programs have been built\n",
            "[LightGBM] [Info] Size of histogram bin entry: 8\n",
            "[LightGBM] [Info] 60 dense feature groups (8.97 MB) transferred to GPU in 0.007574 secs. 0 sparse feature groups\n",
            "[LightGBM] [Info] Start training from score 58.656422\n",
            "Training until validation scores don't improve for 200 rounds\n",
            "[500]\ttraining's rmse: 19.2255\tvalid_1's rmse: 22.3624\n",
            "[1000]\ttraining's rmse: 17.9526\tvalid_1's rmse: 22.0574\n",
            "[1500]\ttraining's rmse: 17.1261\tvalid_1's rmse: 21.9483\n",
            "[2000]\ttraining's rmse: 16.4609\tvalid_1's rmse: 21.8874\n",
            "[2500]\ttraining's rmse: 15.8688\tvalid_1's rmse: 21.8522\n",
            "[3000]\ttraining's rmse: 15.3444\tvalid_1's rmse: 21.8228\n",
            "[3500]\ttraining's rmse: 14.8639\tvalid_1's rmse: 21.8009\n",
            "[4000]\ttraining's rmse: 14.4206\tvalid_1's rmse: 21.7825\n",
            "[4500]\ttraining's rmse: 14.0023\tvalid_1's rmse: 21.7625\n",
            "Early stopping, best iteration is:\n",
            "[4714]\ttraining's rmse: 13.8326\tvalid_1's rmse: 21.7566\n"
          ]
        }
      ]
    },
    {
      "cell_type": "code",
      "source": [
        "viz_feature_importances(feature_importance)"
      ],
      "metadata": {
        "colab": {
          "base_uri": "https://localhost:8080/",
          "height": 672
        },
        "id": "SCZb-hXEIIkr",
        "outputId": "5cc79c4d-ad5e-4fb0-cb89-9daca80780f7"
      },
      "execution_count": 98,
      "outputs": [
        {
          "output_type": "display_data",
          "data": {
            "text/plain": [
              "<Figure size 1440x720 with 1 Axes>"
            ],
            "image/png": "[encoded data removed]"
          },
          "metadata": {
            "needs_background": "light"
          }
        }
      ]
    },
    {
      "cell_type": "code",
      "source": [
        "oof_score = np.sqrt(mean_squared_error(train_oof[\"pm25_mid\"], train_oof[\"oof\"]))\n",
        "oof_score = format(oof_score, \".3f\")\n",
        "print(f\"oof score: {oof_score}\")\n",
        "\n",
        "# 22.332\n",
        "# 22.333 now"
      ],
      "metadata": {
        "colab": {
          "base_uri": "https://localhost:8080/"
        },
        "id": "vIAV6MGrJ1IF",
        "outputId": "284fba11-eec8-43f8-8912-b51af7e68723"
      },
      "execution_count": 99,
      "outputs": [
        {
          "output_type": "stream",
          "name": "stdout",
          "text": [
            "oof score: 22.159\n"
          ]
        }
      ]
    },
    {
      "cell_type": "code",
      "source": [
        "train_oof[[\"id\",\"pm25_mid\", \"kfold\", \"oof\"]].to_csv(os.path.join(OOF_DIR, \"oof.csv\"), index= False)"
      ],
      "metadata": {
        "id": "eAWRkjDaaIta"
      },
      "execution_count": 100,
      "outputs": []
    },
    {
      "cell_type": "markdown",
      "source": [
        "# predict"
      ],
      "metadata": {
        "id": "8vAXJVnWSySV"
      }
    },
    {
      "cell_type": "code",
      "source": [
        "sum_predict = None\n",
        "for model in models:\n",
        "    predict = model.predict(\n",
        "        test_df_[use_cols],\n",
        "    )\n",
        "    if sum_predict is None:\n",
        "        sum_predict = predict\n",
        "    else:\n",
        "        sum_predict += predict\n",
        "\n",
        "mean_predict = sum_predict / len(models)"
      ],
      "metadata": {
        "id": "p1434DZVHg0W"
      },
      "execution_count": 101,
      "outputs": []
    },
    {
      "cell_type": "code",
      "source": [
        "print(len(mean_predict))\n",
        "print(sample_df.shape)\n",
        "print(test_df.shape)"
      ],
      "metadata": {
        "colab": {
          "base_uri": "https://localhost:8080/"
        },
        "id": "LjcrS25rrje9",
        "outputId": "3896458e-7b56-487f-f037-84f9005bcd52"
      },
      "execution_count": 102,
      "outputs": [
        {
          "output_type": "stream",
          "name": "stdout",
          "text": [
            "53509\n",
            "(53509, 2)\n",
            "(53509, 57)\n"
          ]
        }
      ]
    },
    {
      "cell_type": "code",
      "source": [
        "sample_df.loc[:,\"predict\"] = mean_predict"
      ],
      "metadata": {
        "id": "xot64X_yHg4L"
      },
      "execution_count": 103,
      "outputs": []
    },
    {
      "cell_type": "code",
      "source": [
        "sample_df.head()"
      ],
      "metadata": {
        "colab": {
          "base_uri": "https://localhost:8080/",
          "height": 206
        },
        "id": "kVae9iW6cL0D",
        "outputId": "53248e51-e646-4a74-b6c2-e52895452724"
      },
      "execution_count": 104,
      "outputs": [
        {
          "output_type": "execute_result",
          "data": {
            "text/plain": [
              "       id     predict\n",
              "0  195942   32.219262\n",
              "1  195943   34.120460\n",
              "2  195944   24.159254\n",
              "3  195945   62.709874\n",
              "4  195946  137.972062"
            ],
            "text/html": [
              "\n",
              "  <div id=\"df-4eef2542-8e07-4608-9da7-741cde9268ba\">\n",
              "    <div class=\"colab-df-container\">\n",
              "      <div>\n",
              "<style scoped>\n",
              "    .dataframe tbody tr th:only-of-type {\n",
              "        vertical-align: middle;\n",
              "    }\n",
              "\n",
              "    .dataframe tbody tr th {\n",
              "        vertical-align: top;\n",
              "    }\n",
              "\n",
              "    .dataframe thead th {\n",
              "        text-align: right;\n",
              "    }\n",
              "</style>\n",
              "<table border=\"1\" class=\"dataframe\">\n",
              "  <thead>\n",
              "    <tr style=\"text-align: right;\">\n",
              "      <th></th>\n",
              "      <th>id</th>\n",
              "      <th>predict</th>\n",
              "    </tr>\n",
              "  </thead>\n",
              "  <tbody>\n",
              "    <tr>\n",
              "      <th>0</th>\n",
              "      <td>195942</td>\n",
              "      <td>32.219262</td>\n",
              "    </tr>\n",
              "    <tr>\n",
              "      <th>1</th>\n",
              "      <td>195943</td>\n",
              "      <td>34.120460</td>\n",
              "    </tr>\n",
              "    <tr>\n",
              "      <th>2</th>\n",
              "      <td>195944</td>\n",
              "      <td>24.159254</td>\n",
              "    </tr>\n",
              "    <tr>\n",
              "      <th>3</th>\n",
              "      <td>195945</td>\n",
              "      <td>62.709874</td>\n",
              "    </tr>\n",
              "    <tr>\n",
              "      <th>4</th>\n",
              "      <td>195946</td>\n",
              "      <td>137.972062</td>\n",
              "    </tr>\n",
              "  </tbody>\n",
              "</table>\n",
              "</div>\n",
              "      <button class=\"colab-df-convert\" onclick=\"convertToInteractive('df-4eef2542-8e07-4608-9da7-741cde9268ba')\"\n",
              "              title=\"Convert this dataframe to an interactive table.\"\n",
              "              style=\"display:none;\">\n",
              "        \n",
              "  <svg xmlns=\"http://www.w3.org/2000/svg\" height=\"24px\"viewBox=\"0 0 24 24\"\n",
              "       width=\"24px\">\n",
              "    <path d=\"M0 0h24v24H0V0z\" fill=\"none\"/>\n",
              "    <path d=\"M18.56 5.44l.94 2.06.94-2.06 2.06-.94-2.06-.94-.94-2.06-.94 2.06-2.06.94zm-11 1L8.5 8.5l.94-2.06 2.06-.94-2.06-.94L8.5 2.5l-.94 2.06-2.06.94zm10 10l.94 2.06.94-2.06 2.06-.94-2.06-.94-.94-2.06-.94 2.06-2.06.94z\"/><path d=\"M17.41 7.96l-1.37-1.37c-.4-.4-.92-.59-1.43-.59-.52 0-1.04.2-1.43.59L10.3 9.45l-7.72 7.72c-.78.78-.78 2.05 0 2.83L4 21.41c.39.39.9.59 1.41.59.51 0 1.02-.2 1.41-.59l7.78-7.78 2.81-2.81c.8-.78.8-2.07 0-2.86zM5.41 20L4 18.59l7.72-7.72 1.47 1.35L5.41 20z\"/>\n",
              "  </svg>\n",
              "      </button>\n",
              "      \n",
              "  <style>\n",
              "    .colab-df-container {\n",
              "      display:flex;\n",
              "      flex-wrap:wrap;\n",
              "      gap: 12px;\n",
              "    }\n",
              "\n",
              "    .colab-df-convert {\n",
              "      background-color: #E8F0FE;\n",
              "      border: none;\n",
              "      border-radius: 50%;\n",
              "      cursor: pointer;\n",
              "      display: none;\n",
              "      fill: #1967D2;\n",
              "      height: 32px;\n",
              "      padding: 0 0 0 0;\n",
              "      width: 32px;\n",
              "    }\n",
              "\n",
              "    .colab-df-convert:hover {\n",
              "      background-color: #E2EBFA;\n",
              "      box-shadow: 0px 1px 2px rgba(60, 64, 67, 0.3), 0px 1px 3px 1px rgba(60, 64, 67, 0.15);\n",
              "      fill: #174EA6;\n",
              "    }\n",
              "\n",
              "    [theme=dark] .colab-df-convert {\n",
              "      background-color: #3B4455;\n",
              "      fill: #D2E3FC;\n",
              "    }\n",
              "\n",
              "    [theme=dark] .colab-df-convert:hover {\n",
              "      background-color: #434B5C;\n",
              "      box-shadow: 0px 1px 3px 1px rgba(0, 0, 0, 0.15);\n",
              "      filter: drop-shadow(0px 1px 2px rgba(0, 0, 0, 0.3));\n",
              "      fill: #FFFFFF;\n",
              "    }\n",
              "  </style>\n",
              "\n",
              "      <script>\n",
              "        const buttonEl =\n",
              "          document.querySelector('#df-4eef2542-8e07-4608-9da7-741cde9268ba button.colab-df-convert');\n",
              "        buttonEl.style.display =\n",
              "          google.colab.kernel.accessAllowed ? 'block' : 'none';\n",
              "\n",
              "        async function convertToInteractive(key) {\n",
              "          const element = document.querySelector('#df-4eef2542-8e07-4608-9da7-741cde9268ba');\n",
              "          const dataTable =\n",
              "            await google.colab.kernel.invokeFunction('convertToInteractive',\n",
              "                                                     [key], {});\n",
              "          if (!dataTable) return;\n",
              "\n",
              "          const docLinkHtml = 'Like what you see? Visit the ' +\n",
              "            '<a target=\"_blank\" href=https://colab.research.google.com/notebooks/data_table.ipynb>data table notebook</a>'\n",
              "            + ' to learn more about interactive tables.';\n",
              "          element.innerHTML = '';\n",
              "          dataTable['output_type'] = 'display_data';\n",
              "          await google.colab.output.renderOutput(dataTable, element);\n",
              "          const docLink = document.createElement('div');\n",
              "          docLink.innerHTML = docLinkHtml;\n",
              "          element.appendChild(docLink);\n",
              "        }\n",
              "      </script>\n",
              "    </div>\n",
              "  </div>\n",
              "  "
            ]
          },
          "metadata": {},
          "execution_count": 104
        }
      ]
    },
    {
      "cell_type": "code",
      "source": [
        "sample_df.to_csv(os.path.join(SUB_DIR, \"submission.csv\"), index= False, header = False)"
      ],
      "metadata": {
        "id": "87NkPMdTSrmH"
      },
      "execution_count": 105,
      "outputs": []
    },
    {
      "cell_type": "markdown",
      "source": [
        "# submit"
      ],
      "metadata": {
        "id": "ZO0WqelkHyfS"
      }
    },
    {
      "cell_type": "code",
      "source": [
        "!pip install signate > /dev/null\n",
        "!mkdir /root/.signate\n",
        "!cp /content/drive/MyDrive/signate/signate.json /root/.signate/signate.json"
      ],
      "metadata": {
        "colab": {
          "base_uri": "https://localhost:8080/"
        },
        "id": "PhTe6h6yDH8X",
        "outputId": "7a336727-1881-4b28-a3ca-d8a5d2d131f6"
      },
      "execution_count": 106,
      "outputs": [
        {
          "output_type": "stream",
          "name": "stdout",
          "text": [
            "\u001b[31mERROR: pip's dependency resolver does not currently take into account all the packages that are installed. This behaviour is the source of the following dependency conflicts.\n",
            "tensorflow 2.8.0 requires tf-estimator-nightly==2.8.0.dev2021122109, which is not installed.\n",
            "requests 2.23.0 requires urllib3!=1.25.0,!=1.25.1,<1.26,>=1.21.1, but you have urllib3 1.26.9 which is incompatible.\n",
            "google-colab 1.0.0 requires six~=1.15.0, but you have six 1.16.0 which is incompatible.\n",
            "datascience 0.10.6 requires folium==0.2.1, but you have folium 0.8.3 which is incompatible.\n",
            "albumentations 0.1.12 requires imgaug<0.2.7,>=0.2.5, but you have imgaug 0.2.9 which is incompatible.\u001b[0m\n"
          ]
        }
      ]
    },
    {
      "cell_type": "code",
      "source": [
        "submission_file = os.path.join(SUB_DIR, \"submission.csv\")"
      ],
      "metadata": {
        "id": "oSmQPSHLTX6E"
      },
      "execution_count": 107,
      "outputs": []
    },
    {
      "cell_type": "code",
      "source": [
        "comment = f\"cv:{oof_score}_\" + NOTEBOOK_NAME\n",
        "comment"
      ],
      "metadata": {
        "id": "8yM6uPondJnm",
        "colab": {
          "base_uri": "https://localhost:8080/",
          "height": 35
        },
        "outputId": "c6c7fb6d-6501-421c-ae03-9a295a3ae471"
      },
      "execution_count": 108,
      "outputs": [
        {
          "output_type": "execute_result",
          "data": {
            "text/plain": [
              "'cv:22.159_FP009-008-tuning'"
            ],
            "application/vnd.google.colaboratory.intrinsic+json": {
              "type": "string"
            }
          },
          "metadata": {},
          "execution_count": 108
        }
      ]
    },
    {
      "cell_type": "markdown",
      "source": [
        "# Submit"
      ],
      "metadata": {
        "id": "LvoIkzVdibh-"
      }
    },
    {
      "cell_type": "code",
      "source": [
        "!signate submit --competition-id=624 {submission_file} --note {comment}"
      ],
      "metadata": {
        "colab": {
          "base_uri": "https://localhost:8080/"
        },
        "id": "69-UNJ1YTuej",
        "outputId": "a75c1e96-f1b9-472f-bd8d-d196d3089446"
      },
      "execution_count": 109,
      "outputs": [
        {
          "output_type": "stream",
          "name": "stdout",
          "text": [
            "\u001b[32mYou have successfully submitted your predictions.We will send you the submission result to your email address.\u001b[0m\n"
          ]
        }
      ]
    },
    {
      "cell_type": "markdown",
      "source": [
        "https://signate.jp/competitions/624/submissions"
      ],
      "metadata": {
        "id": "fdianTtHED1W"
      }
    },
    {
      "cell_type": "code",
      "source": [
        ""
      ],
      "metadata": {
        "id": "RrKqaQNXq6HS"
      },
      "execution_count": null,
      "outputs": []
    },
    {
      "cell_type": "code",
      "source": [
        ""
      ],
      "metadata": {
        "id": "MVDD0781EEep"
      },
      "execution_count": null,
      "outputs": []
    }
  ]
}