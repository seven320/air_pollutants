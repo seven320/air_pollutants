{
  "cells": [
    {
      "cell_type": "markdown",
      "metadata": {
        "id": "view-in-github",
        "colab_type": "text"
      },
      "source": [
        "<a href=\"https://colab.research.google.com/github/seven320/air_pollutants/blob/main/FP022_021.ipynb\" target=\"_parent\"><img src=\"https://colab.research.google.com/assets/colab-badge.svg\" alt=\"Open In Colab\"/></a>"
      ]
    },
    {
      "cell_type": "markdown",
      "metadata": {
        "id": "TCnFX004iEpo"
      },
      "source": [
        "# Env"
      ]
    },
    {
      "cell_type": "code",
      "execution_count": 1,
      "metadata": {
        "colab": {
          "base_uri": "https://localhost:8080/"
        },
        "id": "8OhibwrnFAQk",
        "outputId": "876b6fa5-228a-4218-a16a-58a9f19b764b"
      },
      "outputs": [
        {
          "output_type": "stream",
          "name": "stdout",
          "text": [
            "Wed May  4 11:29:04 2022       \n",
            "+-----------------------------------------------------------------------------+\n",
            "| NVIDIA-SMI 460.32.03    Driver Version: 460.32.03    CUDA Version: 11.2     |\n",
            "|-------------------------------+----------------------+----------------------+\n",
            "| GPU  Name        Persistence-M| Bus-Id        Disp.A | Volatile Uncorr. ECC |\n",
            "| Fan  Temp  Perf  Pwr:Usage/Cap|         Memory-Usage | GPU-Util  Compute M. |\n",
            "|                               |                      |               MIG M. |\n",
            "|===============================+======================+======================|\n",
            "|   0  Tesla T4            Off  | 00000000:00:04.0 Off |                    0 |\n",
            "| N/A   42C    P8    10W /  70W |      0MiB / 15109MiB |      0%      Default |\n",
            "|                               |                      |                  N/A |\n",
            "+-------------------------------+----------------------+----------------------+\n",
            "                                                                               \n",
            "+-----------------------------------------------------------------------------+\n",
            "| Processes:                                                                  |\n",
            "|  GPU   GI   CI        PID   Type   Process name                  GPU Memory |\n",
            "|        ID   ID                                                   Usage      |\n",
            "|=============================================================================|\n",
            "|  No running processes found                                                 |\n",
            "+-----------------------------------------------------------------------------+\n"
          ]
        }
      ],
      "source": [
        "!nvidia-smi"
      ]
    },
    {
      "cell_type": "code",
      "execution_count": 2,
      "metadata": {
        "colab": {
          "base_uri": "https://localhost:8080/"
        },
        "id": "b09jV65gFc3Y",
        "outputId": "3d3c92f5-84e3-4ec1-8ecb-5c8258806943"
      },
      "outputs": [
        {
          "output_type": "stream",
          "name": "stdout",
          "text": [
            "Mounted at /content/drive\n"
          ]
        }
      ],
      "source": [
        "import os, sys\n",
        "COLAB = \"google.colab\" in sys.modules\n",
        "\n",
        "if COLAB:\n",
        "    from google.colab import drive\n",
        "    from google.colab import output\n",
        "    drive.mount(\"/content/drive\")"
      ]
    },
    {
      "cell_type": "code",
      "execution_count": 3,
      "metadata": {
        "id": "MvUvD3E2I6sj"
      },
      "outputs": [],
      "source": [
        "if COLAB:\n",
        "    !pip install transformers > /dev/null\n",
        "    !pip install einops > /dev/null\n",
        "    !pip install optuna > /dev/null\n",
        "    !pip install pyephem > /dev/null\n",
        "    # !pip install timm > /dev/null\n",
        "    # !pip install kaggle > /dev/null\n",
        "    # !pip install kaggle_datasets > /dev/null\n",
        "    # !pip install git+https://github.com/albumentations-team/albumentations\n",
        "    # !pip install tensorflow-determinism\n",
        "    !pip install -q iterative-stratification\n",
        "    !pip install python-Levenshtein > /dev/null\n",
        "    !pip install geopy > /dev/null\n",
        "\n",
        "    # for gpu\n",
        "    !git clone --recursive https://github.com/Microsoft/LightGBM\n",
        "    %cd /content/LightGBM/\n",
        "    !mkdir build\n",
        "    !cmake -DUSE_GPU=1 \n",
        "    !make -j$(nproc)\n",
        "    !sudo apt-get -y install python-pip\n",
        "\n",
        "    !sudo -H pip install setuptools pandas numpy scipy scikit-learn -U\n",
        "    #pandasのエラーが出る場合は上記のコードからpandasを削除\n",
        "\n",
        "    !sudo -H pip install setuptools numpy scipy scikit-learn -U\n",
        "    %cd /content/LightGBM/python-package\n",
        "    !sudo python setup.py install --precompile\n",
        "\n",
        "    output.clear()"
      ]
    },
    {
      "cell_type": "code",
      "execution_count": 4,
      "metadata": {
        "id": "VX7ZxFBMH3mX"
      },
      "outputs": [],
      "source": [
        "import gc\n",
        "import json\n",
        "import math\n",
        "import os\n",
        "import random\n",
        "import re\n",
        "import time\n",
        "import copy\n",
        "import warnings\n",
        "from requests import get\n",
        "from contextlib import contextmanager\n",
        "from typing import List, Optional, TypeVar, Type, Dict\n",
        "import datetime\n",
        "\n",
        "import matplotlib.pyplot as plt\n",
        "import numpy as np\n",
        "import pandas as pd\n",
        "import seaborn as sns\n",
        "import torch\n",
        "import torch.nn as nn\n",
        "from pathlib import Path\n",
        "from sklearn.ensemble import RandomForestRegressor\n",
        "from sklearn.model_selection import GroupKFold, train_test_split, KFold\n",
        "from sklearn.preprocessing import RobustScaler, LabelEncoder, StandardScaler, MinMaxScaler\n",
        "from sklearn.metrics import mean_squared_error\n",
        "from torch.nn import functional as F\n",
        "from torch.utils.data import DataLoader, Dataset\n",
        "# from einops.layers.torch import Rearrange, Reduce\n",
        "# import timm\n",
        "import Levenshtein\n",
        "import ephem\n",
        "from geopy.distance import geodesic\n",
        "\n",
        "from tqdm.notebook import tqdm\n",
        "from transformers import AdamW, get_cosine_schedule_with_warmup\n",
        "from typing import Optional, Tuple\n",
        "from xgboost import XGBRegressor\n",
        "import lightgbm as lgb\n",
        "import optuna"
      ]
    },
    {
      "cell_type": "code",
      "execution_count": 5,
      "metadata": {
        "id": "3TLiFn8H_V90"
      },
      "outputs": [],
      "source": [
        "warnings.simplefilter('ignore')"
      ]
    },
    {
      "cell_type": "code",
      "execution_count": 6,
      "metadata": {
        "colab": {
          "base_uri": "https://localhost:8080/"
        },
        "id": "jAG9b0Tb_YdF",
        "outputId": "e20108e4-cae2-4f86-c562-6674b661d3ad"
      },
      "outputs": [
        {
          "output_type": "stream",
          "name": "stdout",
          "text": [
            "FP022-021\n"
          ]
        }
      ],
      "source": [
        "if COLAB:    \n",
        "    NOTEBOOK_NAME = get('http://172.28.0.2:9000/api/sessions').json()[0]['name']\n",
        "    print(NOTEBOOK_NAME)"
      ]
    },
    {
      "cell_type": "code",
      "execution_count": 7,
      "metadata": {
        "id": "BiWCgj_XI4y2"
      },
      "outputs": [],
      "source": [
        "COMPE_NAME = \"air_pollutants\"\n",
        "BASE_DIR = f\"/content/drive/MyDrive/signate/{COMPE_NAME}\"\n",
        "\n",
        "# KAGGLE ONLY HAS 1, BUT OFFLINE, YOU CAN USE MORE\n",
        "os.environ[\"CUDA_VISIBLE_DEVICES\"]=\"0\" #0,1,2,3 for four gpu"
      ]
    },
    {
      "cell_type": "code",
      "execution_count": 8,
      "metadata": {
        "id": "tUAtLXzhI-Xr"
      },
      "outputs": [],
      "source": [
        "if COLAB:\n",
        "    INPUT_DIR = Path(os.path.join(BASE_DIR ,f\"input\"))\n",
        "    INPUT_DIR.mkdir(exist_ok=True, parents=True)\n",
        "\n",
        "    SAVE_DIR = Path(os.path.join(BASE_DIR ,f\"models/{NOTEBOOK_NAME}\"))\n",
        "    SAVE_DIR.mkdir(exist_ok=True, parents=True)\n",
        "\n",
        "    OOF_DIR = Path(os.path.join(BASE_DIR, f\"oof/{NOTEBOOK_NAME}\"))\n",
        "    OOF_DIR.mkdir(exist_ok=True, parents = True)\n",
        "\n",
        "    SUB_DIR = Path(os.path.join(BASE_DIR, f\"submission/{NOTEBOOK_NAME}\"))\n",
        "    SUB_DIR.mkdir(exist_ok=True, parents = True)"
      ]
    },
    {
      "cell_type": "code",
      "execution_count": 9,
      "metadata": {
        "colab": {
          "base_uri": "https://localhost:8080/"
        },
        "id": "z50ynnGpI-a-",
        "outputId": "d6b0eee5-b9fb-4016-afe6-c06aed5af73f"
      },
      "outputs": [
        {
          "output_type": "stream",
          "name": "stdout",
          "text": [
            "(195941, 54) (53509, 53) (53509, 2)\n"
          ]
        }
      ],
      "source": [
        "train_df = pd.read_csv(os.path.join(INPUT_DIR, \"train.csv\"))\n",
        "test_df = pd.read_csv(os.path.join(INPUT_DIR, \"test.csv\"))\n",
        "sample_df = pd.read_csv(os.path.join(INPUT_DIR, \"submit_sample.csv\"), names=[\"id\", \"predict\"])\n",
        "\n",
        "print(train_df.shape, test_df.shape, sample_df.shape)"
      ]
    },
    {
      "cell_type": "markdown",
      "metadata": {
        "id": "xJgrFC5tVZt3"
      },
      "source": [
        "## add city population"
      ]
    },
    {
      "cell_type": "code",
      "execution_count": 10,
      "metadata": {
        "id": "fD-VnMAxyd8F"
      },
      "outputs": [],
      "source": [
        "population_df = pd.read_csv(os.path.join(INPUT_DIR, \"city_population.csv\"))\n",
        "population_df[\"City\"] = population_df[\"Name\"]"
      ]
    },
    {
      "cell_type": "code",
      "execution_count": 11,
      "metadata": {
        "colab": {
          "base_uri": "https://localhost:8080/"
        },
        "id": "PyVhbHAGdwTx",
        "outputId": "07376f80-9098-4b70-9de8-656f617ccc07"
      },
      "outputs": [
        {
          "output_type": "stream",
          "name": "stdout",
          "text": [
            "ChinaSuzhou の行を削除\n"
          ]
        }
      ],
      "source": [
        "# 同じ都市名かつ国名のものを削除する\n",
        "population_df[\"CC\"] = population_df[\"Country\"] + population_df[\"City\"]\n",
        "population_df[\"CC\"].value_counts()\n",
        "for k, v in population_df[\"CC\"].value_counts().items():\n",
        "    # print(k, v)\n",
        "    if v > 1:\n",
        "        print(f\"{k} の行を削除\")\n",
        "        population_df = population_df[population_df[\"CC\"] != k]"
      ]
    },
    {
      "cell_type": "code",
      "execution_count": 12,
      "metadata": {
        "id": "GHh1_7_-Dtka"
      },
      "outputs": [],
      "source": [
        "def df_to_country_dict(df: pd.DataFrame) -> Dict:\n",
        "    country_city = {}\n",
        "\n",
        "    for t_c in set(df[\"Country\"].tolist()):\n",
        "        country_city[t_c] = []\n",
        "\n",
        "    for country, city in zip(df[\"Country\"], df[\"City\"]):\n",
        "        country_city[country].append(city)\n",
        "\n",
        "    for k, v in country_city.items():\n",
        "        country_city[k] = set(v)\n",
        "\n",
        "    return country_city\n",
        "    "
      ]
    },
    {
      "cell_type": "code",
      "execution_count": 13,
      "metadata": {
        "id": "JR3hx22DD7zE"
      },
      "outputs": [],
      "source": [
        "train_country_city = df_to_country_dict(pd.concat([train_df, test_df]))\n",
        "\n",
        "p_country_city = df_to_country_dict(population_df)"
      ]
    },
    {
      "cell_type": "code",
      "execution_count": 14,
      "metadata": {
        "id": "1Y2yypTHJBdQ"
      },
      "outputs": [],
      "source": [
        "def cal_leven(str1: str, str2: str) -> float:\n",
        "    # レーベンシュタイン距離の取得\n",
        "    lev_dist = Levenshtein.distance(str1, str2)\n",
        "    # 標準化(長い方の文字列の長さで割る)\n",
        "    divider = len(str1) if len(str1) > len(str2) else len(str2)\n",
        "    lev_dist = lev_dist / divider\n",
        "    # 指標を合わせる(0:完全不一致 → 1:完全一致)\n",
        "    return 1 - lev_dist"
      ]
    },
    {
      "cell_type": "code",
      "execution_count": 15,
      "metadata": {
        "colab": {
          "base_uri": "https://localhost:8080/"
        },
        "id": "ktKYCePw0-WV",
        "outputId": "eafe0ee4-5802-4d46-9a30-7564da9d6fcc"
      },
      "outputs": [
        {
          "output_type": "stream",
          "name": "stdout",
          "text": [
            "pair cities:177\n"
          ]
        }
      ],
      "source": [
        "city_pairs = {}\n",
        "\n",
        "for t_k, t_values in train_country_city.items():\n",
        "    for p_k, p_values in p_country_city.items():\n",
        "        # countryが一致\n",
        "        if t_k != p_k:\n",
        "            continue\n",
        "        for t_v in t_values:\n",
        "            max_score = -1\n",
        "            for p_v in p_values:\n",
        "                score = cal_leven(t_v, p_v)\n",
        "                if max_score < score:\n",
        "                    pairs = [t_v, p_v]\n",
        "                    max_score = score\n",
        "\n",
        "            if max_score > 0.8:\n",
        "                city_pairs[pairs[1]] = pairs[0]\n",
        "print(f\"pair cities:{len(city_pairs)}\")"
      ]
    },
    {
      "cell_type": "code",
      "execution_count": 16,
      "metadata": {
        "id": "o7H-pU-SOcQR"
      },
      "outputs": [],
      "source": [
        "a = population_df[\"City\"]\n",
        "for key, value in city_pairs.items():\n",
        "    # print(key, value)\n",
        "    a = copy.deepcopy(a.replace(key, value))\n",
        "\n",
        "population_df[\"City\"] = a"
      ]
    },
    {
      "cell_type": "code",
      "execution_count": 17,
      "metadata": {
        "id": "o5b40dm-zrPh"
      },
      "outputs": [],
      "source": [
        "if not \"Prev\" in train_df.columns:\n",
        "    train_df = train_df.merge(population_df[[\"rank\", \"City\", \"Country\", \"Population\", \"Prev\", \"Growth\"]], on = [\"City\", \"Country\"], how=\"left\")\n",
        "    test_df = test_df.merge(population_df[[\"rank\", \"City\", \"Country\",  \"Population\", \"Prev\", \"Growth\"]], on = [\"City\", \"Country\"], how=\"left\")\n",
        "\n",
        "assert len(test_df) == len(sample_df)"
      ]
    },
    {
      "cell_type": "markdown",
      "metadata": {
        "id": "gCrY06JStxpl"
      },
      "source": [
        "## add target encode"
      ]
    },
    {
      "cell_type": "code",
      "source": [
        "if not \"target_count\" in train_df.columns:\n",
        "    target_df = train_df[[\"Country\", \"pm25_mid\"]].groupby(\"Country\", as_index = 1).describe()\n",
        "\n",
        "    target_df = target_df.rename(columns = {\n",
        "        \"count\": \"target_count\",\n",
        "        \"mean\": \"target_mean\",\n",
        "        \"std\": \"target_std\",\n",
        "        \"25%\": \"target_25%\",\n",
        "        \"50%\": \"target_50%\",\n",
        "        \"75%\": \"target_75%\",\n",
        "        \"max\": \"target_max\"\n",
        "    }).reset_index()\n",
        "    train_df = train_df.merge(pd.concat([target_df[\"Country\"], target_df[\"pm25_mid\"]], axis = 1), on = \"Country\", how = \"left\")\n",
        "    test_df = test_df.merge(pd.concat([target_df[\"Country\"], target_df[\"pm25_mid\"]], axis = 1), on = \"Country\", how = \"left\")"
      ],
      "metadata": {
        "id": "RO7S4go8M58F"
      },
      "execution_count": 18,
      "outputs": []
    },
    {
      "cell_type": "markdown",
      "source": [
        "### add days"
      ],
      "metadata": {
        "id": "OByEklY9ZuiU"
      }
    },
    {
      "cell_type": "markdown",
      "metadata": {
        "id": "hxc2G2QEOhFc"
      },
      "source": [
        "## 都市を近い順に入力(上位15)"
      ]
    },
    {
      "cell_type": "code",
      "execution_count": 19,
      "metadata": {
        "id": "mRB3_ctT21va"
      },
      "outputs": [],
      "source": [
        "use_city = 3"
      ]
    },
    {
      "cell_type": "code",
      "execution_count": 20,
      "metadata": {
        "id": "21cTCBpO_uln"
      },
      "outputs": [],
      "source": [
        "# 全ての都市を抽出\n",
        "all_df = pd.concat([train_df, test_df])\n",
        "lat_lons = all_df[[\"City\", \"lat\", \"lon\"]].drop_duplicates()"
      ]
    },
    {
      "cell_type": "code",
      "execution_count": 21,
      "metadata": {
        "colab": {
          "base_uri": "https://localhost:8080/",
          "height": 49,
          "referenced_widgets": [
            "d1b61283884a4f4b8f2d8eeaccc61b00",
            "286b654c09584c5294835c1a2601d84c",
            "cc4fa0b020a3414c85d27bcf7c8b94e7",
            "1a0852241b4b4805b8420c8754a92bcb",
            "d551d6c8950b46d085be98e10db55099",
            "a1b12882026c47b28f5cf18c3d3e9a37",
            "05184b31a97c46dd9ea9e5c1dd763366",
            "b59689f0c25248ac803354de44c53cc9",
            "633bf1afc2b54132a7ff24013e35b735",
            "e6d2d228d05240649d2ace4a8fdf77a0",
            "2f1a5d383b9147cdbb5bd6238978f393"
          ]
        },
        "id": "-9XM3_4_QHOg",
        "outputId": "5e237a72-7d46-4e74-c9a8-7d99cd6f5405"
      },
      "outputs": [
        {
          "output_type": "display_data",
          "data": {
            "text/plain": [
              "  0%|          | 0/302 [00:00<?, ?it/s]"
            ],
            "application/vnd.jupyter.widget-view+json": {
              "version_major": 2,
              "version_minor": 0,
              "model_id": "d1b61283884a4f4b8f2d8eeaccc61b00"
            }
          },
          "metadata": {}
        }
      ],
      "source": [
        " # 各都市ごとの距離を格納\n",
        " #\n",
        "#  nearest_cities = {\n",
        "#       City1 = {\n",
        "            # City2: 500km\n",
        "            # City3: 1000km\n",
        "# }\n",
        "# } \n",
        "\n",
        "nearest_cities = {}\n",
        "for i in tqdm(range(len(lat_lons))):\n",
        "    City1, lat1, lon1 = lat_lons.iloc[i]\n",
        "    pos1 = np.array([lat1, lon1])\n",
        "    \n",
        "    nearest_city = {}\n",
        "    for j in range(len(lat_lons)):\n",
        "        if i == j:\n",
        "            continue\n",
        "        \n",
        "        City2, lat2, lon2 = lat_lons.iloc[j]\n",
        "        pos2 = np.array([lat2, lon2])\n",
        "        \n",
        "        dis = geodesic(pos1, pos2)\n",
        "        \n",
        "        nearest_city[City2] = dis\n",
        "\n",
        "    nearest_cities[City1] = nearest_city"
      ]
    },
    {
      "cell_type": "code",
      "execution_count": 22,
      "metadata": {
        "id": "cLrS0fHKPvKW"
      },
      "outputs": [],
      "source": [
        "target_en_bycities = all_df[[\"City\", \"pm25_mid\"]].groupby([\"City\"], as_index = 0).agg(\"mean\").reset_index(drop=True)"
      ]
    },
    {
      "cell_type": "code",
      "execution_count": 23,
      "metadata": {
        "id": "02pnup8dOfvi"
      },
      "outputs": [],
      "source": [
        "nearest_sort_cities = []\n",
        "\n",
        "for city1 in nearest_cities.keys():\n",
        "    nearest_sort_city = dict(sorted(nearest_cities[city1].items(), key = lambda item: item[1])).keys()\n",
        "    nearest_sort_cities.append([city1] + list(nearest_sort_city)[:use_city])"
      ]
    },
    {
      "cell_type": "code",
      "execution_count": 24,
      "metadata": {
        "id": "sPmH-Cm1Of0m"
      },
      "outputs": [],
      "source": [
        "# # validationの数値がある中で最も近い都市のtargetを引っ張ってくる\n",
        "# if not \"near_city\" in train_df.columns:\n",
        "#     train_df = train_df.merge(nearest_city_df, on = \"City\", how=\"left\")\n",
        "#     test_df = test_df.merge(nearest_city_df, on = \"City\", how=\"left\")\n",
        "\n",
        "# assert len(test_df) == len(sample_df)"
      ]
    },
    {
      "cell_type": "markdown",
      "metadata": {
        "id": "KmzwAbPht3JY"
      },
      "source": [
        "# Fold"
      ]
    },
    {
      "cell_type": "code",
      "execution_count": 25,
      "metadata": {
        "id": "pab-ry5T83Xa"
      },
      "outputs": [],
      "source": [
        "# Config\n",
        "NUM_FOLDS = 5"
      ]
    },
    {
      "cell_type": "code",
      "execution_count": 26,
      "metadata": {
        "id": "QO13XyUmI-dG"
      },
      "outputs": [],
      "source": [
        "#############\n",
        "## Utility ##\n",
        "#############\n",
        "@contextmanager\n",
        "def timer(name: str):\n",
        "    t0 = time.time()\n",
        "    print(f\"[{name}] start\")\n",
        "    yield\n",
        "    print(f\"[{name}] done - elapsed {time.time() - t0:.2f}s\")"
      ]
    },
    {
      "cell_type": "code",
      "execution_count": 27,
      "metadata": {
        "id": "IeHnNhCrJNvb"
      },
      "outputs": [],
      "source": [
        "def seed_everything(seed):\n",
        "    \"\"\"\n",
        "    Seeds basic parameters for reproductibility of results\n",
        "    \n",
        "    Arguments:\n",
        "        seed {int} -- Number of the seed\n",
        "    \"\"\"\n",
        "    random.seed(seed)\n",
        "    os.environ[\"PYTHONHASHSEED\"] = str(seed)\n",
        "    np.random.seed(seed)\n",
        "    torch.manual_seed(seed)\n",
        "    torch.cuda.manual_seed(seed)\n",
        "    torch.backends.cudnn.deterministic = True\n",
        "    torch.backends.cudnn.benchmark = False\n",
        "\n",
        "def set_seed(seed):\n",
        "    random.seed(seed)\n",
        "    os.environ[\"PYTHONHASHSEED\"] = str(seed)\n",
        "    np.random.seed(seed)\n",
        "    torch.manual_seed(seed)\n",
        "    torch.cuda.manual_seed(seed)\n",
        "    torch.cuda.manual_seed_all(seed)\n",
        "    torch.backends.cudnn.deterministic = True\n",
        "    torch.backends.cudnn.benchmark = False\n",
        "\n",
        "seed_everything(42)"
      ]
    },
    {
      "cell_type": "code",
      "execution_count": 28,
      "metadata": {
        "colab": {
          "base_uri": "https://localhost:8080/",
          "height": 299
        },
        "id": "1JcbNGglJNxv",
        "outputId": "8651e584-1b06-45d2-d7ef-4a24fc056ba3"
      },
      "outputs": [
        {
          "output_type": "execute_result",
          "data": {
            "text/plain": [
              "   id  year  month  day    Country       City       lat        lon  co_cnt  \\\n",
              "0   1  2019      1    1  Australia   Brisbane -27.46794  153.02809      38   \n",
              "1   2  2019      1    1  Australia     Darwin -12.46113  130.84185      47   \n",
              "2   3  2019      1    1  Australia  Melbourne -37.81400  144.96332      17   \n",
              "3   4  2019      1    1  Australia  Newcastle -32.92953  151.78010      63   \n",
              "4   5  2019      1    1  Australia      Perth -31.95224  115.86140      47   \n",
              "\n",
              "   co_min  ...       Prev  Growth  target_count  target_mean  target_std  min  \\\n",
              "0   0.749  ...  2439467.0  0.0134        5656.0    37.362265   25.919644  0.0   \n",
              "1   2.594  ...        NaN     NaN        5656.0    37.362265   25.919644  0.0   \n",
              "2   1.190  ...  5061439.0  0.0176        5656.0    37.362265   25.919644  0.0   \n",
              "3   4.586  ...        NaN     NaN        5656.0    37.362265   25.919644  0.0   \n",
              "4   4.689  ...  2067333.0  0.0122        5656.0    37.362265   25.919644  0.0   \n",
              "\n",
              "   target_25%  target_50%  target_75%  target_max  \n",
              "0      19.526     28.6445    52.50325     189.517  \n",
              "1      19.526     28.6445    52.50325     189.517  \n",
              "2      19.526     28.6445    52.50325     189.517  \n",
              "3      19.526     28.6445    52.50325     189.517  \n",
              "4      19.526     28.6445    52.50325     189.517  \n",
              "\n",
              "[5 rows x 66 columns]"
            ],
            "text/html": [
              "\n",
              "  <div id=\"df-00fd9736-4251-42a2-a5d0-83de2e0b9eb8\">\n",
              "    <div class=\"colab-df-container\">\n",
              "      <div>\n",
              "<style scoped>\n",
              "    .dataframe tbody tr th:only-of-type {\n",
              "        vertical-align: middle;\n",
              "    }\n",
              "\n",
              "    .dataframe tbody tr th {\n",
              "        vertical-align: top;\n",
              "    }\n",
              "\n",
              "    .dataframe thead th {\n",
              "        text-align: right;\n",
              "    }\n",
              "</style>\n",
              "<table border=\"1\" class=\"dataframe\">\n",
              "  <thead>\n",
              "    <tr style=\"text-align: right;\">\n",
              "      <th></th>\n",
              "      <th>id</th>\n",
              "      <th>year</th>\n",
              "      <th>month</th>\n",
              "      <th>day</th>\n",
              "      <th>Country</th>\n",
              "      <th>City</th>\n",
              "      <th>lat</th>\n",
              "      <th>lon</th>\n",
              "      <th>co_cnt</th>\n",
              "      <th>co_min</th>\n",
              "      <th>...</th>\n",
              "      <th>Prev</th>\n",
              "      <th>Growth</th>\n",
              "      <th>target_count</th>\n",
              "      <th>target_mean</th>\n",
              "      <th>target_std</th>\n",
              "      <th>min</th>\n",
              "      <th>target_25%</th>\n",
              "      <th>target_50%</th>\n",
              "      <th>target_75%</th>\n",
              "      <th>target_max</th>\n",
              "    </tr>\n",
              "  </thead>\n",
              "  <tbody>\n",
              "    <tr>\n",
              "      <th>0</th>\n",
              "      <td>1</td>\n",
              "      <td>2019</td>\n",
              "      <td>1</td>\n",
              "      <td>1</td>\n",
              "      <td>Australia</td>\n",
              "      <td>Brisbane</td>\n",
              "      <td>-27.46794</td>\n",
              "      <td>153.02809</td>\n",
              "      <td>38</td>\n",
              "      <td>0.749</td>\n",
              "      <td>...</td>\n",
              "      <td>2439467.0</td>\n",
              "      <td>0.0134</td>\n",
              "      <td>5656.0</td>\n",
              "      <td>37.362265</td>\n",
              "      <td>25.919644</td>\n",
              "      <td>0.0</td>\n",
              "      <td>19.526</td>\n",
              "      <td>28.6445</td>\n",
              "      <td>52.50325</td>\n",
              "      <td>189.517</td>\n",
              "    </tr>\n",
              "    <tr>\n",
              "      <th>1</th>\n",
              "      <td>2</td>\n",
              "      <td>2019</td>\n",
              "      <td>1</td>\n",
              "      <td>1</td>\n",
              "      <td>Australia</td>\n",
              "      <td>Darwin</td>\n",
              "      <td>-12.46113</td>\n",
              "      <td>130.84185</td>\n",
              "      <td>47</td>\n",
              "      <td>2.594</td>\n",
              "      <td>...</td>\n",
              "      <td>NaN</td>\n",
              "      <td>NaN</td>\n",
              "      <td>5656.0</td>\n",
              "      <td>37.362265</td>\n",
              "      <td>25.919644</td>\n",
              "      <td>0.0</td>\n",
              "      <td>19.526</td>\n",
              "      <td>28.6445</td>\n",
              "      <td>52.50325</td>\n",
              "      <td>189.517</td>\n",
              "    </tr>\n",
              "    <tr>\n",
              "      <th>2</th>\n",
              "      <td>3</td>\n",
              "      <td>2019</td>\n",
              "      <td>1</td>\n",
              "      <td>1</td>\n",
              "      <td>Australia</td>\n",
              "      <td>Melbourne</td>\n",
              "      <td>-37.81400</td>\n",
              "      <td>144.96332</td>\n",
              "      <td>17</td>\n",
              "      <td>1.190</td>\n",
              "      <td>...</td>\n",
              "      <td>5061439.0</td>\n",
              "      <td>0.0176</td>\n",
              "      <td>5656.0</td>\n",
              "      <td>37.362265</td>\n",
              "      <td>25.919644</td>\n",
              "      <td>0.0</td>\n",
              "      <td>19.526</td>\n",
              "      <td>28.6445</td>\n",
              "      <td>52.50325</td>\n",
              "      <td>189.517</td>\n",
              "    </tr>\n",
              "    <tr>\n",
              "      <th>3</th>\n",
              "      <td>4</td>\n",
              "      <td>2019</td>\n",
              "      <td>1</td>\n",
              "      <td>1</td>\n",
              "      <td>Australia</td>\n",
              "      <td>Newcastle</td>\n",
              "      <td>-32.92953</td>\n",
              "      <td>151.78010</td>\n",
              "      <td>63</td>\n",
              "      <td>4.586</td>\n",
              "      <td>...</td>\n",
              "      <td>NaN</td>\n",
              "      <td>NaN</td>\n",
              "      <td>5656.0</td>\n",
              "      <td>37.362265</td>\n",
              "      <td>25.919644</td>\n",
              "      <td>0.0</td>\n",
              "      <td>19.526</td>\n",
              "      <td>28.6445</td>\n",
              "      <td>52.50325</td>\n",
              "      <td>189.517</td>\n",
              "    </tr>\n",
              "    <tr>\n",
              "      <th>4</th>\n",
              "      <td>5</td>\n",
              "      <td>2019</td>\n",
              "      <td>1</td>\n",
              "      <td>1</td>\n",
              "      <td>Australia</td>\n",
              "      <td>Perth</td>\n",
              "      <td>-31.95224</td>\n",
              "      <td>115.86140</td>\n",
              "      <td>47</td>\n",
              "      <td>4.689</td>\n",
              "      <td>...</td>\n",
              "      <td>2067333.0</td>\n",
              "      <td>0.0122</td>\n",
              "      <td>5656.0</td>\n",
              "      <td>37.362265</td>\n",
              "      <td>25.919644</td>\n",
              "      <td>0.0</td>\n",
              "      <td>19.526</td>\n",
              "      <td>28.6445</td>\n",
              "      <td>52.50325</td>\n",
              "      <td>189.517</td>\n",
              "    </tr>\n",
              "  </tbody>\n",
              "</table>\n",
              "<p>5 rows × 66 columns</p>\n",
              "</div>\n",
              "      <button class=\"colab-df-convert\" onclick=\"convertToInteractive('df-00fd9736-4251-42a2-a5d0-83de2e0b9eb8')\"\n",
              "              title=\"Convert this dataframe to an interactive table.\"\n",
              "              style=\"display:none;\">\n",
              "        \n",
              "  <svg xmlns=\"http://www.w3.org/2000/svg\" height=\"24px\"viewBox=\"0 0 24 24\"\n",
              "       width=\"24px\">\n",
              "    <path d=\"M0 0h24v24H0V0z\" fill=\"none\"/>\n",
              "    <path d=\"M18.56 5.44l.94 2.06.94-2.06 2.06-.94-2.06-.94-.94-2.06-.94 2.06-2.06.94zm-11 1L8.5 8.5l.94-2.06 2.06-.94-2.06-.94L8.5 2.5l-.94 2.06-2.06.94zm10 10l.94 2.06.94-2.06 2.06-.94-2.06-.94-.94-2.06-.94 2.06-2.06.94z\"/><path d=\"M17.41 7.96l-1.37-1.37c-.4-.4-.92-.59-1.43-.59-.52 0-1.04.2-1.43.59L10.3 9.45l-7.72 7.72c-.78.78-.78 2.05 0 2.83L4 21.41c.39.39.9.59 1.41.59.51 0 1.02-.2 1.41-.59l7.78-7.78 2.81-2.81c.8-.78.8-2.07 0-2.86zM5.41 20L4 18.59l7.72-7.72 1.47 1.35L5.41 20z\"/>\n",
              "  </svg>\n",
              "      </button>\n",
              "      \n",
              "  <style>\n",
              "    .colab-df-container {\n",
              "      display:flex;\n",
              "      flex-wrap:wrap;\n",
              "      gap: 12px;\n",
              "    }\n",
              "\n",
              "    .colab-df-convert {\n",
              "      background-color: #E8F0FE;\n",
              "      border: none;\n",
              "      border-radius: 50%;\n",
              "      cursor: pointer;\n",
              "      display: none;\n",
              "      fill: #1967D2;\n",
              "      height: 32px;\n",
              "      padding: 0 0 0 0;\n",
              "      width: 32px;\n",
              "    }\n",
              "\n",
              "    .colab-df-convert:hover {\n",
              "      background-color: #E2EBFA;\n",
              "      box-shadow: 0px 1px 2px rgba(60, 64, 67, 0.3), 0px 1px 3px 1px rgba(60, 64, 67, 0.15);\n",
              "      fill: #174EA6;\n",
              "    }\n",
              "\n",
              "    [theme=dark] .colab-df-convert {\n",
              "      background-color: #3B4455;\n",
              "      fill: #D2E3FC;\n",
              "    }\n",
              "\n",
              "    [theme=dark] .colab-df-convert:hover {\n",
              "      background-color: #434B5C;\n",
              "      box-shadow: 0px 1px 3px 1px rgba(0, 0, 0, 0.15);\n",
              "      filter: drop-shadow(0px 1px 2px rgba(0, 0, 0, 0.3));\n",
              "      fill: #FFFFFF;\n",
              "    }\n",
              "  </style>\n",
              "\n",
              "      <script>\n",
              "        const buttonEl =\n",
              "          document.querySelector('#df-00fd9736-4251-42a2-a5d0-83de2e0b9eb8 button.colab-df-convert');\n",
              "        buttonEl.style.display =\n",
              "          google.colab.kernel.accessAllowed ? 'block' : 'none';\n",
              "\n",
              "        async function convertToInteractive(key) {\n",
              "          const element = document.querySelector('#df-00fd9736-4251-42a2-a5d0-83de2e0b9eb8');\n",
              "          const dataTable =\n",
              "            await google.colab.kernel.invokeFunction('convertToInteractive',\n",
              "                                                     [key], {});\n",
              "          if (!dataTable) return;\n",
              "\n",
              "          const docLinkHtml = 'Like what you see? Visit the ' +\n",
              "            '<a target=\"_blank\" href=https://colab.research.google.com/notebooks/data_table.ipynb>data table notebook</a>'\n",
              "            + ' to learn more about interactive tables.';\n",
              "          element.innerHTML = '';\n",
              "          dataTable['output_type'] = 'display_data';\n",
              "          await google.colab.output.renderOutput(dataTable, element);\n",
              "          const docLink = document.createElement('div');\n",
              "          docLink.innerHTML = docLinkHtml;\n",
              "          element.appendChild(docLink);\n",
              "        }\n",
              "      </script>\n",
              "    </div>\n",
              "  </div>\n",
              "  "
            ]
          },
          "metadata": {},
          "execution_count": 28
        }
      ],
      "source": [
        "train_df.head()"
      ]
    },
    {
      "cell_type": "code",
      "execution_count": 29,
      "metadata": {
        "colab": {
          "base_uri": "https://localhost:8080/"
        },
        "id": "PZZhyY_iXJyQ",
        "outputId": "1d2031e0-006a-4b58-b3f1-43a7e1d993ec"
      },
      "outputs": [
        {
          "output_type": "stream",
          "name": "stdout",
          "text": [
            "train city count: 239\n",
            "test city count: 63\n",
            "0\n"
          ]
        }
      ],
      "source": [
        "train_city = train_df[\"City\"].unique().tolist()\n",
        "test_city = test_df[\"City\"].unique().tolist()\n",
        "\n",
        "train_city_cnt = len(train_city)\n",
        "test_city_cnt = len(test_city)\n",
        "\n",
        "print(f\"train city count: {train_city_cnt}\")\n",
        "print(f\"test city count: {test_city_cnt}\")\n",
        "\n",
        "print(f\"{len(set(train_city) & set(test_city))}\")"
      ]
    },
    {
      "cell_type": "code",
      "execution_count": 30,
      "metadata": {
        "colab": {
          "base_uri": "https://localhost:8080/"
        },
        "id": "NAxJgCMWvzyq",
        "outputId": "e682d061-78a5-4315-c78c-72bbadee6b59"
      },
      "outputs": [
        {
          "output_type": "stream",
          "name": "stdout",
          "text": [
            "train_idx: 156755, valid_idx: 39186\n",
            "train_idx: 156758, valid_idx: 39183\n",
            "train_idx: 156760, valid_idx: 39181\n",
            "train_idx: 156730, valid_idx: 39211\n",
            "train_idx: 156761, valid_idx: 39180\n"
          ]
        }
      ],
      "source": [
        "kf = GroupKFold(n_splits = NUM_FOLDS)\n",
        "\n",
        "if not \"kfold\" in train_df.columns:\n",
        "    folds = copy.deepcopy(train_df[[\"id\"]])\n",
        "    folds[\"kfold\"] = -1\n",
        "\n",
        "    for fold, (train_idx, valid_idx) in enumerate(kf.split(train_df, train_df[\"pm25_mid\"], train_df[\"City\"])):\n",
        "        print(f\"train_idx: {len(train_idx)}, valid_idx: {len(valid_idx)}\")\n",
        "        folds.loc[valid_idx, \"kfold\"] = fold\n",
        "\n",
        "    train_df = train_df.merge(folds[[\"id\", \"kfold\"]], on=\"id\", how=\"left\")"
      ]
    },
    {
      "cell_type": "markdown",
      "metadata": {
        "id": "GgLI7LLc1szm"
      },
      "source": [
        "# Train"
      ]
    },
    {
      "cell_type": "code",
      "execution_count": 31,
      "metadata": {
        "id": "ckDad6r_AevZ"
      },
      "outputs": [],
      "source": [
        "import logging\n",
        "from typing import List, Optional, TypeVar\n",
        "\n",
        "import pandas as pd\n",
        "\n",
        "class AbstractFeatureTransformer:\n",
        "    def __init__(self):\n",
        "        self.name = self.__class__.__name__\n",
        "\n",
        "    def fit_transform(self, input_df: pd.DataFrame, y=None):\n",
        "        self.fit(input_df, y)\n",
        "        return self.transform(input_df)\n",
        "\n",
        "    def fit(self, input_df: pd.DataFrame, y=None):\n",
        "        pass\n",
        "\n",
        "    def transform(self, input_df: pd.DataFrame) -> pd.DataFrame:\n",
        "        raise NotImplementedError\n",
        "\n",
        "Transformer = TypeVar(\"Transformer\", bound=AbstractFeatureTransformer)\n",
        "\n",
        "def extract_features(input_df: pd.DataFrame,\n",
        "                     transformers: List[Transformer],\n",
        "                     fit: bool = True,\n",
        "                     logger: Optional[logging.Logger] = None):\n",
        "    feature_dfs = []\n",
        "    for transformer in transformers:\n",
        "        # timerはブロックの実行時間を計測するユーティリティ\n",
        "        with timer(f\"Extract features with {transformer.name}\", logger):\n",
        "            if fit:\n",
        "                feature_dfs.append(transformer.fit_transform(input_df))\n",
        "            else:\n",
        "                feature_dfs.append(transformer.transform(input_df))\n",
        "    all_features = pd.concat(feature_dfs, axis=1)\n",
        "    return all_features"
      ]
    },
    {
      "cell_type": "code",
      "execution_count": 32,
      "metadata": {
        "id": "HrG0N8hZDsoR"
      },
      "outputs": [],
      "source": [
        "class Numericals(AbstractFeatureTransformer):\n",
        "    def transform(self, input_df: pd.DataFrame) -> pd.DataFrame:\n",
        "        cols = [pd.api.types.is_numeric_dtype(dtype) for dtype in input_df.dtypes]\n",
        "        return input_df.loc[:, cols]\n",
        "\n",
        "class LabelEncoding(AbstractFeatureTransformer):\n",
        "    def __init__(self, columns: List[str]):\n",
        "        super().__init__()\n",
        "        self.le_columns = columns\n",
        "        self.encoders = {\n",
        "            column: LabelEncoder()\n",
        "            for column in self.le_columns\n",
        "        }\n",
        "        self.__is_fitted = False\n",
        "\n",
        "    def fit(self, input_df: pd.DataFrame, y: Optional[np.ndarray] = None):\n",
        "        \"\"\"\n",
        "        ラベルに変換する前に欠損値を埋める\n",
        "        \"\"\"\n",
        "        for column in self.le_columns:\n",
        "            self.encoders[column].fit(input_df[column].fillna(\"\"))\n",
        "        self.__is_fitted = True\n",
        "\n",
        "    def transform(\n",
        "        self, \n",
        "        input_df: pd.DataFrame, \n",
        "        y: Optional[np.ndarray] = None\n",
        "    ) -> pd.DataFrame:\n",
        "        assert self.__is_fitted, \"You need to call `fit` first.\"\n",
        "        encoded = {}\n",
        "        for column in self.le_columns:\n",
        "            encoded[column] = self.encoders[column].transform(\n",
        "                input_df[column].fillna(\"\"))\n",
        "        return pd.DataFrame(encoded)"
      ]
    },
    {
      "cell_type": "code",
      "execution_count": 169,
      "metadata": {
        "id": "QNf23jZJLku0"
      },
      "outputs": [],
      "source": [
        "def preprocess(df:pd.DataFrame)->pd.DataFrame:\n",
        "    df_ = copy.deepcopy(df)\n",
        "    # 年月/年月日を追加\n",
        "\n",
        "    df_[\"year_month\"] = df_[\"year\"].astype(\"str\") + df_[\"month\"].astype(\"str\")\n",
        "    df_[\"year_month_day\"] = df_[\"year\"].astype(\"str\") + df_[\"month\"].astype(\"str\") + df_[\"day\"].astype(\"str\")\n",
        "    df_[\"month_day\"] = df_[\"month\"].astype(\"str\") + df_[\"day\"].astype(\"str\")\n",
        "\n",
        "\n",
        "\n",
        "\n",
        "    \n",
        "    # 月日国/月日都市を追加\n",
        "    df_[\"month_day_country\"] = df_[\"month\"].astype(\"str\") + df_[\"day\"].astype(\"str\") + df_[\"Country\"].astype(\"str\") \n",
        "    df_[\"month_day_city\"] =  df_[\"month\"].astype(\"str\") + df_[\"day\"].astype(\"str\") + df_[\"City\"].astype(\"str\") \n",
        "\n",
        "    # 経度をcosに変換\n",
        "    cnt = 0\n",
        "\n",
        "    if not \"lon_cos\" in df_.columns:\n",
        "        df_[\"lon_cos\"] = np.cos(np.radians((df_[\"lon\"] + 180)))\n",
        "        df_[\"lon_sin\"] = np.sin(np.radians((df_[\"lon\"] + 180)))\n",
        "        df_[\"month_cos\"] = np.cos(np.radians(df_[\"month\"] / 12 * 360))\n",
        "        df_[\"month_sin\"] = np.sin(np.radians(df_[\"month\"] / 12 * 360))\n",
        "        print(\"add lon_cos, lon_sin, month_cos, month_sin\")\n",
        "        cnt += 4\n",
        "\n",
        "    # 四則演算\n",
        "\n",
        "    # 南半球を北半球のmonthに変更\n",
        "    if not \"month_world\" in df_.columns:\n",
        "        df_[\"month_world\"] = df_[\"month\"]\n",
        "        df_.loc[df_[\"lat\"] < 0, \"month_world\"] = df_[\"month\"] + 6\n",
        "        df_.loc[df_[\"month_world\"] > 12, \"month_world\"] = df_[\"month\"] - 6\n",
        "        print(\"add month_world\")\n",
        "        cnt += 1\n",
        "    # mid同士を4則\n",
        "    columns = df_.columns\n",
        "    mids = []\n",
        "    for c in columns:\n",
        "        if \"_mid\" in c and c != \"pm25_mid\":\n",
        "            mids.append(c)\n",
        "    scaler = MinMaxScaler()\n",
        "\n",
        "    # 曜日を追加\n",
        "    def _cal_sun_time(lat:float, lon:float, year:float, month:float, day: float)->float:\n",
        "        location = ephem.Observer()\n",
        "        location.lat = str(lat)\n",
        "        location.lon = str(lon)\n",
        "        sun = ephem.Sun()\n",
        "\n",
        "        location.date = datetime.date(year = int(year), month = int(month), day = int(day))\n",
        "        sun_time_tmp1 = ephem.localtime(location.next_rising(sun)) - ephem.localtime(location.next_setting(sun))\n",
        "        sun_time_tmp2 = ephem.localtime(location.next_setting(sun)) - ephem.localtime(location.next_rising(sun))\n",
        "\n",
        "        sun_time = max(sun_time_tmp1.seconds, sun_time_tmp2.seconds)\n",
        "\n",
        "        return sun_time\n",
        "    if not \"sun_time\" in df_.columns:\n",
        "        u_cols = [\"lat\", \"lon\", \"year\", \"month\", \"day\"]\n",
        "\n",
        "        df_[\"sun_time\"] = -1\n",
        "        df_[\"week\"] = -1\n",
        "\n",
        "        mini_df = df_[u_cols]\n",
        "\n",
        "        sun_time = np.zeros(len(df_))\n",
        "        weeks = np.zeros(len(df_))\n",
        "        for i in tqdm(range(len(mini_df))):\n",
        "            lat, lon, year, month, day = mini_df.iloc[i]\n",
        "            sun_time[i] = _cal_sun_time(lat, lon, year, month, day)\n",
        "\n",
        "            # 曜日\n",
        "            date = datetime.date(int(year), int(month), int(day))\n",
        "            weeks[i] = date.weekday()\n",
        "\n",
        "        df_[\"sun_time\"] = sun_time\n",
        "        df_[\"week\"] = weeks\n",
        "\n",
        "        print(\"add sun_time, weeks\")\n",
        "    cnt += 2\n",
        "    mids = [\"co_mid\", \"o3_mid\", \"so2_mid\", \"no2_mid\", \"temperature_mid\", \"humidity_mid\", \"pressure_mid\", \"ws_mid\", \"dew_mid\"]\n",
        "    for i in range(len(mids)):\n",
        "        for j in range(i):\n",
        "            mid0, mid1 = mids[i], mids[j]\n",
        "            df_[f\"{mid0}+{mid1}\"] = df_[mid0] + df_[mid1]\n",
        "\n",
        "            cnt += 1\n",
        "    print(\"add mids + cal\")\n",
        "    print(f\"add {cnt} columns\")\n",
        "\n",
        "    return df_"
      ]
    },
    {
      "cell_type": "code",
      "execution_count": 170,
      "metadata": {
        "id": "90PpUjny14tH"
      },
      "outputs": [],
      "source": [
        "# numericals = Numericals()\n",
        "# 数字に関する変換\n",
        "# train_df_num = numericals.transform(train_df)\n",
        "\n",
        "# ラベルに関する変換\n",
        "# labelencoding = LabelEncoding(columns = [])\n",
        "\n",
        "# labelencoding.fit(train_df_num)\n",
        "# train_df_labeled = labelencoding.transform(train_df_num)"
      ]
    },
    {
      "cell_type": "code",
      "execution_count": 171,
      "metadata": {
        "id": "6YsXccMiCXvd"
      },
      "outputs": [],
      "source": [
        "class AbstractTreeModel:\n",
        "    def __init__(self, prediction_type=\"regression\"):\n",
        "        self.model = None\n",
        "        self.prediction_type = prediction_type\n",
        "\n",
        "    def train(self,\n",
        "              params: dict,\n",
        "              X_train: pd.DataFrame,\n",
        "              y_train: np.ndarray,\n",
        "              X_val: pd.DataFrame,\n",
        "              y_val: np.ndarray,\n",
        "              train_weights: Optional[np.ndarray] = None,\n",
        "              val_weights: Optional[np.ndarray] = None,\n",
        "              train_params: Optional[dict] = None):\n",
        "        if train_params is None:\n",
        "            train_params = {}\n",
        "\n",
        "        model = self._train(\n",
        "            params,\n",
        "            X_train, y_train,\n",
        "            X_val, y_val,\n",
        "            train_weights, val_weights,\n",
        "            train_params)\n",
        "        self.model = model\n",
        "        return self\n",
        "\n",
        "    def _train(self,\n",
        "               params,\n",
        "               X_train,\n",
        "               y_train,\n",
        "               X_val,\n",
        "               y_val,\n",
        "               train_weights,\n",
        "               val_weights,\n",
        "               train_params):\n",
        "        raise NotImplementedError\n",
        "\n",
        "    def predict(self, X: pd.DataFrame) -> np.ndarray:\n",
        "        raise NotImplementedError\n",
        "\n",
        "    @property\n",
        "    def feature_names_(self):\n",
        "        raise NotImplementedError\n",
        "\n",
        "    @property\n",
        "    def feature_importances_(self):\n",
        "        raise NotImplementedError\n",
        "\n",
        "    def _check_if_trained(self):\n",
        "        assert self.model is not None, \"You need to train the model first\"\n",
        "\n",
        "class LGBModel(AbstractTreeModel):\n",
        "    def _train(self,\n",
        "               params,\n",
        "               X_train, y_train,\n",
        "               X_val, y_val,\n",
        "               train_weights, val_weights,\n",
        "               train_params):\n",
        "        trn_data = lgb.Dataset(X_train, y_train, weight=train_weights)\n",
        "        val_data = lgb.Dataset(X_val, y_val, weight=val_weights)\n",
        "        model = lgb.train(params=params,\n",
        "                          train_set=trn_data,\n",
        "                          valid_sets=[trn_data, val_data],\n",
        "                          **train_params,)\n",
        "                        #   verbose_eval=False)\n",
        "        return model\n",
        "\n",
        "    def predict(self, X: pd.DataFrame) -> np.ndarray:\n",
        "        self._check_if_trained()\n",
        "        return self.model.predict(X, num_iteration=self.model.best_iteration)\n",
        "\n",
        "    @property\n",
        "    def feature_names_(self):\n",
        "        self._check_if_trained()\n",
        "        return self.model.feature_name()\n",
        "\n",
        "    @property\n",
        "    def feature_importances_(self):\n",
        "        self._check_if_trained()\n",
        "        return self.model.feature_importance(importance_type=\"gain\")\n",
        "\n",
        "def get_tree_model(name: str) -> Type[AbstractTreeModel]:\n",
        "    DEFINED_MODELS = {\n",
        "        \"lgb\": LGBModel,\n",
        "        # 実装していない\n",
        "        # \"xgb\": XGBModel,\n",
        "        # \"cat\": CatBoostModel\n",
        "    }\n",
        "    model = DEFINED_MODELS.get(name)\n",
        "    if model is None:\n",
        "        raise ValueError(\n",
        "            \"\"\"Invalid model name: {}.\n",
        "            Pre-defined model names are as follows: {}\"\"\".format(\n",
        "                name,\n",
        "                \",\".join(DEFINED_MODELS.keys())\n",
        "            ))\n",
        "    return model"
      ]
    },
    {
      "cell_type": "code",
      "execution_count": 172,
      "metadata": {
        "id": "70dJPb20ISl_"
      },
      "outputs": [],
      "source": [
        "def viz_feature_importances(feature_importances: pd.DataFrame)-> None:\n",
        "    fi_gby = feature_importances.groupby(\"feature\").agg({\n",
        "        \"importance\": [\"mean\", \"std\"]\n",
        "    }).sort_values((\"importance\", \"mean\"), ascending=0).index\n",
        "    plt.figure(figsize=(30, 20))\n",
        "\n",
        "    sns.barplot(x=\"importance\", y=\"feature\", data=feature_importances, order=fi_gby)\n",
        "\n",
        "    plt.title('LightGBM Features (avg over folds)')\n",
        "    plt.tight_layout()\n",
        "    plt.show()\n",
        "    # plt.savefig('lgbm_importances-01.png')"
      ]
    },
    {
      "cell_type": "code",
      "execution_count": 173,
      "metadata": {
        "id": "55k-amEm_9Xb"
      },
      "outputs": [],
      "source": [
        "train_params = {\n",
        "    \"num_boost_round\": 10000,\n",
        "    \"callbacks\": [\n",
        "                  lgb.early_stopping(stopping_rounds= 200, verbose=True),\n",
        "                  lgb.log_evaluation(period = 500)\n",
        "    ]\n",
        "}"
      ]
    },
    {
      "cell_type": "code",
      "execution_count": 174,
      "metadata": {
        "id": "gm7PQWKwWS7W"
      },
      "outputs": [],
      "source": [
        "num_cols = [c for c in train_df.columns if train_df[c].dtype != np.object]\n",
        "if \"id\" in num_cols:\n",
        "    num_cols.remove(\"id\")\n",
        "if \"kfold\" in num_cols:\n",
        "    num_cols.remove(\"kfold\")\n",
        "num_cols.remove(\"pm25_mid\")\n",
        "\n",
        "target_cols = \"pm25_mid\""
      ]
    },
    {
      "cell_type": "code",
      "source": [
        "train_df_ = preprocess(train_df)\n",
        "test_df_ = preprocess(test_df)"
      ],
      "metadata": {
        "colab": {
          "base_uri": "https://localhost:8080/",
          "height": 259,
          "referenced_widgets": [
            "1a1ee0a2bf7b482babb1a72ad3ccfc22",
            "3a3b674a86d04080b63086431b853abe",
            "57245ea6e5494dffba13d5b0c36c50db",
            "95df02066da1406e83062d4743d838de",
            "60fe68f5d79e471ba1e4268c4b8c20fd",
            "2fadd850f69f4a9695536d2bd72aab43",
            "da5faffd421a410b9104d96a2765d2ea",
            "e2444c7cf2dc4e8289408c418b06c35c",
            "c63b96ca4e774e46b797023927046f56",
            "c3aa340a7bac4d14affb1a8d6142b6dd",
            "e7d6acf04b864c0aaade04b3f92e37c2",
            "a235c4b7d9794e3a8c0a08d9b9fe63af",
            "c885be0b6d7641038f7ec295b9e88325",
            "ad5dfb8d15344245b0516317ac457d1c",
            "2beab0c766e244c6909dc1bdc8d486db",
            "079cbdfb8dc84ae49d887f6761b081e7",
            "b9a5e4c5735446e2827c2eeb392daa39",
            "4c5f5c2f955842fa8c6e1935e163999f",
            "9e42cf28419648738d585c25150185cb",
            "8829837743da4295aab7a02e6be5f458",
            "505405ef4b8d4747ae58d73b49c70727",
            "1f122c36f3224c098558b503531f0861"
          ]
        },
        "id": "ZP0XBQf8bDVK",
        "outputId": "b1e43911-e9e6-4683-f317-5d18437c95e3"
      },
      "execution_count": 175,
      "outputs": [
        {
          "output_type": "stream",
          "name": "stdout",
          "text": [
            "add lon_cos, lon_sin, month_cos, month_sin\n",
            "add month_world\n"
          ]
        },
        {
          "output_type": "display_data",
          "data": {
            "text/plain": [
              "  0%|          | 0/195941 [00:00<?, ?it/s]"
            ],
            "application/vnd.jupyter.widget-view+json": {
              "version_major": 2,
              "version_minor": 0,
              "model_id": "1a1ee0a2bf7b482babb1a72ad3ccfc22"
            }
          },
          "metadata": {}
        },
        {
          "output_type": "stream",
          "name": "stdout",
          "text": [
            "add sun_time, weeks\n",
            "add mids cal\n",
            "add 43 columns\n",
            "add lon_cos, lon_sin, month_cos, month_sin\n",
            "add month_world\n"
          ]
        },
        {
          "output_type": "display_data",
          "data": {
            "text/plain": [
              "  0%|          | 0/53509 [00:00<?, ?it/s]"
            ],
            "application/vnd.jupyter.widget-view+json": {
              "version_major": 2,
              "version_minor": 0,
              "model_id": "a235c4b7d9794e3a8c0a08d9b9fe63af"
            }
          },
          "metadata": {}
        },
        {
          "output_type": "stream",
          "name": "stdout",
          "text": [
            "add sun_time, weeks\n",
            "add mids cal\n",
            "add 43 columns\n"
          ]
        }
      ]
    },
    {
      "cell_type": "code",
      "source": [
        "cat_cols = [\"Country\", \"City\", \"year_month\", \"year_month_day\", \"month_day\", \"month_day_city\", \"month_day_country\"] \n",
        "\n",
        "num_cols = list(set(train_df_.columns) - set(cat_cols + [\"pm25_mid\", \"kfold\", \"id\"]))\n",
        "use_cols = num_cols + cat_cols"
      ],
      "metadata": {
        "id": "EYX6Hj-bxCq8"
      },
      "execution_count": 176,
      "outputs": []
    },
    {
      "cell_type": "code",
      "source": [
        "# num_cols"
      ],
      "metadata": {
        "id": "AkV2RavW_O7A"
      },
      "execution_count": 177,
      "outputs": []
    },
    {
      "cell_type": "code",
      "execution_count": 178,
      "metadata": {
        "id": "O7gneSfCue0V"
      },
      "outputs": [],
      "source": [
        "params= {\n",
        "        'boosting': 'gbdt',\n",
        "        'objective': 'rmse',\n",
        "        'metric': 'rmse',\n",
        "        'learning_rate': 0.01,\n",
        "        \"max_depth\": 16,\n",
        "        \"num_leaves\": 64,\n",
        "        'subsample': 0.7,\n",
        "        'subsample_freq': 1,\n",
        "        \"min_data_in_leaf\":30, \n",
        "        \"device\": \"gpu\",  \n",
        "        \"seed\":2022,\n",
        "}"
      ]
    },
    {
      "cell_type": "code",
      "execution_count": 179,
      "metadata": {
        "colab": {
          "base_uri": "https://localhost:8080/",
          "height": 1000
        },
        "id": "-7MEvpyAW-s_",
        "outputId": "02497452-40fa-4e02-9ae3-99ff09721db1"
      },
      "outputs": [
        {
          "output_type": "stream",
          "name": "stdout",
          "text": [
            "-----FOLD 1/5-----\n",
            "train_data nums: 156755, valid_data nums: 39186\n",
            "192\n",
            "[LightGBM] [Info] This is the GPU trainer!!\n",
            "[LightGBM] [Info] Total Bins 42043\n",
            "[LightGBM] [Info] Number of data points in the train set: 156755, number of used features: 184\n",
            "[LightGBM] [Info] Using GPU Device: Tesla T4, Vendor: NVIDIA Corporation\n",
            "[LightGBM] [Info] Compiling OpenCL Kernel with 256 bins...\n",
            "[LightGBM] [Info] GPU programs have been built\n",
            "[LightGBM] [Info] Size of histogram bin entry: 8\n",
            "[LightGBM] [Info] 184 dense feature groups (27.51 MB) transferred to GPU in 0.018670 secs. 0 sparse feature groups\n",
            "[LightGBM] [Info] Start training from score 58.695189\n",
            "Training until validation scores don't improve for 200 rounds\n",
            "[500]\ttraining's rmse: 19.5631\tvalid_1's rmse: 24.8054\n",
            "[1000]\ttraining's rmse: 18.2749\tvalid_1's rmse: 24.4012\n",
            "[1500]\ttraining's rmse: 17.4561\tvalid_1's rmse: 24.3078\n",
            "[2000]\ttraining's rmse: 16.8004\tvalid_1's rmse: 24.2458\n",
            "Early stopping, best iteration is:\n",
            "[2258]\ttraining's rmse: 16.5003\tvalid_1's rmse: 24.2384\n",
            "-----FOLD 2/5-----\n",
            "train_data nums: 156758, valid_data nums: 39183\n",
            "191\n",
            "[LightGBM] [Info] This is the GPU trainer!!\n",
            "[LightGBM] [Info] Total Bins 42034\n",
            "[LightGBM] [Info] Number of data points in the train set: 156758, number of used features: 184\n",
            "[LightGBM] [Info] Using GPU Device: Tesla T4, Vendor: NVIDIA Corporation\n",
            "[LightGBM] [Info] Compiling OpenCL Kernel with 256 bins...\n",
            "[LightGBM] [Info] GPU programs have been built\n",
            "[LightGBM] [Info] Size of histogram bin entry: 8\n",
            "[LightGBM] [Info] 184 dense feature groups (27.51 MB) transferred to GPU in 0.018175 secs. 0 sparse feature groups\n",
            "[LightGBM] [Info] Start training from score 59.317361\n",
            "Training until validation scores don't improve for 200 rounds\n",
            "[500]\ttraining's rmse: 19.7498\tvalid_1's rmse: 21.3464\n",
            "[1000]\ttraining's rmse: 18.4387\tvalid_1's rmse: 21.0302\n",
            "[1500]\ttraining's rmse: 17.6025\tvalid_1's rmse: 20.9427\n",
            "[2000]\ttraining's rmse: 16.9291\tvalid_1's rmse: 20.9223\n",
            "[2500]\ttraining's rmse: 16.3574\tvalid_1's rmse: 20.9032\n",
            "Early stopping, best iteration is:\n",
            "[2654]\ttraining's rmse: 16.1916\tvalid_1's rmse: 20.9025\n",
            "-----FOLD 3/5-----\n",
            "train_data nums: 156760, valid_data nums: 39181\n",
            "191\n",
            "[LightGBM] [Info] This is the GPU trainer!!\n",
            "[LightGBM] [Info] Total Bins 42051\n",
            "[LightGBM] [Info] Number of data points in the train set: 156760, number of used features: 184\n",
            "[LightGBM] [Info] Using GPU Device: Tesla T4, Vendor: NVIDIA Corporation\n",
            "[LightGBM] [Info] Compiling OpenCL Kernel with 256 bins...\n",
            "[LightGBM] [Info] GPU programs have been built\n",
            "[LightGBM] [Info] Size of histogram bin entry: 8\n",
            "[LightGBM] [Info] 184 dense feature groups (27.51 MB) transferred to GPU in 0.017533 secs. 0 sparse feature groups\n",
            "[LightGBM] [Info] Start training from score 60.259055\n",
            "Training until validation scores don't improve for 200 rounds\n"
          ]
        },
        {
          "output_type": "error",
          "ename": "KeyboardInterrupt",
          "evalue": "ignored",
          "traceback": [
            "\u001b[0;31m---------------------------------------------------------------------------\u001b[0m",
            "\u001b[0;31mKeyboardInterrupt\u001b[0m                         Traceback (most recent call last)",
            "\u001b[0;32m<ipython-input-179-078d04f726a7>\u001b[0m in \u001b[0;36m<module>\u001b[0;34m()\u001b[0m\n\u001b[1;32m     55\u001b[0m         \u001b[0my_train\u001b[0m \u001b[0;34m=\u001b[0m \u001b[0mtrain_data\u001b[0m\u001b[0;34m[\u001b[0m\u001b[0mtarget_cols\u001b[0m\u001b[0;34m]\u001b[0m\u001b[0;34m,\u001b[0m\u001b[0;34m\u001b[0m\u001b[0;34m\u001b[0m\u001b[0m\n\u001b[1;32m     56\u001b[0m         \u001b[0mX_val\u001b[0m \u001b[0;34m=\u001b[0m \u001b[0mvalid_data\u001b[0m\u001b[0;34m[\u001b[0m\u001b[0muse_cols\u001b[0m\u001b[0;34m]\u001b[0m\u001b[0;34m,\u001b[0m\u001b[0;34m\u001b[0m\u001b[0;34m\u001b[0m\u001b[0m\n\u001b[0;32m---> 57\u001b[0;31m         \u001b[0my_val\u001b[0m \u001b[0;34m=\u001b[0m \u001b[0mvalid_data\u001b[0m\u001b[0;34m[\u001b[0m\u001b[0mtarget_cols\u001b[0m\u001b[0;34m]\u001b[0m\u001b[0;34m,\u001b[0m\u001b[0;34m\u001b[0m\u001b[0;34m\u001b[0m\u001b[0m\n\u001b[0m\u001b[1;32m     58\u001b[0m     )\n\u001b[1;32m     59\u001b[0m     \u001b[0mmodels\u001b[0m\u001b[0;34m.\u001b[0m\u001b[0mappend\u001b[0m\u001b[0;34m(\u001b[0m\u001b[0mmodel\u001b[0m\u001b[0;34m)\u001b[0m\u001b[0;34m\u001b[0m\u001b[0;34m\u001b[0m\u001b[0m\n",
            "\u001b[0;32m<ipython-input-171-bc48b4baabf5>\u001b[0m in \u001b[0;36mtrain\u001b[0;34m(self, params, X_train, y_train, X_val, y_val, train_weights, val_weights, train_params)\u001b[0m\n\u001b[1;32m     21\u001b[0m             \u001b[0mX_val\u001b[0m\u001b[0;34m,\u001b[0m \u001b[0my_val\u001b[0m\u001b[0;34m,\u001b[0m\u001b[0;34m\u001b[0m\u001b[0;34m\u001b[0m\u001b[0m\n\u001b[1;32m     22\u001b[0m             \u001b[0mtrain_weights\u001b[0m\u001b[0;34m,\u001b[0m \u001b[0mval_weights\u001b[0m\u001b[0;34m,\u001b[0m\u001b[0;34m\u001b[0m\u001b[0;34m\u001b[0m\u001b[0m\n\u001b[0;32m---> 23\u001b[0;31m             train_params)\n\u001b[0m\u001b[1;32m     24\u001b[0m         \u001b[0mself\u001b[0m\u001b[0;34m.\u001b[0m\u001b[0mmodel\u001b[0m \u001b[0;34m=\u001b[0m \u001b[0mmodel\u001b[0m\u001b[0;34m\u001b[0m\u001b[0;34m\u001b[0m\u001b[0m\n\u001b[1;32m     25\u001b[0m         \u001b[0;32mreturn\u001b[0m \u001b[0mself\u001b[0m\u001b[0;34m\u001b[0m\u001b[0;34m\u001b[0m\u001b[0m\n",
            "\u001b[0;32m<ipython-input-171-bc48b4baabf5>\u001b[0m in \u001b[0;36m_train\u001b[0;34m(self, params, X_train, y_train, X_val, y_val, train_weights, val_weights, train_params)\u001b[0m\n\u001b[1;32m     63\u001b[0m                           \u001b[0mtrain_set\u001b[0m\u001b[0;34m=\u001b[0m\u001b[0mtrn_data\u001b[0m\u001b[0;34m,\u001b[0m\u001b[0;34m\u001b[0m\u001b[0;34m\u001b[0m\u001b[0m\n\u001b[1;32m     64\u001b[0m                           \u001b[0mvalid_sets\u001b[0m\u001b[0;34m=\u001b[0m\u001b[0;34m[\u001b[0m\u001b[0mtrn_data\u001b[0m\u001b[0;34m,\u001b[0m \u001b[0mval_data\u001b[0m\u001b[0;34m]\u001b[0m\u001b[0;34m,\u001b[0m\u001b[0;34m\u001b[0m\u001b[0;34m\u001b[0m\u001b[0m\n\u001b[0;32m---> 65\u001b[0;31m                           **train_params,)\n\u001b[0m\u001b[1;32m     66\u001b[0m                         \u001b[0;31m#   verbose_eval=False)\u001b[0m\u001b[0;34m\u001b[0m\u001b[0;34m\u001b[0m\u001b[0;34m\u001b[0m\u001b[0m\n\u001b[1;32m     67\u001b[0m         \u001b[0;32mreturn\u001b[0m \u001b[0mmodel\u001b[0m\u001b[0;34m\u001b[0m\u001b[0;34m\u001b[0m\u001b[0m\n",
            "\u001b[0;32m/content/LightGBM/python-package/lightgbm/engine.py\u001b[0m in \u001b[0;36mtrain\u001b[0;34m(params, train_set, num_boost_round, valid_sets, valid_names, feval, init_model, feature_name, categorical_feature, keep_training_booster, callbacks)\u001b[0m\n\u001b[1;32m    235\u001b[0m                                     evaluation_result_list=None))\n\u001b[1;32m    236\u001b[0m \u001b[0;34m\u001b[0m\u001b[0m\n\u001b[0;32m--> 237\u001b[0;31m         \u001b[0mbooster\u001b[0m\u001b[0;34m.\u001b[0m\u001b[0mupdate\u001b[0m\u001b[0;34m(\u001b[0m\u001b[0mfobj\u001b[0m\u001b[0;34m=\u001b[0m\u001b[0mfobj\u001b[0m\u001b[0;34m)\u001b[0m\u001b[0;34m\u001b[0m\u001b[0;34m\u001b[0m\u001b[0m\n\u001b[0m\u001b[1;32m    238\u001b[0m \u001b[0;34m\u001b[0m\u001b[0m\n\u001b[1;32m    239\u001b[0m         \u001b[0mevaluation_result_list\u001b[0m \u001b[0;34m=\u001b[0m \u001b[0;34m[\u001b[0m\u001b[0;34m]\u001b[0m\u001b[0;34m\u001b[0m\u001b[0;34m\u001b[0m\u001b[0m\n",
            "\u001b[0;32m/content/LightGBM/python-package/lightgbm/basic.py\u001b[0m in \u001b[0;36mupdate\u001b[0;34m(self, train_set, fobj)\u001b[0m\n\u001b[1;32m   3027\u001b[0m             _safe_call(_LIB.LGBM_BoosterUpdateOneIter(\n\u001b[1;32m   3028\u001b[0m                 \u001b[0mself\u001b[0m\u001b[0;34m.\u001b[0m\u001b[0mhandle\u001b[0m\u001b[0;34m,\u001b[0m\u001b[0;34m\u001b[0m\u001b[0;34m\u001b[0m\u001b[0m\n\u001b[0;32m-> 3029\u001b[0;31m                 ctypes.byref(is_finished)))\n\u001b[0m\u001b[1;32m   3030\u001b[0m             \u001b[0mself\u001b[0m\u001b[0;34m.\u001b[0m\u001b[0m__is_predicted_cur_iter\u001b[0m \u001b[0;34m=\u001b[0m \u001b[0;34m[\u001b[0m\u001b[0;32mFalse\u001b[0m \u001b[0;32mfor\u001b[0m \u001b[0m_\u001b[0m \u001b[0;32min\u001b[0m \u001b[0mrange\u001b[0m\u001b[0;34m(\u001b[0m\u001b[0mself\u001b[0m\u001b[0;34m.\u001b[0m\u001b[0m__num_dataset\u001b[0m\u001b[0;34m)\u001b[0m\u001b[0;34m]\u001b[0m\u001b[0;34m\u001b[0m\u001b[0;34m\u001b[0m\u001b[0m\n\u001b[1;32m   3031\u001b[0m             \u001b[0;32mreturn\u001b[0m \u001b[0mis_finished\u001b[0m\u001b[0;34m.\u001b[0m\u001b[0mvalue\u001b[0m \u001b[0;34m==\u001b[0m \u001b[0;36m1\u001b[0m\u001b[0;34m\u001b[0m\u001b[0;34m\u001b[0m\u001b[0m\n",
            "\u001b[0;31mKeyboardInterrupt\u001b[0m: "
          ]
        }
      ],
      "source": [
        "models = []\n",
        "\n",
        "oof_df = train_df_[[\"id\"]]\n",
        "oof_df[\"oof\"] = -1\n",
        "\n",
        "from lightgbm import early_stopping\n",
        "from lightgbm import log_evaluation\n",
        "\n",
        "test_df__ = copy.deepcopy(test_df_)\n",
        "\n",
        "for i in range(NUM_FOLDS):\n",
        "    model = get_tree_model(\"lgb\")()\n",
        "    train_data = train_df_[train_df_[\"kfold\"] != i].reset_index(drop = True)\n",
        "    valid_data = train_df_[train_df_[\"kfold\"] == i].reset_index(drop = True)\n",
        "    print(\"-\" * 5 + f\"FOLD {i + 1}/{NUM_FOLDS}\" + \"-\"*5)\n",
        "    print(f\"train_data nums: {len(train_data)}, valid_data nums: {len(valid_data)}\")\n",
        "\n",
        "    # fold内での最近傍を探す\n",
        "    train_data = train_df_[train_df_[\"kfold\"] != i].reset_index(drop = True)\n",
        "    print(len(train_data[\"City\"].unique()))\n",
        "\n",
        "    # 同じfoldの中で最近傍な都市があった場合はその年のtarget_encodingを実施\n",
        "    # nearest_city_fold_df = copy.deepcopy(nearest_city_df)\n",
        "    # fold_cities = train_data[\"City\"].unique()\n",
        "\n",
        "    # fold_nearest_cities = []\n",
        "    # for (base_c, city1, city2, city3) in nearest_sort_cities:\n",
        "    #     if city1 in fold_cities:\n",
        "    #         nearest_city = city1\n",
        "    #     elif city2 in fold_cities:\n",
        "    #         nearest_city = city2\n",
        "    #     elif city3 in fold_cities:\n",
        "    #         nearest_city = city3\n",
        "    #     fold_nearest_cities.append([base_c, nearest_city])\n",
        "    # fold_nearest_cities_df = pd.DataFrame(fold_nearest_cities, columns = [\"City\", \"nearest_city\"])\n",
        "\n",
        "    # target_en_bycities_ = target_en_bycities.rename(columns = {\"City\": \"nearest_city\", \"pm25_mid\": \"nearest_pm25_mid\"})\n",
        "    # fold_nearest_city_target_en = fold_nearest_cities_df.merge(target_en_bycities_, how = \"left\", on= \"nearest_city\")\n",
        "\n",
        "    # train_data = train_data.merge(fold_nearest_city_target_en, how = \"left\", on = \"City\")\n",
        "    # valid_data = valid_data.merge(fold_nearest_city_target_en, how = \"left\", on = \"City\")\n",
        "\n",
        "    for c in cat_cols:\n",
        "        le = LabelEncoder()\n",
        "        le.fit(pd.concat([train_df_, test_df_])[c])\n",
        "        train_data[c] = le.transform(train_data[c])\n",
        "        valid_data[c] = le.transform(valid_data[c])\n",
        "        if i == 0:\n",
        "            test_df__[c] = le.transform(test_df_[c])\n",
        "\n",
        "    model.train(\n",
        "        params,\n",
        "        train_params = train_params,\n",
        "        X_train = train_data[use_cols],\n",
        "        y_train = train_data[target_cols],\n",
        "        X_val = valid_data[use_cols],\n",
        "        y_val = valid_data[target_cols],\n",
        "    )\n",
        "    models.append(model)\n",
        "\n",
        "    feature_importance = pd.DataFrame()\n",
        "    feature_importance[\"feature\"] = model.feature_names_\n",
        "    feature_importance[\"importance\"] = model.feature_importances_\n",
        "    feature_importance[\"fold\"] = i\n",
        "\n",
        "    oof = model.predict(\n",
        "        valid_data[use_cols]\n",
        "    )\n",
        "    oof_df.loc[train_df[\"kfold\"] == i, \"oof\"] = oof\n",
        "\n",
        "train_oof = train_df.merge(oof_df[[\"id\", \"oof\"]], on = \"id\", how = \"left\")"
      ]
    },
    {
      "cell_type": "code",
      "execution_count": null,
      "metadata": {
        "id": "SCZb-hXEIIkr"
      },
      "outputs": [],
      "source": [
        "viz_feature_importances(feature_importance)"
      ]
    },
    {
      "cell_type": "code",
      "source": [
        "a = np.clip(train_oof[\"oof\"], 0, 450)"
      ],
      "metadata": {
        "id": "GaKTbVz7D1ft"
      },
      "execution_count": null,
      "outputs": []
    },
    {
      "cell_type": "code",
      "execution_count": null,
      "metadata": {
        "id": "vIAV6MGrJ1IF"
      },
      "outputs": [],
      "source": [
        "oof_score = np.sqrt(mean_squared_error(train_oof[\"pm25_mid\"], a))\n",
        "oof_score = format(oof_score, \".4f\")\n",
        "print(f\"oof score: {oof_score}\")\n",
        "\n",
        "### d_cs_flg 21.89 ###\n",
        "\n",
        "# 24.11\n",
        "# 20.85"
      ]
    },
    {
      "cell_type": "code",
      "execution_count": 159,
      "metadata": {
        "id": "eAWRkjDaaIta"
      },
      "outputs": [],
      "source": [
        "train_oof[[\"id\",\"pm25_mid\", \"kfold\", \"oof\"]].to_csv(os.path.join(OOF_DIR, \"oof.csv\"), index= False)"
      ]
    },
    {
      "cell_type": "markdown",
      "metadata": {
        "id": "8vAXJVnWSySV"
      },
      "source": [
        "# predict"
      ]
    },
    {
      "cell_type": "code",
      "execution_count": 160,
      "metadata": {
        "id": "p1434DZVHg0W"
      },
      "outputs": [],
      "source": [
        "sum_predict = None\n",
        "for model in models:\n",
        "    predict = model.predict(\n",
        "        test_df__[use_cols],\n",
        "    )\n",
        "    if sum_predict is None:\n",
        "        sum_predict = predict\n",
        "    else:\n",
        "        sum_predict += predict\n",
        "\n",
        "mean_predict = sum_predict / len(models)"
      ]
    },
    {
      "cell_type": "code",
      "execution_count": 161,
      "metadata": {
        "id": "LjcrS25rrje9",
        "colab": {
          "base_uri": "https://localhost:8080/"
        },
        "outputId": "f6e8a590-3d4b-4823-816b-44386fa4515a"
      },
      "outputs": [
        {
          "output_type": "stream",
          "name": "stdout",
          "text": [
            "53509\n",
            "(53509, 2)\n",
            "(53509, 65)\n"
          ]
        }
      ],
      "source": [
        "print(len(mean_predict))\n",
        "print(sample_df.shape)\n",
        "print(test_df.shape)"
      ]
    },
    {
      "cell_type": "code",
      "execution_count": 162,
      "metadata": {
        "id": "xot64X_yHg4L"
      },
      "outputs": [],
      "source": [
        "sample_df.loc[:,\"predict\"] = np.clip(mean_predict, 0, 450)"
      ]
    },
    {
      "cell_type": "code",
      "execution_count": 163,
      "metadata": {
        "id": "kVae9iW6cL0D",
        "colab": {
          "base_uri": "https://localhost:8080/",
          "height": 206
        },
        "outputId": "33f059dc-b690-4d62-925f-dda34948e0cc"
      },
      "outputs": [
        {
          "output_type": "execute_result",
          "data": {
            "text/plain": [
              "       id     predict\n",
              "0  195942   26.365492\n",
              "1  195943   37.491445\n",
              "2  195944   24.214969\n",
              "3  195945   58.349248\n",
              "4  195946  132.769736"
            ],
            "text/html": [
              "\n",
              "  <div id=\"df-aa9fa1a8-56a6-4529-9365-185b61125a2b\">\n",
              "    <div class=\"colab-df-container\">\n",
              "      <div>\n",
              "<style scoped>\n",
              "    .dataframe tbody tr th:only-of-type {\n",
              "        vertical-align: middle;\n",
              "    }\n",
              "\n",
              "    .dataframe tbody tr th {\n",
              "        vertical-align: top;\n",
              "    }\n",
              "\n",
              "    .dataframe thead th {\n",
              "        text-align: right;\n",
              "    }\n",
              "</style>\n",
              "<table border=\"1\" class=\"dataframe\">\n",
              "  <thead>\n",
              "    <tr style=\"text-align: right;\">\n",
              "      <th></th>\n",
              "      <th>id</th>\n",
              "      <th>predict</th>\n",
              "    </tr>\n",
              "  </thead>\n",
              "  <tbody>\n",
              "    <tr>\n",
              "      <th>0</th>\n",
              "      <td>195942</td>\n",
              "      <td>26.365492</td>\n",
              "    </tr>\n",
              "    <tr>\n",
              "      <th>1</th>\n",
              "      <td>195943</td>\n",
              "      <td>37.491445</td>\n",
              "    </tr>\n",
              "    <tr>\n",
              "      <th>2</th>\n",
              "      <td>195944</td>\n",
              "      <td>24.214969</td>\n",
              "    </tr>\n",
              "    <tr>\n",
              "      <th>3</th>\n",
              "      <td>195945</td>\n",
              "      <td>58.349248</td>\n",
              "    </tr>\n",
              "    <tr>\n",
              "      <th>4</th>\n",
              "      <td>195946</td>\n",
              "      <td>132.769736</td>\n",
              "    </tr>\n",
              "  </tbody>\n",
              "</table>\n",
              "</div>\n",
              "      <button class=\"colab-df-convert\" onclick=\"convertToInteractive('df-aa9fa1a8-56a6-4529-9365-185b61125a2b')\"\n",
              "              title=\"Convert this dataframe to an interactive table.\"\n",
              "              style=\"display:none;\">\n",
              "        \n",
              "  <svg xmlns=\"http://www.w3.org/2000/svg\" height=\"24px\"viewBox=\"0 0 24 24\"\n",
              "       width=\"24px\">\n",
              "    <path d=\"M0 0h24v24H0V0z\" fill=\"none\"/>\n",
              "    <path d=\"M18.56 5.44l.94 2.06.94-2.06 2.06-.94-2.06-.94-.94-2.06-.94 2.06-2.06.94zm-11 1L8.5 8.5l.94-2.06 2.06-.94-2.06-.94L8.5 2.5l-.94 2.06-2.06.94zm10 10l.94 2.06.94-2.06 2.06-.94-2.06-.94-.94-2.06-.94 2.06-2.06.94z\"/><path d=\"M17.41 7.96l-1.37-1.37c-.4-.4-.92-.59-1.43-.59-.52 0-1.04.2-1.43.59L10.3 9.45l-7.72 7.72c-.78.78-.78 2.05 0 2.83L4 21.41c.39.39.9.59 1.41.59.51 0 1.02-.2 1.41-.59l7.78-7.78 2.81-2.81c.8-.78.8-2.07 0-2.86zM5.41 20L4 18.59l7.72-7.72 1.47 1.35L5.41 20z\"/>\n",
              "  </svg>\n",
              "      </button>\n",
              "      \n",
              "  <style>\n",
              "    .colab-df-container {\n",
              "      display:flex;\n",
              "      flex-wrap:wrap;\n",
              "      gap: 12px;\n",
              "    }\n",
              "\n",
              "    .colab-df-convert {\n",
              "      background-color: #E8F0FE;\n",
              "      border: none;\n",
              "      border-radius: 50%;\n",
              "      cursor: pointer;\n",
              "      display: none;\n",
              "      fill: #1967D2;\n",
              "      height: 32px;\n",
              "      padding: 0 0 0 0;\n",
              "      width: 32px;\n",
              "    }\n",
              "\n",
              "    .colab-df-convert:hover {\n",
              "      background-color: #E2EBFA;\n",
              "      box-shadow: 0px 1px 2px rgba(60, 64, 67, 0.3), 0px 1px 3px 1px rgba(60, 64, 67, 0.15);\n",
              "      fill: #174EA6;\n",
              "    }\n",
              "\n",
              "    [theme=dark] .colab-df-convert {\n",
              "      background-color: #3B4455;\n",
              "      fill: #D2E3FC;\n",
              "    }\n",
              "\n",
              "    [theme=dark] .colab-df-convert:hover {\n",
              "      background-color: #434B5C;\n",
              "      box-shadow: 0px 1px 3px 1px rgba(0, 0, 0, 0.15);\n",
              "      filter: drop-shadow(0px 1px 2px rgba(0, 0, 0, 0.3));\n",
              "      fill: #FFFFFF;\n",
              "    }\n",
              "  </style>\n",
              "\n",
              "      <script>\n",
              "        const buttonEl =\n",
              "          document.querySelector('#df-aa9fa1a8-56a6-4529-9365-185b61125a2b button.colab-df-convert');\n",
              "        buttonEl.style.display =\n",
              "          google.colab.kernel.accessAllowed ? 'block' : 'none';\n",
              "\n",
              "        async function convertToInteractive(key) {\n",
              "          const element = document.querySelector('#df-aa9fa1a8-56a6-4529-9365-185b61125a2b');\n",
              "          const dataTable =\n",
              "            await google.colab.kernel.invokeFunction('convertToInteractive',\n",
              "                                                     [key], {});\n",
              "          if (!dataTable) return;\n",
              "\n",
              "          const docLinkHtml = 'Like what you see? Visit the ' +\n",
              "            '<a target=\"_blank\" href=https://colab.research.google.com/notebooks/data_table.ipynb>data table notebook</a>'\n",
              "            + ' to learn more about interactive tables.';\n",
              "          element.innerHTML = '';\n",
              "          dataTable['output_type'] = 'display_data';\n",
              "          await google.colab.output.renderOutput(dataTable, element);\n",
              "          const docLink = document.createElement('div');\n",
              "          docLink.innerHTML = docLinkHtml;\n",
              "          element.appendChild(docLink);\n",
              "        }\n",
              "      </script>\n",
              "    </div>\n",
              "  </div>\n",
              "  "
            ]
          },
          "metadata": {},
          "execution_count": 163
        }
      ],
      "source": [
        "sample_df.head()"
      ]
    },
    {
      "cell_type": "code",
      "execution_count": 164,
      "metadata": {
        "id": "87NkPMdTSrmH"
      },
      "outputs": [],
      "source": [
        "sample_df.to_csv(os.path.join(SUB_DIR, \"submission.csv\"), index= False, header = False)"
      ]
    },
    {
      "cell_type": "markdown",
      "metadata": {
        "id": "ZO0WqelkHyfS"
      },
      "source": [
        "# submit"
      ]
    },
    {
      "cell_type": "code",
      "execution_count": 165,
      "metadata": {
        "id": "PhTe6h6yDH8X",
        "colab": {
          "base_uri": "https://localhost:8080/"
        },
        "outputId": "8b4a0004-3921-4616-9fc4-7428076152b4"
      },
      "outputs": [
        {
          "output_type": "stream",
          "name": "stdout",
          "text": [
            "\u001b[31mERROR: pip's dependency resolver does not currently take into account all the packages that are installed. This behaviour is the source of the following dependency conflicts.\n",
            "tensorflow 2.8.0 requires tf-estimator-nightly==2.8.0.dev2021122109, which is not installed.\n",
            "requests 2.23.0 requires urllib3!=1.25.0,!=1.25.1,<1.26,>=1.21.1, but you have urllib3 1.26.9 which is incompatible.\n",
            "google-colab 1.0.0 requires six~=1.15.0, but you have six 1.16.0 which is incompatible.\n",
            "datascience 0.10.6 requires folium==0.2.1, but you have folium 0.8.3 which is incompatible.\n",
            "albumentations 0.1.12 requires imgaug<0.2.7,>=0.2.5, but you have imgaug 0.2.9 which is incompatible.\u001b[0m\n"
          ]
        }
      ],
      "source": [
        "!pip install signate > /dev/null\n",
        "!mkdir /root/.signate\n",
        "!cp /content/drive/MyDrive/signate/signate.json /root/.signate/signate.json"
      ]
    },
    {
      "cell_type": "code",
      "execution_count": 166,
      "metadata": {
        "id": "oSmQPSHLTX6E"
      },
      "outputs": [],
      "source": [
        "submission_file = os.path.join(SUB_DIR, \"submission.csv\")"
      ]
    },
    {
      "cell_type": "code",
      "execution_count": 167,
      "metadata": {
        "id": "8yM6uPondJnm",
        "colab": {
          "base_uri": "https://localhost:8080/",
          "height": 35
        },
        "outputId": "dc8f5c4e-4829-4a8b-e86d-a479920117ce"
      },
      "outputs": [
        {
          "output_type": "execute_result",
          "data": {
            "text/plain": [
              "'cv:21.8989_FP022-021'"
            ],
            "application/vnd.google.colaboratory.intrinsic+json": {
              "type": "string"
            }
          },
          "metadata": {},
          "execution_count": 167
        }
      ],
      "source": [
        "comment = f\"cv:{oof_score}_\" + NOTEBOOK_NAME\n",
        "comment"
      ]
    },
    {
      "cell_type": "markdown",
      "metadata": {
        "id": "LvoIkzVdibh-"
      },
      "source": [
        "# Submit"
      ]
    },
    {
      "cell_type": "code",
      "execution_count": 168,
      "metadata": {
        "id": "69-UNJ1YTuej",
        "colab": {
          "base_uri": "https://localhost:8080/"
        },
        "outputId": "b55f231e-8808-494e-a81f-a39abdf41523"
      },
      "outputs": [
        {
          "output_type": "stream",
          "name": "stdout",
          "text": [
            "\u001b[32mYou have successfully submitted your predictions.We will send you the submission result to your email address.\u001b[0m\n"
          ]
        }
      ],
      "source": [
        "# !signate submit --competition-id=624 {submission_file} --note {comment}"
      ]
    },
    {
      "cell_type": "code",
      "source": [
        ""
      ],
      "metadata": {
        "id": "OhKj-ijxqL1-"
      },
      "execution_count": null,
      "outputs": []
    },
    {
      "cell_type": "markdown",
      "metadata": {
        "id": "fdianTtHED1W"
      },
      "source": [
        "https://signate.jp/competitions/624/submissions"
      ]
    },
    {
      "cell_type": "code",
      "execution_count": null,
      "metadata": {
        "id": "RrKqaQNXq6HS"
      },
      "outputs": [],
      "source": [
        "train_df[[\"City\", \"month\", \"pm25_mid\"]].groupby([\"City\"]).describe()"
      ]
    },
    {
      "cell_type": "code",
      "source": [
        "train_df.columns"
      ],
      "metadata": {
        "id": "Zf19grzU6L2A"
      },
      "execution_count": null,
      "outputs": []
    },
    {
      "cell_type": "code",
      "source": [
        "train_df[[\"co_cnt\", \"co_var\", \"co_min\", \"co_max\", \"co_mid\"]]"
      ],
      "metadata": {
        "id": "qXndbaZZ5NF8"
      },
      "execution_count": null,
      "outputs": []
    },
    {
      "cell_type": "code",
      "source": [
        "gen = np.random.default_rng()\n",
        "\n",
        "rnd = gen.normal(size=38)\n",
        "\n",
        "print(len(rnd), rnd.mean(), rnd.std())"
      ],
      "metadata": {
        "id": "TR28Gf_Q9J2V"
      },
      "execution_count": null,
      "outputs": []
    },
    {
      "cell_type": "code",
      "execution_count": null,
      "metadata": {
        "id": "MVDD0781EEep"
      },
      "outputs": [],
      "source": [
        "plt.hist(train_df[train_df[\"City\"] == \"Adapazarı\"][\"pm25_mid\"], bins = 100)"
      ]
    },
    {
      "cell_type": "code",
      "source": [
        ""
      ],
      "metadata": {
        "id": "TGGg9zDl4-nn"
      },
      "execution_count": null,
      "outputs": []
    }
  ],
  "metadata": {
    "accelerator": "GPU",
    "colab": {
      "collapsed_sections": [
        "8vAXJVnWSySV",
        "ZO0WqelkHyfS"
      ],
      "machine_shape": "hm",
      "name": "FP022-021",
      "provenance": [],
      "authorship_tag": "ABX9TyMa4ogD17ewWHW2LLuRWHoL",
      "include_colab_link": true
    },
    "kernelspec": {
      "display_name": "Python 3",
      "name": "python3"
    },
    "language_info": {
      "name": "python"
    },
    "widgets": {
      "application/vnd.jupyter.widget-state+json": {
        "d1b61283884a4f4b8f2d8eeaccc61b00": {
          "model_module": "@jupyter-widgets/controls",
          "model_name": "HBoxModel",
          "model_module_version": "1.5.0",
          "state": {
            "_dom_classes": [],
            "_model_module": "@jupyter-widgets/controls",
            "_model_module_version": "1.5.0",
            "_model_name": "HBoxModel",
            "_view_count": null,
            "_view_module": "@jupyter-widgets/controls",
            "_view_module_version": "1.5.0",
            "_view_name": "HBoxView",
            "box_style": "",
            "children": [
              "IPY_MODEL_286b654c09584c5294835c1a2601d84c",
              "IPY_MODEL_cc4fa0b020a3414c85d27bcf7c8b94e7",
              "IPY_MODEL_1a0852241b4b4805b8420c8754a92bcb"
            ],
            "layout": "IPY_MODEL_d551d6c8950b46d085be98e10db55099"
          }
        },
        "286b654c09584c5294835c1a2601d84c": {
          "model_module": "@jupyter-widgets/controls",
          "model_name": "HTMLModel",
          "model_module_version": "1.5.0",
          "state": {
            "_dom_classes": [],
            "_model_module": "@jupyter-widgets/controls",
            "_model_module_version": "1.5.0",
            "_model_name": "HTMLModel",
            "_view_count": null,
            "_view_module": "@jupyter-widgets/controls",
            "_view_module_version": "1.5.0",
            "_view_name": "HTMLView",
            "description": "",
            "description_tooltip": null,
            "layout": "IPY_MODEL_a1b12882026c47b28f5cf18c3d3e9a37",
            "placeholder": "​",
            "style": "IPY_MODEL_05184b31a97c46dd9ea9e5c1dd763366",
            "value": "100%"
          }
        },
        "cc4fa0b020a3414c85d27bcf7c8b94e7": {
          "model_module": "@jupyter-widgets/controls",
          "model_name": "FloatProgressModel",
          "model_module_version": "1.5.0",
          "state": {
            "_dom_classes": [],
            "_model_module": "@jupyter-widgets/controls",
            "_model_module_version": "1.5.0",
            "_model_name": "FloatProgressModel",
            "_view_count": null,
            "_view_module": "@jupyter-widgets/controls",
            "_view_module_version": "1.5.0",
            "_view_name": "ProgressView",
            "bar_style": "success",
            "description": "",
            "description_tooltip": null,
            "layout": "IPY_MODEL_b59689f0c25248ac803354de44c53cc9",
            "max": 302,
            "min": 0,
            "orientation": "horizontal",
            "style": "IPY_MODEL_633bf1afc2b54132a7ff24013e35b735",
            "value": 302
          }
        },
        "1a0852241b4b4805b8420c8754a92bcb": {
          "model_module": "@jupyter-widgets/controls",
          "model_name": "HTMLModel",
          "model_module_version": "1.5.0",
          "state": {
            "_dom_classes": [],
            "_model_module": "@jupyter-widgets/controls",
            "_model_module_version": "1.5.0",
            "_model_name": "HTMLModel",
            "_view_count": null,
            "_view_module": "@jupyter-widgets/controls",
            "_view_module_version": "1.5.0",
            "_view_name": "HTMLView",
            "description": "",
            "description_tooltip": null,
            "layout": "IPY_MODEL_e6d2d228d05240649d2ace4a8fdf77a0",
            "placeholder": "​",
            "style": "IPY_MODEL_2f1a5d383b9147cdbb5bd6238978f393",
            "value": " 302/302 [00:43&lt;00:00,  7.68it/s]"
          }
        },
        "d551d6c8950b46d085be98e10db55099": {
          "model_module": "@jupyter-widgets/base",
          "model_name": "LayoutModel",
          "model_module_version": "1.2.0",
          "state": {
            "_model_module": "@jupyter-widgets/base",
            "_model_module_version": "1.2.0",
            "_model_name": "LayoutModel",
            "_view_count": null,
            "_view_module": "@jupyter-widgets/base",
            "_view_module_version": "1.2.0",
            "_view_name": "LayoutView",
            "align_content": null,
            "align_items": null,
            "align_self": null,
            "border": null,
            "bottom": null,
            "display": null,
            "flex": null,
            "flex_flow": null,
            "grid_area": null,
            "grid_auto_columns": null,
            "grid_auto_flow": null,
            "grid_auto_rows": null,
            "grid_column": null,
            "grid_gap": null,
            "grid_row": null,
            "grid_template_areas": null,
            "grid_template_columns": null,
            "grid_template_rows": null,
            "height": null,
            "justify_content": null,
            "justify_items": null,
            "left": null,
            "margin": null,
            "max_height": null,
            "max_width": null,
            "min_height": null,
            "min_width": null,
            "object_fit": null,
            "object_position": null,
            "order": null,
            "overflow": null,
            "overflow_x": null,
            "overflow_y": null,
            "padding": null,
            "right": null,
            "top": null,
            "visibility": null,
            "width": null
          }
        },
        "a1b12882026c47b28f5cf18c3d3e9a37": {
          "model_module": "@jupyter-widgets/base",
          "model_name": "LayoutModel",
          "model_module_version": "1.2.0",
          "state": {
            "_model_module": "@jupyter-widgets/base",
            "_model_module_version": "1.2.0",
            "_model_name": "LayoutModel",
            "_view_count": null,
            "_view_module": "@jupyter-widgets/base",
            "_view_module_version": "1.2.0",
            "_view_name": "LayoutView",
            "align_content": null,
            "align_items": null,
            "align_self": null,
            "border": null,
            "bottom": null,
            "display": null,
            "flex": null,
            "flex_flow": null,
            "grid_area": null,
            "grid_auto_columns": null,
            "grid_auto_flow": null,
            "grid_auto_rows": null,
            "grid_column": null,
            "grid_gap": null,
            "grid_row": null,
            "grid_template_areas": null,
            "grid_template_columns": null,
            "grid_template_rows": null,
            "height": null,
            "justify_content": null,
            "justify_items": null,
            "left": null,
            "margin": null,
            "max_height": null,
            "max_width": null,
            "min_height": null,
            "min_width": null,
            "object_fit": null,
            "object_position": null,
            "order": null,
            "overflow": null,
            "overflow_x": null,
            "overflow_y": null,
            "padding": null,
            "right": null,
            "top": null,
            "visibility": null,
            "width": null
          }
        },
        "05184b31a97c46dd9ea9e5c1dd763366": {
          "model_module": "@jupyter-widgets/controls",
          "model_name": "DescriptionStyleModel",
          "model_module_version": "1.5.0",
          "state": {
            "_model_module": "@jupyter-widgets/controls",
            "_model_module_version": "1.5.0",
            "_model_name": "DescriptionStyleModel",
            "_view_count": null,
            "_view_module": "@jupyter-widgets/base",
            "_view_module_version": "1.2.0",
            "_view_name": "StyleView",
            "description_width": ""
          }
        },
        "b59689f0c25248ac803354de44c53cc9": {
          "model_module": "@jupyter-widgets/base",
          "model_name": "LayoutModel",
          "model_module_version": "1.2.0",
          "state": {
            "_model_module": "@jupyter-widgets/base",
            "_model_module_version": "1.2.0",
            "_model_name": "LayoutModel",
            "_view_count": null,
            "_view_module": "@jupyter-widgets/base",
            "_view_module_version": "1.2.0",
            "_view_name": "LayoutView",
            "align_content": null,
            "align_items": null,
            "align_self": null,
            "border": null,
            "bottom": null,
            "display": null,
            "flex": null,
            "flex_flow": null,
            "grid_area": null,
            "grid_auto_columns": null,
            "grid_auto_flow": null,
            "grid_auto_rows": null,
            "grid_column": null,
            "grid_gap": null,
            "grid_row": null,
            "grid_template_areas": null,
            "grid_template_columns": null,
            "grid_template_rows": null,
            "height": null,
            "justify_content": null,
            "justify_items": null,
            "left": null,
            "margin": null,
            "max_height": null,
            "max_width": null,
            "min_height": null,
            "min_width": null,
            "object_fit": null,
            "object_position": null,
            "order": null,
            "overflow": null,
            "overflow_x": null,
            "overflow_y": null,
            "padding": null,
            "right": null,
            "top": null,
            "visibility": null,
            "width": null
          }
        },
        "633bf1afc2b54132a7ff24013e35b735": {
          "model_module": "@jupyter-widgets/controls",
          "model_name": "ProgressStyleModel",
          "model_module_version": "1.5.0",
          "state": {
            "_model_module": "@jupyter-widgets/controls",
            "_model_module_version": "1.5.0",
            "_model_name": "ProgressStyleModel",
            "_view_count": null,
            "_view_module": "@jupyter-widgets/base",
            "_view_module_version": "1.2.0",
            "_view_name": "StyleView",
            "bar_color": null,
            "description_width": ""
          }
        },
        "e6d2d228d05240649d2ace4a8fdf77a0": {
          "model_module": "@jupyter-widgets/base",
          "model_name": "LayoutModel",
          "model_module_version": "1.2.0",
          "state": {
            "_model_module": "@jupyter-widgets/base",
            "_model_module_version": "1.2.0",
            "_model_name": "LayoutModel",
            "_view_count": null,
            "_view_module": "@jupyter-widgets/base",
            "_view_module_version": "1.2.0",
            "_view_name": "LayoutView",
            "align_content": null,
            "align_items": null,
            "align_self": null,
            "border": null,
            "bottom": null,
            "display": null,
            "flex": null,
            "flex_flow": null,
            "grid_area": null,
            "grid_auto_columns": null,
            "grid_auto_flow": null,
            "grid_auto_rows": null,
            "grid_column": null,
            "grid_gap": null,
            "grid_row": null,
            "grid_template_areas": null,
            "grid_template_columns": null,
            "grid_template_rows": null,
            "height": null,
            "justify_content": null,
            "justify_items": null,
            "left": null,
            "margin": null,
            "max_height": null,
            "max_width": null,
            "min_height": null,
            "min_width": null,
            "object_fit": null,
            "object_position": null,
            "order": null,
            "overflow": null,
            "overflow_x": null,
            "overflow_y": null,
            "padding": null,
            "right": null,
            "top": null,
            "visibility": null,
            "width": null
          }
        },
        "2f1a5d383b9147cdbb5bd6238978f393": {
          "model_module": "@jupyter-widgets/controls",
          "model_name": "DescriptionStyleModel",
          "model_module_version": "1.5.0",
          "state": {
            "_model_module": "@jupyter-widgets/controls",
            "_model_module_version": "1.5.0",
            "_model_name": "DescriptionStyleModel",
            "_view_count": null,
            "_view_module": "@jupyter-widgets/base",
            "_view_module_version": "1.2.0",
            "_view_name": "StyleView",
            "description_width": ""
          }
        },
        "1a1ee0a2bf7b482babb1a72ad3ccfc22": {
          "model_module": "@jupyter-widgets/controls",
          "model_name": "HBoxModel",
          "model_module_version": "1.5.0",
          "state": {
            "_dom_classes": [],
            "_model_module": "@jupyter-widgets/controls",
            "_model_module_version": "1.5.0",
            "_model_name": "HBoxModel",
            "_view_count": null,
            "_view_module": "@jupyter-widgets/controls",
            "_view_module_version": "1.5.0",
            "_view_name": "HBoxView",
            "box_style": "",
            "children": [
              "IPY_MODEL_3a3b674a86d04080b63086431b853abe",
              "IPY_MODEL_57245ea6e5494dffba13d5b0c36c50db",
              "IPY_MODEL_95df02066da1406e83062d4743d838de"
            ],
            "layout": "IPY_MODEL_60fe68f5d79e471ba1e4268c4b8c20fd"
          }
        },
        "3a3b674a86d04080b63086431b853abe": {
          "model_module": "@jupyter-widgets/controls",
          "model_name": "HTMLModel",
          "model_module_version": "1.5.0",
          "state": {
            "_dom_classes": [],
            "_model_module": "@jupyter-widgets/controls",
            "_model_module_version": "1.5.0",
            "_model_name": "HTMLModel",
            "_view_count": null,
            "_view_module": "@jupyter-widgets/controls",
            "_view_module_version": "1.5.0",
            "_view_name": "HTMLView",
            "description": "",
            "description_tooltip": null,
            "layout": "IPY_MODEL_2fadd850f69f4a9695536d2bd72aab43",
            "placeholder": "​",
            "style": "IPY_MODEL_da5faffd421a410b9104d96a2765d2ea",
            "value": "100%"
          }
        },
        "57245ea6e5494dffba13d5b0c36c50db": {
          "model_module": "@jupyter-widgets/controls",
          "model_name": "FloatProgressModel",
          "model_module_version": "1.5.0",
          "state": {
            "_dom_classes": [],
            "_model_module": "@jupyter-widgets/controls",
            "_model_module_version": "1.5.0",
            "_model_name": "FloatProgressModel",
            "_view_count": null,
            "_view_module": "@jupyter-widgets/controls",
            "_view_module_version": "1.5.0",
            "_view_name": "ProgressView",
            "bar_style": "success",
            "description": "",
            "description_tooltip": null,
            "layout": "IPY_MODEL_e2444c7cf2dc4e8289408c418b06c35c",
            "max": 195941,
            "min": 0,
            "orientation": "horizontal",
            "style": "IPY_MODEL_c63b96ca4e774e46b797023927046f56",
            "value": 195941
          }
        },
        "95df02066da1406e83062d4743d838de": {
          "model_module": "@jupyter-widgets/controls",
          "model_name": "HTMLModel",
          "model_module_version": "1.5.0",
          "state": {
            "_dom_classes": [],
            "_model_module": "@jupyter-widgets/controls",
            "_model_module_version": "1.5.0",
            "_model_name": "HTMLModel",
            "_view_count": null,
            "_view_module": "@jupyter-widgets/controls",
            "_view_module_version": "1.5.0",
            "_view_name": "HTMLView",
            "description": "",
            "description_tooltip": null,
            "layout": "IPY_MODEL_c3aa340a7bac4d14affb1a8d6142b6dd",
            "placeholder": "​",
            "style": "IPY_MODEL_e7d6acf04b864c0aaade04b3f92e37c2",
            "value": " 195941/195941 [01:49&lt;00:00, 1839.03it/s]"
          }
        },
        "60fe68f5d79e471ba1e4268c4b8c20fd": {
          "model_module": "@jupyter-widgets/base",
          "model_name": "LayoutModel",
          "model_module_version": "1.2.0",
          "state": {
            "_model_module": "@jupyter-widgets/base",
            "_model_module_version": "1.2.0",
            "_model_name": "LayoutModel",
            "_view_count": null,
            "_view_module": "@jupyter-widgets/base",
            "_view_module_version": "1.2.0",
            "_view_name": "LayoutView",
            "align_content": null,
            "align_items": null,
            "align_self": null,
            "border": null,
            "bottom": null,
            "display": null,
            "flex": null,
            "flex_flow": null,
            "grid_area": null,
            "grid_auto_columns": null,
            "grid_auto_flow": null,
            "grid_auto_rows": null,
            "grid_column": null,
            "grid_gap": null,
            "grid_row": null,
            "grid_template_areas": null,
            "grid_template_columns": null,
            "grid_template_rows": null,
            "height": null,
            "justify_content": null,
            "justify_items": null,
            "left": null,
            "margin": null,
            "max_height": null,
            "max_width": null,
            "min_height": null,
            "min_width": null,
            "object_fit": null,
            "object_position": null,
            "order": null,
            "overflow": null,
            "overflow_x": null,
            "overflow_y": null,
            "padding": null,
            "right": null,
            "top": null,
            "visibility": null,
            "width": null
          }
        },
        "2fadd850f69f4a9695536d2bd72aab43": {
          "model_module": "@jupyter-widgets/base",
          "model_name": "LayoutModel",
          "model_module_version": "1.2.0",
          "state": {
            "_model_module": "@jupyter-widgets/base",
            "_model_module_version": "1.2.0",
            "_model_name": "LayoutModel",
            "_view_count": null,
            "_view_module": "@jupyter-widgets/base",
            "_view_module_version": "1.2.0",
            "_view_name": "LayoutView",
            "align_content": null,
            "align_items": null,
            "align_self": null,
            "border": null,
            "bottom": null,
            "display": null,
            "flex": null,
            "flex_flow": null,
            "grid_area": null,
            "grid_auto_columns": null,
            "grid_auto_flow": null,
            "grid_auto_rows": null,
            "grid_column": null,
            "grid_gap": null,
            "grid_row": null,
            "grid_template_areas": null,
            "grid_template_columns": null,
            "grid_template_rows": null,
            "height": null,
            "justify_content": null,
            "justify_items": null,
            "left": null,
            "margin": null,
            "max_height": null,
            "max_width": null,
            "min_height": null,
            "min_width": null,
            "object_fit": null,
            "object_position": null,
            "order": null,
            "overflow": null,
            "overflow_x": null,
            "overflow_y": null,
            "padding": null,
            "right": null,
            "top": null,
            "visibility": null,
            "width": null
          }
        },
        "da5faffd421a410b9104d96a2765d2ea": {
          "model_module": "@jupyter-widgets/controls",
          "model_name": "DescriptionStyleModel",
          "model_module_version": "1.5.0",
          "state": {
            "_model_module": "@jupyter-widgets/controls",
            "_model_module_version": "1.5.0",
            "_model_name": "DescriptionStyleModel",
            "_view_count": null,
            "_view_module": "@jupyter-widgets/base",
            "_view_module_version": "1.2.0",
            "_view_name": "StyleView",
            "description_width": ""
          }
        },
        "e2444c7cf2dc4e8289408c418b06c35c": {
          "model_module": "@jupyter-widgets/base",
          "model_name": "LayoutModel",
          "model_module_version": "1.2.0",
          "state": {
            "_model_module": "@jupyter-widgets/base",
            "_model_module_version": "1.2.0",
            "_model_name": "LayoutModel",
            "_view_count": null,
            "_view_module": "@jupyter-widgets/base",
            "_view_module_version": "1.2.0",
            "_view_name": "LayoutView",
            "align_content": null,
            "align_items": null,
            "align_self": null,
            "border": null,
            "bottom": null,
            "display": null,
            "flex": null,
            "flex_flow": null,
            "grid_area": null,
            "grid_auto_columns": null,
            "grid_auto_flow": null,
            "grid_auto_rows": null,
            "grid_column": null,
            "grid_gap": null,
            "grid_row": null,
            "grid_template_areas": null,
            "grid_template_columns": null,
            "grid_template_rows": null,
            "height": null,
            "justify_content": null,
            "justify_items": null,
            "left": null,
            "margin": null,
            "max_height": null,
            "max_width": null,
            "min_height": null,
            "min_width": null,
            "object_fit": null,
            "object_position": null,
            "order": null,
            "overflow": null,
            "overflow_x": null,
            "overflow_y": null,
            "padding": null,
            "right": null,
            "top": null,
            "visibility": null,
            "width": null
          }
        },
        "c63b96ca4e774e46b797023927046f56": {
          "model_module": "@jupyter-widgets/controls",
          "model_name": "ProgressStyleModel",
          "model_module_version": "1.5.0",
          "state": {
            "_model_module": "@jupyter-widgets/controls",
            "_model_module_version": "1.5.0",
            "_model_name": "ProgressStyleModel",
            "_view_count": null,
            "_view_module": "@jupyter-widgets/base",
            "_view_module_version": "1.2.0",
            "_view_name": "StyleView",
            "bar_color": null,
            "description_width": ""
          }
        },
        "c3aa340a7bac4d14affb1a8d6142b6dd": {
          "model_module": "@jupyter-widgets/base",
          "model_name": "LayoutModel",
          "model_module_version": "1.2.0",
          "state": {
            "_model_module": "@jupyter-widgets/base",
            "_model_module_version": "1.2.0",
            "_model_name": "LayoutModel",
            "_view_count": null,
            "_view_module": "@jupyter-widgets/base",
            "_view_module_version": "1.2.0",
            "_view_name": "LayoutView",
            "align_content": null,
            "align_items": null,
            "align_self": null,
            "border": null,
            "bottom": null,
            "display": null,
            "flex": null,
            "flex_flow": null,
            "grid_area": null,
            "grid_auto_columns": null,
            "grid_auto_flow": null,
            "grid_auto_rows": null,
            "grid_column": null,
            "grid_gap": null,
            "grid_row": null,
            "grid_template_areas": null,
            "grid_template_columns": null,
            "grid_template_rows": null,
            "height": null,
            "justify_content": null,
            "justify_items": null,
            "left": null,
            "margin": null,
            "max_height": null,
            "max_width": null,
            "min_height": null,
            "min_width": null,
            "object_fit": null,
            "object_position": null,
            "order": null,
            "overflow": null,
            "overflow_x": null,
            "overflow_y": null,
            "padding": null,
            "right": null,
            "top": null,
            "visibility": null,
            "width": null
          }
        },
        "e7d6acf04b864c0aaade04b3f92e37c2": {
          "model_module": "@jupyter-widgets/controls",
          "model_name": "DescriptionStyleModel",
          "model_module_version": "1.5.0",
          "state": {
            "_model_module": "@jupyter-widgets/controls",
            "_model_module_version": "1.5.0",
            "_model_name": "DescriptionStyleModel",
            "_view_count": null,
            "_view_module": "@jupyter-widgets/base",
            "_view_module_version": "1.2.0",
            "_view_name": "StyleView",
            "description_width": ""
          }
        },
        "a235c4b7d9794e3a8c0a08d9b9fe63af": {
          "model_module": "@jupyter-widgets/controls",
          "model_name": "HBoxModel",
          "model_module_version": "1.5.0",
          "state": {
            "_dom_classes": [],
            "_model_module": "@jupyter-widgets/controls",
            "_model_module_version": "1.5.0",
            "_model_name": "HBoxModel",
            "_view_count": null,
            "_view_module": "@jupyter-widgets/controls",
            "_view_module_version": "1.5.0",
            "_view_name": "HBoxView",
            "box_style": "",
            "children": [
              "IPY_MODEL_c885be0b6d7641038f7ec295b9e88325",
              "IPY_MODEL_ad5dfb8d15344245b0516317ac457d1c",
              "IPY_MODEL_2beab0c766e244c6909dc1bdc8d486db"
            ],
            "layout": "IPY_MODEL_079cbdfb8dc84ae49d887f6761b081e7"
          }
        },
        "c885be0b6d7641038f7ec295b9e88325": {
          "model_module": "@jupyter-widgets/controls",
          "model_name": "HTMLModel",
          "model_module_version": "1.5.0",
          "state": {
            "_dom_classes": [],
            "_model_module": "@jupyter-widgets/controls",
            "_model_module_version": "1.5.0",
            "_model_name": "HTMLModel",
            "_view_count": null,
            "_view_module": "@jupyter-widgets/controls",
            "_view_module_version": "1.5.0",
            "_view_name": "HTMLView",
            "description": "",
            "description_tooltip": null,
            "layout": "IPY_MODEL_b9a5e4c5735446e2827c2eeb392daa39",
            "placeholder": "​",
            "style": "IPY_MODEL_4c5f5c2f955842fa8c6e1935e163999f",
            "value": "100%"
          }
        },
        "ad5dfb8d15344245b0516317ac457d1c": {
          "model_module": "@jupyter-widgets/controls",
          "model_name": "FloatProgressModel",
          "model_module_version": "1.5.0",
          "state": {
            "_dom_classes": [],
            "_model_module": "@jupyter-widgets/controls",
            "_model_module_version": "1.5.0",
            "_model_name": "FloatProgressModel",
            "_view_count": null,
            "_view_module": "@jupyter-widgets/controls",
            "_view_module_version": "1.5.0",
            "_view_name": "ProgressView",
            "bar_style": "success",
            "description": "",
            "description_tooltip": null,
            "layout": "IPY_MODEL_9e42cf28419648738d585c25150185cb",
            "max": 53509,
            "min": 0,
            "orientation": "horizontal",
            "style": "IPY_MODEL_8829837743da4295aab7a02e6be5f458",
            "value": 53509
          }
        },
        "2beab0c766e244c6909dc1bdc8d486db": {
          "model_module": "@jupyter-widgets/controls",
          "model_name": "HTMLModel",
          "model_module_version": "1.5.0",
          "state": {
            "_dom_classes": [],
            "_model_module": "@jupyter-widgets/controls",
            "_model_module_version": "1.5.0",
            "_model_name": "HTMLModel",
            "_view_count": null,
            "_view_module": "@jupyter-widgets/controls",
            "_view_module_version": "1.5.0",
            "_view_name": "HTMLView",
            "description": "",
            "description_tooltip": null,
            "layout": "IPY_MODEL_505405ef4b8d4747ae58d73b49c70727",
            "placeholder": "​",
            "style": "IPY_MODEL_1f122c36f3224c098558b503531f0861",
            "value": " 53509/53509 [00:29&lt;00:00, 1831.42it/s]"
          }
        },
        "079cbdfb8dc84ae49d887f6761b081e7": {
          "model_module": "@jupyter-widgets/base",
          "model_name": "LayoutModel",
          "model_module_version": "1.2.0",
          "state": {
            "_model_module": "@jupyter-widgets/base",
            "_model_module_version": "1.2.0",
            "_model_name": "LayoutModel",
            "_view_count": null,
            "_view_module": "@jupyter-widgets/base",
            "_view_module_version": "1.2.0",
            "_view_name": "LayoutView",
            "align_content": null,
            "align_items": null,
            "align_self": null,
            "border": null,
            "bottom": null,
            "display": null,
            "flex": null,
            "flex_flow": null,
            "grid_area": null,
            "grid_auto_columns": null,
            "grid_auto_flow": null,
            "grid_auto_rows": null,
            "grid_column": null,
            "grid_gap": null,
            "grid_row": null,
            "grid_template_areas": null,
            "grid_template_columns": null,
            "grid_template_rows": null,
            "height": null,
            "justify_content": null,
            "justify_items": null,
            "left": null,
            "margin": null,
            "max_height": null,
            "max_width": null,
            "min_height": null,
            "min_width": null,
            "object_fit": null,
            "object_position": null,
            "order": null,
            "overflow": null,
            "overflow_x": null,
            "overflow_y": null,
            "padding": null,
            "right": null,
            "top": null,
            "visibility": null,
            "width": null
          }
        },
        "b9a5e4c5735446e2827c2eeb392daa39": {
          "model_module": "@jupyter-widgets/base",
          "model_name": "LayoutModel",
          "model_module_version": "1.2.0",
          "state": {
            "_model_module": "@jupyter-widgets/base",
            "_model_module_version": "1.2.0",
            "_model_name": "LayoutModel",
            "_view_count": null,
            "_view_module": "@jupyter-widgets/base",
            "_view_module_version": "1.2.0",
            "_view_name": "LayoutView",
            "align_content": null,
            "align_items": null,
            "align_self": null,
            "border": null,
            "bottom": null,
            "display": null,
            "flex": null,
            "flex_flow": null,
            "grid_area": null,
            "grid_auto_columns": null,
            "grid_auto_flow": null,
            "grid_auto_rows": null,
            "grid_column": null,
            "grid_gap": null,
            "grid_row": null,
            "grid_template_areas": null,
            "grid_template_columns": null,
            "grid_template_rows": null,
            "height": null,
            "justify_content": null,
            "justify_items": null,
            "left": null,
            "margin": null,
            "max_height": null,
            "max_width": null,
            "min_height": null,
            "min_width": null,
            "object_fit": null,
            "object_position": null,
            "order": null,
            "overflow": null,
            "overflow_x": null,
            "overflow_y": null,
            "padding": null,
            "right": null,
            "top": null,
            "visibility": null,
            "width": null
          }
        },
        "4c5f5c2f955842fa8c6e1935e163999f": {
          "model_module": "@jupyter-widgets/controls",
          "model_name": "DescriptionStyleModel",
          "model_module_version": "1.5.0",
          "state": {
            "_model_module": "@jupyter-widgets/controls",
            "_model_module_version": "1.5.0",
            "_model_name": "DescriptionStyleModel",
            "_view_count": null,
            "_view_module": "@jupyter-widgets/base",
            "_view_module_version": "1.2.0",
            "_view_name": "StyleView",
            "description_width": ""
          }
        },
        "9e42cf28419648738d585c25150185cb": {
          "model_module": "@jupyter-widgets/base",
          "model_name": "LayoutModel",
          "model_module_version": "1.2.0",
          "state": {
            "_model_module": "@jupyter-widgets/base",
            "_model_module_version": "1.2.0",
            "_model_name": "LayoutModel",
            "_view_count": null,
            "_view_module": "@jupyter-widgets/base",
            "_view_module_version": "1.2.0",
            "_view_name": "LayoutView",
            "align_content": null,
            "align_items": null,
            "align_self": null,
            "border": null,
            "bottom": null,
            "display": null,
            "flex": null,
            "flex_flow": null,
            "grid_area": null,
            "grid_auto_columns": null,
            "grid_auto_flow": null,
            "grid_auto_rows": null,
            "grid_column": null,
            "grid_gap": null,
            "grid_row": null,
            "grid_template_areas": null,
            "grid_template_columns": null,
            "grid_template_rows": null,
            "height": null,
            "justify_content": null,
            "justify_items": null,
            "left": null,
            "margin": null,
            "max_height": null,
            "max_width": null,
            "min_height": null,
            "min_width": null,
            "object_fit": null,
            "object_position": null,
            "order": null,
            "overflow": null,
            "overflow_x": null,
            "overflow_y": null,
            "padding": null,
            "right": null,
            "top": null,
            "visibility": null,
            "width": null
          }
        },
        "8829837743da4295aab7a02e6be5f458": {
          "model_module": "@jupyter-widgets/controls",
          "model_name": "ProgressStyleModel",
          "model_module_version": "1.5.0",
          "state": {
            "_model_module": "@jupyter-widgets/controls",
            "_model_module_version": "1.5.0",
            "_model_name": "ProgressStyleModel",
            "_view_count": null,
            "_view_module": "@jupyter-widgets/base",
            "_view_module_version": "1.2.0",
            "_view_name": "StyleView",
            "bar_color": null,
            "description_width": ""
          }
        },
        "505405ef4b8d4747ae58d73b49c70727": {
          "model_module": "@jupyter-widgets/base",
          "model_name": "LayoutModel",
          "model_module_version": "1.2.0",
          "state": {
            "_model_module": "@jupyter-widgets/base",
            "_model_module_version": "1.2.0",
            "_model_name": "LayoutModel",
            "_view_count": null,
            "_view_module": "@jupyter-widgets/base",
            "_view_module_version": "1.2.0",
            "_view_name": "LayoutView",
            "align_content": null,
            "align_items": null,
            "align_self": null,
            "border": null,
            "bottom": null,
            "display": null,
            "flex": null,
            "flex_flow": null,
            "grid_area": null,
            "grid_auto_columns": null,
            "grid_auto_flow": null,
            "grid_auto_rows": null,
            "grid_column": null,
            "grid_gap": null,
            "grid_row": null,
            "grid_template_areas": null,
            "grid_template_columns": null,
            "grid_template_rows": null,
            "height": null,
            "justify_content": null,
            "justify_items": null,
            "left": null,
            "margin": null,
            "max_height": null,
            "max_width": null,
            "min_height": null,
            "min_width": null,
            "object_fit": null,
            "object_position": null,
            "order": null,
            "overflow": null,
            "overflow_x": null,
            "overflow_y": null,
            "padding": null,
            "right": null,
            "top": null,
            "visibility": null,
            "width": null
          }
        },
        "1f122c36f3224c098558b503531f0861": {
          "model_module": "@jupyter-widgets/controls",
          "model_name": "DescriptionStyleModel",
          "model_module_version": "1.5.0",
          "state": {
            "_model_module": "@jupyter-widgets/controls",
            "_model_module_version": "1.5.0",
            "_model_name": "DescriptionStyleModel",
            "_view_count": null,
            "_view_module": "@jupyter-widgets/base",
            "_view_module_version": "1.2.0",
            "_view_name": "StyleView",
            "description_width": ""
          }
        }
      }
    }
  },
  "nbformat": 4,
  "nbformat_minor": 0
}