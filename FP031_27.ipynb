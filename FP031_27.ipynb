{
  "cells": [
    {
      "cell_type": "markdown",
      "metadata": {
        "id": "view-in-github",
        "colab_type": "text"
      },
      "source": [
        "<a href=\"https://colab.research.google.com/github/seven320/air_pollutants/blob/main/FP031_27.ipynb\" target=\"_parent\"><img src=\"https://colab.research.google.com/assets/colab-badge.svg\" alt=\"Open In Colab\"/></a>"
      ]
    },
    {
      "cell_type": "markdown",
      "metadata": {
        "id": "TCnFX004iEpo"
      },
      "source": [
        "# Env"
      ]
    },
    {
      "cell_type": "code",
      "execution_count": 1,
      "metadata": {
        "colab": {
          "base_uri": "https://localhost:8080/"
        },
        "id": "8OhibwrnFAQk",
        "outputId": "3c2f662e-e62d-4c93-d85e-69363cee4c5b"
      },
      "outputs": [
        {
          "output_type": "stream",
          "name": "stdout",
          "text": [
            "Thu May 12 03:29:24 2022       \n",
            "+-----------------------------------------------------------------------------+\n",
            "| NVIDIA-SMI 460.32.03    Driver Version: 460.32.03    CUDA Version: 11.2     |\n",
            "|-------------------------------+----------------------+----------------------+\n",
            "| GPU  Name        Persistence-M| Bus-Id        Disp.A | Volatile Uncorr. ECC |\n",
            "| Fan  Temp  Perf  Pwr:Usage/Cap|         Memory-Usage | GPU-Util  Compute M. |\n",
            "|                               |                      |               MIG M. |\n",
            "|===============================+======================+======================|\n",
            "|   0  Tesla P100-PCIE...  Off  | 00000000:00:04.0 Off |                    0 |\n",
            "| N/A   54C    P0    34W / 250W |      0MiB / 16280MiB |      0%      Default |\n",
            "|                               |                      |                  N/A |\n",
            "+-------------------------------+----------------------+----------------------+\n",
            "                                                                               \n",
            "+-----------------------------------------------------------------------------+\n",
            "| Processes:                                                                  |\n",
            "|  GPU   GI   CI        PID   Type   Process name                  GPU Memory |\n",
            "|        ID   ID                                                   Usage      |\n",
            "|=============================================================================|\n",
            "|  No running processes found                                                 |\n",
            "+-----------------------------------------------------------------------------+\n"
          ]
        }
      ],
      "source": [
        "!nvidia-smi"
      ]
    },
    {
      "cell_type": "code",
      "execution_count": 2,
      "metadata": {
        "colab": {
          "base_uri": "https://localhost:8080/"
        },
        "id": "b09jV65gFc3Y",
        "outputId": "40366625-0c3f-4ad4-c816-5b5acd04adf0"
      },
      "outputs": [
        {
          "output_type": "stream",
          "name": "stdout",
          "text": [
            "Mounted at /content/drive\n"
          ]
        }
      ],
      "source": [
        "import os, sys\n",
        "COLAB = \"google.colab\" in sys.modules\n",
        "\n",
        "if COLAB:\n",
        "    from google.colab import drive\n",
        "    from google.colab import output\n",
        "    drive.mount(\"/content/drive\")"
      ]
    },
    {
      "cell_type": "code",
      "execution_count": 3,
      "metadata": {
        "id": "MvUvD3E2I6sj"
      },
      "outputs": [],
      "source": [
        "if COLAB:\n",
        "    !pip install transformers > /dev/null\n",
        "    !pip install einops > /dev/null\n",
        "    !pip install optuna > /dev/null\n",
        "    !pip install pyephem > /dev/null\n",
        "    # !pip install timm > /dev/null\n",
        "    # !pip install kaggle > /dev/null\n",
        "    # !pip install kaggle_datasets > /dev/null\n",
        "    # !pip install git+https://github.com/albumentations-team/albumentations\n",
        "    # !pip install tensorflow-determinism\n",
        "    !pip install -q iterative-stratification\n",
        "    !pip install python-Levenshtein > /dev/null\n",
        "    !pip install geopy > /dev/null\n",
        "\n",
        "    # for gpu\n",
        "    !git clone --recursive https://github.com/Microsoft/LightGBM\n",
        "    %cd /content/LightGBM/\n",
        "    !mkdir build\n",
        "    !cmake -DUSE_GPU=1 \n",
        "    !make -j$(nproc)\n",
        "    !sudo apt-get -y install python-pip\n",
        "\n",
        "    !sudo -H pip install setuptools pandas numpy scipy scikit-learn -U\n",
        "    #pandasのエラーが出る場合は上記のコードからpandasを削除\n",
        "\n",
        "    !sudo -H pip install setuptools numpy scipy scikit-learn -U\n",
        "    %cd /content/LightGBM/python-package\n",
        "    !sudo python setup.py install --precompile\n",
        "\n",
        "    output.clear()"
      ]
    },
    {
      "cell_type": "code",
      "execution_count": 4,
      "metadata": {
        "id": "VX7ZxFBMH3mX"
      },
      "outputs": [],
      "source": [
        "import gc\n",
        "import json\n",
        "import math\n",
        "import os\n",
        "import random\n",
        "import re\n",
        "import time\n",
        "import copy\n",
        "import warnings\n",
        "from requests import get\n",
        "from contextlib import contextmanager\n",
        "from typing import List, Optional, TypeVar, Type, Dict\n",
        "import datetime\n",
        "\n",
        "import matplotlib.pyplot as plt\n",
        "import numpy as np\n",
        "import pandas as pd\n",
        "import seaborn as sns\n",
        "import torch\n",
        "import torch.nn as nn\n",
        "from pathlib import Path\n",
        "from sklearn.ensemble import RandomForestRegressor\n",
        "from sklearn.model_selection import GroupKFold, train_test_split, KFold\n",
        "from sklearn.preprocessing import RobustScaler, LabelEncoder, StandardScaler, MinMaxScaler\n",
        "from sklearn.metrics import mean_squared_error\n",
        "from torch.nn import functional as F\n",
        "from torch.utils.data import DataLoader, Dataset\n",
        "# from einops.layers.torch import Rearrange, Reduce\n",
        "# import timm\n",
        "import Levenshtein\n",
        "import ephem\n",
        "from geopy.distance import geodesic\n",
        "\n",
        "from tqdm.notebook import tqdm\n",
        "from transformers import AdamW, get_cosine_schedule_with_warmup\n",
        "from typing import Optional, Tuple\n",
        "from xgboost import XGBRegressor\n",
        "import lightgbm as lgb\n",
        "import optuna"
      ]
    },
    {
      "cell_type": "code",
      "execution_count": 5,
      "metadata": {
        "id": "3TLiFn8H_V90"
      },
      "outputs": [],
      "source": [
        "warnings.simplefilter('ignore')"
      ]
    },
    {
      "cell_type": "code",
      "execution_count": 6,
      "metadata": {
        "colab": {
          "base_uri": "https://localhost:8080/"
        },
        "id": "jAG9b0Tb_YdF",
        "outputId": "e73f8b42-fc63-4af1-8083-cf80104c3ec8"
      },
      "outputs": [
        {
          "output_type": "stream",
          "name": "stdout",
          "text": [
            "FP031-27\n"
          ]
        }
      ],
      "source": [
        "if COLAB:    \n",
        "    NOTEBOOK_NAME = get('http://172.28.0.2:9000/api/sessions').json()[0]['name']\n",
        "    print(NOTEBOOK_NAME)"
      ]
    },
    {
      "cell_type": "code",
      "execution_count": 7,
      "metadata": {
        "id": "BiWCgj_XI4y2"
      },
      "outputs": [],
      "source": [
        "COMPE_NAME = \"air_pollutants\"\n",
        "BASE_DIR = f\"/content/drive/MyDrive/signate/{COMPE_NAME}\"\n",
        "\n",
        "# KAGGLE ONLY HAS 1, BUT OFFLINE, YOU CAN USE MORE\n",
        "os.environ[\"CUDA_VISIBLE_DEVICES\"]=\"0\" #0,1,2,3 for four gpu"
      ]
    },
    {
      "cell_type": "code",
      "execution_count": 8,
      "metadata": {
        "id": "tUAtLXzhI-Xr"
      },
      "outputs": [],
      "source": [
        "if COLAB:\n",
        "    INPUT_DIR = Path(os.path.join(BASE_DIR ,f\"input\"))\n",
        "    INPUT_DIR.mkdir(exist_ok=True, parents=True)\n",
        "\n",
        "    SAVE_DIR = Path(os.path.join(BASE_DIR ,f\"models/{NOTEBOOK_NAME}\"))\n",
        "    SAVE_DIR.mkdir(exist_ok=True, parents=True)\n",
        "\n",
        "    OOF_DIR = Path(os.path.join(BASE_DIR, f\"oof/{NOTEBOOK_NAME}\"))\n",
        "    OOF_DIR.mkdir(exist_ok=True, parents = True)\n",
        "\n",
        "    SUB_DIR = Path(os.path.join(BASE_DIR, f\"submission/{NOTEBOOK_NAME}\"))\n",
        "    SUB_DIR.mkdir(exist_ok=True, parents = True)"
      ]
    },
    {
      "cell_type": "code",
      "execution_count": 9,
      "metadata": {
        "colab": {
          "base_uri": "https://localhost:8080/"
        },
        "id": "z50ynnGpI-a-",
        "outputId": "6516e0a9-9892-490f-b5f2-a7ff0cec72ce"
      },
      "outputs": [
        {
          "output_type": "stream",
          "name": "stdout",
          "text": [
            "(195941, 54) (53509, 53) (53509, 2)\n"
          ]
        }
      ],
      "source": [
        "train_df = pd.read_csv(os.path.join(INPUT_DIR, \"train.csv\"))\n",
        "test_df = pd.read_csv(os.path.join(INPUT_DIR, \"test.csv\"))\n",
        "sample_df = pd.read_csv(os.path.join(INPUT_DIR, \"submit_sample.csv\"), names=[\"id\", \"predict\"])\n",
        "\n",
        "print(train_df.shape, test_df.shape, sample_df.shape)"
      ]
    },
    {
      "cell_type": "markdown",
      "metadata": {
        "id": "xJgrFC5tVZt3"
      },
      "source": [
        "## add city population"
      ]
    },
    {
      "cell_type": "code",
      "execution_count": 10,
      "metadata": {
        "id": "fD-VnMAxyd8F"
      },
      "outputs": [],
      "source": [
        "population_df = pd.read_csv(os.path.join(INPUT_DIR, \"city_population.csv\"))\n",
        "population_df[\"City\"] = population_df[\"Name\"]"
      ]
    },
    {
      "cell_type": "code",
      "execution_count": 11,
      "metadata": {
        "colab": {
          "base_uri": "https://localhost:8080/"
        },
        "id": "PyVhbHAGdwTx",
        "outputId": "acbdeedd-e453-4fde-f5a0-a47f2054c77f"
      },
      "outputs": [
        {
          "output_type": "stream",
          "name": "stdout",
          "text": [
            "ChinaSuzhou の行を削除\n"
          ]
        }
      ],
      "source": [
        "# 同じ都市名かつ国名のものを削除する\n",
        "population_df[\"CC\"] = population_df[\"Country\"] + population_df[\"City\"]\n",
        "population_df[\"CC\"].value_counts()\n",
        "for k, v in population_df[\"CC\"].value_counts().items():\n",
        "    # print(k, v)\n",
        "    if v > 1:\n",
        "        print(f\"{k} の行を削除\")\n",
        "        population_df = population_df[population_df[\"CC\"] != k]"
      ]
    },
    {
      "cell_type": "code",
      "execution_count": 12,
      "metadata": {
        "id": "GHh1_7_-Dtka"
      },
      "outputs": [],
      "source": [
        "def df_to_country_dict(df: pd.DataFrame) -> Dict:\n",
        "    country_city = {}\n",
        "\n",
        "    for t_c in set(df[\"Country\"].tolist()):\n",
        "        country_city[t_c] = []\n",
        "\n",
        "    for country, city in zip(df[\"Country\"], df[\"City\"]):\n",
        "        country_city[country].append(city)\n",
        "\n",
        "    for k, v in country_city.items():\n",
        "        country_city[k] = set(v)\n",
        "\n",
        "    return country_city\n",
        "    "
      ]
    },
    {
      "cell_type": "code",
      "execution_count": 13,
      "metadata": {
        "id": "JR3hx22DD7zE"
      },
      "outputs": [],
      "source": [
        "train_country_city = df_to_country_dict(pd.concat([train_df, test_df]))\n",
        "\n",
        "p_country_city = df_to_country_dict(population_df)"
      ]
    },
    {
      "cell_type": "code",
      "execution_count": 14,
      "metadata": {
        "id": "1Y2yypTHJBdQ"
      },
      "outputs": [],
      "source": [
        "def cal_leven(str1: str, str2: str) -> float:\n",
        "    # レーベンシュタイン距離の取得\n",
        "    lev_dist = Levenshtein.distance(str1, str2)\n",
        "    # 標準化(長い方の文字列の長さで割る)\n",
        "    divider = len(str1) if len(str1) > len(str2) else len(str2)\n",
        "    lev_dist = lev_dist / divider\n",
        "    # 指標を合わせる(0:完全不一致 → 1:完全一致)\n",
        "    return 1 - lev_dist"
      ]
    },
    {
      "cell_type": "code",
      "execution_count": 15,
      "metadata": {
        "colab": {
          "base_uri": "https://localhost:8080/"
        },
        "id": "ktKYCePw0-WV",
        "outputId": "d3d07388-9071-4574-b29a-dbf00396277b"
      },
      "outputs": [
        {
          "output_type": "stream",
          "name": "stdout",
          "text": [
            "pair cities:177\n"
          ]
        }
      ],
      "source": [
        "city_pairs = {}\n",
        "\n",
        "for t_k, t_values in train_country_city.items():\n",
        "    for p_k, p_values in p_country_city.items():\n",
        "        # countryが一致\n",
        "        if t_k != p_k:\n",
        "            continue\n",
        "        for t_v in t_values:\n",
        "            max_score = -1\n",
        "            for p_v in p_values:\n",
        "                score = cal_leven(t_v, p_v)\n",
        "                if max_score < score:\n",
        "                    pairs = [t_v, p_v]\n",
        "                    max_score = score\n",
        "\n",
        "            if max_score > 0.8:\n",
        "                city_pairs[pairs[1]] = pairs[0]\n",
        "print(f\"pair cities:{len(city_pairs)}\")"
      ]
    },
    {
      "cell_type": "code",
      "execution_count": 16,
      "metadata": {
        "id": "o7H-pU-SOcQR"
      },
      "outputs": [],
      "source": [
        "a = population_df[\"City\"]\n",
        "for key, value in city_pairs.items():\n",
        "    # print(key, value)\n",
        "    a = copy.deepcopy(a.replace(key, value))\n",
        "\n",
        "population_df[\"City\"] = a"
      ]
    },
    {
      "cell_type": "code",
      "execution_count": 17,
      "metadata": {
        "id": "o5b40dm-zrPh"
      },
      "outputs": [],
      "source": [
        "if not \"Prev\" in train_df.columns:\n",
        "    train_df = train_df.merge(population_df[[\"rank\", \"City\", \"Country\", \"Population\", \"Prev\", \"Growth\"]], on = [\"City\", \"Country\"], how=\"left\")\n",
        "    test_df = test_df.merge(population_df[[\"rank\", \"City\", \"Country\",  \"Population\", \"Prev\", \"Growth\"]], on = [\"City\", \"Country\"], how=\"left\")\n",
        "\n",
        "assert len(test_df) == len(sample_df)"
      ]
    },
    {
      "cell_type": "markdown",
      "metadata": {
        "id": "gCrY06JStxpl"
      },
      "source": [
        "## add target encode"
      ]
    },
    {
      "cell_type": "code",
      "source": [
        "if not \"target_count\" in train_df.columns:\n",
        "    target_df = train_df[[\"Country\", \"pm25_mid\"]].groupby(\"Country\", as_index = 1).describe()\n",
        "\n",
        "    target_df = target_df.rename(columns = {\n",
        "        \"count\": \"target_count\",\n",
        "        \"mean\": \"target_mean\",\n",
        "        \"std\": \"target_std\",\n",
        "        \"25%\": \"target_25%\",\n",
        "        \"50%\": \"target_50%\",\n",
        "        \"75%\": \"target_75%\",\n",
        "        \"max\": \"target_max\"\n",
        "    }).reset_index()\n",
        "    train_df = train_df.merge(pd.concat([target_df[\"Country\"], target_df[\"pm25_mid\"]], axis = 1), on = \"Country\", how = \"left\")\n",
        "    test_df = test_df.merge(pd.concat([target_df[\"Country\"], target_df[\"pm25_mid\"]], axis = 1), on = \"Country\", how = \"left\")"
      ],
      "metadata": {
        "id": "RO7S4go8M58F"
      },
      "execution_count": 18,
      "outputs": []
    },
    {
      "cell_type": "markdown",
      "source": [
        "### add days"
      ],
      "metadata": {
        "id": "OByEklY9ZuiU"
      }
    },
    {
      "cell_type": "markdown",
      "metadata": {
        "id": "hxc2G2QEOhFc"
      },
      "source": [
        "## 都市を近い順に入力(上位15)"
      ]
    },
    {
      "cell_type": "code",
      "execution_count": 19,
      "metadata": {
        "id": "mRB3_ctT21va"
      },
      "outputs": [],
      "source": [
        "use_city = 5"
      ]
    },
    {
      "cell_type": "code",
      "execution_count": 20,
      "metadata": {
        "id": "21cTCBpO_uln"
      },
      "outputs": [],
      "source": [
        "# 全ての都市を抽出\n",
        "all_df = pd.concat([train_df, test_df])\n",
        "lat_lons = all_df[[\"City\", \"lat\", \"lon\"]].drop_duplicates()"
      ]
    },
    {
      "cell_type": "code",
      "execution_count": 21,
      "metadata": {
        "colab": {
          "base_uri": "https://localhost:8080/",
          "height": 49,
          "referenced_widgets": [
            "853a444d52f240caa477cab3751f46c9",
            "59796736f936405495094f9158e1290c",
            "b392c0e07747489b8d0215643090d56c",
            "933f9fdddc854eed99393c7a94e2eaf1",
            "30bc800b52e646d9b7176c179f1093c7",
            "ee4b87567ced4be796e7b1298cb81d43",
            "8274f709e4b64e728d560f5d991d92a3",
            "45cc24969ef94c4f88d7c3e9b83eb2bb",
            "f6e573b0112842799fadb17f675cf739",
            "1978397489934395b1978ac7f3142381",
            "51439a1c859845839c39a4840e8583b8"
          ]
        },
        "id": "-9XM3_4_QHOg",
        "outputId": "41cfb476-9eff-4d29-d463-49ffe68ae909"
      },
      "outputs": [
        {
          "output_type": "display_data",
          "data": {
            "text/plain": [
              "  0%|          | 0/302 [00:00<?, ?it/s]"
            ],
            "application/vnd.jupyter.widget-view+json": {
              "version_major": 2,
              "version_minor": 0,
              "model_id": "853a444d52f240caa477cab3751f46c9"
            }
          },
          "metadata": {}
        }
      ],
      "source": [
        "\"\"\"\n",
        "各都市ごとの距離を格納\n",
        " nearest_cities = {\n",
        "      City1 = {\n",
        "            City2: 500km\n",
        "            City3: 1000km\n",
        "    }\n",
        "} \n",
        "\"\"\"\n",
        "\n",
        "nearest_cities = {}\n",
        "for i in tqdm(range(len(lat_lons))):\n",
        "    City1, lat1, lon1 = lat_lons.iloc[i]\n",
        "    pos1 = np.array([lat1, lon1])\n",
        "    \n",
        "    nearest_city = {}\n",
        "    for j in range(len(lat_lons)):\n",
        "        if i == j:\n",
        "            continue\n",
        "        \n",
        "        City2, lat2, lon2 = lat_lons.iloc[j]\n",
        "        pos2 = np.array([lat2, lon2])\n",
        "        \n",
        "        dis = geodesic(pos1, pos2)\n",
        "        \n",
        "        nearest_city[City2] = dis\n",
        "\n",
        "    nearest_cities[City1] = nearest_city"
      ]
    },
    {
      "cell_type": "code",
      "execution_count": 22,
      "metadata": {
        "id": "cLrS0fHKPvKW"
      },
      "outputs": [],
      "source": [
        "target_en_bycities = train_df[[\"City\",\"month\", \"pm25_mid\"]].groupby([\"City\", \"month\"], as_index = 0).agg(\"mean\").reset_index(drop=True)"
      ]
    },
    {
      "cell_type": "code",
      "source": [
        "nearest_sort_cities = []\n",
        "\n",
        "for city1 in nearest_cities.keys():\n",
        "    nearest_sort_city = dict(sorted(nearest_cities[city1].items(), key = lambda item: item[1])).keys()\n",
        "    nearest_sort_cities.append([city1] + list(nearest_sort_city)[:use_city])"
      ],
      "metadata": {
        "id": "Rl4mUNhSd8pz"
      },
      "execution_count": 23,
      "outputs": []
    },
    {
      "cell_type": "code",
      "source": [
        "target_en_bycities_detail = train_df[[\"City\",\"year\", \"month\",\"day\", \"pm25_mid\"]].groupby([\"City\", \"year\", \"month\", \"day\"], as_index = 0).agg(\"mean\").reset_index(drop=True)"
      ],
      "metadata": {
        "id": "XMU0-WMd1Bvk"
      },
      "execution_count": 24,
      "outputs": []
    },
    {
      "cell_type": "code",
      "source": [
        "cities = pd.DataFrame(target_en_bycities_detail[\"City\"].unique(), columns = [\"City\"])\n",
        "year_month_day = target_en_bycities_detail.groupby([\"year\", \"month\", \"day\"], as_index=0).agg(\"mean\")[[\"year\", \"month\", \"day\"]]\n",
        "\n",
        "city_year_month_day = pd.merge(cities, year_month_day, how = \"cross\")"
      ],
      "metadata": {
        "id": "vgZ0PLKzTIhU"
      },
      "execution_count": 25,
      "outputs": []
    },
    {
      "cell_type": "code",
      "source": [
        "target_en = pd.merge(city_year_month_day, target_en_bycities_detail, on = [\"City\", \"year\", \"month\", \"day\"], how = \"left\")\n",
        "target_en_fillna = pd.merge(target_en, target_en_bycities, on = [\"City\", \"month\"], how = \"left\")\n",
        "target_en_fillna[\"pm25_mid\"] = target_en_fillna[\"pm25_mid_x\"].combine_first(target_en_fillna[\"pm25_mid_y\"])"
      ],
      "metadata": {
        "id": "0aUiJgMfQii1"
      },
      "execution_count": 26,
      "outputs": []
    },
    {
      "cell_type": "code",
      "execution_count": 27,
      "metadata": {
        "id": "pab-ry5T83Xa"
      },
      "outputs": [],
      "source": [
        "# Config\n",
        "NUM_FOLDS = 5"
      ]
    },
    {
      "cell_type": "code",
      "execution_count": 28,
      "metadata": {
        "id": "QO13XyUmI-dG"
      },
      "outputs": [],
      "source": [
        "#############\n",
        "## Utility ##\n",
        "#############\n",
        "@contextmanager\n",
        "def timer(name: str):\n",
        "    t0 = time.time()\n",
        "    print(f\"[{name}] start\")\n",
        "    yield\n",
        "    print(f\"[{name}] done - elapsed {time.time() - t0:.2f}s\")"
      ]
    },
    {
      "cell_type": "code",
      "execution_count": 29,
      "metadata": {
        "id": "IeHnNhCrJNvb"
      },
      "outputs": [],
      "source": [
        "def seed_everything(seed):\n",
        "    \"\"\"\n",
        "    Seeds basic parameters for reproductibility of results\n",
        "    \n",
        "    Arguments:\n",
        "        seed {int} -- Number of the seed\n",
        "    \"\"\"\n",
        "    random.seed(seed)\n",
        "    os.environ[\"PYTHONHASHSEED\"] = str(seed)\n",
        "    np.random.seed(seed)\n",
        "    torch.manual_seed(seed)\n",
        "    torch.cuda.manual_seed(seed)\n",
        "    torch.backends.cudnn.deterministic = True\n",
        "    torch.backends.cudnn.benchmark = False\n",
        "\n",
        "def set_seed(seed):\n",
        "    random.seed(seed)\n",
        "    os.environ[\"PYTHONHASHSEED\"] = str(seed)\n",
        "    np.random.seed(seed)\n",
        "    torch.manual_seed(seed)\n",
        "    torch.cuda.manual_seed(seed)\n",
        "    torch.cuda.manual_seed_all(seed)\n",
        "    torch.backends.cudnn.deterministic = True\n",
        "    torch.backends.cudnn.benchmark = False\n",
        "\n",
        "seed_everything(42)"
      ]
    },
    {
      "cell_type": "code",
      "execution_count": 30,
      "metadata": {
        "colab": {
          "base_uri": "https://localhost:8080/",
          "height": 299
        },
        "id": "1JcbNGglJNxv",
        "outputId": "723e639c-111d-4755-abc9-881974756339"
      },
      "outputs": [
        {
          "output_type": "execute_result",
          "data": {
            "text/plain": [
              "   id  year  month  day    Country       City       lat        lon  co_cnt  \\\n",
              "0   1  2019      1    1  Australia   Brisbane -27.46794  153.02809      38   \n",
              "1   2  2019      1    1  Australia     Darwin -12.46113  130.84185      47   \n",
              "2   3  2019      1    1  Australia  Melbourne -37.81400  144.96332      17   \n",
              "3   4  2019      1    1  Australia  Newcastle -32.92953  151.78010      63   \n",
              "4   5  2019      1    1  Australia      Perth -31.95224  115.86140      47   \n",
              "\n",
              "   co_min  ...       Prev  Growth  target_count  target_mean  target_std  min  \\\n",
              "0   0.749  ...  2439467.0  0.0134        5656.0    37.362265   25.919644  0.0   \n",
              "1   2.594  ...        NaN     NaN        5656.0    37.362265   25.919644  0.0   \n",
              "2   1.190  ...  5061439.0  0.0176        5656.0    37.362265   25.919644  0.0   \n",
              "3   4.586  ...        NaN     NaN        5656.0    37.362265   25.919644  0.0   \n",
              "4   4.689  ...  2067333.0  0.0122        5656.0    37.362265   25.919644  0.0   \n",
              "\n",
              "   target_25%  target_50%  target_75%  target_max  \n",
              "0      19.526     28.6445    52.50325     189.517  \n",
              "1      19.526     28.6445    52.50325     189.517  \n",
              "2      19.526     28.6445    52.50325     189.517  \n",
              "3      19.526     28.6445    52.50325     189.517  \n",
              "4      19.526     28.6445    52.50325     189.517  \n",
              "\n",
              "[5 rows x 66 columns]"
            ],
            "text/html": [
              "\n",
              "  <div id=\"df-f5895af7-2457-4c02-91ff-451e520ae785\">\n",
              "    <div class=\"colab-df-container\">\n",
              "      <div>\n",
              "<style scoped>\n",
              "    .dataframe tbody tr th:only-of-type {\n",
              "        vertical-align: middle;\n",
              "    }\n",
              "\n",
              "    .dataframe tbody tr th {\n",
              "        vertical-align: top;\n",
              "    }\n",
              "\n",
              "    .dataframe thead th {\n",
              "        text-align: right;\n",
              "    }\n",
              "</style>\n",
              "<table border=\"1\" class=\"dataframe\">\n",
              "  <thead>\n",
              "    <tr style=\"text-align: right;\">\n",
              "      <th></th>\n",
              "      <th>id</th>\n",
              "      <th>year</th>\n",
              "      <th>month</th>\n",
              "      <th>day</th>\n",
              "      <th>Country</th>\n",
              "      <th>City</th>\n",
              "      <th>lat</th>\n",
              "      <th>lon</th>\n",
              "      <th>co_cnt</th>\n",
              "      <th>co_min</th>\n",
              "      <th>...</th>\n",
              "      <th>Prev</th>\n",
              "      <th>Growth</th>\n",
              "      <th>target_count</th>\n",
              "      <th>target_mean</th>\n",
              "      <th>target_std</th>\n",
              "      <th>min</th>\n",
              "      <th>target_25%</th>\n",
              "      <th>target_50%</th>\n",
              "      <th>target_75%</th>\n",
              "      <th>target_max</th>\n",
              "    </tr>\n",
              "  </thead>\n",
              "  <tbody>\n",
              "    <tr>\n",
              "      <th>0</th>\n",
              "      <td>1</td>\n",
              "      <td>2019</td>\n",
              "      <td>1</td>\n",
              "      <td>1</td>\n",
              "      <td>Australia</td>\n",
              "      <td>Brisbane</td>\n",
              "      <td>-27.46794</td>\n",
              "      <td>153.02809</td>\n",
              "      <td>38</td>\n",
              "      <td>0.749</td>\n",
              "      <td>...</td>\n",
              "      <td>2439467.0</td>\n",
              "      <td>0.0134</td>\n",
              "      <td>5656.0</td>\n",
              "      <td>37.362265</td>\n",
              "      <td>25.919644</td>\n",
              "      <td>0.0</td>\n",
              "      <td>19.526</td>\n",
              "      <td>28.6445</td>\n",
              "      <td>52.50325</td>\n",
              "      <td>189.517</td>\n",
              "    </tr>\n",
              "    <tr>\n",
              "      <th>1</th>\n",
              "      <td>2</td>\n",
              "      <td>2019</td>\n",
              "      <td>1</td>\n",
              "      <td>1</td>\n",
              "      <td>Australia</td>\n",
              "      <td>Darwin</td>\n",
              "      <td>-12.46113</td>\n",
              "      <td>130.84185</td>\n",
              "      <td>47</td>\n",
              "      <td>2.594</td>\n",
              "      <td>...</td>\n",
              "      <td>NaN</td>\n",
              "      <td>NaN</td>\n",
              "      <td>5656.0</td>\n",
              "      <td>37.362265</td>\n",
              "      <td>25.919644</td>\n",
              "      <td>0.0</td>\n",
              "      <td>19.526</td>\n",
              "      <td>28.6445</td>\n",
              "      <td>52.50325</td>\n",
              "      <td>189.517</td>\n",
              "    </tr>\n",
              "    <tr>\n",
              "      <th>2</th>\n",
              "      <td>3</td>\n",
              "      <td>2019</td>\n",
              "      <td>1</td>\n",
              "      <td>1</td>\n",
              "      <td>Australia</td>\n",
              "      <td>Melbourne</td>\n",
              "      <td>-37.81400</td>\n",
              "      <td>144.96332</td>\n",
              "      <td>17</td>\n",
              "      <td>1.190</td>\n",
              "      <td>...</td>\n",
              "      <td>5061439.0</td>\n",
              "      <td>0.0176</td>\n",
              "      <td>5656.0</td>\n",
              "      <td>37.362265</td>\n",
              "      <td>25.919644</td>\n",
              "      <td>0.0</td>\n",
              "      <td>19.526</td>\n",
              "      <td>28.6445</td>\n",
              "      <td>52.50325</td>\n",
              "      <td>189.517</td>\n",
              "    </tr>\n",
              "    <tr>\n",
              "      <th>3</th>\n",
              "      <td>4</td>\n",
              "      <td>2019</td>\n",
              "      <td>1</td>\n",
              "      <td>1</td>\n",
              "      <td>Australia</td>\n",
              "      <td>Newcastle</td>\n",
              "      <td>-32.92953</td>\n",
              "      <td>151.78010</td>\n",
              "      <td>63</td>\n",
              "      <td>4.586</td>\n",
              "      <td>...</td>\n",
              "      <td>NaN</td>\n",
              "      <td>NaN</td>\n",
              "      <td>5656.0</td>\n",
              "      <td>37.362265</td>\n",
              "      <td>25.919644</td>\n",
              "      <td>0.0</td>\n",
              "      <td>19.526</td>\n",
              "      <td>28.6445</td>\n",
              "      <td>52.50325</td>\n",
              "      <td>189.517</td>\n",
              "    </tr>\n",
              "    <tr>\n",
              "      <th>4</th>\n",
              "      <td>5</td>\n",
              "      <td>2019</td>\n",
              "      <td>1</td>\n",
              "      <td>1</td>\n",
              "      <td>Australia</td>\n",
              "      <td>Perth</td>\n",
              "      <td>-31.95224</td>\n",
              "      <td>115.86140</td>\n",
              "      <td>47</td>\n",
              "      <td>4.689</td>\n",
              "      <td>...</td>\n",
              "      <td>2067333.0</td>\n",
              "      <td>0.0122</td>\n",
              "      <td>5656.0</td>\n",
              "      <td>37.362265</td>\n",
              "      <td>25.919644</td>\n",
              "      <td>0.0</td>\n",
              "      <td>19.526</td>\n",
              "      <td>28.6445</td>\n",
              "      <td>52.50325</td>\n",
              "      <td>189.517</td>\n",
              "    </tr>\n",
              "  </tbody>\n",
              "</table>\n",
              "<p>5 rows × 66 columns</p>\n",
              "</div>\n",
              "      <button class=\"colab-df-convert\" onclick=\"convertToInteractive('df-f5895af7-2457-4c02-91ff-451e520ae785')\"\n",
              "              title=\"Convert this dataframe to an interactive table.\"\n",
              "              style=\"display:none;\">\n",
              "        \n",
              "  <svg xmlns=\"http://www.w3.org/2000/svg\" height=\"24px\"viewBox=\"0 0 24 24\"\n",
              "       width=\"24px\">\n",
              "    <path d=\"M0 0h24v24H0V0z\" fill=\"none\"/>\n",
              "    <path d=\"M18.56 5.44l.94 2.06.94-2.06 2.06-.94-2.06-.94-.94-2.06-.94 2.06-2.06.94zm-11 1L8.5 8.5l.94-2.06 2.06-.94-2.06-.94L8.5 2.5l-.94 2.06-2.06.94zm10 10l.94 2.06.94-2.06 2.06-.94-2.06-.94-.94-2.06-.94 2.06-2.06.94z\"/><path d=\"M17.41 7.96l-1.37-1.37c-.4-.4-.92-.59-1.43-.59-.52 0-1.04.2-1.43.59L10.3 9.45l-7.72 7.72c-.78.78-.78 2.05 0 2.83L4 21.41c.39.39.9.59 1.41.59.51 0 1.02-.2 1.41-.59l7.78-7.78 2.81-2.81c.8-.78.8-2.07 0-2.86zM5.41 20L4 18.59l7.72-7.72 1.47 1.35L5.41 20z\"/>\n",
              "  </svg>\n",
              "      </button>\n",
              "      \n",
              "  <style>\n",
              "    .colab-df-container {\n",
              "      display:flex;\n",
              "      flex-wrap:wrap;\n",
              "      gap: 12px;\n",
              "    }\n",
              "\n",
              "    .colab-df-convert {\n",
              "      background-color: #E8F0FE;\n",
              "      border: none;\n",
              "      border-radius: 50%;\n",
              "      cursor: pointer;\n",
              "      display: none;\n",
              "      fill: #1967D2;\n",
              "      height: 32px;\n",
              "      padding: 0 0 0 0;\n",
              "      width: 32px;\n",
              "    }\n",
              "\n",
              "    .colab-df-convert:hover {\n",
              "      background-color: #E2EBFA;\n",
              "      box-shadow: 0px 1px 2px rgba(60, 64, 67, 0.3), 0px 1px 3px 1px rgba(60, 64, 67, 0.15);\n",
              "      fill: #174EA6;\n",
              "    }\n",
              "\n",
              "    [theme=dark] .colab-df-convert {\n",
              "      background-color: #3B4455;\n",
              "      fill: #D2E3FC;\n",
              "    }\n",
              "\n",
              "    [theme=dark] .colab-df-convert:hover {\n",
              "      background-color: #434B5C;\n",
              "      box-shadow: 0px 1px 3px 1px rgba(0, 0, 0, 0.15);\n",
              "      filter: drop-shadow(0px 1px 2px rgba(0, 0, 0, 0.3));\n",
              "      fill: #FFFFFF;\n",
              "    }\n",
              "  </style>\n",
              "\n",
              "      <script>\n",
              "        const buttonEl =\n",
              "          document.querySelector('#df-f5895af7-2457-4c02-91ff-451e520ae785 button.colab-df-convert');\n",
              "        buttonEl.style.display =\n",
              "          google.colab.kernel.accessAllowed ? 'block' : 'none';\n",
              "\n",
              "        async function convertToInteractive(key) {\n",
              "          const element = document.querySelector('#df-f5895af7-2457-4c02-91ff-451e520ae785');\n",
              "          const dataTable =\n",
              "            await google.colab.kernel.invokeFunction('convertToInteractive',\n",
              "                                                     [key], {});\n",
              "          if (!dataTable) return;\n",
              "\n",
              "          const docLinkHtml = 'Like what you see? Visit the ' +\n",
              "            '<a target=\"_blank\" href=https://colab.research.google.com/notebooks/data_table.ipynb>data table notebook</a>'\n",
              "            + ' to learn more about interactive tables.';\n",
              "          element.innerHTML = '';\n",
              "          dataTable['output_type'] = 'display_data';\n",
              "          await google.colab.output.renderOutput(dataTable, element);\n",
              "          const docLink = document.createElement('div');\n",
              "          docLink.innerHTML = docLinkHtml;\n",
              "          element.appendChild(docLink);\n",
              "        }\n",
              "      </script>\n",
              "    </div>\n",
              "  </div>\n",
              "  "
            ]
          },
          "metadata": {},
          "execution_count": 30
        }
      ],
      "source": [
        "train_df.head()"
      ]
    },
    {
      "cell_type": "code",
      "execution_count": 31,
      "metadata": {
        "colab": {
          "base_uri": "https://localhost:8080/"
        },
        "id": "PZZhyY_iXJyQ",
        "outputId": "517019a8-e5f7-498c-ce8f-fa432932b660"
      },
      "outputs": [
        {
          "output_type": "stream",
          "name": "stdout",
          "text": [
            "train city count: 239\n",
            "test city count: 63\n",
            "0\n"
          ]
        }
      ],
      "source": [
        "train_city = train_df[\"City\"].unique().tolist()\n",
        "test_city = test_df[\"City\"].unique().tolist()\n",
        "\n",
        "train_city_cnt = len(train_city)\n",
        "test_city_cnt = len(test_city)\n",
        "\n",
        "print(f\"train city count: {train_city_cnt}\")\n",
        "print(f\"test city count: {test_city_cnt}\")\n",
        "\n",
        "print(f\"{len(set(train_city) & set(test_city))}\")"
      ]
    },
    {
      "cell_type": "code",
      "execution_count": 32,
      "metadata": {
        "colab": {
          "base_uri": "https://localhost:8080/"
        },
        "id": "NAxJgCMWvzyq",
        "outputId": "2f670d5b-f01d-44e2-aa92-e581b1b2dc1a"
      },
      "outputs": [
        {
          "output_type": "stream",
          "name": "stdout",
          "text": [
            "train_idx: 156755, valid_idx: 39186\n",
            "train_idx: 156758, valid_idx: 39183\n",
            "train_idx: 156760, valid_idx: 39181\n",
            "train_idx: 156730, valid_idx: 39211\n",
            "train_idx: 156761, valid_idx: 39180\n"
          ]
        }
      ],
      "source": [
        "kf = GroupKFold(n_splits = NUM_FOLDS)\n",
        "\n",
        "if not \"kfold\" in train_df.columns:\n",
        "    folds = copy.deepcopy(train_df[[\"id\"]])\n",
        "    folds[\"kfold\"] = -1\n",
        "\n",
        "    for fold, (train_idx, valid_idx) in enumerate(kf.split(train_df, train_df[\"pm25_mid\"], train_df[\"City\"])):\n",
        "        print(f\"train_idx: {len(train_idx)}, valid_idx: {len(valid_idx)}\")\n",
        "        folds.loc[valid_idx, \"kfold\"] = fold\n",
        "\n",
        "    train_df = train_df.merge(folds[[\"id\", \"kfold\"]], on=\"id\", how=\"left\")"
      ]
    },
    {
      "cell_type": "markdown",
      "metadata": {
        "id": "GgLI7LLc1szm"
      },
      "source": [
        "# Train"
      ]
    },
    {
      "cell_type": "code",
      "execution_count": 33,
      "metadata": {
        "id": "ckDad6r_AevZ"
      },
      "outputs": [],
      "source": [
        "import logging\n",
        "from typing import List, Optional, TypeVar\n",
        "\n",
        "import pandas as pd\n",
        "\n",
        "class AbstractFeatureTransformer:\n",
        "    def __init__(self):\n",
        "        self.name = self.__class__.__name__\n",
        "\n",
        "    def fit_transform(self, input_df: pd.DataFrame, y=None):\n",
        "        self.fit(input_df, y)\n",
        "        return self.transform(input_df)\n",
        "\n",
        "    def fit(self, input_df: pd.DataFrame, y=None):\n",
        "        pass\n",
        "\n",
        "    def transform(self, input_df: pd.DataFrame) -> pd.DataFrame:\n",
        "        raise NotImplementedError\n",
        "\n",
        "Transformer = TypeVar(\"Transformer\", bound=AbstractFeatureTransformer)\n",
        "\n",
        "def extract_features(input_df: pd.DataFrame,\n",
        "                     transformers: List[Transformer],\n",
        "                     fit: bool = True,\n",
        "                     logger: Optional[logging.Logger] = None):\n",
        "    feature_dfs = []\n",
        "    for transformer in transformers:\n",
        "        # timerはブロックの実行時間を計測するユーティリティ\n",
        "        with timer(f\"Extract features with {transformer.name}\", logger):\n",
        "            if fit:\n",
        "                feature_dfs.append(transformer.fit_transform(input_df))\n",
        "            else:\n",
        "                feature_dfs.append(transformer.transform(input_df))\n",
        "    all_features = pd.concat(feature_dfs, axis=1)\n",
        "    return all_features"
      ]
    },
    {
      "cell_type": "code",
      "execution_count": 34,
      "metadata": {
        "id": "HrG0N8hZDsoR"
      },
      "outputs": [],
      "source": [
        "class Numericals(AbstractFeatureTransformer):\n",
        "    def transform(self, input_df: pd.DataFrame) -> pd.DataFrame:\n",
        "        cols = [pd.api.types.is_numeric_dtype(dtype) for dtype in input_df.dtypes]\n",
        "        return input_df.loc[:, cols]\n",
        "\n",
        "class LabelEncoding(AbstractFeatureTransformer):\n",
        "    def __init__(self, columns: List[str]):\n",
        "        super().__init__()\n",
        "        self.le_columns = columns\n",
        "        self.encoders = {\n",
        "            column: LabelEncoder()\n",
        "            for column in self.le_columns\n",
        "        }\n",
        "        self.__is_fitted = False\n",
        "\n",
        "    def fit(self, input_df: pd.DataFrame, y: Optional[np.ndarray] = None):\n",
        "        \"\"\"\n",
        "        ラベルに変換する前に欠損値を埋める\n",
        "        \"\"\"\n",
        "        for column in self.le_columns:\n",
        "            self.encoders[column].fit(input_df[column].fillna(\"\"))\n",
        "        self.__is_fitted = True\n",
        "\n",
        "    def transform(\n",
        "        self, \n",
        "        input_df: pd.DataFrame, \n",
        "        y: Optional[np.ndarray] = None\n",
        "    ) -> pd.DataFrame:\n",
        "        assert self.__is_fitted, \"You need to call `fit` first.\"\n",
        "        encoded = {}\n",
        "        for column in self.le_columns:\n",
        "            encoded[column] = self.encoders[column].transform(\n",
        "                input_df[column].fillna(\"\"))\n",
        "        return pd.DataFrame(encoded)"
      ]
    },
    {
      "cell_type": "code",
      "source": [
        "def preprocess_all(train_df:pd.DataFrame, test_df:pd.DataFrame)->pd.DataFrame:\n",
        "    all_df = pd.concat([train_df, test_df])\n",
        "\n",
        "    mids = [\"co_mid\", \"o3_mid\", \"so2_mid\", \"no2_mid\", \"temperature_mid\", \"humidity_mid\", \"pressure_mid\", \"ws_mid\", \"dew_mid\", \n",
        "            \"co_max\", \"o3_max\", \"so2_max\", \"no2_max\", \"temperature_max\", \"humidity_max\", \"pressure_max\", \"ws_max\", \"dew_max\"]\n",
        "    cnt = 1\n",
        "    for i in range(len(mids)):\n",
        "        if f\"scaled_{mids[i]}\" in train_df.columns:\n",
        "            break\n",
        "        scaler = MinMaxScaler()\n",
        "        scaler.fit(all_df[[mids[i]]])\n",
        "        train_df[f\"scaled_{mids[i]}\"] = scaler.transform(train_df[[mids[i]]])\n",
        "        test_df[f\"scaled_{mids[i]}\"] = scaler.transform(test_df[[mids[i]]])\n",
        "        cnt += 1\n",
        "    print(\"min max scaler\")\n",
        "\n",
        "    return train_df, test_df"
      ],
      "metadata": {
        "id": "Y2f0rxIkZXEy"
      },
      "execution_count": 35,
      "outputs": []
    },
    {
      "cell_type": "code",
      "execution_count": 36,
      "metadata": {
        "id": "QNf23jZJLku0"
      },
      "outputs": [],
      "source": [
        "def preprocess(df:pd.DataFrame)->pd.DataFrame:\n",
        "    df_ = copy.deepcopy(df)\n",
        "    # 年月/年月日を追加\n",
        "\n",
        "    df_[\"year_month\"] = df_[\"year\"].astype(\"str\") + df_[\"month\"].astype(\"str\")\n",
        "    df_[\"year_month_day\"] = df_[\"year\"].astype(\"str\") + df_[\"month\"].astype(\"str\") + df_[\"day\"].astype(\"str\")\n",
        "    df_[\"month_day\"] = df_[\"month\"].astype(\"str\") + df_[\"day\"].astype(\"str\")\n",
        "\n",
        "    # 月日国/月日都市を追加\n",
        "    df_[\"month_day_country\"] = df_[\"month\"].astype(\"str\") + df_[\"day\"].astype(\"str\") + df_[\"Country\"].astype(\"str\") \n",
        "    df_[\"month_day_city\"] =  df_[\"month\"].astype(\"str\") + df_[\"day\"].astype(\"str\") + df_[\"City\"].astype(\"str\") \n",
        "\n",
        "    # 経度をcosに変換\n",
        "    cnt = 0\n",
        "\n",
        "    if not \"lon_cos\" in df_.columns:\n",
        "        df_[\"lon_cos\"] = np.cos(np.radians((df_[\"lon\"] + 180)))\n",
        "        df_[\"lon_sin\"] = np.sin(np.radians((df_[\"lon\"] + 180)))\n",
        "        df_[\"month_cos\"] = np.cos(np.radians(df_[\"month\"] / 12 * 360))\n",
        "        df_[\"month_sin\"] = np.sin(np.radians(df_[\"month\"] / 12 * 360))\n",
        "        print(\"add lon_cos, lon_sin, month_cos, month_sin\")\n",
        "        cnt += 4\n",
        "\n",
        "    # 四則演算\n",
        "\n",
        "    # 南半球を北半球のmonthに変更\n",
        "    if not \"month_world\" in df_.columns:\n",
        "        df_[\"month_world\"] = df_[\"month\"]\n",
        "        df_.loc[df_[\"lat\"] < 0, \"month_world\"] = df_[\"month\"] + 6\n",
        "        df_.loc[df_[\"month_world\"] > 12, \"month_world\"] = df_[\"month\"] - 6\n",
        "        print(\"add month_world\")\n",
        "        cnt += 1\n",
        "    # mid同士を4則\n",
        "    columns = df_.columns\n",
        "    mids = []\n",
        "    for c in columns:\n",
        "        if \"_mid\" in c and c != \"pm25_mid\":\n",
        "            mids.append(c)\n",
        "\n",
        "    # 曜日を追加\n",
        "    def _cal_sun_time(lat:float, lon:float, year:float, month:float, day: float)->float:\n",
        "        location = ephem.Observer()\n",
        "        location.lat = str(lat)\n",
        "        location.lon = str(lon)\n",
        "        sun = ephem.Sun()\n",
        "\n",
        "        location.date = datetime.date(year = int(year), month = int(month), day = int(day))\n",
        "        sun_time_tmp1 = ephem.localtime(location.next_rising(sun)) - ephem.localtime(location.next_setting(sun))\n",
        "        sun_time_tmp2 = ephem.localtime(location.next_setting(sun)) - ephem.localtime(location.next_rising(sun))\n",
        "\n",
        "        sun_time = max(sun_time_tmp1.seconds, sun_time_tmp2.seconds)\n",
        "\n",
        "        return sun_time\n",
        "    if not \"sun_time\" in df_.columns:\n",
        "        u_cols = [\"lat\", \"lon\", \"year\", \"month\", \"day\"]\n",
        "\n",
        "        df_[\"sun_time\"] = -1\n",
        "        df_[\"week\"] = -1\n",
        "\n",
        "        mini_df = df_[u_cols]\n",
        "\n",
        "        sun_time = np.zeros(len(df_))\n",
        "        weeks = np.zeros(len(df_))\n",
        "        for i in tqdm(range(len(mini_df))):\n",
        "            lat, lon, year, month, day = mini_df.iloc[i]\n",
        "            sun_time[i] = _cal_sun_time(lat, lon, year, month, day)\n",
        "\n",
        "            # 曜日\n",
        "            date = datetime.date(int(year), int(month), int(day))\n",
        "            weeks[i] = date.weekday()\n",
        "\n",
        "        df_[\"sun_time\"] = sun_time\n",
        "        df_[\"week\"] = weeks\n",
        "\n",
        "        print(\"add sun_time, weeks\")\n",
        "    cnt += 2\n",
        "\n",
        "    mids = [\"co_mid\", \"o3_mid\", \"so2_mid\", \"no2_mid\", \"temperature_mid\", \"humidity_mid\", \"pressure_mid\", \"ws_mid\", \"dew_mid\"]\n",
        "    for i in range(len(mids)):\n",
        "        for j in range(i):\n",
        "            mid0, mid1 = mids[i], mids[j]\n",
        "            df_[f\"{mid0}+{mid1}\"] = df_[mid0] + df_[mid1]\n",
        "\n",
        "            cnt += 1\n",
        "    print(\"add mids + cal\")\n",
        "    scaled_mids = [\"scaled_co_mid\", \"scaled_o3_mid\", \"scaled_so2_mid\", \"scaled_no2_mid\"]\n",
        "    for i in range(len(scaled_mids)):\n",
        "        for j in range(i):\n",
        "            mid0, mid1 = scaled_mids[i], scaled_mids[j]\n",
        "            df_[f\"{mid0}+{mid1}\"] = df_[mid0] + df_[mid1]\n",
        "            cnt += 1\n",
        "            for k in range(j):\n",
        "                mid2 = scaled_mids[k]\n",
        "                df_[f\"{mid0}+{mid1}+{mid2}\"] = df_[mid0] + df_[mid1] + df_[mid2]\n",
        "                cnt += 1\n",
        "                for l in range(k):\n",
        "                    mid3 = scaled_mids[l]\n",
        "                    df_[f\"{mid0}+{mid1}+{mid2}+{mid3}\"] = df_[mid0] + df_[mid1] + df_[mid2] + df_[mid3]\n",
        "                    cnt += 1\n",
        "    print(\"add scaled mids\")\n",
        "\n",
        "    maxs = [\"co_max\", \"o3_max\", \"so2_max\", \"no2_max\", \"temperature_max\", \"humidity_max\", \"pressure_max\", \"ws_max\", \"dew_max\"]\n",
        "    for i in range(len(maxs)):\n",
        "        for j in range(i):\n",
        "            max0, max1 = maxs[i], maxs[j]\n",
        "            df_[f\"{max0}+{max1}\"] = df_[max0] + df_[max1]\n",
        "\n",
        "    scaled_maxs = [\"scaled_co_max\", \"scaled_o3_max\", \"scaled_so2_max\", \"scaled_no2_max\"]\n",
        "    for i in range(len(scaled_maxs)):\n",
        "        for j in range(i):\n",
        "            max0, max1 = scaled_maxs[i], scaled_maxs[j]\n",
        "            df_[f\"{max0}+{max1}\"] = df_[max0] + df_[max1]\n",
        "            cnt += 1\n",
        "            for k in range(j):\n",
        "                max2 = scaled_maxs[k]\n",
        "                df_[f\"{max0}+{max1}+{max2}\"] = df_[max0] + df_[max1] + df_[max2]\n",
        "                cnt += 1\n",
        "                for l in range(k):\n",
        "                    max3 = scaled_maxs[l]\n",
        "                    df_[f\"{max0}+{max1}+{max2}+{max3}\"] = df_[max0] + df_[max1] + df_[max2] + df_[max3]\n",
        "                    cnt += 1\n",
        "    print(\"add scaled maxs\")\n",
        "\n",
        "    print(f\"add {cnt} columns\")\n",
        "\n",
        "    return df_"
      ]
    },
    {
      "cell_type": "code",
      "execution_count": 37,
      "metadata": {
        "id": "90PpUjny14tH"
      },
      "outputs": [],
      "source": [
        "# numericals = Numericals()\n",
        "# 数字に関する変換\n",
        "# train_df_num = numericals.transform(train_df)\n",
        "\n",
        "# ラベルに関する変換\n",
        "# labelencoding = LabelEncoding(columns = [])\n",
        "\n",
        "# labelencoding.fit(train_df_num)\n",
        "# train_df_labeled = labelencoding.transform(train_df_num)"
      ]
    },
    {
      "cell_type": "code",
      "execution_count": 38,
      "metadata": {
        "id": "6YsXccMiCXvd"
      },
      "outputs": [],
      "source": [
        "class AbstractTreeModel:\n",
        "    def __init__(self, prediction_type=\"regression\"):\n",
        "        self.model = None\n",
        "        self.prediction_type = prediction_type\n",
        "\n",
        "    def train(self,\n",
        "              params: dict,\n",
        "              X_train: pd.DataFrame,\n",
        "              y_train: np.ndarray,\n",
        "              X_val: pd.DataFrame,\n",
        "              y_val: np.ndarray,\n",
        "              train_weights: Optional[np.ndarray] = None,\n",
        "              val_weights: Optional[np.ndarray] = None,\n",
        "              train_params: Optional[dict] = None):\n",
        "        if train_params is None:\n",
        "            train_params = {}\n",
        "\n",
        "        model = self._train(\n",
        "            params,\n",
        "            X_train, y_train,\n",
        "            X_val, y_val,\n",
        "            train_weights, val_weights,\n",
        "            train_params)\n",
        "        self.model = model\n",
        "        return self\n",
        "\n",
        "    def _train(self,\n",
        "               params,\n",
        "               X_train,\n",
        "               y_train,\n",
        "               X_val,\n",
        "               y_val,\n",
        "               train_weights,\n",
        "               val_weights,\n",
        "               train_params):\n",
        "        raise NotImplementedError\n",
        "\n",
        "    def predict(self, X: pd.DataFrame) -> np.ndarray:\n",
        "        raise NotImplementedError\n",
        "\n",
        "    @property\n",
        "    def feature_names_(self):\n",
        "        raise NotImplementedError\n",
        "\n",
        "    @property\n",
        "    def feature_importances_(self):\n",
        "        raise NotImplementedError\n",
        "\n",
        "    def _check_if_trained(self):\n",
        "        assert self.model is not None, \"You need to train the model first\"\n",
        "\n",
        "class LGBModel(AbstractTreeModel):\n",
        "    def _train(self,\n",
        "               params,\n",
        "               X_train, y_train,\n",
        "               X_val, y_val,\n",
        "               train_weights, val_weights,\n",
        "               train_params):\n",
        "        trn_data = lgb.Dataset(X_train, y_train, weight=train_weights)\n",
        "        val_data = lgb.Dataset(X_val, y_val, weight=val_weights)\n",
        "        model = lgb.train(params=params,\n",
        "                          train_set=trn_data,\n",
        "                          valid_sets=[trn_data, val_data],\n",
        "                          **train_params,)\n",
        "                        #   verbose_eval=False)\n",
        "        return model\n",
        "\n",
        "    def predict(self, X: pd.DataFrame) -> np.ndarray:\n",
        "        self._check_if_trained()\n",
        "        return self.model.predict(X, num_iteration=self.model.best_iteration)\n",
        "\n",
        "    @property\n",
        "    def feature_names_(self):\n",
        "        self._check_if_trained()\n",
        "        return self.model.feature_name()\n",
        "\n",
        "    @property\n",
        "    def feature_importances_(self):\n",
        "        self._check_if_trained()\n",
        "        return self.model.feature_importance(importance_type=\"gain\")\n",
        "\n",
        "def get_tree_model(name: str) -> Type[AbstractTreeModel]:\n",
        "    DEFINED_MODELS = {\n",
        "        \"lgb\": LGBModel,\n",
        "        # 実装していない\n",
        "        # \"xgb\": XGBModel,\n",
        "        # \"cat\": CatBoostModel\n",
        "    }\n",
        "    model = DEFINED_MODELS.get(name)\n",
        "    if model is None:\n",
        "        raise ValueError(\n",
        "            \"\"\"Invalid model name: {}.\n",
        "            Pre-defined model names are as follows: {}\"\"\".format(\n",
        "                name,\n",
        "                \",\".join(DEFINED_MODELS.keys())\n",
        "            ))\n",
        "    return model"
      ]
    },
    {
      "cell_type": "code",
      "execution_count": 39,
      "metadata": {
        "id": "70dJPb20ISl_"
      },
      "outputs": [],
      "source": [
        "def viz_feature_importances(feature_importances: pd.DataFrame)-> None:\n",
        "    fi_gby = feature_importances.groupby(\"feature\").agg({\n",
        "        \"importance\": [\"mean\", \"std\"]\n",
        "    }).sort_values((\"importance\", \"mean\"), ascending=0).index\n",
        "    plt.figure(figsize=(30, 20))\n",
        "\n",
        "    sns.barplot(x=\"importance\", y=\"feature\", data=feature_importances, order=fi_gby)\n",
        "\n",
        "    plt.title('LightGBM Features (avg over folds)')\n",
        "    plt.tight_layout()\n",
        "    plt.show()\n",
        "    # plt.savefig('lgbm_importances-01.png')"
      ]
    },
    {
      "cell_type": "code",
      "execution_count": 40,
      "metadata": {
        "id": "55k-amEm_9Xb"
      },
      "outputs": [],
      "source": [
        "train_params = {\n",
        "    \"num_boost_round\": 20000,\n",
        "    \"callbacks\": [\n",
        "                  lgb.early_stopping(stopping_rounds= 500, verbose=True),\n",
        "                  lgb.log_evaluation(period = 500)\n",
        "    ]\n",
        "}"
      ]
    },
    {
      "cell_type": "code",
      "execution_count": 41,
      "metadata": {
        "id": "gm7PQWKwWS7W"
      },
      "outputs": [],
      "source": [
        "num_cols = [c for c in train_df.columns if train_df[c].dtype != np.object]\n",
        "if \"id\" in num_cols:\n",
        "    num_cols.remove(\"id\")\n",
        "if \"kfold\" in num_cols:\n",
        "    num_cols.remove(\"kfold\")\n",
        "num_cols.remove(\"pm25_mid\")\n",
        "\n",
        "target_cols = \"pm25_mid\""
      ]
    },
    {
      "cell_type": "code",
      "source": [
        "train_df.columns"
      ],
      "metadata": {
        "colab": {
          "base_uri": "https://localhost:8080/"
        },
        "id": "__7ONrr-dJbs",
        "outputId": "9c821fb1-4728-4b21-e98a-aac45b9f96c2"
      },
      "execution_count": 42,
      "outputs": [
        {
          "output_type": "execute_result",
          "data": {
            "text/plain": [
              "Index(['id', 'year', 'month', 'day', 'Country', 'City', 'lat', 'lon', 'co_cnt',\n",
              "       'co_min', 'co_mid', 'co_max', 'co_var', 'o3_cnt', 'o3_min', 'o3_mid',\n",
              "       'o3_max', 'o3_var', 'so2_cnt', 'so2_min', 'so2_mid', 'so2_max',\n",
              "       'so2_var', 'no2_cnt', 'no2_min', 'no2_mid', 'no2_max', 'no2_var',\n",
              "       'temperature_cnt', 'temperature_min', 'temperature_mid',\n",
              "       'temperature_max', 'temperature_var', 'humidity_cnt', 'humidity_min',\n",
              "       'humidity_mid', 'humidity_max', 'humidity_var', 'pressure_cnt',\n",
              "       'pressure_min', 'pressure_mid', 'pressure_max', 'pressure_var',\n",
              "       'ws_cnt', 'ws_min', 'ws_mid', 'ws_max', 'ws_var', 'dew_cnt', 'dew_min',\n",
              "       'dew_mid', 'dew_max', 'dew_var', 'pm25_mid', 'rank', 'Population',\n",
              "       'Prev', 'Growth', 'target_count', 'target_mean', 'target_std', 'min',\n",
              "       'target_25%', 'target_50%', 'target_75%', 'target_max', 'kfold'],\n",
              "      dtype='object')"
            ]
          },
          "metadata": {},
          "execution_count": 42
        }
      ]
    },
    {
      "cell_type": "code",
      "source": [
        "train_df, test_df = preprocess_all(train_df, test_df)\n",
        "\n",
        "train_df_ = preprocess(train_df)\n",
        "test_df_ = preprocess(test_df)"
      ],
      "metadata": {
        "colab": {
          "base_uri": "https://localhost:8080/",
          "height": 349,
          "referenced_widgets": [
            "527290b2e4a044dfb04e06a885b4606b",
            "0921a12ead144a319a67a176c116bab2",
            "5174f2b4d11f40e0be0d5502f4bddcd0",
            "1e635a4503934ce0aadd2c4bf3af95d1",
            "b91443d72918458ebc3d7f07dc46f920",
            "f08e8d65e3fb435f937a5c7573d01a89",
            "3e0850281dd64f72a23bbcd1275a3fa2",
            "1e3c626a6a3c4ebe8a71195a817cd11b",
            "5fb083ed6b1f4fea8011a9539c92e777",
            "233f31648ff945e29bc76267ab46e28b",
            "08f8df523b184a57877189fc3e8c2bee",
            "a86713f2cfbe4ca5be0238c4fb1152b4",
            "292e007fd3d742d69dd4e14408b7f80a",
            "3750ec2132284c658d0f722c575dd9e6",
            "0eafd45b1f174e94abae89d66c41eeff",
            "801d4cc11bff4f06a62dd07a0f9c0bc7",
            "b91fac7f37ee47d089b2b6b91b664429",
            "9eebf8003dd846dea034dcb4676a0e0f",
            "525b1dcf928b42ba9dfce499694e323a",
            "25d2774b9be3443594bfada8824178ab",
            "5106dd0a36f04839afc1bb20bb7e3146",
            "63be4efb46c949fd9730a35bdda9bde8"
          ]
        },
        "id": "ZP0XBQf8bDVK",
        "outputId": "cfa390c9-002e-4bb6-ed31-cee0505a81f3"
      },
      "execution_count": 87,
      "outputs": [
        {
          "output_type": "stream",
          "name": "stdout",
          "text": [
            "min max scaler\n",
            "add lon_cos, lon_sin, month_cos, month_sin\n",
            "add month_world\n"
          ]
        },
        {
          "output_type": "display_data",
          "data": {
            "text/plain": [
              "  0%|          | 0/195941 [00:00<?, ?it/s]"
            ],
            "application/vnd.jupyter.widget-view+json": {
              "version_major": 2,
              "version_minor": 0,
              "model_id": "527290b2e4a044dfb04e06a885b4606b"
            }
          },
          "metadata": {}
        },
        {
          "output_type": "stream",
          "name": "stdout",
          "text": [
            "add sun_time, weeks\n",
            "add mids + cal\n",
            "add scaled mids\n",
            "add scaled maxs\n",
            "add 65 columns\n",
            "add lon_cos, lon_sin, month_cos, month_sin\n",
            "add month_world\n"
          ]
        },
        {
          "output_type": "display_data",
          "data": {
            "text/plain": [
              "  0%|          | 0/53509 [00:00<?, ?it/s]"
            ],
            "application/vnd.jupyter.widget-view+json": {
              "version_major": 2,
              "version_minor": 0,
              "model_id": "a86713f2cfbe4ca5be0238c4fb1152b4"
            }
          },
          "metadata": {}
        },
        {
          "output_type": "stream",
          "name": "stdout",
          "text": [
            "add sun_time, weeks\n",
            "add mids + cal\n",
            "add scaled mids\n",
            "add scaled maxs\n",
            "add 65 columns\n"
          ]
        }
      ]
    },
    {
      "cell_type": "code",
      "source": [
        "cat_cols = [\"Country\", \"City\", \"year_month\", \"year_month_day\", \"month_day\", \"month_day_city\", \"month_day_country\", \"nearest_city\"] \n",
        "\n",
        "num_cols = list(set(train_df_.columns) - set(cat_cols + [\"pm25_mid\", \"kfold\", \"id\", \"year\"])) + [\"nearest_pm25_mid\", \"distance_km\"] \n",
        "use_cols = num_cols + cat_cols"
      ],
      "metadata": {
        "id": "EYX6Hj-bxCq8"
      },
      "execution_count": 88,
      "outputs": []
    },
    {
      "cell_type": "code",
      "source": [
        "train_df_.head(10)"
      ],
      "metadata": {
        "id": "AkV2RavW_O7A",
        "colab": {
          "base_uri": "https://localhost:8080/",
          "height": 456
        },
        "outputId": "125dbc32-e0ba-46e2-e24d-79be15e63d05"
      },
      "execution_count": 89,
      "outputs": [
        {
          "output_type": "execute_result",
          "data": {
            "text/plain": [
              "   id  year  month  day    Country        City       lat        lon  co_cnt  \\\n",
              "0   1  2019      1    1  Australia    Brisbane -27.46794  153.02809      38   \n",
              "1   2  2019      1    1  Australia      Darwin -12.46113  130.84185      47   \n",
              "2   3  2019      1    1  Australia   Melbourne -37.81400  144.96332      17   \n",
              "3   4  2019      1    1  Australia   Newcastle -32.92953  151.78010      63   \n",
              "4   5  2019      1    1  Australia       Perth -31.95224  115.86140      47   \n",
              "5   6  2019      1    1  Australia  Wollongong -34.42400  150.89345     179   \n",
              "6   7  2019      1    1    Belgium   Antwerpen  51.22047    4.40026      93   \n",
              "7   8  2019      1    1    Belgium   Charleroi  50.41136    4.44448      11   \n",
              "8   9  2019      1    1    Belgium       Liège  50.63373    5.56749      12   \n",
              "9  10  2019      1    1     Brazil   São Paulo -23.54750  -46.63611     354   \n",
              "\n",
              "   co_min  ...  scaled_so2_max+scaled_co_max  scaled_so2_max+scaled_o3_max  \\\n",
              "0   0.749  ...                      0.007066                      0.013632   \n",
              "1   2.594  ...                      0.041960                      0.056968   \n",
              "2   1.190  ...                      0.099704                      0.142168   \n",
              "3   4.586  ...                      0.057716                      0.104860   \n",
              "4   4.689  ...                      0.042144                      0.097144   \n",
              "5   4.554  ...                      0.056074                      0.132480   \n",
              "6   4.011  ...                      0.055416                      0.046528   \n",
              "7   0.096  ...                      0.001480                      0.045884   \n",
              "8   0.097  ...                      0.002400                      0.049650   \n",
              "9   1.048  ...                      0.024602                      0.119038   \n",
              "\n",
              "   scaled_so2_max+scaled_o3_max+scaled_co_max  scaled_no2_max+scaled_co_max  \\\n",
              "0                                    0.018898                      0.009642   \n",
              "1                                    0.066624                      0.020478   \n",
              "2                                    0.146568                      0.028860   \n",
              "3                                    0.134464                      0.078046   \n",
              "4                                    0.119344                      0.087368   \n",
              "5                                    0.164118                      0.113938   \n",
              "6                                    0.072246                      0.078918   \n",
              "7                                    0.046078                      0.031764   \n",
              "8                                    0.049852                      0.036340   \n",
              "9                                    0.133952                      0.072426   \n",
              "\n",
              "   scaled_no2_max+scaled_o3_max  scaled_no2_max+scaled_o3_max+scaled_co_max  \\\n",
              "0                      0.016208                                    0.021474   \n",
              "1                      0.035486                                    0.045142   \n",
              "2                      0.071324                                    0.075724   \n",
              "3                      0.125190                                    0.154794   \n",
              "4                      0.142368                                    0.164568   \n",
              "5                      0.190344                                    0.221982   \n",
              "6                      0.070030                                    0.095748   \n",
              "7                      0.076168                                    0.076362   \n",
              "8                      0.083590                                    0.083792   \n",
              "9                      0.166862                                    0.181776   \n",
              "\n",
              "   scaled_no2_max+scaled_so2_max  scaled_no2_max+scaled_so2_max+scaled_co_max  \\\n",
              "0                       0.006176                                     0.011442   \n",
              "1                       0.043126                                     0.052782   \n",
              "2                       0.119764                                     0.124164   \n",
              "3                       0.076554                                     0.106158   \n",
              "4                       0.085112                                     0.107312   \n",
              "5                       0.106736                                     0.138374   \n",
              "6                       0.082898                                     0.108616   \n",
              "7                       0.032856                                     0.033050   \n",
              "8                       0.038336                                     0.038538   \n",
              "9                       0.067200                                     0.082114   \n",
              "\n",
              "   scaled_no2_max+scaled_so2_max+scaled_o3_max  \\\n",
              "0                                     0.018008   \n",
              "1                                     0.067790   \n",
              "2                                     0.166628   \n",
              "3                                     0.153302   \n",
              "4                                     0.162312   \n",
              "5                                     0.214780   \n",
              "6                                     0.099728   \n",
              "7                                     0.077454   \n",
              "8                                     0.085788   \n",
              "9                                     0.176550   \n",
              "\n",
              "   scaled_no2_max+scaled_so2_max+scaled_o3_max+scaled_co_max  \n",
              "0                                           0.023274          \n",
              "1                                           0.077446          \n",
              "2                                           0.171028          \n",
              "3                                           0.182906          \n",
              "4                                           0.184512          \n",
              "5                                           0.246418          \n",
              "6                                           0.125446          \n",
              "7                                           0.077648          \n",
              "8                                           0.085990          \n",
              "9                                           0.191464          \n",
              "\n",
              "[10 rows x 191 columns]"
            ],
            "text/html": [
              "\n",
              "  <div id=\"df-9184fa8c-6dd9-4164-aee0-3c0358e1af79\">\n",
              "    <div class=\"colab-df-container\">\n",
              "      <div>\n",
              "<style scoped>\n",
              "    .dataframe tbody tr th:only-of-type {\n",
              "        vertical-align: middle;\n",
              "    }\n",
              "\n",
              "    .dataframe tbody tr th {\n",
              "        vertical-align: top;\n",
              "    }\n",
              "\n",
              "    .dataframe thead th {\n",
              "        text-align: right;\n",
              "    }\n",
              "</style>\n",
              "<table border=\"1\" class=\"dataframe\">\n",
              "  <thead>\n",
              "    <tr style=\"text-align: right;\">\n",
              "      <th></th>\n",
              "      <th>id</th>\n",
              "      <th>year</th>\n",
              "      <th>month</th>\n",
              "      <th>day</th>\n",
              "      <th>Country</th>\n",
              "      <th>City</th>\n",
              "      <th>lat</th>\n",
              "      <th>lon</th>\n",
              "      <th>co_cnt</th>\n",
              "      <th>co_min</th>\n",
              "      <th>...</th>\n",
              "      <th>scaled_so2_max+scaled_co_max</th>\n",
              "      <th>scaled_so2_max+scaled_o3_max</th>\n",
              "      <th>scaled_so2_max+scaled_o3_max+scaled_co_max</th>\n",
              "      <th>scaled_no2_max+scaled_co_max</th>\n",
              "      <th>scaled_no2_max+scaled_o3_max</th>\n",
              "      <th>scaled_no2_max+scaled_o3_max+scaled_co_max</th>\n",
              "      <th>scaled_no2_max+scaled_so2_max</th>\n",
              "      <th>scaled_no2_max+scaled_so2_max+scaled_co_max</th>\n",
              "      <th>scaled_no2_max+scaled_so2_max+scaled_o3_max</th>\n",
              "      <th>scaled_no2_max+scaled_so2_max+scaled_o3_max+scaled_co_max</th>\n",
              "    </tr>\n",
              "  </thead>\n",
              "  <tbody>\n",
              "    <tr>\n",
              "      <th>0</th>\n",
              "      <td>1</td>\n",
              "      <td>2019</td>\n",
              "      <td>1</td>\n",
              "      <td>1</td>\n",
              "      <td>Australia</td>\n",
              "      <td>Brisbane</td>\n",
              "      <td>-27.46794</td>\n",
              "      <td>153.02809</td>\n",
              "      <td>38</td>\n",
              "      <td>0.749</td>\n",
              "      <td>...</td>\n",
              "      <td>0.007066</td>\n",
              "      <td>0.013632</td>\n",
              "      <td>0.018898</td>\n",
              "      <td>0.009642</td>\n",
              "      <td>0.016208</td>\n",
              "      <td>0.021474</td>\n",
              "      <td>0.006176</td>\n",
              "      <td>0.011442</td>\n",
              "      <td>0.018008</td>\n",
              "      <td>0.023274</td>\n",
              "    </tr>\n",
              "    <tr>\n",
              "      <th>1</th>\n",
              "      <td>2</td>\n",
              "      <td>2019</td>\n",
              "      <td>1</td>\n",
              "      <td>1</td>\n",
              "      <td>Australia</td>\n",
              "      <td>Darwin</td>\n",
              "      <td>-12.46113</td>\n",
              "      <td>130.84185</td>\n",
              "      <td>47</td>\n",
              "      <td>2.594</td>\n",
              "      <td>...</td>\n",
              "      <td>0.041960</td>\n",
              "      <td>0.056968</td>\n",
              "      <td>0.066624</td>\n",
              "      <td>0.020478</td>\n",
              "      <td>0.035486</td>\n",
              "      <td>0.045142</td>\n",
              "      <td>0.043126</td>\n",
              "      <td>0.052782</td>\n",
              "      <td>0.067790</td>\n",
              "      <td>0.077446</td>\n",
              "    </tr>\n",
              "    <tr>\n",
              "      <th>2</th>\n",
              "      <td>3</td>\n",
              "      <td>2019</td>\n",
              "      <td>1</td>\n",
              "      <td>1</td>\n",
              "      <td>Australia</td>\n",
              "      <td>Melbourne</td>\n",
              "      <td>-37.81400</td>\n",
              "      <td>144.96332</td>\n",
              "      <td>17</td>\n",
              "      <td>1.190</td>\n",
              "      <td>...</td>\n",
              "      <td>0.099704</td>\n",
              "      <td>0.142168</td>\n",
              "      <td>0.146568</td>\n",
              "      <td>0.028860</td>\n",
              "      <td>0.071324</td>\n",
              "      <td>0.075724</td>\n",
              "      <td>0.119764</td>\n",
              "      <td>0.124164</td>\n",
              "      <td>0.166628</td>\n",
              "      <td>0.171028</td>\n",
              "    </tr>\n",
              "    <tr>\n",
              "      <th>3</th>\n",
              "      <td>4</td>\n",
              "      <td>2019</td>\n",
              "      <td>1</td>\n",
              "      <td>1</td>\n",
              "      <td>Australia</td>\n",
              "      <td>Newcastle</td>\n",
              "      <td>-32.92953</td>\n",
              "      <td>151.78010</td>\n",
              "      <td>63</td>\n",
              "      <td>4.586</td>\n",
              "      <td>...</td>\n",
              "      <td>0.057716</td>\n",
              "      <td>0.104860</td>\n",
              "      <td>0.134464</td>\n",
              "      <td>0.078046</td>\n",
              "      <td>0.125190</td>\n",
              "      <td>0.154794</td>\n",
              "      <td>0.076554</td>\n",
              "      <td>0.106158</td>\n",
              "      <td>0.153302</td>\n",
              "      <td>0.182906</td>\n",
              "    </tr>\n",
              "    <tr>\n",
              "      <th>4</th>\n",
              "      <td>5</td>\n",
              "      <td>2019</td>\n",
              "      <td>1</td>\n",
              "      <td>1</td>\n",
              "      <td>Australia</td>\n",
              "      <td>Perth</td>\n",
              "      <td>-31.95224</td>\n",
              "      <td>115.86140</td>\n",
              "      <td>47</td>\n",
              "      <td>4.689</td>\n",
              "      <td>...</td>\n",
              "      <td>0.042144</td>\n",
              "      <td>0.097144</td>\n",
              "      <td>0.119344</td>\n",
              "      <td>0.087368</td>\n",
              "      <td>0.142368</td>\n",
              "      <td>0.164568</td>\n",
              "      <td>0.085112</td>\n",
              "      <td>0.107312</td>\n",
              "      <td>0.162312</td>\n",
              "      <td>0.184512</td>\n",
              "    </tr>\n",
              "    <tr>\n",
              "      <th>5</th>\n",
              "      <td>6</td>\n",
              "      <td>2019</td>\n",
              "      <td>1</td>\n",
              "      <td>1</td>\n",
              "      <td>Australia</td>\n",
              "      <td>Wollongong</td>\n",
              "      <td>-34.42400</td>\n",
              "      <td>150.89345</td>\n",
              "      <td>179</td>\n",
              "      <td>4.554</td>\n",
              "      <td>...</td>\n",
              "      <td>0.056074</td>\n",
              "      <td>0.132480</td>\n",
              "      <td>0.164118</td>\n",
              "      <td>0.113938</td>\n",
              "      <td>0.190344</td>\n",
              "      <td>0.221982</td>\n",
              "      <td>0.106736</td>\n",
              "      <td>0.138374</td>\n",
              "      <td>0.214780</td>\n",
              "      <td>0.246418</td>\n",
              "    </tr>\n",
              "    <tr>\n",
              "      <th>6</th>\n",
              "      <td>7</td>\n",
              "      <td>2019</td>\n",
              "      <td>1</td>\n",
              "      <td>1</td>\n",
              "      <td>Belgium</td>\n",
              "      <td>Antwerpen</td>\n",
              "      <td>51.22047</td>\n",
              "      <td>4.40026</td>\n",
              "      <td>93</td>\n",
              "      <td>4.011</td>\n",
              "      <td>...</td>\n",
              "      <td>0.055416</td>\n",
              "      <td>0.046528</td>\n",
              "      <td>0.072246</td>\n",
              "      <td>0.078918</td>\n",
              "      <td>0.070030</td>\n",
              "      <td>0.095748</td>\n",
              "      <td>0.082898</td>\n",
              "      <td>0.108616</td>\n",
              "      <td>0.099728</td>\n",
              "      <td>0.125446</td>\n",
              "    </tr>\n",
              "    <tr>\n",
              "      <th>7</th>\n",
              "      <td>8</td>\n",
              "      <td>2019</td>\n",
              "      <td>1</td>\n",
              "      <td>1</td>\n",
              "      <td>Belgium</td>\n",
              "      <td>Charleroi</td>\n",
              "      <td>50.41136</td>\n",
              "      <td>4.44448</td>\n",
              "      <td>11</td>\n",
              "      <td>0.096</td>\n",
              "      <td>...</td>\n",
              "      <td>0.001480</td>\n",
              "      <td>0.045884</td>\n",
              "      <td>0.046078</td>\n",
              "      <td>0.031764</td>\n",
              "      <td>0.076168</td>\n",
              "      <td>0.076362</td>\n",
              "      <td>0.032856</td>\n",
              "      <td>0.033050</td>\n",
              "      <td>0.077454</td>\n",
              "      <td>0.077648</td>\n",
              "    </tr>\n",
              "    <tr>\n",
              "      <th>8</th>\n",
              "      <td>9</td>\n",
              "      <td>2019</td>\n",
              "      <td>1</td>\n",
              "      <td>1</td>\n",
              "      <td>Belgium</td>\n",
              "      <td>Liège</td>\n",
              "      <td>50.63373</td>\n",
              "      <td>5.56749</td>\n",
              "      <td>12</td>\n",
              "      <td>0.097</td>\n",
              "      <td>...</td>\n",
              "      <td>0.002400</td>\n",
              "      <td>0.049650</td>\n",
              "      <td>0.049852</td>\n",
              "      <td>0.036340</td>\n",
              "      <td>0.083590</td>\n",
              "      <td>0.083792</td>\n",
              "      <td>0.038336</td>\n",
              "      <td>0.038538</td>\n",
              "      <td>0.085788</td>\n",
              "      <td>0.085990</td>\n",
              "    </tr>\n",
              "    <tr>\n",
              "      <th>9</th>\n",
              "      <td>10</td>\n",
              "      <td>2019</td>\n",
              "      <td>1</td>\n",
              "      <td>1</td>\n",
              "      <td>Brazil</td>\n",
              "      <td>São Paulo</td>\n",
              "      <td>-23.54750</td>\n",
              "      <td>-46.63611</td>\n",
              "      <td>354</td>\n",
              "      <td>1.048</td>\n",
              "      <td>...</td>\n",
              "      <td>0.024602</td>\n",
              "      <td>0.119038</td>\n",
              "      <td>0.133952</td>\n",
              "      <td>0.072426</td>\n",
              "      <td>0.166862</td>\n",
              "      <td>0.181776</td>\n",
              "      <td>0.067200</td>\n",
              "      <td>0.082114</td>\n",
              "      <td>0.176550</td>\n",
              "      <td>0.191464</td>\n",
              "    </tr>\n",
              "  </tbody>\n",
              "</table>\n",
              "<p>10 rows × 191 columns</p>\n",
              "</div>\n",
              "      <button class=\"colab-df-convert\" onclick=\"convertToInteractive('df-9184fa8c-6dd9-4164-aee0-3c0358e1af79')\"\n",
              "              title=\"Convert this dataframe to an interactive table.\"\n",
              "              style=\"display:none;\">\n",
              "        \n",
              "  <svg xmlns=\"http://www.w3.org/2000/svg\" height=\"24px\"viewBox=\"0 0 24 24\"\n",
              "       width=\"24px\">\n",
              "    <path d=\"M0 0h24v24H0V0z\" fill=\"none\"/>\n",
              "    <path d=\"M18.56 5.44l.94 2.06.94-2.06 2.06-.94-2.06-.94-.94-2.06-.94 2.06-2.06.94zm-11 1L8.5 8.5l.94-2.06 2.06-.94-2.06-.94L8.5 2.5l-.94 2.06-2.06.94zm10 10l.94 2.06.94-2.06 2.06-.94-2.06-.94-.94-2.06-.94 2.06-2.06.94z\"/><path d=\"M17.41 7.96l-1.37-1.37c-.4-.4-.92-.59-1.43-.59-.52 0-1.04.2-1.43.59L10.3 9.45l-7.72 7.72c-.78.78-.78 2.05 0 2.83L4 21.41c.39.39.9.59 1.41.59.51 0 1.02-.2 1.41-.59l7.78-7.78 2.81-2.81c.8-.78.8-2.07 0-2.86zM5.41 20L4 18.59l7.72-7.72 1.47 1.35L5.41 20z\"/>\n",
              "  </svg>\n",
              "      </button>\n",
              "      \n",
              "  <style>\n",
              "    .colab-df-container {\n",
              "      display:flex;\n",
              "      flex-wrap:wrap;\n",
              "      gap: 12px;\n",
              "    }\n",
              "\n",
              "    .colab-df-convert {\n",
              "      background-color: #E8F0FE;\n",
              "      border: none;\n",
              "      border-radius: 50%;\n",
              "      cursor: pointer;\n",
              "      display: none;\n",
              "      fill: #1967D2;\n",
              "      height: 32px;\n",
              "      padding: 0 0 0 0;\n",
              "      width: 32px;\n",
              "    }\n",
              "\n",
              "    .colab-df-convert:hover {\n",
              "      background-color: #E2EBFA;\n",
              "      box-shadow: 0px 1px 2px rgba(60, 64, 67, 0.3), 0px 1px 3px 1px rgba(60, 64, 67, 0.15);\n",
              "      fill: #174EA6;\n",
              "    }\n",
              "\n",
              "    [theme=dark] .colab-df-convert {\n",
              "      background-color: #3B4455;\n",
              "      fill: #D2E3FC;\n",
              "    }\n",
              "\n",
              "    [theme=dark] .colab-df-convert:hover {\n",
              "      background-color: #434B5C;\n",
              "      box-shadow: 0px 1px 3px 1px rgba(0, 0, 0, 0.15);\n",
              "      filter: drop-shadow(0px 1px 2px rgba(0, 0, 0, 0.3));\n",
              "      fill: #FFFFFF;\n",
              "    }\n",
              "  </style>\n",
              "\n",
              "      <script>\n",
              "        const buttonEl =\n",
              "          document.querySelector('#df-9184fa8c-6dd9-4164-aee0-3c0358e1af79 button.colab-df-convert');\n",
              "        buttonEl.style.display =\n",
              "          google.colab.kernel.accessAllowed ? 'block' : 'none';\n",
              "\n",
              "        async function convertToInteractive(key) {\n",
              "          const element = document.querySelector('#df-9184fa8c-6dd9-4164-aee0-3c0358e1af79');\n",
              "          const dataTable =\n",
              "            await google.colab.kernel.invokeFunction('convertToInteractive',\n",
              "                                                     [key], {});\n",
              "          if (!dataTable) return;\n",
              "\n",
              "          const docLinkHtml = 'Like what you see? Visit the ' +\n",
              "            '<a target=\"_blank\" href=https://colab.research.google.com/notebooks/data_table.ipynb>data table notebook</a>'\n",
              "            + ' to learn more about interactive tables.';\n",
              "          element.innerHTML = '';\n",
              "          dataTable['output_type'] = 'display_data';\n",
              "          await google.colab.output.renderOutput(dataTable, element);\n",
              "          const docLink = document.createElement('div');\n",
              "          docLink.innerHTML = docLinkHtml;\n",
              "          element.appendChild(docLink);\n",
              "        }\n",
              "      </script>\n",
              "    </div>\n",
              "  </div>\n",
              "  "
            ]
          },
          "metadata": {},
          "execution_count": 89
        }
      ]
    },
    {
      "cell_type": "code",
      "execution_count": 90,
      "metadata": {
        "id": "O7gneSfCue0V"
      },
      "outputs": [],
      "source": [
        "params= {\n",
        "        'boosting': 'gbdt',\n",
        "        'objective': 'rmse',\n",
        "        'metric': 'rmse',\n",
        "        'learning_rate': 0.01,\n",
        "        \"max_depth\": 16,\n",
        "        \"num_leaves\": 64,\n",
        "        'subsample': 0.7,\n",
        "        'subsample_freq': 1,\n",
        "        \"min_data_in_leaf\":30, \n",
        "        \"device\": \"gpu\",  \n",
        "        \"seed\":2022,\n",
        "}"
      ]
    },
    {
      "cell_type": "code",
      "source": [
        "models = []\n",
        "\n",
        "oof_df = train_df_[[\"id\"]]\n",
        "oof_df[\"oof\"] = -1\n",
        "\n",
        "from lightgbm import early_stopping\n",
        "from lightgbm import log_evaluation\n",
        "\n",
        "for i in range(NUM_FOLDS):\n",
        "    model = get_tree_model(\"lgb\")()\n",
        "    train_data = train_df_[train_df_[\"kfold\"] != i].reset_index(drop = True)\n",
        "    valid_data = train_df_[train_df_[\"kfold\"] == i].reset_index(drop = True)\n",
        "    print(\"-\" * 5 + f\"FOLD {i + 1}/{NUM_FOLDS}\" + \"-\"*5)\n",
        "    print(f\"train_data nums: {len(train_data)}, valid_data nums: {len(valid_data)}\")\n",
        "\n",
        "    # fold内での最近傍を探す\n",
        "    train_data = train_df_[train_df_[\"kfold\"] != i].reset_index(drop = True)\n",
        "    print(len(train_data[\"City\"].unique()))\n",
        "\n",
        "    # 同じfoldの中で最近傍な都市があった場合はその年のtarget_encodingを実施\n",
        "    # nearest_city_fold_df = copy.deepcopy(nearest_city_df)\n",
        "    fold_cities = train_data[\"City\"].unique()\n",
        "\n",
        "    fold_nearest_cities = []\n",
        "    for (base_c, city1, city2, city3, city4, city5) in nearest_sort_cities:\n",
        "        if city1 in fold_cities:\n",
        "            nearest_city = city1\n",
        "        elif city2 in fold_cities:\n",
        "            nearest_city = city2\n",
        "        elif city3 in fold_cities:\n",
        "            nearest_city = city3\n",
        "        elif city4 in fold_cities:\n",
        "            nearest_city = city4\n",
        "        elif city5 in fold_cities:\n",
        "            nearest_city = city5\n",
        "        fold_nearest_cities.append([base_c, nearest_city])\n",
        "    fold_nearest_cities_df = pd.DataFrame(fold_nearest_cities, columns = [\"City\", \"nearest_city\"])\n",
        "\n",
        "    # add city distance\n",
        "    fold_nearest_cities_df[\"distance_km\"] = -1\n",
        "    for j in range(fold_nearest_cities_df.shape[0]):\n",
        "        city, nearest_city = fold_nearest_cities_df.loc[j, [\"City\", \"nearest_city\"]]\n",
        "        dis = nearest_cities[city][nearest_city]\n",
        "        fold_nearest_cities_df.loc[j, \"distance_km\"] = dis.km\n",
        "\n",
        "    target_en_fillna_ = target_en_fillna.rename(columns = {\"City\": \"nearest_city\", \"pm25_mid\": \"nearest_pm25_mid\"})\n",
        "    fold_nearest_city_target_en = fold_nearest_cities_df.merge(target_en_fillna_, how = \"left\", on= \"nearest_city\")\n",
        "\n",
        "    train_data = train_data.merge(fold_nearest_city_target_en, how = \"left\", on = [\"City\", \"year\", \"month\", \"day\"])\n",
        "    valid_data = valid_data.merge(fold_nearest_city_target_en, how = \"left\", on = [\"City\", \"year\", \"month\", \"day\"])\n",
        "\n",
        "# test\n",
        "    if i == 0:\n",
        "        test_nearest_cities = []\n",
        "        for (base_c, city1, city2, city3, city4, city5) in nearest_sort_cities:\n",
        "            nearest_city = city1\n",
        "            test_nearest_cities.append([base_c, nearest_city])\n",
        "        test_nearest_cities_df = pd.DataFrame(test_nearest_cities, columns = [\"City\", \"nearest_city\"])\n",
        "\n",
        "        for j in range(test_nearest_cities_df.shape[0]):\n",
        "            city, nearest_city = test_nearest_cities_df.loc[j, [\"City\", \"nearest_city\"]]\n",
        "            dis = nearest_cities[city][nearest_city]\n",
        "            test_nearest_cities_df.loc[j, \"distance_km\"] = dis.km\n",
        "\n",
        "        test_nearest_city_target_en = test_nearest_cities_df.merge(target_en_fillna_, how=\"left\", on = \"nearest_city\")\n",
        "        test_df_ = test_df_.merge(test_nearest_city_target_en, how=\"left\", on=[\"City\", \"year\", \"month\", \"day\"])\n",
        "        test_df__ = copy.deepcopy(test_df_)\n",
        "\n",
        "    for c in cat_cols:\n",
        "        le = LabelEncoder()\n",
        "        le.fit(pd.concat([train_data, valid_data, test_df_])[c])\n",
        "        train_data[c] = le.transform(train_data[c])\n",
        "        valid_data[c] = le.transform(valid_data[c])\n",
        "        if i == 0:\n",
        "            test_df__[c] = le.transform(test_df_[c])\n",
        "\n",
        "    model.train(\n",
        "        params,\n",
        "        train_params = train_params,\n",
        "        X_train = train_data[use_cols],\n",
        "        y_train = train_data[target_cols],\n",
        "        X_val = valid_data[use_cols],\n",
        "        y_val = valid_data[target_cols],\n",
        "    )\n",
        "    models.append(model)\n",
        "\n",
        "    feature_importance = pd.DataFrame()\n",
        "    feature_importance[\"feature\"] = model.feature_names_\n",
        "    feature_importance[\"importance\"] = model.feature_importances_\n",
        "    feature_importance[\"fold\"] = i\n",
        "\n",
        "    oof = model.predict(\n",
        "        valid_data[use_cols]\n",
        "    )\n",
        "    oof_df.loc[train_df[\"kfold\"] == i, \"oof\"] = oof\n",
        "\n",
        "train_oof = train_df.merge(oof_df[[\"id\", \"oof\"]], on = \"id\", how = \"left\")"
      ],
      "metadata": {
        "colab": {
          "base_uri": "https://localhost:8080/"
        },
        "id": "QrL-CjWi1NDs",
        "outputId": "f23b4160-8915-4e61-f87d-6865ed6c96c9"
      },
      "execution_count": 91,
      "outputs": [
        {
          "output_type": "stream",
          "name": "stdout",
          "text": [
            "-----FOLD 1/5-----\n",
            "train_data nums: 156755, valid_data nums: 39186\n",
            "192\n",
            "[LightGBM] [Info] This is the GPU trainer!!\n",
            "[LightGBM] [Info] Total Bins 43582\n",
            "[LightGBM] [Info] Number of data points in the train set: 156755, number of used features: 190\n",
            "[LightGBM] [Info] Using GPU Device: Tesla P100-PCIE-16GB, Vendor: NVIDIA Corporation\n",
            "[LightGBM] [Info] Compiling OpenCL Kernel with 256 bins...\n",
            "[LightGBM] [Info] GPU programs have been built\n",
            "[LightGBM] [Info] Size of histogram bin entry: 8\n",
            "[LightGBM] [Info] 190 dense feature groups (28.70 MB) transferred to GPU in 0.022323 secs. 0 sparse feature groups\n",
            "[LightGBM] [Info] Start training from score 58.695189\n",
            "Training until validation scores don't improve for 500 rounds\n",
            "[500]\ttraining's rmse: 19.4627\tvalid_1's rmse: 24.8098\n",
            "[1000]\ttraining's rmse: 18.1637\tvalid_1's rmse: 24.4549\n",
            "[1500]\ttraining's rmse: 17.3292\tvalid_1's rmse: 24.3361\n",
            "[2000]\ttraining's rmse: 16.6731\tvalid_1's rmse: 24.2502\n",
            "[2500]\ttraining's rmse: 16.0971\tvalid_1's rmse: 24.1982\n",
            "[3000]\ttraining's rmse: 15.5838\tvalid_1's rmse: 24.1653\n",
            "[3500]\ttraining's rmse: 15.113\tvalid_1's rmse: 24.1348\n",
            "[4000]\ttraining's rmse: 14.6778\tvalid_1's rmse: 24.1135\n",
            "[4500]\ttraining's rmse: 14.273\tvalid_1's rmse: 24.1049\n",
            "[5000]\ttraining's rmse: 13.8921\tvalid_1's rmse: 24.0798\n",
            "[5500]\ttraining's rmse: 13.5289\tvalid_1's rmse: 24.0597\n",
            "[6000]\ttraining's rmse: 13.1818\tvalid_1's rmse: 24.0464\n",
            "[6500]\ttraining's rmse: 12.8519\tvalid_1's rmse: 24.0375\n",
            "[7000]\ttraining's rmse: 12.539\tvalid_1's rmse: 24.018\n",
            "[7500]\ttraining's rmse: 12.2417\tvalid_1's rmse: 24.0115\n",
            "[8000]\ttraining's rmse: 11.9525\tvalid_1's rmse: 23.9933\n",
            "[8500]\ttraining's rmse: 11.6752\tvalid_1's rmse: 23.9775\n",
            "[9000]\ttraining's rmse: 11.4066\tvalid_1's rmse: 23.9761\n",
            "[9500]\ttraining's rmse: 11.1473\tvalid_1's rmse: 23.9701\n",
            "[10000]\ttraining's rmse: 10.8963\tvalid_1's rmse: 23.9697\n",
            "Early stopping, best iteration is:\n",
            "[9917]\ttraining's rmse: 10.9362\tvalid_1's rmse: 23.9665\n",
            "-----FOLD 2/5-----\n",
            "train_data nums: 156758, valid_data nums: 39183\n",
            "191\n",
            "[LightGBM] [Info] This is the GPU trainer!!\n",
            "[LightGBM] [Info] Total Bins 43581\n",
            "[LightGBM] [Info] Number of data points in the train set: 156758, number of used features: 190\n",
            "[LightGBM] [Info] Using GPU Device: Tesla P100-PCIE-16GB, Vendor: NVIDIA Corporation\n",
            "[LightGBM] [Info] Compiling OpenCL Kernel with 256 bins...\n",
            "[LightGBM] [Info] GPU programs have been built\n",
            "[LightGBM] [Info] Size of histogram bin entry: 8\n",
            "[LightGBM] [Info] 190 dense feature groups (28.70 MB) transferred to GPU in 0.021730 secs. 0 sparse feature groups\n",
            "[LightGBM] [Info] Start training from score 59.317361\n",
            "Training until validation scores don't improve for 500 rounds\n",
            "[500]\ttraining's rmse: 19.6342\tvalid_1's rmse: 21.332\n",
            "[1000]\ttraining's rmse: 18.3169\tvalid_1's rmse: 21.0533\n",
            "[1500]\ttraining's rmse: 17.4761\tvalid_1's rmse: 20.9853\n",
            "[2000]\ttraining's rmse: 16.807\tvalid_1's rmse: 20.9581\n",
            "[2500]\ttraining's rmse: 16.2266\tvalid_1's rmse: 20.9332\n",
            "[3000]\ttraining's rmse: 15.7043\tvalid_1's rmse: 20.9246\n",
            "[3500]\ttraining's rmse: 15.2304\tvalid_1's rmse: 20.9225\n",
            "[4000]\ttraining's rmse: 14.7916\tvalid_1's rmse: 20.9164\n",
            "[4500]\ttraining's rmse: 14.3852\tvalid_1's rmse: 20.915\n",
            "Early stopping, best iteration is:\n",
            "[4467]\ttraining's rmse: 14.4109\tvalid_1's rmse: 20.9133\n",
            "-----FOLD 3/5-----\n",
            "train_data nums: 156760, valid_data nums: 39181\n",
            "191\n",
            "[LightGBM] [Info] This is the GPU trainer!!\n",
            "[LightGBM] [Info] Total Bins 43596\n",
            "[LightGBM] [Info] Number of data points in the train set: 156760, number of used features: 190\n",
            "[LightGBM] [Info] Using GPU Device: Tesla P100-PCIE-16GB, Vendor: NVIDIA Corporation\n",
            "[LightGBM] [Info] Compiling OpenCL Kernel with 256 bins...\n",
            "[LightGBM] [Info] GPU programs have been built\n",
            "[LightGBM] [Info] Size of histogram bin entry: 8\n",
            "[LightGBM] [Info] 190 dense feature groups (28.70 MB) transferred to GPU in 0.031024 secs. 0 sparse feature groups\n",
            "[LightGBM] [Info] Start training from score 60.259055\n",
            "Training until validation scores don't improve for 500 rounds\n",
            "[500]\ttraining's rmse: 19.6082\tvalid_1's rmse: 22.2907\n",
            "[1000]\ttraining's rmse: 18.2795\tvalid_1's rmse: 21.9211\n",
            "[1500]\ttraining's rmse: 17.4423\tvalid_1's rmse: 21.8144\n",
            "[2000]\ttraining's rmse: 16.7692\tvalid_1's rmse: 21.7606\n",
            "[2500]\ttraining's rmse: 16.1974\tvalid_1's rmse: 21.7222\n",
            "[3000]\ttraining's rmse: 15.6787\tvalid_1's rmse: 21.6978\n",
            "[3500]\ttraining's rmse: 15.2089\tvalid_1's rmse: 21.6765\n",
            "[4000]\ttraining's rmse: 14.776\tvalid_1's rmse: 21.6625\n",
            "[4500]\ttraining's rmse: 14.3657\tvalid_1's rmse: 21.6524\n",
            "[5000]\ttraining's rmse: 13.9873\tvalid_1's rmse: 21.6489\n",
            "[5500]\ttraining's rmse: 13.624\tvalid_1's rmse: 21.6432\n",
            "[6000]\ttraining's rmse: 13.2773\tvalid_1's rmse: 21.6339\n",
            "Early stopping, best iteration is:\n",
            "[5953]\ttraining's rmse: 13.3087\tvalid_1's rmse: 21.6331\n",
            "-----FOLD 4/5-----\n",
            "train_data nums: 156730, valid_data nums: 39211\n",
            "191\n",
            "[LightGBM] [Info] This is the GPU trainer!!\n",
            "[LightGBM] [Info] Total Bins 43600\n",
            "[LightGBM] [Info] Number of data points in the train set: 156730, number of used features: 190\n",
            "[LightGBM] [Info] Using GPU Device: Tesla P100-PCIE-16GB, Vendor: NVIDIA Corporation\n",
            "[LightGBM] [Info] Compiling OpenCL Kernel with 256 bins...\n",
            "[LightGBM] [Info] GPU programs have been built\n",
            "[LightGBM] [Info] Size of histogram bin entry: 8\n",
            "[LightGBM] [Info] 190 dense feature groups (28.70 MB) transferred to GPU in 0.023049 secs. 0 sparse feature groups\n",
            "[LightGBM] [Info] Start training from score 59.072621\n",
            "Training until validation scores don't improve for 500 rounds\n",
            "[500]\ttraining's rmse: 19.4423\tvalid_1's rmse: 21.9367\n",
            "[1000]\ttraining's rmse: 18.0969\tvalid_1's rmse: 21.5421\n",
            "[1500]\ttraining's rmse: 17.2555\tvalid_1's rmse: 21.4067\n",
            "[2000]\ttraining's rmse: 16.5884\tvalid_1's rmse: 21.3268\n",
            "[2500]\ttraining's rmse: 16.0117\tvalid_1's rmse: 21.279\n",
            "[3000]\ttraining's rmse: 15.4977\tvalid_1's rmse: 21.2458\n",
            "[3500]\ttraining's rmse: 15.0291\tvalid_1's rmse: 21.2171\n",
            "[4000]\ttraining's rmse: 14.5971\tvalid_1's rmse: 21.2027\n",
            "[4500]\ttraining's rmse: 14.1898\tvalid_1's rmse: 21.1899\n",
            "[5000]\ttraining's rmse: 13.8049\tvalid_1's rmse: 21.1792\n",
            "[5500]\ttraining's rmse: 13.4417\tvalid_1's rmse: 21.1697\n",
            "[6000]\ttraining's rmse: 13.0988\tvalid_1's rmse: 21.1642\n",
            "[6500]\ttraining's rmse: 12.7723\tvalid_1's rmse: 21.1618\n",
            "[7000]\ttraining's rmse: 12.4575\tvalid_1's rmse: 21.1561\n",
            "[7500]\ttraining's rmse: 12.1562\tvalid_1's rmse: 21.155\n",
            "[8000]\ttraining's rmse: 11.8673\tvalid_1's rmse: 21.1511\n",
            "[8500]\ttraining's rmse: 11.5883\tvalid_1's rmse: 21.1501\n",
            "[9000]\ttraining's rmse: 11.3198\tvalid_1's rmse: 21.1483\n",
            "[9500]\ttraining's rmse: 11.0637\tvalid_1's rmse: 21.1472\n",
            "[10000]\ttraining's rmse: 10.818\tvalid_1's rmse: 21.1461\n",
            "Early stopping, best iteration is:\n",
            "[9650]\ttraining's rmse: 10.9887\tvalid_1's rmse: 21.1455\n",
            "-----FOLD 5/5-----\n",
            "train_data nums: 156761, valid_data nums: 39180\n",
            "191\n",
            "[LightGBM] [Info] This is the GPU trainer!!\n",
            "[LightGBM] [Info] Total Bins 43595\n",
            "[LightGBM] [Info] Number of data points in the train set: 156761, number of used features: 190\n",
            "[LightGBM] [Info] Using GPU Device: Tesla P100-PCIE-16GB, Vendor: NVIDIA Corporation\n",
            "[LightGBM] [Info] Compiling OpenCL Kernel with 256 bins...\n",
            "[LightGBM] [Info] GPU programs have been built\n",
            "[LightGBM] [Info] Size of histogram bin entry: 8\n",
            "[LightGBM] [Info] 190 dense feature groups (28.70 MB) transferred to GPU in 0.022956 secs. 0 sparse feature groups\n",
            "[LightGBM] [Info] Start training from score 58.656422\n",
            "Training until validation scores don't improve for 500 rounds\n",
            "[500]\ttraining's rmse: 19.3745\tvalid_1's rmse: 22.2422\n",
            "[1000]\ttraining's rmse: 18.0632\tvalid_1's rmse: 21.8826\n",
            "[1500]\ttraining's rmse: 17.2279\tvalid_1's rmse: 21.7585\n",
            "[2000]\ttraining's rmse: 16.5657\tvalid_1's rmse: 21.7001\n",
            "[2500]\ttraining's rmse: 15.9929\tvalid_1's rmse: 21.6522\n",
            "[3000]\ttraining's rmse: 15.4833\tvalid_1's rmse: 21.6239\n",
            "[3500]\ttraining's rmse: 15.0156\tvalid_1's rmse: 21.5922\n",
            "[4000]\ttraining's rmse: 14.5823\tvalid_1's rmse: 21.561\n",
            "[4500]\ttraining's rmse: 14.1815\tvalid_1's rmse: 21.5389\n",
            "[5000]\ttraining's rmse: 13.8053\tvalid_1's rmse: 21.5202\n",
            "[5500]\ttraining's rmse: 13.4454\tvalid_1's rmse: 21.5058\n",
            "[6000]\ttraining's rmse: 13.1031\tvalid_1's rmse: 21.4952\n",
            "[6500]\ttraining's rmse: 12.7749\tvalid_1's rmse: 21.4881\n",
            "[7000]\ttraining's rmse: 12.4624\tvalid_1's rmse: 21.4789\n",
            "[7500]\ttraining's rmse: 12.1583\tvalid_1's rmse: 21.4722\n",
            "[8000]\ttraining's rmse: 11.8725\tvalid_1's rmse: 21.4632\n",
            "[8500]\ttraining's rmse: 11.5975\tvalid_1's rmse: 21.4546\n",
            "[9000]\ttraining's rmse: 11.3297\tvalid_1's rmse: 21.443\n",
            "[9500]\ttraining's rmse: 11.0723\tvalid_1's rmse: 21.4345\n",
            "[10000]\ttraining's rmse: 10.8214\tvalid_1's rmse: 21.4263\n",
            "[10500]\ttraining's rmse: 10.5791\tvalid_1's rmse: 21.4236\n",
            "[11000]\ttraining's rmse: 10.3474\tvalid_1's rmse: 21.4199\n",
            "[11500]\ttraining's rmse: 10.1216\tvalid_1's rmse: 21.4189\n",
            "[12000]\ttraining's rmse: 9.89934\tvalid_1's rmse: 21.4183\n",
            "Early stopping, best iteration is:\n",
            "[11685]\ttraining's rmse: 10.0389\tvalid_1's rmse: 21.416\n"
          ]
        }
      ]
    },
    {
      "cell_type": "code",
      "source": [
        "viz_feature_importances(feature_importance)"
      ],
      "metadata": {
        "colab": {
          "base_uri": "https://localhost:8080/",
          "height": 894
        },
        "id": "RJWd2VaA1NGQ",
        "outputId": "147af15e-6412-473b-ff9e-5112b352ddcd"
      },
      "execution_count": 92,
      "outputs": [
        {
          "output_type": "display_data",
          "data": {
            "text/plain": [
              "<Figure size 2160x1440 with 1 Axes>"
            ],
            "image/png": "[encoded data removed]"
          },
          "metadata": {
            "needs_background": "light"
          }
        }
      ]
    },
    {
      "cell_type": "code",
      "source": [
        "a = np.clip(train_oof[\"oof\"], 0, 450)\n",
        "oof_score = np.sqrt(mean_squared_error(train_oof[\"pm25_mid\"], a))\n",
        "oof_score = format(oof_score, \".4f\")\n",
        "print(f\"oof score: {oof_score}\")\n",
        "\n",
        "### d_cs_flg 21.89 ###\n",
        "\n",
        "# 24.11\n",
        "# 20.85"
      ],
      "metadata": {
        "colab": {
          "base_uri": "https://localhost:8080/"
        },
        "id": "t16XNLJ21NIl",
        "outputId": "ed7df104-ab4d-45a9-f702-f20dff295c26"
      },
      "execution_count": 93,
      "outputs": [
        {
          "output_type": "stream",
          "name": "stdout",
          "text": [
            "oof score: 21.8426\n"
          ]
        }
      ]
    },
    {
      "cell_type": "code",
      "execution_count": 94,
      "metadata": {
        "id": "eAWRkjDaaIta"
      },
      "outputs": [],
      "source": [
        "train_oof[[\"id\",\"pm25_mid\", \"kfold\", \"oof\"]].to_csv(os.path.join(OOF_DIR, \"oof.csv\"), index= False)"
      ]
    },
    {
      "cell_type": "code",
      "source": [
        "# plt.hist(train_data[\"distance_km\"], bins = 30)"
      ],
      "metadata": {
        "colab": {
          "base_uri": "https://localhost:8080/",
          "height": 499
        },
        "id": "D4NUfCWHtKbR",
        "outputId": "2af7b4d9-fa94-448d-a4a6-6b842efbdbeb"
      },
      "execution_count": 109,
      "outputs": [
        {
          "output_type": "execute_result",
          "data": {
            "text/plain": [
              "(array([57711., 25997., 19279., 15137., 11122.,  9859.,  4405.,  3051.,\n",
              "         2082.,  1823.,  1025.,     0.,     0.,   953.,  2296.,     0.,\n",
              "            0.,     0.,     0.,     0.,     0.,     0.,     0.,     0.,\n",
              "            0.,     0.,     0.,     0.,     0.,  2021.]),\n",
              " array([  15.70386301,  103.42450863,  191.14515425,  278.86579987,\n",
              "         366.58644549,  454.30709111,  542.02773673,  629.74838235,\n",
              "         717.46902797,  805.1896736 ,  892.91031922,  980.63096484,\n",
              "        1068.35161046, 1156.07225608, 1243.7929017 , 1331.51354732,\n",
              "        1419.23419294, 1506.95483856, 1594.67548418, 1682.39612981,\n",
              "        1770.11677543, 1857.83742105, 1945.55806667, 2033.27871229,\n",
              "        2120.99935791, 2208.72000353, 2296.44064915, 2384.16129477,\n",
              "        2471.88194039, 2559.60258602, 2647.32323164]),\n",
              " <a list of 30 Patch objects>)"
            ]
          },
          "metadata": {},
          "execution_count": 109
        },
        {
          "output_type": "display_data",
          "data": {
            "text/plain": [
              "<Figure size 432x288 with 1 Axes>"
            ],
            "image/png": "[encoded data removed]"
          },
          "metadata": {
            "needs_background": "light"
          }
        }
      ]
    },
    {
      "cell_type": "markdown",
      "metadata": {
        "id": "8vAXJVnWSySV"
      },
      "source": [
        "# predict"
      ]
    },
    {
      "cell_type": "code",
      "execution_count": 96,
      "metadata": {
        "id": "p1434DZVHg0W"
      },
      "outputs": [],
      "source": [
        "sum_predict = None\n",
        "for model in models:\n",
        "    predict = model.predict(\n",
        "        test_df__[use_cols],\n",
        "    )\n",
        "    if sum_predict is None:\n",
        "        sum_predict = predict\n",
        "    else:\n",
        "        sum_predict += predict\n",
        "\n",
        "mean_predict = sum_predict / len(models)"
      ]
    },
    {
      "cell_type": "code",
      "execution_count": 97,
      "metadata": {
        "id": "LjcrS25rrje9",
        "colab": {
          "base_uri": "https://localhost:8080/"
        },
        "outputId": "6628893b-c584-4966-f914-1b7599cbf694"
      },
      "outputs": [
        {
          "output_type": "stream",
          "name": "stdout",
          "text": [
            "53509\n",
            "(53509, 2)\n",
            "(53509, 83)\n"
          ]
        }
      ],
      "source": [
        "print(len(mean_predict))\n",
        "print(sample_df.shape)\n",
        "print(test_df.shape)"
      ]
    },
    {
      "cell_type": "code",
      "execution_count": 98,
      "metadata": {
        "id": "xot64X_yHg4L"
      },
      "outputs": [],
      "source": [
        "sample_df.loc[:,\"predict\"] = np.clip(mean_predict, 0, 450)"
      ]
    },
    {
      "cell_type": "code",
      "execution_count": 99,
      "metadata": {
        "id": "kVae9iW6cL0D",
        "colab": {
          "base_uri": "https://localhost:8080/",
          "height": 206
        },
        "outputId": "666561c5-f290-4be0-daf8-974b4aa862a2"
      },
      "outputs": [
        {
          "output_type": "execute_result",
          "data": {
            "text/plain": [
              "       id     predict\n",
              "0  195942   25.526048\n",
              "1  195943   37.197284\n",
              "2  195944   25.541220\n",
              "3  195945   61.400888\n",
              "4  195946  132.035170"
            ],
            "text/html": [
              "\n",
              "  <div id=\"df-6a1b75b3-30b7-4a0c-977c-63cfac967066\">\n",
              "    <div class=\"colab-df-container\">\n",
              "      <div>\n",
              "<style scoped>\n",
              "    .dataframe tbody tr th:only-of-type {\n",
              "        vertical-align: middle;\n",
              "    }\n",
              "\n",
              "    .dataframe tbody tr th {\n",
              "        vertical-align: top;\n",
              "    }\n",
              "\n",
              "    .dataframe thead th {\n",
              "        text-align: right;\n",
              "    }\n",
              "</style>\n",
              "<table border=\"1\" class=\"dataframe\">\n",
              "  <thead>\n",
              "    <tr style=\"text-align: right;\">\n",
              "      <th></th>\n",
              "      <th>id</th>\n",
              "      <th>predict</th>\n",
              "    </tr>\n",
              "  </thead>\n",
              "  <tbody>\n",
              "    <tr>\n",
              "      <th>0</th>\n",
              "      <td>195942</td>\n",
              "      <td>25.526048</td>\n",
              "    </tr>\n",
              "    <tr>\n",
              "      <th>1</th>\n",
              "      <td>195943</td>\n",
              "      <td>37.197284</td>\n",
              "    </tr>\n",
              "    <tr>\n",
              "      <th>2</th>\n",
              "      <td>195944</td>\n",
              "      <td>25.541220</td>\n",
              "    </tr>\n",
              "    <tr>\n",
              "      <th>3</th>\n",
              "      <td>195945</td>\n",
              "      <td>61.400888</td>\n",
              "    </tr>\n",
              "    <tr>\n",
              "      <th>4</th>\n",
              "      <td>195946</td>\n",
              "      <td>132.035170</td>\n",
              "    </tr>\n",
              "  </tbody>\n",
              "</table>\n",
              "</div>\n",
              "      <button class=\"colab-df-convert\" onclick=\"convertToInteractive('df-6a1b75b3-30b7-4a0c-977c-63cfac967066')\"\n",
              "              title=\"Convert this dataframe to an interactive table.\"\n",
              "              style=\"display:none;\">\n",
              "        \n",
              "  <svg xmlns=\"http://www.w3.org/2000/svg\" height=\"24px\"viewBox=\"0 0 24 24\"\n",
              "       width=\"24px\">\n",
              "    <path d=\"M0 0h24v24H0V0z\" fill=\"none\"/>\n",
              "    <path d=\"M18.56 5.44l.94 2.06.94-2.06 2.06-.94-2.06-.94-.94-2.06-.94 2.06-2.06.94zm-11 1L8.5 8.5l.94-2.06 2.06-.94-2.06-.94L8.5 2.5l-.94 2.06-2.06.94zm10 10l.94 2.06.94-2.06 2.06-.94-2.06-.94-.94-2.06-.94 2.06-2.06.94z\"/><path d=\"M17.41 7.96l-1.37-1.37c-.4-.4-.92-.59-1.43-.59-.52 0-1.04.2-1.43.59L10.3 9.45l-7.72 7.72c-.78.78-.78 2.05 0 2.83L4 21.41c.39.39.9.59 1.41.59.51 0 1.02-.2 1.41-.59l7.78-7.78 2.81-2.81c.8-.78.8-2.07 0-2.86zM5.41 20L4 18.59l7.72-7.72 1.47 1.35L5.41 20z\"/>\n",
              "  </svg>\n",
              "      </button>\n",
              "      \n",
              "  <style>\n",
              "    .colab-df-container {\n",
              "      display:flex;\n",
              "      flex-wrap:wrap;\n",
              "      gap: 12px;\n",
              "    }\n",
              "\n",
              "    .colab-df-convert {\n",
              "      background-color: #E8F0FE;\n",
              "      border: none;\n",
              "      border-radius: 50%;\n",
              "      cursor: pointer;\n",
              "      display: none;\n",
              "      fill: #1967D2;\n",
              "      height: 32px;\n",
              "      padding: 0 0 0 0;\n",
              "      width: 32px;\n",
              "    }\n",
              "\n",
              "    .colab-df-convert:hover {\n",
              "      background-color: #E2EBFA;\n",
              "      box-shadow: 0px 1px 2px rgba(60, 64, 67, 0.3), 0px 1px 3px 1px rgba(60, 64, 67, 0.15);\n",
              "      fill: #174EA6;\n",
              "    }\n",
              "\n",
              "    [theme=dark] .colab-df-convert {\n",
              "      background-color: #3B4455;\n",
              "      fill: #D2E3FC;\n",
              "    }\n",
              "\n",
              "    [theme=dark] .colab-df-convert:hover {\n",
              "      background-color: #434B5C;\n",
              "      box-shadow: 0px 1px 3px 1px rgba(0, 0, 0, 0.15);\n",
              "      filter: drop-shadow(0px 1px 2px rgba(0, 0, 0, 0.3));\n",
              "      fill: #FFFFFF;\n",
              "    }\n",
              "  </style>\n",
              "\n",
              "      <script>\n",
              "        const buttonEl =\n",
              "          document.querySelector('#df-6a1b75b3-30b7-4a0c-977c-63cfac967066 button.colab-df-convert');\n",
              "        buttonEl.style.display =\n",
              "          google.colab.kernel.accessAllowed ? 'block' : 'none';\n",
              "\n",
              "        async function convertToInteractive(key) {\n",
              "          const element = document.querySelector('#df-6a1b75b3-30b7-4a0c-977c-63cfac967066');\n",
              "          const dataTable =\n",
              "            await google.colab.kernel.invokeFunction('convertToInteractive',\n",
              "                                                     [key], {});\n",
              "          if (!dataTable) return;\n",
              "\n",
              "          const docLinkHtml = 'Like what you see? Visit the ' +\n",
              "            '<a target=\"_blank\" href=https://colab.research.google.com/notebooks/data_table.ipynb>data table notebook</a>'\n",
              "            + ' to learn more about interactive tables.';\n",
              "          element.innerHTML = '';\n",
              "          dataTable['output_type'] = 'display_data';\n",
              "          await google.colab.output.renderOutput(dataTable, element);\n",
              "          const docLink = document.createElement('div');\n",
              "          docLink.innerHTML = docLinkHtml;\n",
              "          element.appendChild(docLink);\n",
              "        }\n",
              "      </script>\n",
              "    </div>\n",
              "  </div>\n",
              "  "
            ]
          },
          "metadata": {},
          "execution_count": 99
        }
      ],
      "source": [
        "sample_df.head()"
      ]
    },
    {
      "cell_type": "code",
      "execution_count": 100,
      "metadata": {
        "id": "87NkPMdTSrmH"
      },
      "outputs": [],
      "source": [
        "sample_df.to_csv(os.path.join(SUB_DIR, \"submission.csv\"), index= False, header = False)"
      ]
    },
    {
      "cell_type": "code",
      "source": [
        "plt.hist(sample_df[\"predict\"], bins = 100)\n",
        "plt.show()"
      ],
      "metadata": {
        "colab": {
          "base_uri": "https://localhost:8080/",
          "height": 265
        },
        "id": "kZeubahjojQm",
        "outputId": "b8760e53-2b95-475a-850e-89c5b63e16f2"
      },
      "execution_count": 101,
      "outputs": [
        {
          "output_type": "display_data",
          "data": {
            "text/plain": [
              "<Figure size 432x288 with 1 Axes>"
            ],
            "image/png": "[encoded data removed]"
          },
          "metadata": {
            "needs_background": "light"
          }
        }
      ]
    },
    {
      "cell_type": "markdown",
      "metadata": {
        "id": "ZO0WqelkHyfS"
      },
      "source": [
        "# submit"
      ]
    },
    {
      "cell_type": "code",
      "execution_count": 102,
      "metadata": {
        "id": "PhTe6h6yDH8X",
        "colab": {
          "base_uri": "https://localhost:8080/"
        },
        "outputId": "3b49627b-50c2-4056-aaa9-631ee75c1252"
      },
      "outputs": [
        {
          "output_type": "stream",
          "name": "stdout",
          "text": [
            "\u001b[31mERROR: pip's dependency resolver does not currently take into account all the packages that are installed. This behaviour is the source of the following dependency conflicts.\n",
            "tensorflow 2.8.0 requires tf-estimator-nightly==2.8.0.dev2021122109, which is not installed.\n",
            "requests 2.23.0 requires urllib3!=1.25.0,!=1.25.1,<1.26,>=1.21.1, but you have urllib3 1.26.9 which is incompatible.\n",
            "google-colab 1.0.0 requires six~=1.15.0, but you have six 1.16.0 which is incompatible.\n",
            "datascience 0.10.6 requires folium==0.2.1, but you have folium 0.8.3 which is incompatible.\n",
            "albumentations 0.1.12 requires imgaug<0.2.7,>=0.2.5, but you have imgaug 0.2.9 which is incompatible.\u001b[0m\n"
          ]
        }
      ],
      "source": [
        "!pip install signate > /dev/null\n",
        "!mkdir /root/.signate\n",
        "!cp /content/drive/MyDrive/signate/signate.json /root/.signate/signate.json"
      ]
    },
    {
      "cell_type": "code",
      "execution_count": 103,
      "metadata": {
        "id": "oSmQPSHLTX6E"
      },
      "outputs": [],
      "source": [
        "submission_file = os.path.join(SUB_DIR, \"submission.csv\")"
      ]
    },
    {
      "cell_type": "code",
      "execution_count": 104,
      "metadata": {
        "id": "8yM6uPondJnm",
        "colab": {
          "base_uri": "https://localhost:8080/",
          "height": 35
        },
        "outputId": "7c7498fa-24be-45fc-bcbb-34d27010aef9"
      },
      "outputs": [
        {
          "output_type": "execute_result",
          "data": {
            "text/plain": [
              "'cv:21.8426_FP031-27'"
            ],
            "application/vnd.google.colaboratory.intrinsic+json": {
              "type": "string"
            }
          },
          "metadata": {},
          "execution_count": 104
        }
      ],
      "source": [
        "comment = f\"cv:{oof_score}_\" + NOTEBOOK_NAME\n",
        "comment"
      ]
    },
    {
      "cell_type": "markdown",
      "metadata": {
        "id": "LvoIkzVdibh-"
      },
      "source": [
        "# Submit"
      ]
    },
    {
      "cell_type": "code",
      "execution_count": 105,
      "metadata": {
        "id": "69-UNJ1YTuej",
        "colab": {
          "base_uri": "https://localhost:8080/"
        },
        "outputId": "1bcefac4-2481-433a-926d-3526d2b81294"
      },
      "outputs": [
        {
          "output_type": "stream",
          "name": "stdout",
          "text": [
            "\u001b[32mYou have successfully submitted your predictions.We will send you the submission result to your email address.\u001b[0m\n"
          ]
        }
      ],
      "source": [
        "!signate submit --competition-id=624 {submission_file} --note {comment}"
      ]
    },
    {
      "cell_type": "code",
      "source": [
        ""
      ],
      "metadata": {
        "id": "OhKj-ijxqL1-"
      },
      "execution_count": null,
      "outputs": []
    },
    {
      "cell_type": "markdown",
      "metadata": {
        "id": "fdianTtHED1W"
      },
      "source": [
        "https://signate.jp/competitions/624/submissions"
      ]
    },
    {
      "cell_type": "code",
      "execution_count": null,
      "metadata": {
        "id": "RrKqaQNXq6HS"
      },
      "outputs": [],
      "source": [
        "train_df[[\"City\", \"month\", \"pm25_mid\"]].groupby([\"City\"]).describe()"
      ]
    },
    {
      "cell_type": "code",
      "source": [
        "train_df.columns"
      ],
      "metadata": {
        "id": "Zf19grzU6L2A"
      },
      "execution_count": null,
      "outputs": []
    },
    {
      "cell_type": "code",
      "source": [
        "train_df[[\"co_cnt\", \"co_var\", \"co_min\", \"co_max\", \"co_mid\"]]"
      ],
      "metadata": {
        "id": "qXndbaZZ5NF8"
      },
      "execution_count": null,
      "outputs": []
    },
    {
      "cell_type": "code",
      "source": [
        "gen = np.random.default_rng()\n",
        "\n",
        "rnd = gen.normal(size=38)\n",
        "\n",
        "print(len(rnd), rnd.mean(), rnd.std())"
      ],
      "metadata": {
        "id": "TR28Gf_Q9J2V"
      },
      "execution_count": null,
      "outputs": []
    },
    {
      "cell_type": "code",
      "execution_count": null,
      "metadata": {
        "id": "MVDD0781EEep"
      },
      "outputs": [],
      "source": [
        "plt.hist(train_df[train_df[\"City\"] == \"Adapazarı\"][\"pm25_mid\"], bins = 100)"
      ]
    },
    {
      "cell_type": "code",
      "source": [
        ""
      ],
      "metadata": {
        "id": "TGGg9zDl4-nn"
      },
      "execution_count": null,
      "outputs": []
    }
  ],
  "metadata": {
    "accelerator": "GPU",
    "colab": {
      "collapsed_sections": [
        "8vAXJVnWSySV",
        "ZO0WqelkHyfS"
      ],
      "machine_shape": "hm",
      "name": "FP031-27",
      "provenance": [],
      "authorship_tag": "ABX9TyMpuYOq6GjeveFyV9OJtyKy",
      "include_colab_link": true
    },
    "kernelspec": {
      "display_name": "Python 3",
      "name": "python3"
    },
    "language_info": {
      "name": "python"
    },
    "widgets": {
      "application/vnd.jupyter.widget-state+json": {
        "853a444d52f240caa477cab3751f46c9": {
          "model_module": "@jupyter-widgets/controls",
          "model_name": "HBoxModel",
          "model_module_version": "1.5.0",
          "state": {
            "_dom_classes": [],
            "_model_module": "@jupyter-widgets/controls",
            "_model_module_version": "1.5.0",
            "_model_name": "HBoxModel",
            "_view_count": null,
            "_view_module": "@jupyter-widgets/controls",
            "_view_module_version": "1.5.0",
            "_view_name": "HBoxView",
            "box_style": "",
            "children": [
              "IPY_MODEL_59796736f936405495094f9158e1290c",
              "IPY_MODEL_b392c0e07747489b8d0215643090d56c",
              "IPY_MODEL_933f9fdddc854eed99393c7a94e2eaf1"
            ],
            "layout": "IPY_MODEL_30bc800b52e646d9b7176c179f1093c7"
          }
        },
        "59796736f936405495094f9158e1290c": {
          "model_module": "@jupyter-widgets/controls",
          "model_name": "HTMLModel",
          "model_module_version": "1.5.0",
          "state": {
            "_dom_classes": [],
            "_model_module": "@jupyter-widgets/controls",
            "_model_module_version": "1.5.0",
            "_model_name": "HTMLModel",
            "_view_count": null,
            "_view_module": "@jupyter-widgets/controls",
            "_view_module_version": "1.5.0",
            "_view_name": "HTMLView",
            "description": "",
            "description_tooltip": null,
            "layout": "IPY_MODEL_ee4b87567ced4be796e7b1298cb81d43",
            "placeholder": "​",
            "style": "IPY_MODEL_8274f709e4b64e728d560f5d991d92a3",
            "value": "100%"
          }
        },
        "b392c0e07747489b8d0215643090d56c": {
          "model_module": "@jupyter-widgets/controls",
          "model_name": "FloatProgressModel",
          "model_module_version": "1.5.0",
          "state": {
            "_dom_classes": [],
            "_model_module": "@jupyter-widgets/controls",
            "_model_module_version": "1.5.0",
            "_model_name": "FloatProgressModel",
            "_view_count": null,
            "_view_module": "@jupyter-widgets/controls",
            "_view_module_version": "1.5.0",
            "_view_name": "ProgressView",
            "bar_style": "success",
            "description": "",
            "description_tooltip": null,
            "layout": "IPY_MODEL_45cc24969ef94c4f88d7c3e9b83eb2bb",
            "max": 302,
            "min": 0,
            "orientation": "horizontal",
            "style": "IPY_MODEL_f6e573b0112842799fadb17f675cf739",
            "value": 302
          }
        },
        "933f9fdddc854eed99393c7a94e2eaf1": {
          "model_module": "@jupyter-widgets/controls",
          "model_name": "HTMLModel",
          "model_module_version": "1.5.0",
          "state": {
            "_dom_classes": [],
            "_model_module": "@jupyter-widgets/controls",
            "_model_module_version": "1.5.0",
            "_model_name": "HTMLModel",
            "_view_count": null,
            "_view_module": "@jupyter-widgets/controls",
            "_view_module_version": "1.5.0",
            "_view_name": "HTMLView",
            "description": "",
            "description_tooltip": null,
            "layout": "IPY_MODEL_1978397489934395b1978ac7f3142381",
            "placeholder": "​",
            "style": "IPY_MODEL_51439a1c859845839c39a4840e8583b8",
            "value": " 302/302 [00:54&lt;00:00,  6.08it/s]"
          }
        },
        "30bc800b52e646d9b7176c179f1093c7": {
          "model_module": "@jupyter-widgets/base",
          "model_name": "LayoutModel",
          "model_module_version": "1.2.0",
          "state": {
            "_model_module": "@jupyter-widgets/base",
            "_model_module_version": "1.2.0",
            "_model_name": "LayoutModel",
            "_view_count": null,
            "_view_module": "@jupyter-widgets/base",
            "_view_module_version": "1.2.0",
            "_view_name": "LayoutView",
            "align_content": null,
            "align_items": null,
            "align_self": null,
            "border": null,
            "bottom": null,
            "display": null,
            "flex": null,
            "flex_flow": null,
            "grid_area": null,
            "grid_auto_columns": null,
            "grid_auto_flow": null,
            "grid_auto_rows": null,
            "grid_column": null,
            "grid_gap": null,
            "grid_row": null,
            "grid_template_areas": null,
            "grid_template_columns": null,
            "grid_template_rows": null,
            "height": null,
            "justify_content": null,
            "justify_items": null,
            "left": null,
            "margin": null,
            "max_height": null,
            "max_width": null,
            "min_height": null,
            "min_width": null,
            "object_fit": null,
            "object_position": null,
            "order": null,
            "overflow": null,
            "overflow_x": null,
            "overflow_y": null,
            "padding": null,
            "right": null,
            "top": null,
            "visibility": null,
            "width": null
          }
        },
        "ee4b87567ced4be796e7b1298cb81d43": {
          "model_module": "@jupyter-widgets/base",
          "model_name": "LayoutModel",
          "model_module_version": "1.2.0",
          "state": {
            "_model_module": "@jupyter-widgets/base",
            "_model_module_version": "1.2.0",
            "_model_name": "LayoutModel",
            "_view_count": null,
            "_view_module": "@jupyter-widgets/base",
            "_view_module_version": "1.2.0",
            "_view_name": "LayoutView",
            "align_content": null,
            "align_items": null,
            "align_self": null,
            "border": null,
            "bottom": null,
            "display": null,
            "flex": null,
            "flex_flow": null,
            "grid_area": null,
            "grid_auto_columns": null,
            "grid_auto_flow": null,
            "grid_auto_rows": null,
            "grid_column": null,
            "grid_gap": null,
            "grid_row": null,
            "grid_template_areas": null,
            "grid_template_columns": null,
            "grid_template_rows": null,
            "height": null,
            "justify_content": null,
            "justify_items": null,
            "left": null,
            "margin": null,
            "max_height": null,
            "max_width": null,
            "min_height": null,
            "min_width": null,
            "object_fit": null,
            "object_position": null,
            "order": null,
            "overflow": null,
            "overflow_x": null,
            "overflow_y": null,
            "padding": null,
            "right": null,
            "top": null,
            "visibility": null,
            "width": null
          }
        },
        "8274f709e4b64e728d560f5d991d92a3": {
          "model_module": "@jupyter-widgets/controls",
          "model_name": "DescriptionStyleModel",
          "model_module_version": "1.5.0",
          "state": {
            "_model_module": "@jupyter-widgets/controls",
            "_model_module_version": "1.5.0",
            "_model_name": "DescriptionStyleModel",
            "_view_count": null,
            "_view_module": "@jupyter-widgets/base",
            "_view_module_version": "1.2.0",
            "_view_name": "StyleView",
            "description_width": ""
          }
        },
        "45cc24969ef94c4f88d7c3e9b83eb2bb": {
          "model_module": "@jupyter-widgets/base",
          "model_name": "LayoutModel",
          "model_module_version": "1.2.0",
          "state": {
            "_model_module": "@jupyter-widgets/base",
            "_model_module_version": "1.2.0",
            "_model_name": "LayoutModel",
            "_view_count": null,
            "_view_module": "@jupyter-widgets/base",
            "_view_module_version": "1.2.0",
            "_view_name": "LayoutView",
            "align_content": null,
            "align_items": null,
            "align_self": null,
            "border": null,
            "bottom": null,
            "display": null,
            "flex": null,
            "flex_flow": null,
            "grid_area": null,
            "grid_auto_columns": null,
            "grid_auto_flow": null,
            "grid_auto_rows": null,
            "grid_column": null,
            "grid_gap": null,
            "grid_row": null,
            "grid_template_areas": null,
            "grid_template_columns": null,
            "grid_template_rows": null,
            "height": null,
            "justify_content": null,
            "justify_items": null,
            "left": null,
            "margin": null,
            "max_height": null,
            "max_width": null,
            "min_height": null,
            "min_width": null,
            "object_fit": null,
            "object_position": null,
            "order": null,
            "overflow": null,
            "overflow_x": null,
            "overflow_y": null,
            "padding": null,
            "right": null,
            "top": null,
            "visibility": null,
            "width": null
          }
        },
        "f6e573b0112842799fadb17f675cf739": {
          "model_module": "@jupyter-widgets/controls",
          "model_name": "ProgressStyleModel",
          "model_module_version": "1.5.0",
          "state": {
            "_model_module": "@jupyter-widgets/controls",
            "_model_module_version": "1.5.0",
            "_model_name": "ProgressStyleModel",
            "_view_count": null,
            "_view_module": "@jupyter-widgets/base",
            "_view_module_version": "1.2.0",
            "_view_name": "StyleView",
            "bar_color": null,
            "description_width": ""
          }
        },
        "1978397489934395b1978ac7f3142381": {
          "model_module": "@jupyter-widgets/base",
          "model_name": "LayoutModel",
          "model_module_version": "1.2.0",
          "state": {
            "_model_module": "@jupyter-widgets/base",
            "_model_module_version": "1.2.0",
            "_model_name": "LayoutModel",
            "_view_count": null,
            "_view_module": "@jupyter-widgets/base",
            "_view_module_version": "1.2.0",
            "_view_name": "LayoutView",
            "align_content": null,
            "align_items": null,
            "align_self": null,
            "border": null,
            "bottom": null,
            "display": null,
            "flex": null,
            "flex_flow": null,
            "grid_area": null,
            "grid_auto_columns": null,
            "grid_auto_flow": null,
            "grid_auto_rows": null,
            "grid_column": null,
            "grid_gap": null,
            "grid_row": null,
            "grid_template_areas": null,
            "grid_template_columns": null,
            "grid_template_rows": null,
            "height": null,
            "justify_content": null,
            "justify_items": null,
            "left": null,
            "margin": null,
            "max_height": null,
            "max_width": null,
            "min_height": null,
            "min_width": null,
            "object_fit": null,
            "object_position": null,
            "order": null,
            "overflow": null,
            "overflow_x": null,
            "overflow_y": null,
            "padding": null,
            "right": null,
            "top": null,
            "visibility": null,
            "width": null
          }
        },
        "51439a1c859845839c39a4840e8583b8": {
          "model_module": "@jupyter-widgets/controls",
          "model_name": "DescriptionStyleModel",
          "model_module_version": "1.5.0",
          "state": {
            "_model_module": "@jupyter-widgets/controls",
            "_model_module_version": "1.5.0",
            "_model_name": "DescriptionStyleModel",
            "_view_count": null,
            "_view_module": "@jupyter-widgets/base",
            "_view_module_version": "1.2.0",
            "_view_name": "StyleView",
            "description_width": ""
          }
        },
        "527290b2e4a044dfb04e06a885b4606b": {
          "model_module": "@jupyter-widgets/controls",
          "model_name": "HBoxModel",
          "model_module_version": "1.5.0",
          "state": {
            "_dom_classes": [],
            "_model_module": "@jupyter-widgets/controls",
            "_model_module_version": "1.5.0",
            "_model_name": "HBoxModel",
            "_view_count": null,
            "_view_module": "@jupyter-widgets/controls",
            "_view_module_version": "1.5.0",
            "_view_name": "HBoxView",
            "box_style": "",
            "children": [
              "IPY_MODEL_0921a12ead144a319a67a176c116bab2",
              "IPY_MODEL_5174f2b4d11f40e0be0d5502f4bddcd0",
              "IPY_MODEL_1e635a4503934ce0aadd2c4bf3af95d1"
            ],
            "layout": "IPY_MODEL_b91443d72918458ebc3d7f07dc46f920"
          }
        },
        "0921a12ead144a319a67a176c116bab2": {
          "model_module": "@jupyter-widgets/controls",
          "model_name": "HTMLModel",
          "model_module_version": "1.5.0",
          "state": {
            "_dom_classes": [],
            "_model_module": "@jupyter-widgets/controls",
            "_model_module_version": "1.5.0",
            "_model_name": "HTMLModel",
            "_view_count": null,
            "_view_module": "@jupyter-widgets/controls",
            "_view_module_version": "1.5.0",
            "_view_name": "HTMLView",
            "description": "",
            "description_tooltip": null,
            "layout": "IPY_MODEL_f08e8d65e3fb435f937a5c7573d01a89",
            "placeholder": "​",
            "style": "IPY_MODEL_3e0850281dd64f72a23bbcd1275a3fa2",
            "value": "100%"
          }
        },
        "5174f2b4d11f40e0be0d5502f4bddcd0": {
          "model_module": "@jupyter-widgets/controls",
          "model_name": "FloatProgressModel",
          "model_module_version": "1.5.0",
          "state": {
            "_dom_classes": [],
            "_model_module": "@jupyter-widgets/controls",
            "_model_module_version": "1.5.0",
            "_model_name": "FloatProgressModel",
            "_view_count": null,
            "_view_module": "@jupyter-widgets/controls",
            "_view_module_version": "1.5.0",
            "_view_name": "ProgressView",
            "bar_style": "success",
            "description": "",
            "description_tooltip": null,
            "layout": "IPY_MODEL_1e3c626a6a3c4ebe8a71195a817cd11b",
            "max": 195941,
            "min": 0,
            "orientation": "horizontal",
            "style": "IPY_MODEL_5fb083ed6b1f4fea8011a9539c92e777",
            "value": 195941
          }
        },
        "1e635a4503934ce0aadd2c4bf3af95d1": {
          "model_module": "@jupyter-widgets/controls",
          "model_name": "HTMLModel",
          "model_module_version": "1.5.0",
          "state": {
            "_dom_classes": [],
            "_model_module": "@jupyter-widgets/controls",
            "_model_module_version": "1.5.0",
            "_model_name": "HTMLModel",
            "_view_count": null,
            "_view_module": "@jupyter-widgets/controls",
            "_view_module_version": "1.5.0",
            "_view_name": "HTMLView",
            "description": "",
            "description_tooltip": null,
            "layout": "IPY_MODEL_233f31648ff945e29bc76267ab46e28b",
            "placeholder": "​",
            "style": "IPY_MODEL_08f8df523b184a57877189fc3e8c2bee",
            "value": " 195941/195941 [02:17&lt;00:00, 1412.68it/s]"
          }
        },
        "b91443d72918458ebc3d7f07dc46f920": {
          "model_module": "@jupyter-widgets/base",
          "model_name": "LayoutModel",
          "model_module_version": "1.2.0",
          "state": {
            "_model_module": "@jupyter-widgets/base",
            "_model_module_version": "1.2.0",
            "_model_name": "LayoutModel",
            "_view_count": null,
            "_view_module": "@jupyter-widgets/base",
            "_view_module_version": "1.2.0",
            "_view_name": "LayoutView",
            "align_content": null,
            "align_items": null,
            "align_self": null,
            "border": null,
            "bottom": null,
            "display": null,
            "flex": null,
            "flex_flow": null,
            "grid_area": null,
            "grid_auto_columns": null,
            "grid_auto_flow": null,
            "grid_auto_rows": null,
            "grid_column": null,
            "grid_gap": null,
            "grid_row": null,
            "grid_template_areas": null,
            "grid_template_columns": null,
            "grid_template_rows": null,
            "height": null,
            "justify_content": null,
            "justify_items": null,
            "left": null,
            "margin": null,
            "max_height": null,
            "max_width": null,
            "min_height": null,
            "min_width": null,
            "object_fit": null,
            "object_position": null,
            "order": null,
            "overflow": null,
            "overflow_x": null,
            "overflow_y": null,
            "padding": null,
            "right": null,
            "top": null,
            "visibility": null,
            "width": null
          }
        },
        "f08e8d65e3fb435f937a5c7573d01a89": {
          "model_module": "@jupyter-widgets/base",
          "model_name": "LayoutModel",
          "model_module_version": "1.2.0",
          "state": {
            "_model_module": "@jupyter-widgets/base",
            "_model_module_version": "1.2.0",
            "_model_name": "LayoutModel",
            "_view_count": null,
            "_view_module": "@jupyter-widgets/base",
            "_view_module_version": "1.2.0",
            "_view_name": "LayoutView",
            "align_content": null,
            "align_items": null,
            "align_self": null,
            "border": null,
            "bottom": null,
            "display": null,
            "flex": null,
            "flex_flow": null,
            "grid_area": null,
            "grid_auto_columns": null,
            "grid_auto_flow": null,
            "grid_auto_rows": null,
            "grid_column": null,
            "grid_gap": null,
            "grid_row": null,
            "grid_template_areas": null,
            "grid_template_columns": null,
            "grid_template_rows": null,
            "height": null,
            "justify_content": null,
            "justify_items": null,
            "left": null,
            "margin": null,
            "max_height": null,
            "max_width": null,
            "min_height": null,
            "min_width": null,
            "object_fit": null,
            "object_position": null,
            "order": null,
            "overflow": null,
            "overflow_x": null,
            "overflow_y": null,
            "padding": null,
            "right": null,
            "top": null,
            "visibility": null,
            "width": null
          }
        },
        "3e0850281dd64f72a23bbcd1275a3fa2": {
          "model_module": "@jupyter-widgets/controls",
          "model_name": "DescriptionStyleModel",
          "model_module_version": "1.5.0",
          "state": {
            "_model_module": "@jupyter-widgets/controls",
            "_model_module_version": "1.5.0",
            "_model_name": "DescriptionStyleModel",
            "_view_count": null,
            "_view_module": "@jupyter-widgets/base",
            "_view_module_version": "1.2.0",
            "_view_name": "StyleView",
            "description_width": ""
          }
        },
        "1e3c626a6a3c4ebe8a71195a817cd11b": {
          "model_module": "@jupyter-widgets/base",
          "model_name": "LayoutModel",
          "model_module_version": "1.2.0",
          "state": {
            "_model_module": "@jupyter-widgets/base",
            "_model_module_version": "1.2.0",
            "_model_name": "LayoutModel",
            "_view_count": null,
            "_view_module": "@jupyter-widgets/base",
            "_view_module_version": "1.2.0",
            "_view_name": "LayoutView",
            "align_content": null,
            "align_items": null,
            "align_self": null,
            "border": null,
            "bottom": null,
            "display": null,
            "flex": null,
            "flex_flow": null,
            "grid_area": null,
            "grid_auto_columns": null,
            "grid_auto_flow": null,
            "grid_auto_rows": null,
            "grid_column": null,
            "grid_gap": null,
            "grid_row": null,
            "grid_template_areas": null,
            "grid_template_columns": null,
            "grid_template_rows": null,
            "height": null,
            "justify_content": null,
            "justify_items": null,
            "left": null,
            "margin": null,
            "max_height": null,
            "max_width": null,
            "min_height": null,
            "min_width": null,
            "object_fit": null,
            "object_position": null,
            "order": null,
            "overflow": null,
            "overflow_x": null,
            "overflow_y": null,
            "padding": null,
            "right": null,
            "top": null,
            "visibility": null,
            "width": null
          }
        },
        "5fb083ed6b1f4fea8011a9539c92e777": {
          "model_module": "@jupyter-widgets/controls",
          "model_name": "ProgressStyleModel",
          "model_module_version": "1.5.0",
          "state": {
            "_model_module": "@jupyter-widgets/controls",
            "_model_module_version": "1.5.0",
            "_model_name": "ProgressStyleModel",
            "_view_count": null,
            "_view_module": "@jupyter-widgets/base",
            "_view_module_version": "1.2.0",
            "_view_name": "StyleView",
            "bar_color": null,
            "description_width": ""
          }
        },
        "233f31648ff945e29bc76267ab46e28b": {
          "model_module": "@jupyter-widgets/base",
          "model_name": "LayoutModel",
          "model_module_version": "1.2.0",
          "state": {
            "_model_module": "@jupyter-widgets/base",
            "_model_module_version": "1.2.0",
            "_model_name": "LayoutModel",
            "_view_count": null,
            "_view_module": "@jupyter-widgets/base",
            "_view_module_version": "1.2.0",
            "_view_name": "LayoutView",
            "align_content": null,
            "align_items": null,
            "align_self": null,
            "border": null,
            "bottom": null,
            "display": null,
            "flex": null,
            "flex_flow": null,
            "grid_area": null,
            "grid_auto_columns": null,
            "grid_auto_flow": null,
            "grid_auto_rows": null,
            "grid_column": null,
            "grid_gap": null,
            "grid_row": null,
            "grid_template_areas": null,
            "grid_template_columns": null,
            "grid_template_rows": null,
            "height": null,
            "justify_content": null,
            "justify_items": null,
            "left": null,
            "margin": null,
            "max_height": null,
            "max_width": null,
            "min_height": null,
            "min_width": null,
            "object_fit": null,
            "object_position": null,
            "order": null,
            "overflow": null,
            "overflow_x": null,
            "overflow_y": null,
            "padding": null,
            "right": null,
            "top": null,
            "visibility": null,
            "width": null
          }
        },
        "08f8df523b184a57877189fc3e8c2bee": {
          "model_module": "@jupyter-widgets/controls",
          "model_name": "DescriptionStyleModel",
          "model_module_version": "1.5.0",
          "state": {
            "_model_module": "@jupyter-widgets/controls",
            "_model_module_version": "1.5.0",
            "_model_name": "DescriptionStyleModel",
            "_view_count": null,
            "_view_module": "@jupyter-widgets/base",
            "_view_module_version": "1.2.0",
            "_view_name": "StyleView",
            "description_width": ""
          }
        },
        "a86713f2cfbe4ca5be0238c4fb1152b4": {
          "model_module": "@jupyter-widgets/controls",
          "model_name": "HBoxModel",
          "model_module_version": "1.5.0",
          "state": {
            "_dom_classes": [],
            "_model_module": "@jupyter-widgets/controls",
            "_model_module_version": "1.5.0",
            "_model_name": "HBoxModel",
            "_view_count": null,
            "_view_module": "@jupyter-widgets/controls",
            "_view_module_version": "1.5.0",
            "_view_name": "HBoxView",
            "box_style": "",
            "children": [
              "IPY_MODEL_292e007fd3d742d69dd4e14408b7f80a",
              "IPY_MODEL_3750ec2132284c658d0f722c575dd9e6",
              "IPY_MODEL_0eafd45b1f174e94abae89d66c41eeff"
            ],
            "layout": "IPY_MODEL_801d4cc11bff4f06a62dd07a0f9c0bc7"
          }
        },
        "292e007fd3d742d69dd4e14408b7f80a": {
          "model_module": "@jupyter-widgets/controls",
          "model_name": "HTMLModel",
          "model_module_version": "1.5.0",
          "state": {
            "_dom_classes": [],
            "_model_module": "@jupyter-widgets/controls",
            "_model_module_version": "1.5.0",
            "_model_name": "HTMLModel",
            "_view_count": null,
            "_view_module": "@jupyter-widgets/controls",
            "_view_module_version": "1.5.0",
            "_view_name": "HTMLView",
            "description": "",
            "description_tooltip": null,
            "layout": "IPY_MODEL_b91fac7f37ee47d089b2b6b91b664429",
            "placeholder": "​",
            "style": "IPY_MODEL_9eebf8003dd846dea034dcb4676a0e0f",
            "value": "100%"
          }
        },
        "3750ec2132284c658d0f722c575dd9e6": {
          "model_module": "@jupyter-widgets/controls",
          "model_name": "FloatProgressModel",
          "model_module_version": "1.5.0",
          "state": {
            "_dom_classes": [],
            "_model_module": "@jupyter-widgets/controls",
            "_model_module_version": "1.5.0",
            "_model_name": "FloatProgressModel",
            "_view_count": null,
            "_view_module": "@jupyter-widgets/controls",
            "_view_module_version": "1.5.0",
            "_view_name": "ProgressView",
            "bar_style": "success",
            "description": "",
            "description_tooltip": null,
            "layout": "IPY_MODEL_525b1dcf928b42ba9dfce499694e323a",
            "max": 53509,
            "min": 0,
            "orientation": "horizontal",
            "style": "IPY_MODEL_25d2774b9be3443594bfada8824178ab",
            "value": 53509
          }
        },
        "0eafd45b1f174e94abae89d66c41eeff": {
          "model_module": "@jupyter-widgets/controls",
          "model_name": "HTMLModel",
          "model_module_version": "1.5.0",
          "state": {
            "_dom_classes": [],
            "_model_module": "@jupyter-widgets/controls",
            "_model_module_version": "1.5.0",
            "_model_name": "HTMLModel",
            "_view_count": null,
            "_view_module": "@jupyter-widgets/controls",
            "_view_module_version": "1.5.0",
            "_view_name": "HTMLView",
            "description": "",
            "description_tooltip": null,
            "layout": "IPY_MODEL_5106dd0a36f04839afc1bb20bb7e3146",
            "placeholder": "​",
            "style": "IPY_MODEL_63be4efb46c949fd9730a35bdda9bde8",
            "value": " 53509/53509 [00:37&lt;00:00, 1401.12it/s]"
          }
        },
        "801d4cc11bff4f06a62dd07a0f9c0bc7": {
          "model_module": "@jupyter-widgets/base",
          "model_name": "LayoutModel",
          "model_module_version": "1.2.0",
          "state": {
            "_model_module": "@jupyter-widgets/base",
            "_model_module_version": "1.2.0",
            "_model_name": "LayoutModel",
            "_view_count": null,
            "_view_module": "@jupyter-widgets/base",
            "_view_module_version": "1.2.0",
            "_view_name": "LayoutView",
            "align_content": null,
            "align_items": null,
            "align_self": null,
            "border": null,
            "bottom": null,
            "display": null,
            "flex": null,
            "flex_flow": null,
            "grid_area": null,
            "grid_auto_columns": null,
            "grid_auto_flow": null,
            "grid_auto_rows": null,
            "grid_column": null,
            "grid_gap": null,
            "grid_row": null,
            "grid_template_areas": null,
            "grid_template_columns": null,
            "grid_template_rows": null,
            "height": null,
            "justify_content": null,
            "justify_items": null,
            "left": null,
            "margin": null,
            "max_height": null,
            "max_width": null,
            "min_height": null,
            "min_width": null,
            "object_fit": null,
            "object_position": null,
            "order": null,
            "overflow": null,
            "overflow_x": null,
            "overflow_y": null,
            "padding": null,
            "right": null,
            "top": null,
            "visibility": null,
            "width": null
          }
        },
        "b91fac7f37ee47d089b2b6b91b664429": {
          "model_module": "@jupyter-widgets/base",
          "model_name": "LayoutModel",
          "model_module_version": "1.2.0",
          "state": {
            "_model_module": "@jupyter-widgets/base",
            "_model_module_version": "1.2.0",
            "_model_name": "LayoutModel",
            "_view_count": null,
            "_view_module": "@jupyter-widgets/base",
            "_view_module_version": "1.2.0",
            "_view_name": "LayoutView",
            "align_content": null,
            "align_items": null,
            "align_self": null,
            "border": null,
            "bottom": null,
            "display": null,
            "flex": null,
            "flex_flow": null,
            "grid_area": null,
            "grid_auto_columns": null,
            "grid_auto_flow": null,
            "grid_auto_rows": null,
            "grid_column": null,
            "grid_gap": null,
            "grid_row": null,
            "grid_template_areas": null,
            "grid_template_columns": null,
            "grid_template_rows": null,
            "height": null,
            "justify_content": null,
            "justify_items": null,
            "left": null,
            "margin": null,
            "max_height": null,
            "max_width": null,
            "min_height": null,
            "min_width": null,
            "object_fit": null,
            "object_position": null,
            "order": null,
            "overflow": null,
            "overflow_x": null,
            "overflow_y": null,
            "padding": null,
            "right": null,
            "top": null,
            "visibility": null,
            "width": null
          }
        },
        "9eebf8003dd846dea034dcb4676a0e0f": {
          "model_module": "@jupyter-widgets/controls",
          "model_name": "DescriptionStyleModel",
          "model_module_version": "1.5.0",
          "state": {
            "_model_module": "@jupyter-widgets/controls",
            "_model_module_version": "1.5.0",
            "_model_name": "DescriptionStyleModel",
            "_view_count": null,
            "_view_module": "@jupyter-widgets/base",
            "_view_module_version": "1.2.0",
            "_view_name": "StyleView",
            "description_width": ""
          }
        },
        "525b1dcf928b42ba9dfce499694e323a": {
          "model_module": "@jupyter-widgets/base",
          "model_name": "LayoutModel",
          "model_module_version": "1.2.0",
          "state": {
            "_model_module": "@jupyter-widgets/base",
            "_model_module_version": "1.2.0",
            "_model_name": "LayoutModel",
            "_view_count": null,
            "_view_module": "@jupyter-widgets/base",
            "_view_module_version": "1.2.0",
            "_view_name": "LayoutView",
            "align_content": null,
            "align_items": null,
            "align_self": null,
            "border": null,
            "bottom": null,
            "display": null,
            "flex": null,
            "flex_flow": null,
            "grid_area": null,
            "grid_auto_columns": null,
            "grid_auto_flow": null,
            "grid_auto_rows": null,
            "grid_column": null,
            "grid_gap": null,
            "grid_row": null,
            "grid_template_areas": null,
            "grid_template_columns": null,
            "grid_template_rows": null,
            "height": null,
            "justify_content": null,
            "justify_items": null,
            "left": null,
            "margin": null,
            "max_height": null,
            "max_width": null,
            "min_height": null,
            "min_width": null,
            "object_fit": null,
            "object_position": null,
            "order": null,
            "overflow": null,
            "overflow_x": null,
            "overflow_y": null,
            "padding": null,
            "right": null,
            "top": null,
            "visibility": null,
            "width": null
          }
        },
        "25d2774b9be3443594bfada8824178ab": {
          "model_module": "@jupyter-widgets/controls",
          "model_name": "ProgressStyleModel",
          "model_module_version": "1.5.0",
          "state": {
            "_model_module": "@jupyter-widgets/controls",
            "_model_module_version": "1.5.0",
            "_model_name": "ProgressStyleModel",
            "_view_count": null,
            "_view_module": "@jupyter-widgets/base",
            "_view_module_version": "1.2.0",
            "_view_name": "StyleView",
            "bar_color": null,
            "description_width": ""
          }
        },
        "5106dd0a36f04839afc1bb20bb7e3146": {
          "model_module": "@jupyter-widgets/base",
          "model_name": "LayoutModel",
          "model_module_version": "1.2.0",
          "state": {
            "_model_module": "@jupyter-widgets/base",
            "_model_module_version": "1.2.0",
            "_model_name": "LayoutModel",
            "_view_count": null,
            "_view_module": "@jupyter-widgets/base",
            "_view_module_version": "1.2.0",
            "_view_name": "LayoutView",
            "align_content": null,
            "align_items": null,
            "align_self": null,
            "border": null,
            "bottom": null,
            "display": null,
            "flex": null,
            "flex_flow": null,
            "grid_area": null,
            "grid_auto_columns": null,
            "grid_auto_flow": null,
            "grid_auto_rows": null,
            "grid_column": null,
            "grid_gap": null,
            "grid_row": null,
            "grid_template_areas": null,
            "grid_template_columns": null,
            "grid_template_rows": null,
            "height": null,
            "justify_content": null,
            "justify_items": null,
            "left": null,
            "margin": null,
            "max_height": null,
            "max_width": null,
            "min_height": null,
            "min_width": null,
            "object_fit": null,
            "object_position": null,
            "order": null,
            "overflow": null,
            "overflow_x": null,
            "overflow_y": null,
            "padding": null,
            "right": null,
            "top": null,
            "visibility": null,
            "width": null
          }
        },
        "63be4efb46c949fd9730a35bdda9bde8": {
          "model_module": "@jupyter-widgets/controls",
          "model_name": "DescriptionStyleModel",
          "model_module_version": "1.5.0",
          "state": {
            "_model_module": "@jupyter-widgets/controls",
            "_model_module_version": "1.5.0",
            "_model_name": "DescriptionStyleModel",
            "_view_count": null,
            "_view_module": "@jupyter-widgets/base",
            "_view_module_version": "1.2.0",
            "_view_name": "StyleView",
            "description_width": ""
          }
        }
      }
    }
  },
  "nbformat": 4,
  "nbformat_minor": 0
}