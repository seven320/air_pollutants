{
  "nbformat": 4,
  "nbformat_minor": 0,
  "metadata": {
    "colab": {
      "name": "FP000-base-air",
      "provenance": [],
      "authorship_tag": "ABX9TyMbJ7IQg1aA5Zd5a0vNR7z9",
      "include_colab_link": true
    },
    "kernelspec": {
      "name": "python3",
      "display_name": "Python 3"
    },
    "language_info": {
      "name": "python"
    },
    "accelerator": "GPU"
  },
  "cells": [
    {
      "cell_type": "markdown",
      "metadata": {
        "id": "view-in-github",
        "colab_type": "text"
      },
      "source": [
        "<a href=\"https://colab.research.google.com/github/seven320/air_pollutants/blob/main/FP000_base_air.ipynb\" target=\"_parent\"><img src=\"https://colab.research.google.com/assets/colab-badge.svg\" alt=\"Open In Colab\"/></a>"
      ]
    },
    {
      "cell_type": "code",
      "execution_count": 15,
      "metadata": {
        "colab": {
          "base_uri": "https://localhost:8080/"
        },
        "id": "8OhibwrnFAQk",
        "outputId": "360df225-0257-4159-f609-d52fd5e304fd"
      },
      "outputs": [
        {
          "output_type": "stream",
          "name": "stdout",
          "text": [
            "Thu Apr 14 12:14:37 2022       \n",
            "+-----------------------------------------------------------------------------+\n",
            "| NVIDIA-SMI 460.32.03    Driver Version: 460.32.03    CUDA Version: 11.2     |\n",
            "|-------------------------------+----------------------+----------------------+\n",
            "| GPU  Name        Persistence-M| Bus-Id        Disp.A | Volatile Uncorr. ECC |\n",
            "| Fan  Temp  Perf  Pwr:Usage/Cap|         Memory-Usage | GPU-Util  Compute M. |\n",
            "|                               |                      |               MIG M. |\n",
            "|===============================+======================+======================|\n",
            "|   0  Tesla P100-PCIE...  Off  | 00000000:00:04.0 Off |                    0 |\n",
            "| N/A   33C    P0    27W / 250W |      0MiB / 16280MiB |      0%      Default |\n",
            "|                               |                      |                  N/A |\n",
            "+-------------------------------+----------------------+----------------------+\n",
            "                                                                               \n",
            "+-----------------------------------------------------------------------------+\n",
            "| Processes:                                                                  |\n",
            "|  GPU   GI   CI        PID   Type   Process name                  GPU Memory |\n",
            "|        ID   ID                                                   Usage      |\n",
            "|=============================================================================|\n",
            "|  No running processes found                                                 |\n",
            "+-----------------------------------------------------------------------------+\n"
          ]
        }
      ],
      "source": [
        "!nvidia-smi"
      ]
    },
    {
      "cell_type": "code",
      "source": [
        "import os, sys\n",
        "COLAB = \"google.colab\" in sys.modules\n",
        "\n",
        "if COLAB:\n",
        "    from google.colab import drive\n",
        "    from google.colab import output\n",
        "    drive.mount(\"/content/drive\")"
      ],
      "metadata": {
        "colab": {
          "base_uri": "https://localhost:8080/"
        },
        "id": "b09jV65gFc3Y",
        "outputId": "ff9acc2a-c811-4dae-d786-e3128034c235"
      },
      "execution_count": 16,
      "outputs": [
        {
          "output_type": "stream",
          "name": "stdout",
          "text": [
            "Drive already mounted at /content/drive; to attempt to forcibly remount, call drive.mount(\"/content/drive\", force_remount=True).\n"
          ]
        }
      ]
    },
    {
      "cell_type": "code",
      "source": [
        "# NOTEBOOK_NAME = y\n",
        "\n"
      ],
      "metadata": {
        "id": "9ltuVQ6b_grh"
      },
      "execution_count": 17,
      "outputs": []
    },
    {
      "cell_type": "code",
      "source": [
        "if COLAB:\n",
        "    !pip install transformers > /dev/null\n",
        "    !pip install einops > /dev/null\n",
        "    !pip install timm > /dev/null\n",
        "    !pip install kaggle > /dev/null\n",
        "    !pip install kaggle_datasets > /dev/null\n",
        "    !pip install git+https://github.com/albumentations-team/albumentations\n",
        "    !pip install tensorflow-determinism\n",
        "    !pip install -q iterative-stratification\n",
        "    output.clear()"
      ],
      "metadata": {
        "id": "MvUvD3E2I6sj"
      },
      "execution_count": 18,
      "outputs": []
    },
    {
      "cell_type": "code",
      "source": [
        "import gc\n",
        "import json\n",
        "import math\n",
        "import os\n",
        "import random\n",
        "import re\n",
        "import time\n",
        "import copy\n",
        "import warnings\n",
        "from requests import get\n",
        "from contextlib import contextmanager\n",
        "\n",
        "import matplotlib.pyplot as plt\n",
        "import numpy as np\n",
        "import pandas as pd\n",
        "import seaborn as sns\n",
        "import torch\n",
        "import torch.nn as nn\n",
        "from pathlib import Path\n",
        "from sklearn.ensemble import RandomForestRegressor\n",
        "from sklearn.model_selection import GroupKFold, train_test_split, KFold\n",
        "from sklearn.preprocessing import RobustScaler\n",
        "from torch.nn import functional as F\n",
        "from torch.utils.data import DataLoader, Dataset\n",
        "# import cv2\n",
        "# from torch.cuda.amp import autocast, GradScaler\n",
        "# from einops import rearrange as Rearrange\n",
        "from einops.layers.torch import Rearrange, Reduce\n",
        "import timm\n",
        "\n",
        "from tqdm.notebook import tqdm\n",
        "from transformers import AdamW, get_cosine_schedule_with_warmup\n",
        "from typing import Optional, Tuple\n",
        "from xgboost import XGBRegressor"
      ],
      "metadata": {
        "id": "VX7ZxFBMH3mX"
      },
      "execution_count": 19,
      "outputs": []
    },
    {
      "cell_type": "code",
      "source": [
        "warnings.simplefilter('ignore')"
      ],
      "metadata": {
        "id": "3TLiFn8H_V90"
      },
      "execution_count": 20,
      "outputs": []
    },
    {
      "cell_type": "code",
      "source": [
        "if COLAB:    \n",
        "    NOTEBOOK_NAME = get('http://172.28.0.2:9000/api/sessions').json()[0]['name']\n",
        "    print(NOTEBOOK_NAME)"
      ],
      "metadata": {
        "id": "jAG9b0Tb_YdF",
        "colab": {
          "base_uri": "https://localhost:8080/"
        },
        "outputId": "20e277f8-b914-4d53-9253-f68938a1ba86"
      },
      "execution_count": 21,
      "outputs": [
        {
          "output_type": "stream",
          "name": "stdout",
          "text": [
            "FP000-base-air\n"
          ]
        }
      ]
    },
    {
      "cell_type": "code",
      "source": [
        "COMPE_NAME = \"air_pollutants\"\n",
        "BASE_DIR = f\"/content/drive/MyDrive/signate/{COMPE_NAME}\"\n",
        "\n",
        "# KAGGLE ONLY HAS 1, BUT OFFLINE, YOU CAN USE MORE\n",
        "os.environ[\"CUDA_VISIBLE_DEVICES\"]=\"0\" #0,1,2,3 for four gpu"
      ],
      "metadata": {
        "id": "BiWCgj_XI4y2"
      },
      "execution_count": 22,
      "outputs": []
    },
    {
      "cell_type": "code",
      "source": [
        "if COLAB:\n",
        "    INPUT_DIR = Path(os.path.join(BASE_DIR ,f\"input\"))\n",
        "    INPUT_DIR.mkdir(exist_ok=True, parents=True)\n",
        "\n",
        "    SAVE_DIR = Path(os.path.join(BASE_DIR ,f\"models/{NOTEBOOK_NAME}\"))\n",
        "    SAVE_DIR.mkdir(exist_ok=True, parents=True)\n",
        "\n",
        "    OOF_DIR = Path(os.path.join(BASE_DIR, f\"oof/{NOTEBOOK_NAME}\"))\n",
        "    OOF_DIR.mkdir(exist_ok=True, parents = True)\n",
        "\n",
        "    SUB_DIR = Path(os.path.join(BASE_DIR, f\"submission/{NOTEBOOK_NAME}\"))\n",
        "    SUB_DIR.mkdir(exist_ok=True, parents = True)"
      ],
      "metadata": {
        "id": "tUAtLXzhI-Xr"
      },
      "execution_count": 23,
      "outputs": []
    },
    {
      "cell_type": "code",
      "source": [
        "train_df = pd.read_csv(os.path.join(INPUT_DIR, \"train.csv\"))\n",
        "test_df = pd.read_csv(os.path.join(INPUT_DIR, \"test.csv\"))\n",
        "sample_df = pd.read_csv(os.path.join(INPUT_DIR, \"submit_sample.csv\"))"
      ],
      "metadata": {
        "id": "z50ynnGpI-a-"
      },
      "execution_count": 24,
      "outputs": []
    },
    {
      "cell_type": "code",
      "source": [
        "#############\n",
        "## Utility ##\n",
        "#############\n",
        "@contextmanager\n",
        "def timer(name: str):\n",
        "    t0 = time.time()\n",
        "    print(f\"[{name}] start\")\n",
        "    yield\n",
        "    print(f\"[{name}] done - elapsed {time.time() - t0:.2f}s\")"
      ],
      "metadata": {
        "id": "QO13XyUmI-dG"
      },
      "execution_count": 25,
      "outputs": []
    },
    {
      "cell_type": "code",
      "source": [
        "def seed_everything(seed):\n",
        "    \"\"\"\n",
        "    Seeds basic parameters for reproductibility of results\n",
        "    \n",
        "    Arguments:\n",
        "        seed {int} -- Number of the seed\n",
        "    \"\"\"\n",
        "    random.seed(seed)\n",
        "    os.environ[\"PYTHONHASHSEED\"] = str(seed)\n",
        "    np.random.seed(seed)\n",
        "    torch.manual_seed(seed)\n",
        "    torch.cuda.manual_seed(seed)\n",
        "    torch.backends.cudnn.deterministic = True\n",
        "    torch.backends.cudnn.benchmark = False\n",
        "\n",
        "def set_seed(seed):\n",
        "    random.seed(seed)\n",
        "    os.environ[\"PYTHONHASHSEED\"] = str(seed)\n",
        "    np.random.seed(seed)\n",
        "    torch.manual_seed(seed)\n",
        "    torch.cuda.manual_seed(seed)\n",
        "    torch.cuda.manual_seed_all(seed)\n",
        "    torch.backends.cudnn.deterministic = True\n",
        "    torch.backends.cudnn.benchmark = False\n",
        "\n",
        "seed_everything(42)"
      ],
      "metadata": {
        "id": "IeHnNhCrJNvb"
      },
      "execution_count": 26,
      "outputs": []
    },
    {
      "cell_type": "code",
      "source": [
        "train_df"
      ],
      "metadata": {
        "id": "1JcbNGglJNxv",
        "colab": {
          "base_uri": "https://localhost:8080/",
          "height": 540
        },
        "outputId": "c4ff014e-9e32-49b5-9ff2-4a56c1dda79d"
      },
      "execution_count": 27,
      "outputs": [
        {
          "output_type": "execute_result",
          "data": {
            "text/plain": [
              "            id  year  month  day        Country          City       lat  \\\n",
              "0            1  2019      1    1      Australia      Brisbane -27.46794   \n",
              "1            2  2019      1    1      Australia        Darwin -12.46113   \n",
              "2            3  2019      1    1      Australia     Melbourne -37.81400   \n",
              "3            4  2019      1    1      Australia     Newcastle -32.92953   \n",
              "4            5  2019      1    1      Australia         Perth -31.95224   \n",
              "...        ...   ...    ...  ...            ...           ...       ...   \n",
              "195936  195937  2021     12   31  United States  Jacksonville  30.33218   \n",
              "195937  195938  2021     12   31  United States     Las Vegas  36.17497   \n",
              "195938  195939  2021     12   31  United States     Milwaukee  43.03890   \n",
              "195939  195940  2021     12   31        Vietnam         Hanoi  21.02450   \n",
              "195940  195941  2021     12   31        Vietnam       Hạ Long  20.95045   \n",
              "\n",
              "              lon  co_cnt  co_min  ...  ws_min  ws_mid  ws_max  ws_var  \\\n",
              "0       153.02809      38   0.749  ...   0.241   1.088   3.101   1.983   \n",
              "1       130.84185      47   2.594  ...   0.828   3.473   7.396  10.411   \n",
              "2       144.96332      17   1.190  ...   0.000   2.107   8.089  15.719   \n",
              "3       151.78010      63   4.586  ...   0.284   0.503   3.592   2.485   \n",
              "4       115.86140      47   4.689  ...   0.500   0.755   3.396   1.937   \n",
              "...           ...     ...     ...  ...     ...     ...     ...     ...   \n",
              "195936  -81.65565      12   0.694  ...   2.195   2.710   6.125   3.757   \n",
              "195937 -115.13722      14   0.528  ...   1.002   2.974   6.861   8.354   \n",
              "195938  -87.90647     171   1.975  ...   0.994   1.087   2.578   0.612   \n",
              "195939  105.84117      31   2.613  ...   1.005   3.058   6.005   6.085   \n",
              "195940  107.07336      26   0.069  ...   0.190   2.775   3.412   2.528   \n",
              "\n",
              "        dew_cnt  dew_min  dew_mid  dew_max  dew_var  pm25_mid  \n",
              "0            17    7.671   10.358   15.112   13.424    19.901  \n",
              "1            62   21.324   23.813   24.221    2.021    13.741  \n",
              "2            22   10.309   13.133   15.422    6.355    25.918  \n",
              "3           116    7.146   10.685   13.344    9.417   174.370  \n",
              "4            93    1.091    3.277   12.272    4.109   167.063  \n",
              "...         ...      ...      ...      ...      ...       ...  \n",
              "195936       12   16.774   22.679   26.058   13.252    16.150  \n",
              "195937       12   10.432   14.741   15.827    7.078    16.895  \n",
              "195938       26    2.049    3.531    6.686    5.286    86.299  \n",
              "195939       51    1.922    7.443    7.716    4.642    36.523  \n",
              "195940       16    8.448   10.372   18.886   11.536    62.021  \n",
              "\n",
              "[195941 rows x 54 columns]"
            ],
            "text/html": [
              "\n",
              "  <div id=\"df-e1f4daa1-d3ec-449f-81f6-0f612903f2ea\">\n",
              "    <div class=\"colab-df-container\">\n",
              "      <div>\n",
              "<style scoped>\n",
              "    .dataframe tbody tr th:only-of-type {\n",
              "        vertical-align: middle;\n",
              "    }\n",
              "\n",
              "    .dataframe tbody tr th {\n",
              "        vertical-align: top;\n",
              "    }\n",
              "\n",
              "    .dataframe thead th {\n",
              "        text-align: right;\n",
              "    }\n",
              "</style>\n",
              "<table border=\"1\" class=\"dataframe\">\n",
              "  <thead>\n",
              "    <tr style=\"text-align: right;\">\n",
              "      <th></th>\n",
              "      <th>id</th>\n",
              "      <th>year</th>\n",
              "      <th>month</th>\n",
              "      <th>day</th>\n",
              "      <th>Country</th>\n",
              "      <th>City</th>\n",
              "      <th>lat</th>\n",
              "      <th>lon</th>\n",
              "      <th>co_cnt</th>\n",
              "      <th>co_min</th>\n",
              "      <th>...</th>\n",
              "      <th>ws_min</th>\n",
              "      <th>ws_mid</th>\n",
              "      <th>ws_max</th>\n",
              "      <th>ws_var</th>\n",
              "      <th>dew_cnt</th>\n",
              "      <th>dew_min</th>\n",
              "      <th>dew_mid</th>\n",
              "      <th>dew_max</th>\n",
              "      <th>dew_var</th>\n",
              "      <th>pm25_mid</th>\n",
              "    </tr>\n",
              "  </thead>\n",
              "  <tbody>\n",
              "    <tr>\n",
              "      <th>0</th>\n",
              "      <td>1</td>\n",
              "      <td>2019</td>\n",
              "      <td>1</td>\n",
              "      <td>1</td>\n",
              "      <td>Australia</td>\n",
              "      <td>Brisbane</td>\n",
              "      <td>-27.46794</td>\n",
              "      <td>153.02809</td>\n",
              "      <td>38</td>\n",
              "      <td>0.749</td>\n",
              "      <td>...</td>\n",
              "      <td>0.241</td>\n",
              "      <td>1.088</td>\n",
              "      <td>3.101</td>\n",
              "      <td>1.983</td>\n",
              "      <td>17</td>\n",
              "      <td>7.671</td>\n",
              "      <td>10.358</td>\n",
              "      <td>15.112</td>\n",
              "      <td>13.424</td>\n",
              "      <td>19.901</td>\n",
              "    </tr>\n",
              "    <tr>\n",
              "      <th>1</th>\n",
              "      <td>2</td>\n",
              "      <td>2019</td>\n",
              "      <td>1</td>\n",
              "      <td>1</td>\n",
              "      <td>Australia</td>\n",
              "      <td>Darwin</td>\n",
              "      <td>-12.46113</td>\n",
              "      <td>130.84185</td>\n",
              "      <td>47</td>\n",
              "      <td>2.594</td>\n",
              "      <td>...</td>\n",
              "      <td>0.828</td>\n",
              "      <td>3.473</td>\n",
              "      <td>7.396</td>\n",
              "      <td>10.411</td>\n",
              "      <td>62</td>\n",
              "      <td>21.324</td>\n",
              "      <td>23.813</td>\n",
              "      <td>24.221</td>\n",
              "      <td>2.021</td>\n",
              "      <td>13.741</td>\n",
              "    </tr>\n",
              "    <tr>\n",
              "      <th>2</th>\n",
              "      <td>3</td>\n",
              "      <td>2019</td>\n",
              "      <td>1</td>\n",
              "      <td>1</td>\n",
              "      <td>Australia</td>\n",
              "      <td>Melbourne</td>\n",
              "      <td>-37.81400</td>\n",
              "      <td>144.96332</td>\n",
              "      <td>17</td>\n",
              "      <td>1.190</td>\n",
              "      <td>...</td>\n",
              "      <td>0.000</td>\n",
              "      <td>2.107</td>\n",
              "      <td>8.089</td>\n",
              "      <td>15.719</td>\n",
              "      <td>22</td>\n",
              "      <td>10.309</td>\n",
              "      <td>13.133</td>\n",
              "      <td>15.422</td>\n",
              "      <td>6.355</td>\n",
              "      <td>25.918</td>\n",
              "    </tr>\n",
              "    <tr>\n",
              "      <th>3</th>\n",
              "      <td>4</td>\n",
              "      <td>2019</td>\n",
              "      <td>1</td>\n",
              "      <td>1</td>\n",
              "      <td>Australia</td>\n",
              "      <td>Newcastle</td>\n",
              "      <td>-32.92953</td>\n",
              "      <td>151.78010</td>\n",
              "      <td>63</td>\n",
              "      <td>4.586</td>\n",
              "      <td>...</td>\n",
              "      <td>0.284</td>\n",
              "      <td>0.503</td>\n",
              "      <td>3.592</td>\n",
              "      <td>2.485</td>\n",
              "      <td>116</td>\n",
              "      <td>7.146</td>\n",
              "      <td>10.685</td>\n",
              "      <td>13.344</td>\n",
              "      <td>9.417</td>\n",
              "      <td>174.370</td>\n",
              "    </tr>\n",
              "    <tr>\n",
              "      <th>4</th>\n",
              "      <td>5</td>\n",
              "      <td>2019</td>\n",
              "      <td>1</td>\n",
              "      <td>1</td>\n",
              "      <td>Australia</td>\n",
              "      <td>Perth</td>\n",
              "      <td>-31.95224</td>\n",
              "      <td>115.86140</td>\n",
              "      <td>47</td>\n",
              "      <td>4.689</td>\n",
              "      <td>...</td>\n",
              "      <td>0.500</td>\n",
              "      <td>0.755</td>\n",
              "      <td>3.396</td>\n",
              "      <td>1.937</td>\n",
              "      <td>93</td>\n",
              "      <td>1.091</td>\n",
              "      <td>3.277</td>\n",
              "      <td>12.272</td>\n",
              "      <td>4.109</td>\n",
              "      <td>167.063</td>\n",
              "    </tr>\n",
              "    <tr>\n",
              "      <th>...</th>\n",
              "      <td>...</td>\n",
              "      <td>...</td>\n",
              "      <td>...</td>\n",
              "      <td>...</td>\n",
              "      <td>...</td>\n",
              "      <td>...</td>\n",
              "      <td>...</td>\n",
              "      <td>...</td>\n",
              "      <td>...</td>\n",
              "      <td>...</td>\n",
              "      <td>...</td>\n",
              "      <td>...</td>\n",
              "      <td>...</td>\n",
              "      <td>...</td>\n",
              "      <td>...</td>\n",
              "      <td>...</td>\n",
              "      <td>...</td>\n",
              "      <td>...</td>\n",
              "      <td>...</td>\n",
              "      <td>...</td>\n",
              "      <td>...</td>\n",
              "    </tr>\n",
              "    <tr>\n",
              "      <th>195936</th>\n",
              "      <td>195937</td>\n",
              "      <td>2021</td>\n",
              "      <td>12</td>\n",
              "      <td>31</td>\n",
              "      <td>United States</td>\n",
              "      <td>Jacksonville</td>\n",
              "      <td>30.33218</td>\n",
              "      <td>-81.65565</td>\n",
              "      <td>12</td>\n",
              "      <td>0.694</td>\n",
              "      <td>...</td>\n",
              "      <td>2.195</td>\n",
              "      <td>2.710</td>\n",
              "      <td>6.125</td>\n",
              "      <td>3.757</td>\n",
              "      <td>12</td>\n",
              "      <td>16.774</td>\n",
              "      <td>22.679</td>\n",
              "      <td>26.058</td>\n",
              "      <td>13.252</td>\n",
              "      <td>16.150</td>\n",
              "    </tr>\n",
              "    <tr>\n",
              "      <th>195937</th>\n",
              "      <td>195938</td>\n",
              "      <td>2021</td>\n",
              "      <td>12</td>\n",
              "      <td>31</td>\n",
              "      <td>United States</td>\n",
              "      <td>Las Vegas</td>\n",
              "      <td>36.17497</td>\n",
              "      <td>-115.13722</td>\n",
              "      <td>14</td>\n",
              "      <td>0.528</td>\n",
              "      <td>...</td>\n",
              "      <td>1.002</td>\n",
              "      <td>2.974</td>\n",
              "      <td>6.861</td>\n",
              "      <td>8.354</td>\n",
              "      <td>12</td>\n",
              "      <td>10.432</td>\n",
              "      <td>14.741</td>\n",
              "      <td>15.827</td>\n",
              "      <td>7.078</td>\n",
              "      <td>16.895</td>\n",
              "    </tr>\n",
              "    <tr>\n",
              "      <th>195938</th>\n",
              "      <td>195939</td>\n",
              "      <td>2021</td>\n",
              "      <td>12</td>\n",
              "      <td>31</td>\n",
              "      <td>United States</td>\n",
              "      <td>Milwaukee</td>\n",
              "      <td>43.03890</td>\n",
              "      <td>-87.90647</td>\n",
              "      <td>171</td>\n",
              "      <td>1.975</td>\n",
              "      <td>...</td>\n",
              "      <td>0.994</td>\n",
              "      <td>1.087</td>\n",
              "      <td>2.578</td>\n",
              "      <td>0.612</td>\n",
              "      <td>26</td>\n",
              "      <td>2.049</td>\n",
              "      <td>3.531</td>\n",
              "      <td>6.686</td>\n",
              "      <td>5.286</td>\n",
              "      <td>86.299</td>\n",
              "    </tr>\n",
              "    <tr>\n",
              "      <th>195939</th>\n",
              "      <td>195940</td>\n",
              "      <td>2021</td>\n",
              "      <td>12</td>\n",
              "      <td>31</td>\n",
              "      <td>Vietnam</td>\n",
              "      <td>Hanoi</td>\n",
              "      <td>21.02450</td>\n",
              "      <td>105.84117</td>\n",
              "      <td>31</td>\n",
              "      <td>2.613</td>\n",
              "      <td>...</td>\n",
              "      <td>1.005</td>\n",
              "      <td>3.058</td>\n",
              "      <td>6.005</td>\n",
              "      <td>6.085</td>\n",
              "      <td>51</td>\n",
              "      <td>1.922</td>\n",
              "      <td>7.443</td>\n",
              "      <td>7.716</td>\n",
              "      <td>4.642</td>\n",
              "      <td>36.523</td>\n",
              "    </tr>\n",
              "    <tr>\n",
              "      <th>195940</th>\n",
              "      <td>195941</td>\n",
              "      <td>2021</td>\n",
              "      <td>12</td>\n",
              "      <td>31</td>\n",
              "      <td>Vietnam</td>\n",
              "      <td>Hạ Long</td>\n",
              "      <td>20.95045</td>\n",
              "      <td>107.07336</td>\n",
              "      <td>26</td>\n",
              "      <td>0.069</td>\n",
              "      <td>...</td>\n",
              "      <td>0.190</td>\n",
              "      <td>2.775</td>\n",
              "      <td>3.412</td>\n",
              "      <td>2.528</td>\n",
              "      <td>16</td>\n",
              "      <td>8.448</td>\n",
              "      <td>10.372</td>\n",
              "      <td>18.886</td>\n",
              "      <td>11.536</td>\n",
              "      <td>62.021</td>\n",
              "    </tr>\n",
              "  </tbody>\n",
              "</table>\n",
              "<p>195941 rows × 54 columns</p>\n",
              "</div>\n",
              "      <button class=\"colab-df-convert\" onclick=\"convertToInteractive('df-e1f4daa1-d3ec-449f-81f6-0f612903f2ea')\"\n",
              "              title=\"Convert this dataframe to an interactive table.\"\n",
              "              style=\"display:none;\">\n",
              "        \n",
              "  <svg xmlns=\"http://www.w3.org/2000/svg\" height=\"24px\"viewBox=\"0 0 24 24\"\n",
              "       width=\"24px\">\n",
              "    <path d=\"M0 0h24v24H0V0z\" fill=\"none\"/>\n",
              "    <path d=\"M18.56 5.44l.94 2.06.94-2.06 2.06-.94-2.06-.94-.94-2.06-.94 2.06-2.06.94zm-11 1L8.5 8.5l.94-2.06 2.06-.94-2.06-.94L8.5 2.5l-.94 2.06-2.06.94zm10 10l.94 2.06.94-2.06 2.06-.94-2.06-.94-.94-2.06-.94 2.06-2.06.94z\"/><path d=\"M17.41 7.96l-1.37-1.37c-.4-.4-.92-.59-1.43-.59-.52 0-1.04.2-1.43.59L10.3 9.45l-7.72 7.72c-.78.78-.78 2.05 0 2.83L4 21.41c.39.39.9.59 1.41.59.51 0 1.02-.2 1.41-.59l7.78-7.78 2.81-2.81c.8-.78.8-2.07 0-2.86zM5.41 20L4 18.59l7.72-7.72 1.47 1.35L5.41 20z\"/>\n",
              "  </svg>\n",
              "      </button>\n",
              "      \n",
              "  <style>\n",
              "    .colab-df-container {\n",
              "      display:flex;\n",
              "      flex-wrap:wrap;\n",
              "      gap: 12px;\n",
              "    }\n",
              "\n",
              "    .colab-df-convert {\n",
              "      background-color: #E8F0FE;\n",
              "      border: none;\n",
              "      border-radius: 50%;\n",
              "      cursor: pointer;\n",
              "      display: none;\n",
              "      fill: #1967D2;\n",
              "      height: 32px;\n",
              "      padding: 0 0 0 0;\n",
              "      width: 32px;\n",
              "    }\n",
              "\n",
              "    .colab-df-convert:hover {\n",
              "      background-color: #E2EBFA;\n",
              "      box-shadow: 0px 1px 2px rgba(60, 64, 67, 0.3), 0px 1px 3px 1px rgba(60, 64, 67, 0.15);\n",
              "      fill: #174EA6;\n",
              "    }\n",
              "\n",
              "    [theme=dark] .colab-df-convert {\n",
              "      background-color: #3B4455;\n",
              "      fill: #D2E3FC;\n",
              "    }\n",
              "\n",
              "    [theme=dark] .colab-df-convert:hover {\n",
              "      background-color: #434B5C;\n",
              "      box-shadow: 0px 1px 3px 1px rgba(0, 0, 0, 0.15);\n",
              "      filter: drop-shadow(0px 1px 2px rgba(0, 0, 0, 0.3));\n",
              "      fill: #FFFFFF;\n",
              "    }\n",
              "  </style>\n",
              "\n",
              "      <script>\n",
              "        const buttonEl =\n",
              "          document.querySelector('#df-e1f4daa1-d3ec-449f-81f6-0f612903f2ea button.colab-df-convert');\n",
              "        buttonEl.style.display =\n",
              "          google.colab.kernel.accessAllowed ? 'block' : 'none';\n",
              "\n",
              "        async function convertToInteractive(key) {\n",
              "          const element = document.querySelector('#df-e1f4daa1-d3ec-449f-81f6-0f612903f2ea');\n",
              "          const dataTable =\n",
              "            await google.colab.kernel.invokeFunction('convertToInteractive',\n",
              "                                                     [key], {});\n",
              "          if (!dataTable) return;\n",
              "\n",
              "          const docLinkHtml = 'Like what you see? Visit the ' +\n",
              "            '<a target=\"_blank\" href=https://colab.research.google.com/notebooks/data_table.ipynb>data table notebook</a>'\n",
              "            + ' to learn more about interactive tables.';\n",
              "          element.innerHTML = '';\n",
              "          dataTable['output_type'] = 'display_data';\n",
              "          await google.colab.output.renderOutput(dataTable, element);\n",
              "          const docLink = document.createElement('div');\n",
              "          docLink.innerHTML = docLinkHtml;\n",
              "          element.appendChild(docLink);\n",
              "        }\n",
              "      </script>\n",
              "    </div>\n",
              "  </div>\n",
              "  "
            ]
          },
          "metadata": {},
          "execution_count": 27
        }
      ]
    },
    {
      "cell_type": "code",
      "source": [
        "plt.hist(train_df[\"pm25_mid\"], bins = 100)\n",
        "plt.show()"
      ],
      "metadata": {
        "colab": {
          "base_uri": "https://localhost:8080/",
          "height": 265
        },
        "id": "jeGIvlOWAAZU",
        "outputId": "3eb1f6fa-9101-4a49-99be-0212f5214e96"
      },
      "execution_count": 34,
      "outputs": [
        {
          "output_type": "display_data",
          "data": {
            "text/plain": [
              "<Figure size 432x288 with 1 Axes>"
            ],
            "image/png": "[encoded data removed]"
          },
          "metadata": {
            "needs_background": "light"
          }
        }
      ]
    },
    {
      "cell_type": "code",
      "source": [
        "plt.hist(np.log10(train_df[\"pm25_mid\"] + 1), bins = 100)\n",
        "plt.show()"
      ],
      "metadata": {
        "colab": {
          "base_uri": "https://localhost:8080/",
          "height": 265
        },
        "id": "y40RY6K0AX1_",
        "outputId": "7071850c-7382-4278-ee13-81030825fd33"
      },
      "execution_count": 40,
      "outputs": [
        {
          "output_type": "display_data",
          "data": {
            "text/plain": [
              "<Figure size 432x288 with 1 Axes>"
            ],
            "image/png": "[encoded data removed]"
          },
          "metadata": {
            "needs_background": "light"
          }
        }
      ]
    },
    {
      "cell_type": "code",
      "source": [
        "# 人口\n",
        "# 風\n",
        "# 地図\n"
      ],
      "metadata": {
        "id": "ckDad6r_AevZ"
      },
      "execution_count": 43,
      "outputs": []
    },
    {
      "cell_type": "code",
      "source": [
        ""
      ],
      "metadata": {
        "id": "6YsXccMiCXvd"
      },
      "execution_count": null,
      "outputs": []
    }
  ]
}