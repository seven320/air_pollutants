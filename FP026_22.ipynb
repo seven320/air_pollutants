{
  "cells": [
    {
      "cell_type": "markdown",
      "metadata": {
        "id": "view-in-github",
        "colab_type": "text"
      },
      "source": [
        "<a href=\"https://colab.research.google.com/github/seven320/air_pollutants/blob/main/FP026_22.ipynb\" target=\"_parent\"><img src=\"https://colab.research.google.com/assets/colab-badge.svg\" alt=\"Open In Colab\"/></a>"
      ]
    },
    {
      "cell_type": "markdown",
      "metadata": {
        "id": "TCnFX004iEpo"
      },
      "source": [
        "# Env"
      ]
    },
    {
      "cell_type": "code",
      "execution_count": 1,
      "metadata": {
        "colab": {
          "base_uri": "https://localhost:8080/"
        },
        "id": "8OhibwrnFAQk",
        "outputId": "8fd1562d-277e-4001-e449-6f4830c6ccf0"
      },
      "outputs": [
        {
          "output_type": "stream",
          "name": "stdout",
          "text": [
            "Mon May  9 17:24:37 2022       \n",
            "+-----------------------------------------------------------------------------+\n",
            "| NVIDIA-SMI 460.32.03    Driver Version: 460.32.03    CUDA Version: 11.2     |\n",
            "|-------------------------------+----------------------+----------------------+\n",
            "| GPU  Name        Persistence-M| Bus-Id        Disp.A | Volatile Uncorr. ECC |\n",
            "| Fan  Temp  Perf  Pwr:Usage/Cap|         Memory-Usage | GPU-Util  Compute M. |\n",
            "|                               |                      |               MIG M. |\n",
            "|===============================+======================+======================|\n",
            "|   0  Tesla T4            Off  | 00000000:00:04.0 Off |                    0 |\n",
            "| N/A   53C    P8     9W /  70W |      0MiB / 15109MiB |      0%      Default |\n",
            "|                               |                      |                  N/A |\n",
            "+-------------------------------+----------------------+----------------------+\n",
            "                                                                               \n",
            "+-----------------------------------------------------------------------------+\n",
            "| Processes:                                                                  |\n",
            "|  GPU   GI   CI        PID   Type   Process name                  GPU Memory |\n",
            "|        ID   ID                                                   Usage      |\n",
            "|=============================================================================|\n",
            "|  No running processes found                                                 |\n",
            "+-----------------------------------------------------------------------------+\n"
          ]
        }
      ],
      "source": [
        "!nvidia-smi"
      ]
    },
    {
      "cell_type": "code",
      "execution_count": 2,
      "metadata": {
        "colab": {
          "base_uri": "https://localhost:8080/"
        },
        "id": "b09jV65gFc3Y",
        "outputId": "2dfcb687-f934-4371-c3a2-e6bb05523a6e"
      },
      "outputs": [
        {
          "output_type": "stream",
          "name": "stdout",
          "text": [
            "Drive already mounted at /content/drive; to attempt to forcibly remount, call drive.mount(\"/content/drive\", force_remount=True).\n"
          ]
        }
      ],
      "source": [
        "import os, sys\n",
        "COLAB = \"google.colab\" in sys.modules\n",
        "\n",
        "if COLAB:\n",
        "    from google.colab import drive\n",
        "    from google.colab import output\n",
        "    drive.mount(\"/content/drive\")"
      ]
    },
    {
      "cell_type": "code",
      "execution_count": 3,
      "metadata": {
        "id": "MvUvD3E2I6sj"
      },
      "outputs": [],
      "source": [
        "if COLAB:\n",
        "    !pip install transformers > /dev/null\n",
        "    !pip install einops > /dev/null\n",
        "    !pip install optuna > /dev/null\n",
        "    !pip install pyephem > /dev/null\n",
        "    # !pip install timm > /dev/null\n",
        "    # !pip install kaggle > /dev/null\n",
        "    # !pip install kaggle_datasets > /dev/null\n",
        "    # !pip install git+https://github.com/albumentations-team/albumentations\n",
        "    # !pip install tensorflow-determinism\n",
        "    !pip install -q iterative-stratification\n",
        "    !pip install python-Levenshtein > /dev/null\n",
        "    !pip install geopy > /dev/null\n",
        "\n",
        "    # for gpu\n",
        "    !git clone --recursive https://github.com/Microsoft/LightGBM\n",
        "    %cd /content/LightGBM/\n",
        "    !mkdir build\n",
        "    !cmake -DUSE_GPU=1 \n",
        "    !make -j$(nproc)\n",
        "    !sudo apt-get -y install python-pip\n",
        "\n",
        "    !sudo -H pip install setuptools pandas numpy scipy scikit-learn -U\n",
        "    #pandasのエラーが出る場合は上記のコードからpandasを削除\n",
        "\n",
        "    !sudo -H pip install setuptools numpy scipy scikit-learn -U\n",
        "    %cd /content/LightGBM/python-package\n",
        "    !sudo python setup.py install --precompile\n",
        "\n",
        "    output.clear()"
      ]
    },
    {
      "cell_type": "code",
      "execution_count": 4,
      "metadata": {
        "id": "VX7ZxFBMH3mX"
      },
      "outputs": [],
      "source": [
        "import gc\n",
        "import json\n",
        "import math\n",
        "import os\n",
        "import random\n",
        "import re\n",
        "import time\n",
        "import copy\n",
        "import warnings\n",
        "from requests import get\n",
        "from contextlib import contextmanager\n",
        "from typing import List, Optional, TypeVar, Type, Dict\n",
        "import datetime\n",
        "\n",
        "import matplotlib.pyplot as plt\n",
        "import numpy as np\n",
        "import pandas as pd\n",
        "import seaborn as sns\n",
        "import torch\n",
        "import torch.nn as nn\n",
        "from pathlib import Path\n",
        "from sklearn.ensemble import RandomForestRegressor\n",
        "from sklearn.model_selection import GroupKFold, train_test_split, KFold\n",
        "from sklearn.preprocessing import RobustScaler, LabelEncoder, StandardScaler, MinMaxScaler\n",
        "from sklearn.metrics import mean_squared_error\n",
        "from torch.nn import functional as F\n",
        "from torch.utils.data import DataLoader, Dataset\n",
        "# from einops.layers.torch import Rearrange, Reduce\n",
        "# import timm\n",
        "import Levenshtein\n",
        "import ephem\n",
        "from geopy.distance import geodesic\n",
        "\n",
        "from tqdm.notebook import tqdm\n",
        "from transformers import AdamW, get_cosine_schedule_with_warmup\n",
        "from typing import Optional, Tuple\n",
        "from xgboost import XGBRegressor\n",
        "import lightgbm as lgb\n",
        "import optuna"
      ]
    },
    {
      "cell_type": "code",
      "execution_count": 5,
      "metadata": {
        "id": "3TLiFn8H_V90"
      },
      "outputs": [],
      "source": [
        "warnings.simplefilter('ignore')"
      ]
    },
    {
      "cell_type": "code",
      "execution_count": 6,
      "metadata": {
        "colab": {
          "base_uri": "https://localhost:8080/"
        },
        "id": "jAG9b0Tb_YdF",
        "outputId": "e35ad4e3-a58b-4167-90fc-9caa96ff11fa"
      },
      "outputs": [
        {
          "output_type": "stream",
          "name": "stdout",
          "text": [
            "FP026-22\n"
          ]
        }
      ],
      "source": [
        "if COLAB:    \n",
        "    NOTEBOOK_NAME = get('http://172.28.0.2:9000/api/sessions').json()[0]['name']\n",
        "    print(NOTEBOOK_NAME)"
      ]
    },
    {
      "cell_type": "code",
      "execution_count": 7,
      "metadata": {
        "id": "BiWCgj_XI4y2"
      },
      "outputs": [],
      "source": [
        "COMPE_NAME = \"air_pollutants\"\n",
        "BASE_DIR = f\"/content/drive/MyDrive/signate/{COMPE_NAME}\"\n",
        "\n",
        "# KAGGLE ONLY HAS 1, BUT OFFLINE, YOU CAN USE MORE\n",
        "os.environ[\"CUDA_VISIBLE_DEVICES\"]=\"0\" #0,1,2,3 for four gpu"
      ]
    },
    {
      "cell_type": "code",
      "execution_count": 8,
      "metadata": {
        "id": "tUAtLXzhI-Xr"
      },
      "outputs": [],
      "source": [
        "if COLAB:\n",
        "    INPUT_DIR = Path(os.path.join(BASE_DIR ,f\"input\"))\n",
        "    INPUT_DIR.mkdir(exist_ok=True, parents=True)\n",
        "\n",
        "    SAVE_DIR = Path(os.path.join(BASE_DIR ,f\"models/{NOTEBOOK_NAME}\"))\n",
        "    SAVE_DIR.mkdir(exist_ok=True, parents=True)\n",
        "\n",
        "    OOF_DIR = Path(os.path.join(BASE_DIR, f\"oof/{NOTEBOOK_NAME}\"))\n",
        "    OOF_DIR.mkdir(exist_ok=True, parents = True)\n",
        "\n",
        "    SUB_DIR = Path(os.path.join(BASE_DIR, f\"submission/{NOTEBOOK_NAME}\"))\n",
        "    SUB_DIR.mkdir(exist_ok=True, parents = True)"
      ]
    },
    {
      "cell_type": "code",
      "execution_count": 9,
      "metadata": {
        "colab": {
          "base_uri": "https://localhost:8080/"
        },
        "id": "z50ynnGpI-a-",
        "outputId": "113f908c-f3aa-4070-ec09-8a2f065b568f"
      },
      "outputs": [
        {
          "output_type": "stream",
          "name": "stdout",
          "text": [
            "(195941, 54) (53509, 53) (53509, 2)\n"
          ]
        }
      ],
      "source": [
        "train_df = pd.read_csv(os.path.join(INPUT_DIR, \"train.csv\"))\n",
        "test_df = pd.read_csv(os.path.join(INPUT_DIR, \"test.csv\"))\n",
        "sample_df = pd.read_csv(os.path.join(INPUT_DIR, \"submit_sample.csv\"), names=[\"id\", \"predict\"])\n",
        "\n",
        "print(train_df.shape, test_df.shape, sample_df.shape)"
      ]
    },
    {
      "cell_type": "markdown",
      "metadata": {
        "id": "xJgrFC5tVZt3"
      },
      "source": [
        "## add city population"
      ]
    },
    {
      "cell_type": "code",
      "execution_count": 10,
      "metadata": {
        "id": "fD-VnMAxyd8F"
      },
      "outputs": [],
      "source": [
        "population_df = pd.read_csv(os.path.join(INPUT_DIR, \"city_population.csv\"))\n",
        "population_df[\"City\"] = population_df[\"Name\"]"
      ]
    },
    {
      "cell_type": "code",
      "execution_count": 11,
      "metadata": {
        "colab": {
          "base_uri": "https://localhost:8080/"
        },
        "id": "PyVhbHAGdwTx",
        "outputId": "4bbf09b4-9421-4103-e2c3-19c683492a11"
      },
      "outputs": [
        {
          "output_type": "stream",
          "name": "stdout",
          "text": [
            "ChinaSuzhou の行を削除\n"
          ]
        }
      ],
      "source": [
        "# 同じ都市名かつ国名のものを削除する\n",
        "population_df[\"CC\"] = population_df[\"Country\"] + population_df[\"City\"]\n",
        "population_df[\"CC\"].value_counts()\n",
        "for k, v in population_df[\"CC\"].value_counts().items():\n",
        "    # print(k, v)\n",
        "    if v > 1:\n",
        "        print(f\"{k} の行を削除\")\n",
        "        population_df = population_df[population_df[\"CC\"] != k]"
      ]
    },
    {
      "cell_type": "code",
      "execution_count": 12,
      "metadata": {
        "id": "GHh1_7_-Dtka"
      },
      "outputs": [],
      "source": [
        "def df_to_country_dict(df: pd.DataFrame) -> Dict:\n",
        "    country_city = {}\n",
        "\n",
        "    for t_c in set(df[\"Country\"].tolist()):\n",
        "        country_city[t_c] = []\n",
        "\n",
        "    for country, city in zip(df[\"Country\"], df[\"City\"]):\n",
        "        country_city[country].append(city)\n",
        "\n",
        "    for k, v in country_city.items():\n",
        "        country_city[k] = set(v)\n",
        "\n",
        "    return country_city\n",
        "    "
      ]
    },
    {
      "cell_type": "code",
      "execution_count": 13,
      "metadata": {
        "id": "JR3hx22DD7zE"
      },
      "outputs": [],
      "source": [
        "train_country_city = df_to_country_dict(pd.concat([train_df, test_df]))\n",
        "\n",
        "p_country_city = df_to_country_dict(population_df)"
      ]
    },
    {
      "cell_type": "code",
      "execution_count": 14,
      "metadata": {
        "id": "1Y2yypTHJBdQ"
      },
      "outputs": [],
      "source": [
        "def cal_leven(str1: str, str2: str) -> float:\n",
        "    # レーベンシュタイン距離の取得\n",
        "    lev_dist = Levenshtein.distance(str1, str2)\n",
        "    # 標準化(長い方の文字列の長さで割る)\n",
        "    divider = len(str1) if len(str1) > len(str2) else len(str2)\n",
        "    lev_dist = lev_dist / divider\n",
        "    # 指標を合わせる(0:完全不一致 → 1:完全一致)\n",
        "    return 1 - lev_dist"
      ]
    },
    {
      "cell_type": "code",
      "execution_count": 15,
      "metadata": {
        "colab": {
          "base_uri": "https://localhost:8080/"
        },
        "id": "ktKYCePw0-WV",
        "outputId": "914b6547-495f-4500-eb4e-e59c4e1a5fb0"
      },
      "outputs": [
        {
          "output_type": "stream",
          "name": "stdout",
          "text": [
            "pair cities:177\n"
          ]
        }
      ],
      "source": [
        "city_pairs = {}\n",
        "\n",
        "for t_k, t_values in train_country_city.items():\n",
        "    for p_k, p_values in p_country_city.items():\n",
        "        # countryが一致\n",
        "        if t_k != p_k:\n",
        "            continue\n",
        "        for t_v in t_values:\n",
        "            max_score = -1\n",
        "            for p_v in p_values:\n",
        "                score = cal_leven(t_v, p_v)\n",
        "                if max_score < score:\n",
        "                    pairs = [t_v, p_v]\n",
        "                    max_score = score\n",
        "\n",
        "            if max_score > 0.8:\n",
        "                city_pairs[pairs[1]] = pairs[0]\n",
        "print(f\"pair cities:{len(city_pairs)}\")"
      ]
    },
    {
      "cell_type": "code",
      "execution_count": 16,
      "metadata": {
        "id": "o7H-pU-SOcQR"
      },
      "outputs": [],
      "source": [
        "a = population_df[\"City\"]\n",
        "for key, value in city_pairs.items():\n",
        "    # print(key, value)\n",
        "    a = copy.deepcopy(a.replace(key, value))\n",
        "\n",
        "population_df[\"City\"] = a"
      ]
    },
    {
      "cell_type": "code",
      "execution_count": 17,
      "metadata": {
        "id": "o5b40dm-zrPh"
      },
      "outputs": [],
      "source": [
        "if not \"Prev\" in train_df.columns:\n",
        "    train_df = train_df.merge(population_df[[\"rank\", \"City\", \"Country\", \"Population\", \"Prev\", \"Growth\"]], on = [\"City\", \"Country\"], how=\"left\")\n",
        "    test_df = test_df.merge(population_df[[\"rank\", \"City\", \"Country\",  \"Population\", \"Prev\", \"Growth\"]], on = [\"City\", \"Country\"], how=\"left\")\n",
        "\n",
        "assert len(test_df) == len(sample_df)"
      ]
    },
    {
      "cell_type": "markdown",
      "metadata": {
        "id": "gCrY06JStxpl"
      },
      "source": [
        "## add target encode"
      ]
    },
    {
      "cell_type": "code",
      "source": [
        "if not \"target_count\" in train_df.columns:\n",
        "    target_df = train_df[[\"Country\", \"pm25_mid\"]].groupby(\"Country\", as_index = 1).describe()\n",
        "\n",
        "    target_df = target_df.rename(columns = {\n",
        "        \"count\": \"target_count\",\n",
        "        \"mean\": \"target_mean\",\n",
        "        \"std\": \"target_std\",\n",
        "        \"25%\": \"target_25%\",\n",
        "        \"50%\": \"target_50%\",\n",
        "        \"75%\": \"target_75%\",\n",
        "        \"max\": \"target_max\"\n",
        "    }).reset_index()\n",
        "    train_df = train_df.merge(pd.concat([target_df[\"Country\"], target_df[\"pm25_mid\"]], axis = 1), on = \"Country\", how = \"left\")\n",
        "    test_df = test_df.merge(pd.concat([target_df[\"Country\"], target_df[\"pm25_mid\"]], axis = 1), on = \"Country\", how = \"left\")"
      ],
      "metadata": {
        "id": "RO7S4go8M58F"
      },
      "execution_count": 18,
      "outputs": []
    },
    {
      "cell_type": "markdown",
      "source": [
        "### add days"
      ],
      "metadata": {
        "id": "OByEklY9ZuiU"
      }
    },
    {
      "cell_type": "markdown",
      "metadata": {
        "id": "hxc2G2QEOhFc"
      },
      "source": [
        "## 都市を近い順に入力(上位15)"
      ]
    },
    {
      "cell_type": "code",
      "execution_count": 19,
      "metadata": {
        "id": "mRB3_ctT21va"
      },
      "outputs": [],
      "source": [
        "use_city = 5"
      ]
    },
    {
      "cell_type": "code",
      "execution_count": 20,
      "metadata": {
        "id": "21cTCBpO_uln"
      },
      "outputs": [],
      "source": [
        "# 全ての都市を抽出\n",
        "all_df = pd.concat([train_df, test_df])\n",
        "lat_lons = all_df[[\"City\", \"lat\", \"lon\"]].drop_duplicates()"
      ]
    },
    {
      "cell_type": "code",
      "execution_count": 21,
      "metadata": {
        "colab": {
          "base_uri": "https://localhost:8080/",
          "height": 49,
          "referenced_widgets": [
            "af64b8aade83488d91ab2ab865eeef44",
            "9f7b10fbbe0d44b49fcf6453fac405f0",
            "4efc7c220f914642917c4d5837077e7a",
            "70bcd655d6ad4e06bf2aca85147ace9d",
            "96c4ffe7cf6a4985a15c3f1600a94249",
            "7eacea9b8f07491686e33f36d4f7d0a9",
            "4ccac912f110453796567539585a5eb0",
            "9e9b850299334463b44c65292e1c5e07",
            "1668a602cca941aa8a55db487b84c122",
            "5d142e5732044affa0383ff80083399b",
            "e43ccce240344c689c9b926cdf0bfef9"
          ]
        },
        "id": "-9XM3_4_QHOg",
        "outputId": "15a6f985-91aa-4429-d3ef-4f5b8a9b43c8"
      },
      "outputs": [
        {
          "output_type": "display_data",
          "data": {
            "text/plain": [
              "  0%|          | 0/302 [00:00<?, ?it/s]"
            ],
            "application/vnd.jupyter.widget-view+json": {
              "version_major": 2,
              "version_minor": 0,
              "model_id": "af64b8aade83488d91ab2ab865eeef44"
            }
          },
          "metadata": {}
        }
      ],
      "source": [
        " # 各都市ごとの距離を格納\n",
        " #\n",
        "#  nearest_cities = {\n",
        "#       City1 = {\n",
        "            # City2: 500km\n",
        "            # City3: 1000km\n",
        "# }\n",
        "# } \n",
        "\n",
        "nearest_cities = {}\n",
        "for i in tqdm(range(len(lat_lons))):\n",
        "    City1, lat1, lon1 = lat_lons.iloc[i]\n",
        "    pos1 = np.array([lat1, lon1])\n",
        "    \n",
        "    nearest_city = {}\n",
        "    for j in range(len(lat_lons)):\n",
        "        if i == j:\n",
        "            continue\n",
        "        \n",
        "        City2, lat2, lon2 = lat_lons.iloc[j]\n",
        "        pos2 = np.array([lat2, lon2])\n",
        "        \n",
        "        dis = geodesic(pos1, pos2)\n",
        "        \n",
        "        nearest_city[City2] = dis\n",
        "\n",
        "    nearest_cities[City1] = nearest_city"
      ]
    },
    {
      "cell_type": "code",
      "execution_count": 22,
      "metadata": {
        "id": "cLrS0fHKPvKW"
      },
      "outputs": [],
      "source": [
        "target_en_bycities = train_df[[\"City\",\"month\", \"pm25_mid\"]].groupby([\"City\", \"month\"], as_index = 0).agg(\"mean\").reset_index(drop=True)"
      ]
    },
    {
      "cell_type": "code",
      "source": [
        "target_en_bycities_detail = train_df[[\"City\",\"year\", \"month\",\"day\", \"pm25_mid\"]].groupby([\"City\", \"year\", \"month\", \"day\"], as_index = 0).agg(\"mean\").reset_index(drop=True)"
      ],
      "metadata": {
        "id": "XMU0-WMd1Bvk"
      },
      "execution_count": 23,
      "outputs": []
    },
    {
      "cell_type": "code",
      "execution_count": 24,
      "metadata": {
        "id": "02pnup8dOfvi"
      },
      "outputs": [],
      "source": [
        "nearest_sort_cities = []\n",
        "\n",
        "for city1 in nearest_cities.keys():\n",
        "    nearest_sort_city = dict(sorted(nearest_cities[city1].items(), key = lambda item: item[1])).keys()\n",
        "    nearest_sort_cities.append([city1] + list(nearest_sort_city)[:use_city])"
      ]
    },
    {
      "cell_type": "markdown",
      "metadata": {
        "id": "KmzwAbPht3JY"
      },
      "source": [
        "# Fold"
      ]
    },
    {
      "cell_type": "code",
      "execution_count": 25,
      "metadata": {
        "id": "pab-ry5T83Xa"
      },
      "outputs": [],
      "source": [
        "# Config\n",
        "NUM_FOLDS = 5"
      ]
    },
    {
      "cell_type": "code",
      "execution_count": 26,
      "metadata": {
        "id": "QO13XyUmI-dG"
      },
      "outputs": [],
      "source": [
        "#############\n",
        "## Utility ##\n",
        "#############\n",
        "@contextmanager\n",
        "def timer(name: str):\n",
        "    t0 = time.time()\n",
        "    print(f\"[{name}] start\")\n",
        "    yield\n",
        "    print(f\"[{name}] done - elapsed {time.time() - t0:.2f}s\")"
      ]
    },
    {
      "cell_type": "code",
      "execution_count": 27,
      "metadata": {
        "id": "IeHnNhCrJNvb"
      },
      "outputs": [],
      "source": [
        "def seed_everything(seed):\n",
        "    \"\"\"\n",
        "    Seeds basic parameters for reproductibility of results\n",
        "    \n",
        "    Arguments:\n",
        "        seed {int} -- Number of the seed\n",
        "    \"\"\"\n",
        "    random.seed(seed)\n",
        "    os.environ[\"PYTHONHASHSEED\"] = str(seed)\n",
        "    np.random.seed(seed)\n",
        "    torch.manual_seed(seed)\n",
        "    torch.cuda.manual_seed(seed)\n",
        "    torch.backends.cudnn.deterministic = True\n",
        "    torch.backends.cudnn.benchmark = False\n",
        "\n",
        "def set_seed(seed):\n",
        "    random.seed(seed)\n",
        "    os.environ[\"PYTHONHASHSEED\"] = str(seed)\n",
        "    np.random.seed(seed)\n",
        "    torch.manual_seed(seed)\n",
        "    torch.cuda.manual_seed(seed)\n",
        "    torch.cuda.manual_seed_all(seed)\n",
        "    torch.backends.cudnn.deterministic = True\n",
        "    torch.backends.cudnn.benchmark = False\n",
        "\n",
        "seed_everything(42)"
      ]
    },
    {
      "cell_type": "code",
      "execution_count": 28,
      "metadata": {
        "colab": {
          "base_uri": "https://localhost:8080/",
          "height": 299
        },
        "id": "1JcbNGglJNxv",
        "outputId": "cf84ef48-1e7d-4186-fc8e-516dab201d11"
      },
      "outputs": [
        {
          "output_type": "execute_result",
          "data": {
            "text/plain": [
              "   id  year  month  day    Country       City       lat        lon  co_cnt  \\\n",
              "0   1  2019      1    1  Australia   Brisbane -27.46794  153.02809      38   \n",
              "1   2  2019      1    1  Australia     Darwin -12.46113  130.84185      47   \n",
              "2   3  2019      1    1  Australia  Melbourne -37.81400  144.96332      17   \n",
              "3   4  2019      1    1  Australia  Newcastle -32.92953  151.78010      63   \n",
              "4   5  2019      1    1  Australia      Perth -31.95224  115.86140      47   \n",
              "\n",
              "   co_min  ...       Prev  Growth  target_count  target_mean  target_std  min  \\\n",
              "0   0.749  ...  2439467.0  0.0134        5656.0    37.362265   25.919644  0.0   \n",
              "1   2.594  ...        NaN     NaN        5656.0    37.362265   25.919644  0.0   \n",
              "2   1.190  ...  5061439.0  0.0176        5656.0    37.362265   25.919644  0.0   \n",
              "3   4.586  ...        NaN     NaN        5656.0    37.362265   25.919644  0.0   \n",
              "4   4.689  ...  2067333.0  0.0122        5656.0    37.362265   25.919644  0.0   \n",
              "\n",
              "   target_25%  target_50%  target_75%  target_max  \n",
              "0      19.526     28.6445    52.50325     189.517  \n",
              "1      19.526     28.6445    52.50325     189.517  \n",
              "2      19.526     28.6445    52.50325     189.517  \n",
              "3      19.526     28.6445    52.50325     189.517  \n",
              "4      19.526     28.6445    52.50325     189.517  \n",
              "\n",
              "[5 rows x 66 columns]"
            ],
            "text/html": [
              "\n",
              "  <div id=\"df-2e9e130f-1fcd-4084-a379-32c76207fd7d\">\n",
              "    <div class=\"colab-df-container\">\n",
              "      <div>\n",
              "<style scoped>\n",
              "    .dataframe tbody tr th:only-of-type {\n",
              "        vertical-align: middle;\n",
              "    }\n",
              "\n",
              "    .dataframe tbody tr th {\n",
              "        vertical-align: top;\n",
              "    }\n",
              "\n",
              "    .dataframe thead th {\n",
              "        text-align: right;\n",
              "    }\n",
              "</style>\n",
              "<table border=\"1\" class=\"dataframe\">\n",
              "  <thead>\n",
              "    <tr style=\"text-align: right;\">\n",
              "      <th></th>\n",
              "      <th>id</th>\n",
              "      <th>year</th>\n",
              "      <th>month</th>\n",
              "      <th>day</th>\n",
              "      <th>Country</th>\n",
              "      <th>City</th>\n",
              "      <th>lat</th>\n",
              "      <th>lon</th>\n",
              "      <th>co_cnt</th>\n",
              "      <th>co_min</th>\n",
              "      <th>...</th>\n",
              "      <th>Prev</th>\n",
              "      <th>Growth</th>\n",
              "      <th>target_count</th>\n",
              "      <th>target_mean</th>\n",
              "      <th>target_std</th>\n",
              "      <th>min</th>\n",
              "      <th>target_25%</th>\n",
              "      <th>target_50%</th>\n",
              "      <th>target_75%</th>\n",
              "      <th>target_max</th>\n",
              "    </tr>\n",
              "  </thead>\n",
              "  <tbody>\n",
              "    <tr>\n",
              "      <th>0</th>\n",
              "      <td>1</td>\n",
              "      <td>2019</td>\n",
              "      <td>1</td>\n",
              "      <td>1</td>\n",
              "      <td>Australia</td>\n",
              "      <td>Brisbane</td>\n",
              "      <td>-27.46794</td>\n",
              "      <td>153.02809</td>\n",
              "      <td>38</td>\n",
              "      <td>0.749</td>\n",
              "      <td>...</td>\n",
              "      <td>2439467.0</td>\n",
              "      <td>0.0134</td>\n",
              "      <td>5656.0</td>\n",
              "      <td>37.362265</td>\n",
              "      <td>25.919644</td>\n",
              "      <td>0.0</td>\n",
              "      <td>19.526</td>\n",
              "      <td>28.6445</td>\n",
              "      <td>52.50325</td>\n",
              "      <td>189.517</td>\n",
              "    </tr>\n",
              "    <tr>\n",
              "      <th>1</th>\n",
              "      <td>2</td>\n",
              "      <td>2019</td>\n",
              "      <td>1</td>\n",
              "      <td>1</td>\n",
              "      <td>Australia</td>\n",
              "      <td>Darwin</td>\n",
              "      <td>-12.46113</td>\n",
              "      <td>130.84185</td>\n",
              "      <td>47</td>\n",
              "      <td>2.594</td>\n",
              "      <td>...</td>\n",
              "      <td>NaN</td>\n",
              "      <td>NaN</td>\n",
              "      <td>5656.0</td>\n",
              "      <td>37.362265</td>\n",
              "      <td>25.919644</td>\n",
              "      <td>0.0</td>\n",
              "      <td>19.526</td>\n",
              "      <td>28.6445</td>\n",
              "      <td>52.50325</td>\n",
              "      <td>189.517</td>\n",
              "    </tr>\n",
              "    <tr>\n",
              "      <th>2</th>\n",
              "      <td>3</td>\n",
              "      <td>2019</td>\n",
              "      <td>1</td>\n",
              "      <td>1</td>\n",
              "      <td>Australia</td>\n",
              "      <td>Melbourne</td>\n",
              "      <td>-37.81400</td>\n",
              "      <td>144.96332</td>\n",
              "      <td>17</td>\n",
              "      <td>1.190</td>\n",
              "      <td>...</td>\n",
              "      <td>5061439.0</td>\n",
              "      <td>0.0176</td>\n",
              "      <td>5656.0</td>\n",
              "      <td>37.362265</td>\n",
              "      <td>25.919644</td>\n",
              "      <td>0.0</td>\n",
              "      <td>19.526</td>\n",
              "      <td>28.6445</td>\n",
              "      <td>52.50325</td>\n",
              "      <td>189.517</td>\n",
              "    </tr>\n",
              "    <tr>\n",
              "      <th>3</th>\n",
              "      <td>4</td>\n",
              "      <td>2019</td>\n",
              "      <td>1</td>\n",
              "      <td>1</td>\n",
              "      <td>Australia</td>\n",
              "      <td>Newcastle</td>\n",
              "      <td>-32.92953</td>\n",
              "      <td>151.78010</td>\n",
              "      <td>63</td>\n",
              "      <td>4.586</td>\n",
              "      <td>...</td>\n",
              "      <td>NaN</td>\n",
              "      <td>NaN</td>\n",
              "      <td>5656.0</td>\n",
              "      <td>37.362265</td>\n",
              "      <td>25.919644</td>\n",
              "      <td>0.0</td>\n",
              "      <td>19.526</td>\n",
              "      <td>28.6445</td>\n",
              "      <td>52.50325</td>\n",
              "      <td>189.517</td>\n",
              "    </tr>\n",
              "    <tr>\n",
              "      <th>4</th>\n",
              "      <td>5</td>\n",
              "      <td>2019</td>\n",
              "      <td>1</td>\n",
              "      <td>1</td>\n",
              "      <td>Australia</td>\n",
              "      <td>Perth</td>\n",
              "      <td>-31.95224</td>\n",
              "      <td>115.86140</td>\n",
              "      <td>47</td>\n",
              "      <td>4.689</td>\n",
              "      <td>...</td>\n",
              "      <td>2067333.0</td>\n",
              "      <td>0.0122</td>\n",
              "      <td>5656.0</td>\n",
              "      <td>37.362265</td>\n",
              "      <td>25.919644</td>\n",
              "      <td>0.0</td>\n",
              "      <td>19.526</td>\n",
              "      <td>28.6445</td>\n",
              "      <td>52.50325</td>\n",
              "      <td>189.517</td>\n",
              "    </tr>\n",
              "  </tbody>\n",
              "</table>\n",
              "<p>5 rows × 66 columns</p>\n",
              "</div>\n",
              "      <button class=\"colab-df-convert\" onclick=\"convertToInteractive('df-2e9e130f-1fcd-4084-a379-32c76207fd7d')\"\n",
              "              title=\"Convert this dataframe to an interactive table.\"\n",
              "              style=\"display:none;\">\n",
              "        \n",
              "  <svg xmlns=\"http://www.w3.org/2000/svg\" height=\"24px\"viewBox=\"0 0 24 24\"\n",
              "       width=\"24px\">\n",
              "    <path d=\"M0 0h24v24H0V0z\" fill=\"none\"/>\n",
              "    <path d=\"M18.56 5.44l.94 2.06.94-2.06 2.06-.94-2.06-.94-.94-2.06-.94 2.06-2.06.94zm-11 1L8.5 8.5l.94-2.06 2.06-.94-2.06-.94L8.5 2.5l-.94 2.06-2.06.94zm10 10l.94 2.06.94-2.06 2.06-.94-2.06-.94-.94-2.06-.94 2.06-2.06.94z\"/><path d=\"M17.41 7.96l-1.37-1.37c-.4-.4-.92-.59-1.43-.59-.52 0-1.04.2-1.43.59L10.3 9.45l-7.72 7.72c-.78.78-.78 2.05 0 2.83L4 21.41c.39.39.9.59 1.41.59.51 0 1.02-.2 1.41-.59l7.78-7.78 2.81-2.81c.8-.78.8-2.07 0-2.86zM5.41 20L4 18.59l7.72-7.72 1.47 1.35L5.41 20z\"/>\n",
              "  </svg>\n",
              "      </button>\n",
              "      \n",
              "  <style>\n",
              "    .colab-df-container {\n",
              "      display:flex;\n",
              "      flex-wrap:wrap;\n",
              "      gap: 12px;\n",
              "    }\n",
              "\n",
              "    .colab-df-convert {\n",
              "      background-color: #E8F0FE;\n",
              "      border: none;\n",
              "      border-radius: 50%;\n",
              "      cursor: pointer;\n",
              "      display: none;\n",
              "      fill: #1967D2;\n",
              "      height: 32px;\n",
              "      padding: 0 0 0 0;\n",
              "      width: 32px;\n",
              "    }\n",
              "\n",
              "    .colab-df-convert:hover {\n",
              "      background-color: #E2EBFA;\n",
              "      box-shadow: 0px 1px 2px rgba(60, 64, 67, 0.3), 0px 1px 3px 1px rgba(60, 64, 67, 0.15);\n",
              "      fill: #174EA6;\n",
              "    }\n",
              "\n",
              "    [theme=dark] .colab-df-convert {\n",
              "      background-color: #3B4455;\n",
              "      fill: #D2E3FC;\n",
              "    }\n",
              "\n",
              "    [theme=dark] .colab-df-convert:hover {\n",
              "      background-color: #434B5C;\n",
              "      box-shadow: 0px 1px 3px 1px rgba(0, 0, 0, 0.15);\n",
              "      filter: drop-shadow(0px 1px 2px rgba(0, 0, 0, 0.3));\n",
              "      fill: #FFFFFF;\n",
              "    }\n",
              "  </style>\n",
              "\n",
              "      <script>\n",
              "        const buttonEl =\n",
              "          document.querySelector('#df-2e9e130f-1fcd-4084-a379-32c76207fd7d button.colab-df-convert');\n",
              "        buttonEl.style.display =\n",
              "          google.colab.kernel.accessAllowed ? 'block' : 'none';\n",
              "\n",
              "        async function convertToInteractive(key) {\n",
              "          const element = document.querySelector('#df-2e9e130f-1fcd-4084-a379-32c76207fd7d');\n",
              "          const dataTable =\n",
              "            await google.colab.kernel.invokeFunction('convertToInteractive',\n",
              "                                                     [key], {});\n",
              "          if (!dataTable) return;\n",
              "\n",
              "          const docLinkHtml = 'Like what you see? Visit the ' +\n",
              "            '<a target=\"_blank\" href=https://colab.research.google.com/notebooks/data_table.ipynb>data table notebook</a>'\n",
              "            + ' to learn more about interactive tables.';\n",
              "          element.innerHTML = '';\n",
              "          dataTable['output_type'] = 'display_data';\n",
              "          await google.colab.output.renderOutput(dataTable, element);\n",
              "          const docLink = document.createElement('div');\n",
              "          docLink.innerHTML = docLinkHtml;\n",
              "          element.appendChild(docLink);\n",
              "        }\n",
              "      </script>\n",
              "    </div>\n",
              "  </div>\n",
              "  "
            ]
          },
          "metadata": {},
          "execution_count": 28
        }
      ],
      "source": [
        "train_df.head()"
      ]
    },
    {
      "cell_type": "code",
      "execution_count": 29,
      "metadata": {
        "colab": {
          "base_uri": "https://localhost:8080/"
        },
        "id": "PZZhyY_iXJyQ",
        "outputId": "170ee169-5afc-419a-a6a6-e211db8f2c83"
      },
      "outputs": [
        {
          "output_type": "stream",
          "name": "stdout",
          "text": [
            "train city count: 239\n",
            "test city count: 63\n",
            "0\n"
          ]
        }
      ],
      "source": [
        "train_city = train_df[\"City\"].unique().tolist()\n",
        "test_city = test_df[\"City\"].unique().tolist()\n",
        "\n",
        "train_city_cnt = len(train_city)\n",
        "test_city_cnt = len(test_city)\n",
        "\n",
        "print(f\"train city count: {train_city_cnt}\")\n",
        "print(f\"test city count: {test_city_cnt}\")\n",
        "\n",
        "print(f\"{len(set(train_city) & set(test_city))}\")"
      ]
    },
    {
      "cell_type": "code",
      "execution_count": 30,
      "metadata": {
        "colab": {
          "base_uri": "https://localhost:8080/"
        },
        "id": "NAxJgCMWvzyq",
        "outputId": "d7e34ec8-bb1d-45f5-ad1c-fbede19a8851"
      },
      "outputs": [
        {
          "output_type": "stream",
          "name": "stdout",
          "text": [
            "train_idx: 156755, valid_idx: 39186\n",
            "train_idx: 156758, valid_idx: 39183\n",
            "train_idx: 156760, valid_idx: 39181\n",
            "train_idx: 156730, valid_idx: 39211\n",
            "train_idx: 156761, valid_idx: 39180\n"
          ]
        }
      ],
      "source": [
        "kf = GroupKFold(n_splits = NUM_FOLDS)\n",
        "\n",
        "if not \"kfold\" in train_df.columns:\n",
        "    folds = copy.deepcopy(train_df[[\"id\"]])\n",
        "    folds[\"kfold\"] = -1\n",
        "\n",
        "    for fold, (train_idx, valid_idx) in enumerate(kf.split(train_df, train_df[\"pm25_mid\"], train_df[\"City\"])):\n",
        "        print(f\"train_idx: {len(train_idx)}, valid_idx: {len(valid_idx)}\")\n",
        "        folds.loc[valid_idx, \"kfold\"] = fold\n",
        "\n",
        "    train_df = train_df.merge(folds[[\"id\", \"kfold\"]], on=\"id\", how=\"left\")"
      ]
    },
    {
      "cell_type": "markdown",
      "metadata": {
        "id": "GgLI7LLc1szm"
      },
      "source": [
        "# Train"
      ]
    },
    {
      "cell_type": "code",
      "execution_count": 31,
      "metadata": {
        "id": "ckDad6r_AevZ"
      },
      "outputs": [],
      "source": [
        "import logging\n",
        "from typing import List, Optional, TypeVar\n",
        "\n",
        "import pandas as pd\n",
        "\n",
        "class AbstractFeatureTransformer:\n",
        "    def __init__(self):\n",
        "        self.name = self.__class__.__name__\n",
        "\n",
        "    def fit_transform(self, input_df: pd.DataFrame, y=None):\n",
        "        self.fit(input_df, y)\n",
        "        return self.transform(input_df)\n",
        "\n",
        "    def fit(self, input_df: pd.DataFrame, y=None):\n",
        "        pass\n",
        "\n",
        "    def transform(self, input_df: pd.DataFrame) -> pd.DataFrame:\n",
        "        raise NotImplementedError\n",
        "\n",
        "Transformer = TypeVar(\"Transformer\", bound=AbstractFeatureTransformer)\n",
        "\n",
        "def extract_features(input_df: pd.DataFrame,\n",
        "                     transformers: List[Transformer],\n",
        "                     fit: bool = True,\n",
        "                     logger: Optional[logging.Logger] = None):\n",
        "    feature_dfs = []\n",
        "    for transformer in transformers:\n",
        "        # timerはブロックの実行時間を計測するユーティリティ\n",
        "        with timer(f\"Extract features with {transformer.name}\", logger):\n",
        "            if fit:\n",
        "                feature_dfs.append(transformer.fit_transform(input_df))\n",
        "            else:\n",
        "                feature_dfs.append(transformer.transform(input_df))\n",
        "    all_features = pd.concat(feature_dfs, axis=1)\n",
        "    return all_features"
      ]
    },
    {
      "cell_type": "code",
      "execution_count": 32,
      "metadata": {
        "id": "HrG0N8hZDsoR"
      },
      "outputs": [],
      "source": [
        "class Numericals(AbstractFeatureTransformer):\n",
        "    def transform(self, input_df: pd.DataFrame) -> pd.DataFrame:\n",
        "        cols = [pd.api.types.is_numeric_dtype(dtype) for dtype in input_df.dtypes]\n",
        "        return input_df.loc[:, cols]\n",
        "\n",
        "class LabelEncoding(AbstractFeatureTransformer):\n",
        "    def __init__(self, columns: List[str]):\n",
        "        super().__init__()\n",
        "        self.le_columns = columns\n",
        "        self.encoders = {\n",
        "            column: LabelEncoder()\n",
        "            for column in self.le_columns\n",
        "        }\n",
        "        self.__is_fitted = False\n",
        "\n",
        "    def fit(self, input_df: pd.DataFrame, y: Optional[np.ndarray] = None):\n",
        "        \"\"\"\n",
        "        ラベルに変換する前に欠損値を埋める\n",
        "        \"\"\"\n",
        "        for column in self.le_columns:\n",
        "            self.encoders[column].fit(input_df[column].fillna(\"\"))\n",
        "        self.__is_fitted = True\n",
        "\n",
        "    def transform(\n",
        "        self, \n",
        "        input_df: pd.DataFrame, \n",
        "        y: Optional[np.ndarray] = None\n",
        "    ) -> pd.DataFrame:\n",
        "        assert self.__is_fitted, \"You need to call `fit` first.\"\n",
        "        encoded = {}\n",
        "        for column in self.le_columns:\n",
        "            encoded[column] = self.encoders[column].transform(\n",
        "                input_df[column].fillna(\"\"))\n",
        "        return pd.DataFrame(encoded)"
      ]
    },
    {
      "cell_type": "code",
      "execution_count": 33,
      "metadata": {
        "id": "QNf23jZJLku0"
      },
      "outputs": [],
      "source": [
        "def preprocess(df:pd.DataFrame)->pd.DataFrame:\n",
        "    df_ = copy.deepcopy(df)\n",
        "    # 年月/年月日を追加\n",
        "\n",
        "    df_[\"year_month\"] = df_[\"year\"].astype(\"str\") + df_[\"month\"].astype(\"str\")\n",
        "    df_[\"year_month_day\"] = df_[\"year\"].astype(\"str\") + df_[\"month\"].astype(\"str\") + df_[\"day\"].astype(\"str\")\n",
        "    df_[\"month_day\"] = df_[\"month\"].astype(\"str\") + df_[\"day\"].astype(\"str\")\n",
        "\n",
        "\n",
        "\n",
        "\n",
        "    \n",
        "    # 月日国/月日都市を追加\n",
        "    df_[\"month_day_country\"] = df_[\"month\"].astype(\"str\") + df_[\"day\"].astype(\"str\") + df_[\"Country\"].astype(\"str\") \n",
        "    df_[\"month_day_city\"] =  df_[\"month\"].astype(\"str\") + df_[\"day\"].astype(\"str\") + df_[\"City\"].astype(\"str\") \n",
        "\n",
        "    # 経度をcosに変換\n",
        "    cnt = 0\n",
        "\n",
        "    if not \"lon_cos\" in df_.columns:\n",
        "        df_[\"lon_cos\"] = np.cos(np.radians((df_[\"lon\"] + 180)))\n",
        "        df_[\"lon_sin\"] = np.sin(np.radians((df_[\"lon\"] + 180)))\n",
        "        df_[\"month_cos\"] = np.cos(np.radians(df_[\"month\"] / 12 * 360))\n",
        "        df_[\"month_sin\"] = np.sin(np.radians(df_[\"month\"] / 12 * 360))\n",
        "        print(\"add lon_cos, lon_sin, month_cos, month_sin\")\n",
        "        cnt += 4\n",
        "\n",
        "    # 四則演算\n",
        "\n",
        "    # 南半球を北半球のmonthに変更\n",
        "    if not \"month_world\" in df_.columns:\n",
        "        df_[\"month_world\"] = df_[\"month\"]\n",
        "        df_.loc[df_[\"lat\"] < 0, \"month_world\"] = df_[\"month\"] + 6\n",
        "        df_.loc[df_[\"month_world\"] > 12, \"month_world\"] = df_[\"month\"] - 6\n",
        "        print(\"add month_world\")\n",
        "        cnt += 1\n",
        "    # mid同士を4則\n",
        "    columns = df_.columns\n",
        "    mids = []\n",
        "    for c in columns:\n",
        "        if \"_mid\" in c and c != \"pm25_mid\":\n",
        "            mids.append(c)\n",
        "    scaler = MinMaxScaler()\n",
        "\n",
        "    # 曜日を追加\n",
        "    def _cal_sun_time(lat:float, lon:float, year:float, month:float, day: float)->float:\n",
        "        location = ephem.Observer()\n",
        "        location.lat = str(lat)\n",
        "        location.lon = str(lon)\n",
        "        sun = ephem.Sun()\n",
        "\n",
        "        location.date = datetime.date(year = int(year), month = int(month), day = int(day))\n",
        "        sun_time_tmp1 = ephem.localtime(location.next_rising(sun)) - ephem.localtime(location.next_setting(sun))\n",
        "        sun_time_tmp2 = ephem.localtime(location.next_setting(sun)) - ephem.localtime(location.next_rising(sun))\n",
        "\n",
        "        sun_time = max(sun_time_tmp1.seconds, sun_time_tmp2.seconds)\n",
        "\n",
        "        return sun_time\n",
        "    if not \"sun_time\" in df_.columns:\n",
        "        u_cols = [\"lat\", \"lon\", \"year\", \"month\", \"day\"]\n",
        "\n",
        "        df_[\"sun_time\"] = -1\n",
        "        df_[\"week\"] = -1\n",
        "\n",
        "        mini_df = df_[u_cols]\n",
        "\n",
        "        sun_time = np.zeros(len(df_))\n",
        "        weeks = np.zeros(len(df_))\n",
        "        for i in tqdm(range(len(mini_df))):\n",
        "            lat, lon, year, month, day = mini_df.iloc[i]\n",
        "            sun_time[i] = _cal_sun_time(lat, lon, year, month, day)\n",
        "\n",
        "            # 曜日\n",
        "            date = datetime.date(int(year), int(month), int(day))\n",
        "            weeks[i] = date.weekday()\n",
        "\n",
        "        df_[\"sun_time\"] = sun_time\n",
        "        df_[\"week\"] = weeks\n",
        "\n",
        "        print(\"add sun_time, weeks\")\n",
        "    cnt += 2\n",
        "    mids = [\"co_mid\", \"o3_mid\", \"so2_mid\", \"no2_mid\", \"temperature_mid\", \"humidity_mid\", \"pressure_mid\", \"ws_mid\", \"dew_mid\"]\n",
        "    for i in range(len(mids)):\n",
        "        for j in range(i):\n",
        "            mid0, mid1 = mids[i], mids[j]\n",
        "            df_[f\"{mid0}+{mid1}\"] = df_[mid0] + df_[mid1]\n",
        "\n",
        "            cnt += 1\n",
        "    print(\"add mids + cal\")\n",
        "    print(f\"add {cnt} columns\")\n",
        "\n",
        "    return df_"
      ]
    },
    {
      "cell_type": "code",
      "execution_count": 34,
      "metadata": {
        "id": "90PpUjny14tH"
      },
      "outputs": [],
      "source": [
        "# numericals = Numericals()\n",
        "# 数字に関する変換\n",
        "# train_df_num = numericals.transform(train_df)\n",
        "\n",
        "# ラベルに関する変換\n",
        "# labelencoding = LabelEncoding(columns = [])\n",
        "\n",
        "# labelencoding.fit(train_df_num)\n",
        "# train_df_labeled = labelencoding.transform(train_df_num)"
      ]
    },
    {
      "cell_type": "code",
      "execution_count": 35,
      "metadata": {
        "id": "6YsXccMiCXvd"
      },
      "outputs": [],
      "source": [
        "class AbstractTreeModel:\n",
        "    def __init__(self, prediction_type=\"regression\"):\n",
        "        self.model = None\n",
        "        self.prediction_type = prediction_type\n",
        "\n",
        "    def train(self,\n",
        "              params: dict,\n",
        "              X_train: pd.DataFrame,\n",
        "              y_train: np.ndarray,\n",
        "              X_val: pd.DataFrame,\n",
        "              y_val: np.ndarray,\n",
        "              train_weights: Optional[np.ndarray] = None,\n",
        "              val_weights: Optional[np.ndarray] = None,\n",
        "              train_params: Optional[dict] = None):\n",
        "        if train_params is None:\n",
        "            train_params = {}\n",
        "\n",
        "        model = self._train(\n",
        "            params,\n",
        "            X_train, y_train,\n",
        "            X_val, y_val,\n",
        "            train_weights, val_weights,\n",
        "            train_params)\n",
        "        self.model = model\n",
        "        return self\n",
        "\n",
        "    def _train(self,\n",
        "               params,\n",
        "               X_train,\n",
        "               y_train,\n",
        "               X_val,\n",
        "               y_val,\n",
        "               train_weights,\n",
        "               val_weights,\n",
        "               train_params):\n",
        "        raise NotImplementedError\n",
        "\n",
        "    def predict(self, X: pd.DataFrame) -> np.ndarray:\n",
        "        raise NotImplementedError\n",
        "\n",
        "    @property\n",
        "    def feature_names_(self):\n",
        "        raise NotImplementedError\n",
        "\n",
        "    @property\n",
        "    def feature_importances_(self):\n",
        "        raise NotImplementedError\n",
        "\n",
        "    def _check_if_trained(self):\n",
        "        assert self.model is not None, \"You need to train the model first\"\n",
        "\n",
        "class LGBModel(AbstractTreeModel):\n",
        "    def _train(self,\n",
        "               params,\n",
        "               X_train, y_train,\n",
        "               X_val, y_val,\n",
        "               train_weights, val_weights,\n",
        "               train_params):\n",
        "        trn_data = lgb.Dataset(X_train, y_train, weight=train_weights)\n",
        "        val_data = lgb.Dataset(X_val, y_val, weight=val_weights)\n",
        "        model = lgb.train(params=params,\n",
        "                          train_set=trn_data,\n",
        "                          valid_sets=[trn_data, val_data],\n",
        "                          **train_params,)\n",
        "                        #   verbose_eval=False)\n",
        "        return model\n",
        "\n",
        "    def predict(self, X: pd.DataFrame) -> np.ndarray:\n",
        "        self._check_if_trained()\n",
        "        return self.model.predict(X, num_iteration=self.model.best_iteration)\n",
        "\n",
        "    @property\n",
        "    def feature_names_(self):\n",
        "        self._check_if_trained()\n",
        "        return self.model.feature_name()\n",
        "\n",
        "    @property\n",
        "    def feature_importances_(self):\n",
        "        self._check_if_trained()\n",
        "        return self.model.feature_importance(importance_type=\"gain\")\n",
        "\n",
        "def get_tree_model(name: str) -> Type[AbstractTreeModel]:\n",
        "    DEFINED_MODELS = {\n",
        "        \"lgb\": LGBModel,\n",
        "        # 実装していない\n",
        "        # \"xgb\": XGBModel,\n",
        "        # \"cat\": CatBoostModel\n",
        "    }\n",
        "    model = DEFINED_MODELS.get(name)\n",
        "    if model is None:\n",
        "        raise ValueError(\n",
        "            \"\"\"Invalid model name: {}.\n",
        "            Pre-defined model names are as follows: {}\"\"\".format(\n",
        "                name,\n",
        "                \",\".join(DEFINED_MODELS.keys())\n",
        "            ))\n",
        "    return model"
      ]
    },
    {
      "cell_type": "code",
      "execution_count": 36,
      "metadata": {
        "id": "70dJPb20ISl_"
      },
      "outputs": [],
      "source": [
        "def viz_feature_importances(feature_importances: pd.DataFrame)-> None:\n",
        "    fi_gby = feature_importances.groupby(\"feature\").agg({\n",
        "        \"importance\": [\"mean\", \"std\"]\n",
        "    }).sort_values((\"importance\", \"mean\"), ascending=0).index\n",
        "    plt.figure(figsize=(30, 20))\n",
        "\n",
        "    sns.barplot(x=\"importance\", y=\"feature\", data=feature_importances, order=fi_gby)\n",
        "\n",
        "    plt.title('LightGBM Features (avg over folds)')\n",
        "    plt.tight_layout()\n",
        "    plt.show()\n",
        "    # plt.savefig('lgbm_importances-01.png')"
      ]
    },
    {
      "cell_type": "code",
      "execution_count": 37,
      "metadata": {
        "id": "55k-amEm_9Xb"
      },
      "outputs": [],
      "source": [
        "train_params = {\n",
        "    \"num_boost_round\": 10000,\n",
        "    \"callbacks\": [\n",
        "                  lgb.early_stopping(stopping_rounds= 200, verbose=True),\n",
        "                  lgb.log_evaluation(period = 500)\n",
        "    ]\n",
        "}"
      ]
    },
    {
      "cell_type": "code",
      "execution_count": 38,
      "metadata": {
        "id": "gm7PQWKwWS7W"
      },
      "outputs": [],
      "source": [
        "num_cols = [c for c in train_df.columns if train_df[c].dtype != np.object]\n",
        "if \"id\" in num_cols:\n",
        "    num_cols.remove(\"id\")\n",
        "if \"kfold\" in num_cols:\n",
        "    num_cols.remove(\"kfold\")\n",
        "num_cols.remove(\"pm25_mid\")\n",
        "\n",
        "target_cols = \"pm25_mid\""
      ]
    },
    {
      "cell_type": "code",
      "source": [
        "train_df_ = preprocess(train_df)\n",
        "test_df_ = preprocess(test_df)"
      ],
      "metadata": {
        "colab": {
          "base_uri": "https://localhost:8080/",
          "height": 259,
          "referenced_widgets": [
            "9339b164774f468fbbf6cc20dffbe285",
            "5b37fd84522446f19fb90af6a66b57e0",
            "8be2200332c544fc8b68ac02a179469d",
            "65b9218c394f4969ae7c54ab5c15bb74",
            "b1db54c45d834a589b11b6733c4b0df3",
            "3c0adeac66a14d559c07b8112a05785b",
            "aacd3eb50fc8405182c8155efa0b8c47",
            "39e6210a46694962810837b3c6260e8b",
            "993271f52abb46d285cb99824f1b5105",
            "b156e3f1965341d2b127b69983457e20",
            "8d1488d4b76843dcbe1ec2c314da34f5",
            "a15d58e090c646d49039e882fddc81cf",
            "ae50e9f9734f41a3857f11837482a72f",
            "68c1de87c3ec496599a4c3f76436866e",
            "c447895a4ad047148bf220a848e489fe",
            "105d64d00ce24265a43e1ec38b9125dd",
            "2ffd51975282456fa92bda258df4c6a8",
            "8cb9fa6f89884b1f881707a30e43b4f1",
            "db4c894eb28e498bafa42fab24f24f76",
            "1598097a48534f019c0332ac92be0a24",
            "f122b2bb29a84ca6bde6a06aa7672da2",
            "af32d72b354f4db3a07c2daf12824be5"
          ]
        },
        "id": "ZP0XBQf8bDVK",
        "outputId": "db2a083d-2b12-4d26-bebb-ca073906112c"
      },
      "execution_count": 39,
      "outputs": [
        {
          "output_type": "stream",
          "name": "stdout",
          "text": [
            "add lon_cos, lon_sin, month_cos, month_sin\n",
            "add month_world\n"
          ]
        },
        {
          "output_type": "display_data",
          "data": {
            "text/plain": [
              "  0%|          | 0/195941 [00:00<?, ?it/s]"
            ],
            "application/vnd.jupyter.widget-view+json": {
              "version_major": 2,
              "version_minor": 0,
              "model_id": "9339b164774f468fbbf6cc20dffbe285"
            }
          },
          "metadata": {}
        },
        {
          "output_type": "stream",
          "name": "stdout",
          "text": [
            "add sun_time, weeks\n",
            "add mids + cal\n",
            "add 43 columns\n",
            "add lon_cos, lon_sin, month_cos, month_sin\n",
            "add month_world\n"
          ]
        },
        {
          "output_type": "display_data",
          "data": {
            "text/plain": [
              "  0%|          | 0/53509 [00:00<?, ?it/s]"
            ],
            "application/vnd.jupyter.widget-view+json": {
              "version_major": 2,
              "version_minor": 0,
              "model_id": "a15d58e090c646d49039e882fddc81cf"
            }
          },
          "metadata": {}
        },
        {
          "output_type": "stream",
          "name": "stdout",
          "text": [
            "add sun_time, weeks\n",
            "add mids + cal\n",
            "add 43 columns\n"
          ]
        }
      ]
    },
    {
      "cell_type": "code",
      "source": [
        "cat_cols = [\"Country\", \"City\", \"year_month\", \"year_month_day\", \"month_day\", \"month_day_city\", \"month_day_country\", \"nearest_city\"] \n",
        "\n",
        "num_cols = list(set(train_df_.columns) - set(cat_cols + [\"pm25_mid\", \"kfold\", \"id\", \"year\"])) + [\"nearest_pm25_mid\"]\n",
        "use_cols = num_cols + cat_cols"
      ],
      "metadata": {
        "id": "EYX6Hj-bxCq8"
      },
      "execution_count": 49,
      "outputs": []
    },
    {
      "cell_type": "code",
      "source": [
        "# num_cols"
      ],
      "metadata": {
        "id": "AkV2RavW_O7A"
      },
      "execution_count": 41,
      "outputs": []
    },
    {
      "cell_type": "code",
      "execution_count": 42,
      "metadata": {
        "id": "O7gneSfCue0V"
      },
      "outputs": [],
      "source": [
        "params= {\n",
        "        'boosting': 'gbdt',\n",
        "        'objective': 'rmse',\n",
        "        'metric': 'rmse',\n",
        "        'learning_rate': 0.01,\n",
        "        \"max_depth\": 16,\n",
        "        \"num_leaves\": 64,\n",
        "        'subsample': 0.7,\n",
        "        'subsample_freq': 1,\n",
        "        \"min_data_in_leaf\":30, \n",
        "        \"device\": \"gpu\",  \n",
        "        \"seed\":2022,\n",
        "}"
      ]
    },
    {
      "cell_type": "code",
      "execution_count": 43,
      "metadata": {
        "colab": {
          "base_uri": "https://localhost:8080/",
          "height": 625
        },
        "id": "-7MEvpyAW-s_",
        "outputId": "0bc9291e-b232-4c5e-bfd3-6ff9a9761ade"
      },
      "outputs": [
        {
          "output_type": "stream",
          "name": "stdout",
          "text": [
            "-----FOLD 1/5-----\n",
            "train_data nums: 156755, valid_data nums: 39186\n",
            "192\n",
            "[LightGBM] [Info] This is the GPU trainer!!\n",
            "[LightGBM] [Info] Total Bins 24077\n",
            "[LightGBM] [Info] Number of data points in the train set: 156755, number of used features: 114\n",
            "[LightGBM] [Info] Using GPU Device: Tesla T4, Vendor: NVIDIA Corporation\n",
            "[LightGBM] [Info] Compiling OpenCL Kernel with 256 bins...\n",
            "[LightGBM] [Info] GPU programs have been built\n",
            "[LightGBM] [Info] Size of histogram bin entry: 8\n",
            "[LightGBM] [Info] 114 dense feature groups (17.34 MB) transferred to GPU in 0.012096 secs. 0 sparse feature groups\n",
            "[LightGBM] [Info] Start training from score 58.695189\n",
            "Training until validation scores don't improve for 200 rounds\n"
          ]
        },
        {
          "output_type": "error",
          "ename": "KeyboardInterrupt",
          "evalue": "ignored",
          "traceback": [
            "\u001b[0;31m---------------------------------------------------------------------------\u001b[0m",
            "\u001b[0;31mKeyboardInterrupt\u001b[0m                         Traceback (most recent call last)",
            "\u001b[0;32m<ipython-input-43-af45e8190d66>\u001b[0m in \u001b[0;36m<module>\u001b[0;34m()\u001b[0m\n\u001b[1;32m     62\u001b[0m         \u001b[0my_train\u001b[0m \u001b[0;34m=\u001b[0m \u001b[0mtrain_data\u001b[0m\u001b[0;34m[\u001b[0m\u001b[0mtarget_cols\u001b[0m\u001b[0;34m]\u001b[0m\u001b[0;34m,\u001b[0m\u001b[0;34m\u001b[0m\u001b[0;34m\u001b[0m\u001b[0m\n\u001b[1;32m     63\u001b[0m         \u001b[0mX_val\u001b[0m \u001b[0;34m=\u001b[0m \u001b[0mvalid_data\u001b[0m\u001b[0;34m[\u001b[0m\u001b[0muse_cols\u001b[0m\u001b[0;34m]\u001b[0m\u001b[0;34m,\u001b[0m\u001b[0;34m\u001b[0m\u001b[0;34m\u001b[0m\u001b[0m\n\u001b[0;32m---> 64\u001b[0;31m         \u001b[0my_val\u001b[0m \u001b[0;34m=\u001b[0m \u001b[0mvalid_data\u001b[0m\u001b[0;34m[\u001b[0m\u001b[0mtarget_cols\u001b[0m\u001b[0;34m]\u001b[0m\u001b[0;34m,\u001b[0m\u001b[0;34m\u001b[0m\u001b[0;34m\u001b[0m\u001b[0m\n\u001b[0m\u001b[1;32m     65\u001b[0m     )\n\u001b[1;32m     66\u001b[0m     \u001b[0mmodels\u001b[0m\u001b[0;34m.\u001b[0m\u001b[0mappend\u001b[0m\u001b[0;34m(\u001b[0m\u001b[0mmodel\u001b[0m\u001b[0;34m)\u001b[0m\u001b[0;34m\u001b[0m\u001b[0;34m\u001b[0m\u001b[0m\n",
            "\u001b[0;32m<ipython-input-35-c6c24e4d55bd>\u001b[0m in \u001b[0;36mtrain\u001b[0;34m(self, params, X_train, y_train, X_val, y_val, train_weights, val_weights, train_params)\u001b[0m\n\u001b[1;32m     21\u001b[0m             \u001b[0mX_val\u001b[0m\u001b[0;34m,\u001b[0m \u001b[0my_val\u001b[0m\u001b[0;34m,\u001b[0m\u001b[0;34m\u001b[0m\u001b[0;34m\u001b[0m\u001b[0m\n\u001b[1;32m     22\u001b[0m             \u001b[0mtrain_weights\u001b[0m\u001b[0;34m,\u001b[0m \u001b[0mval_weights\u001b[0m\u001b[0;34m,\u001b[0m\u001b[0;34m\u001b[0m\u001b[0;34m\u001b[0m\u001b[0m\n\u001b[0;32m---> 23\u001b[0;31m             train_params)\n\u001b[0m\u001b[1;32m     24\u001b[0m         \u001b[0mself\u001b[0m\u001b[0;34m.\u001b[0m\u001b[0mmodel\u001b[0m \u001b[0;34m=\u001b[0m \u001b[0mmodel\u001b[0m\u001b[0;34m\u001b[0m\u001b[0;34m\u001b[0m\u001b[0m\n\u001b[1;32m     25\u001b[0m         \u001b[0;32mreturn\u001b[0m \u001b[0mself\u001b[0m\u001b[0;34m\u001b[0m\u001b[0;34m\u001b[0m\u001b[0m\n",
            "\u001b[0;32m<ipython-input-35-c6c24e4d55bd>\u001b[0m in \u001b[0;36m_train\u001b[0;34m(self, params, X_train, y_train, X_val, y_val, train_weights, val_weights, train_params)\u001b[0m\n\u001b[1;32m     62\u001b[0m                           \u001b[0mtrain_set\u001b[0m\u001b[0;34m=\u001b[0m\u001b[0mtrn_data\u001b[0m\u001b[0;34m,\u001b[0m\u001b[0;34m\u001b[0m\u001b[0;34m\u001b[0m\u001b[0m\n\u001b[1;32m     63\u001b[0m                           \u001b[0mvalid_sets\u001b[0m\u001b[0;34m=\u001b[0m\u001b[0;34m[\u001b[0m\u001b[0mtrn_data\u001b[0m\u001b[0;34m,\u001b[0m \u001b[0mval_data\u001b[0m\u001b[0;34m]\u001b[0m\u001b[0;34m,\u001b[0m\u001b[0;34m\u001b[0m\u001b[0;34m\u001b[0m\u001b[0m\n\u001b[0;32m---> 64\u001b[0;31m                           **train_params,)\n\u001b[0m\u001b[1;32m     65\u001b[0m                         \u001b[0;31m#   verbose_eval=False)\u001b[0m\u001b[0;34m\u001b[0m\u001b[0;34m\u001b[0m\u001b[0;34m\u001b[0m\u001b[0m\n\u001b[1;32m     66\u001b[0m         \u001b[0;32mreturn\u001b[0m \u001b[0mmodel\u001b[0m\u001b[0;34m\u001b[0m\u001b[0;34m\u001b[0m\u001b[0m\n",
            "\u001b[0;32m/content/LightGBM/python-package/lightgbm/engine.py\u001b[0m in \u001b[0;36mtrain\u001b[0;34m(params, train_set, num_boost_round, valid_sets, valid_names, feval, init_model, feature_name, categorical_feature, keep_training_booster, callbacks)\u001b[0m\n\u001b[1;32m    235\u001b[0m                                     evaluation_result_list=None))\n\u001b[1;32m    236\u001b[0m \u001b[0;34m\u001b[0m\u001b[0m\n\u001b[0;32m--> 237\u001b[0;31m         \u001b[0mbooster\u001b[0m\u001b[0;34m.\u001b[0m\u001b[0mupdate\u001b[0m\u001b[0;34m(\u001b[0m\u001b[0mfobj\u001b[0m\u001b[0;34m=\u001b[0m\u001b[0mfobj\u001b[0m\u001b[0;34m)\u001b[0m\u001b[0;34m\u001b[0m\u001b[0;34m\u001b[0m\u001b[0m\n\u001b[0m\u001b[1;32m    238\u001b[0m \u001b[0;34m\u001b[0m\u001b[0m\n\u001b[1;32m    239\u001b[0m         \u001b[0mevaluation_result_list\u001b[0m \u001b[0;34m=\u001b[0m \u001b[0;34m[\u001b[0m\u001b[0;34m]\u001b[0m\u001b[0;34m\u001b[0m\u001b[0;34m\u001b[0m\u001b[0m\n",
            "\u001b[0;32m/content/LightGBM/python-package/lightgbm/basic.py\u001b[0m in \u001b[0;36mupdate\u001b[0;34m(self, train_set, fobj)\u001b[0m\n\u001b[1;32m   3027\u001b[0m             _safe_call(_LIB.LGBM_BoosterUpdateOneIter(\n\u001b[1;32m   3028\u001b[0m                 \u001b[0mself\u001b[0m\u001b[0;34m.\u001b[0m\u001b[0mhandle\u001b[0m\u001b[0;34m,\u001b[0m\u001b[0;34m\u001b[0m\u001b[0;34m\u001b[0m\u001b[0m\n\u001b[0;32m-> 3029\u001b[0;31m                 ctypes.byref(is_finished)))\n\u001b[0m\u001b[1;32m   3030\u001b[0m             \u001b[0mself\u001b[0m\u001b[0;34m.\u001b[0m\u001b[0m__is_predicted_cur_iter\u001b[0m \u001b[0;34m=\u001b[0m \u001b[0;34m[\u001b[0m\u001b[0;32mFalse\u001b[0m \u001b[0;32mfor\u001b[0m \u001b[0m_\u001b[0m \u001b[0;32min\u001b[0m \u001b[0mrange\u001b[0m\u001b[0;34m(\u001b[0m\u001b[0mself\u001b[0m\u001b[0;34m.\u001b[0m\u001b[0m__num_dataset\u001b[0m\u001b[0;34m)\u001b[0m\u001b[0;34m]\u001b[0m\u001b[0;34m\u001b[0m\u001b[0;34m\u001b[0m\u001b[0m\n\u001b[1;32m   3031\u001b[0m             \u001b[0;32mreturn\u001b[0m \u001b[0mis_finished\u001b[0m\u001b[0;34m.\u001b[0m\u001b[0mvalue\u001b[0m \u001b[0;34m==\u001b[0m \u001b[0;36m1\u001b[0m\u001b[0;34m\u001b[0m\u001b[0;34m\u001b[0m\u001b[0m\n",
            "\u001b[0;31mKeyboardInterrupt\u001b[0m: "
          ]
        }
      ],
      "source": [
        "# models = []\n",
        "\n",
        "# oof_df = train_df_[[\"id\"]]\n",
        "# oof_df[\"oof\"] = -1\n",
        "\n",
        "# from lightgbm import early_stopping\n",
        "# from lightgbm import log_evaluation\n",
        "\n",
        "# test_df__ = copy.deepcopy(test_df_)\n",
        "\n",
        "# for i in range(NUM_FOLDS):\n",
        "#     model = get_tree_model(\"lgb\")()\n",
        "#     train_data = train_df_[train_df_[\"kfold\"] != i].reset_index(drop = True)\n",
        "#     valid_data = train_df_[train_df_[\"kfold\"] == i].reset_index(drop = True)\n",
        "#     print(\"-\" * 5 + f\"FOLD {i + 1}/{NUM_FOLDS}\" + \"-\"*5)\n",
        "#     print(f\"train_data nums: {len(train_data)}, valid_data nums: {len(valid_data)}\")\n",
        "\n",
        "#     # fold内での最近傍を探す\n",
        "#     train_data = train_df_[train_df_[\"kfold\"] != i].reset_index(drop = True)\n",
        "#     print(len(train_data[\"City\"].unique()))\n",
        "\n",
        "#     # 同じfoldの中で最近傍な都市があった場合はその年のtarget_encodingを実施\n",
        "#     # nearest_city_fold_df = copy.deepcopy(nearest_city_df)\n",
        "#     fold_cities = train_data[\"City\"].unique()\n",
        "\n",
        "#     fold_nearest_cities = []\n",
        "#     for (base_c, city1, city2, city3, city4, city5) in nearest_sort_cities:\n",
        "#         if city1 in fold_cities:\n",
        "#             nearest_city = city1\n",
        "#         elif city2 in fold_cities:\n",
        "#             nearest_city = city2\n",
        "#         elif city3 in fold_cities:\n",
        "#             nearest_city = city3\n",
        "#         elif city4 in fold_cities:\n",
        "#             nearest_city = city4\n",
        "#         elif city5 in fold_cities:\n",
        "#             nearest_city = city5\n",
        "#         fold_nearest_cities.append([base_c, nearest_city])\n",
        "#     fold_nearest_cities_df = pd.DataFrame(fold_nearest_cities, columns = [\"City\", \"nearest_city\"])\n",
        "\n",
        "#     target_en_bycities_ = target_en_bycities.rename(columns = {\"City\": \"nearest_city\", \"pm25_mid\": \"nearest_pm25_mid\"})\n",
        "#     fold_nearest_city_target_en = fold_nearest_cities_df.merge(target_en_bycities_, how = \"left\", on= \"nearest_city\")\n",
        "\n",
        "#     train_data = train_data.merge(fold_nearest_city_target_en, how = \"left\", on = [\"City\", \"month\"])\n",
        "#     valid_data = valid_data.merge(fold_nearest_city_target_en, how = \"left\", on = [\"City\", \"month\"])\n",
        "#     # test_df\n",
        "\n",
        "\n",
        "#     for c in cat_cols:\n",
        "#         le = LabelEncoder()\n",
        "#         # le.fit(pd.concat([train, test_df_])[c])\n",
        "#         le.fit(pd.concat([train_data, valid_data])[c])\n",
        "#         train_data[c] = le.transform(train_data[c])\n",
        "#         valid_data[c] = le.transform(valid_data[c])\n",
        "#         # if i == 0:\n",
        "#         #     test_df__[c] = le.transform(test_df_[c])\n",
        "\n",
        "#     model.train(\n",
        "#         params,\n",
        "#         train_params = train_params,\n",
        "#         X_train = train_data[use_cols],\n",
        "#         y_train = train_data[target_cols],\n",
        "#         X_val = valid_data[use_cols],\n",
        "#         y_val = valid_data[target_cols],\n",
        "#     )\n",
        "#     models.append(model)\n",
        "\n",
        "#     feature_importance = pd.DataFrame()\n",
        "#     feature_importance[\"feature\"] = model.feature_names_\n",
        "#     feature_importance[\"importance\"] = model.feature_importances_\n",
        "#     feature_importance[\"fold\"] = i\n",
        "\n",
        "#     oof = model.predict(\n",
        "#         valid_data[use_cols]\n",
        "#     )\n",
        "#     oof_df.loc[train_df[\"kfold\"] == i, \"oof\"] = oof\n",
        "\n",
        "# train_oof = train_df.merge(oof_df[[\"id\", \"oof\"]], on = \"id\", how = \"left\")"
      ]
    },
    {
      "cell_type": "code",
      "execution_count": null,
      "metadata": {
        "id": "SCZb-hXEIIkr"
      },
      "outputs": [],
      "source": [
        "# viz_feature_importances(feature_importance)"
      ]
    },
    {
      "cell_type": "code",
      "source": [
        "# a = np.clip(train_oof[\"oof\"], 0, 450)"
      ],
      "metadata": {
        "id": "GaKTbVz7D1ft"
      },
      "execution_count": null,
      "outputs": []
    },
    {
      "cell_type": "code",
      "execution_count": null,
      "metadata": {
        "id": "vIAV6MGrJ1IF"
      },
      "outputs": [],
      "source": [
        "\n",
        "# oof_score = np.sqrt(mean_squared_error(train_oof[\"pm25_mid\"], a))\n",
        "# oof_score = format(oof_score, \".4f\")\n",
        "# print(f\"oof score: {oof_score}\")\n",
        "\n",
        "# ### d_cs_flg 21.89 ###\n",
        "\n",
        "# # 24.11\n",
        "# # 20.85"
      ]
    },
    {
      "cell_type": "code",
      "source": [
        "models = []\n",
        "\n",
        "oof_df = train_df_[[\"id\"]]\n",
        "oof_df[\"oof\"] = -1\n",
        "\n",
        "from lightgbm import early_stopping\n",
        "from lightgbm import log_evaluation\n",
        "\n",
        "test_df__ = copy.deepcopy(test_df_)\n",
        "\n",
        "for i in range(NUM_FOLDS):\n",
        "    model = get_tree_model(\"lgb\")()\n",
        "    train_data = train_df_[train_df_[\"kfold\"] != i].reset_index(drop = True)\n",
        "    valid_data = train_df_[train_df_[\"kfold\"] == i].reset_index(drop = True)\n",
        "    print(\"-\" * 5 + f\"FOLD {i + 1}/{NUM_FOLDS}\" + \"-\"*5)\n",
        "    print(f\"train_data nums: {len(train_data)}, valid_data nums: {len(valid_data)}\")\n",
        "\n",
        "    # fold内での最近傍を探す\n",
        "    train_data = train_df_[train_df_[\"kfold\"] != i].reset_index(drop = True)\n",
        "    print(len(train_data[\"City\"].unique()))\n",
        "\n",
        "    # 同じfoldの中で最近傍な都市があった場合はその年のtarget_encodingを実施\n",
        "    # nearest_city_fold_df = copy.deepcopy(nearest_city_df)\n",
        "    fold_cities = train_data[\"City\"].unique()\n",
        "\n",
        "    fold_nearest_cities = []\n",
        "    for (base_c, city1, city2, city3, city4, city5) in nearest_sort_cities:\n",
        "        if city1 in fold_cities:\n",
        "            nearest_city = city1\n",
        "        elif city2 in fold_cities:\n",
        "            nearest_city = city2\n",
        "        elif city3 in fold_cities:\n",
        "            nearest_city = city3\n",
        "        elif city4 in fold_cities:\n",
        "            nearest_city = city4\n",
        "        elif city5 in fold_cities:\n",
        "            nearest_city = city5\n",
        "        fold_nearest_cities.append([base_c, nearest_city])\n",
        "    fold_nearest_cities_df = pd.DataFrame(fold_nearest_cities, columns = [\"City\", \"nearest_city\"])\n",
        "\n",
        "    target_en_bycities_ = target_en_bycities_detail.rename(columns = {\"City\": \"nearest_city\", \"pm25_mid\": \"nearest_pm25_mid\"})\n",
        "    fold_nearest_city_target_en = fold_nearest_cities_df.merge(target_en_bycities_, how = \"left\", on= \"nearest_city\")\n",
        "\n",
        "    train_data = train_data.merge(fold_nearest_city_target_en, how = \"left\", on = [\"City\", \"year\", \"month\", \"day\"])\n",
        "    valid_data = valid_data.merge(fold_nearest_city_target_en, how = \"left\", on = [\"City\", \"year\", \"month\", \"day\"])\n",
        "    # test_df\n",
        "\n",
        "\n",
        "    for c in cat_cols:\n",
        "        le = LabelEncoder()\n",
        "        # le.fit(pd.concat([train, test_df_])[c])\n",
        "        le.fit(pd.concat([train_data, valid_data])[c])\n",
        "        train_data[c] = le.transform(train_data[c])\n",
        "        valid_data[c] = le.transform(valid_data[c])\n",
        "        # if i == 0:\n",
        "        #     test_df__[c] = le.transform(test_df_[c])\n",
        "\n",
        "    model.train(\n",
        "        params,\n",
        "        train_params = train_params,\n",
        "        X_train = train_data[use_cols],\n",
        "        y_train = train_data[target_cols],\n",
        "        X_val = valid_data[use_cols],\n",
        "        y_val = valid_data[target_cols],\n",
        "    )\n",
        "    models.append(model)\n",
        "\n",
        "    feature_importance = pd.DataFrame()\n",
        "    feature_importance[\"feature\"] = model.feature_names_\n",
        "    feature_importance[\"importance\"] = model.feature_importances_\n",
        "    feature_importance[\"fold\"] = i\n",
        "\n",
        "    oof = model.predict(\n",
        "        valid_data[use_cols]\n",
        "    )\n",
        "    oof_df.loc[train_df[\"kfold\"] == i, \"oof\"] = oof\n",
        "\n",
        "train_oof = train_df.merge(oof_df[[\"id\", \"oof\"]], on = \"id\", how = \"left\")"
      ],
      "metadata": {
        "colab": {
          "base_uri": "https://localhost:8080/"
        },
        "id": "QrL-CjWi1NDs",
        "outputId": "531a2a30-c8e0-46ee-855c-53229525a17e"
      },
      "execution_count": 50,
      "outputs": [
        {
          "output_type": "stream",
          "name": "stdout",
          "text": [
            "-----FOLD 1/5-----\n",
            "train_data nums: 156755, valid_data nums: 39186\n",
            "192\n",
            "[LightGBM] [Info] This is the GPU trainer!!\n",
            "[LightGBM] [Info] Total Bins 24073\n",
            "[LightGBM] [Info] Number of data points in the train set: 156755, number of used features: 113\n",
            "[LightGBM] [Info] Using GPU Device: Tesla T4, Vendor: NVIDIA Corporation\n",
            "[LightGBM] [Info] Compiling OpenCL Kernel with 256 bins...\n",
            "[LightGBM] [Info] GPU programs have been built\n",
            "[LightGBM] [Info] Size of histogram bin entry: 8\n",
            "[LightGBM] [Info] 113 dense feature groups (17.34 MB) transferred to GPU in 0.020668 secs. 0 sparse feature groups\n",
            "[LightGBM] [Info] Start training from score 58.695189\n",
            "Training until validation scores don't improve for 200 rounds\n",
            "[500]\ttraining's rmse: 19.5115\tvalid_1's rmse: 24.7343\n",
            "[1000]\ttraining's rmse: 18.2315\tvalid_1's rmse: 24.3639\n",
            "[1500]\ttraining's rmse: 17.4219\tvalid_1's rmse: 24.2611\n",
            "[2000]\ttraining's rmse: 16.7794\tvalid_1's rmse: 24.212\n",
            "[2500]\ttraining's rmse: 16.2233\tvalid_1's rmse: 24.1774\n",
            "[3000]\ttraining's rmse: 15.7183\tvalid_1's rmse: 24.1394\n",
            "Early stopping, best iteration is:\n",
            "[3074]\ttraining's rmse: 15.6448\tvalid_1's rmse: 24.1319\n",
            "-----FOLD 2/5-----\n",
            "train_data nums: 156758, valid_data nums: 39183\n",
            "191\n",
            "[LightGBM] [Info] This is the GPU trainer!!\n",
            "[LightGBM] [Info] Total Bins 24062\n",
            "[LightGBM] [Info] Number of data points in the train set: 156758, number of used features: 113\n",
            "[LightGBM] [Info] Using GPU Device: Tesla T4, Vendor: NVIDIA Corporation\n",
            "[LightGBM] [Info] Compiling OpenCL Kernel with 256 bins...\n",
            "[LightGBM] [Info] GPU programs have been built\n",
            "[LightGBM] [Info] Size of histogram bin entry: 8\n",
            "[LightGBM] [Info] 113 dense feature groups (17.34 MB) transferred to GPU in 0.011871 secs. 0 sparse feature groups\n",
            "[LightGBM] [Info] Start training from score 59.317361\n",
            "Training until validation scores don't improve for 200 rounds\n",
            "[500]\ttraining's rmse: 19.6479\tvalid_1's rmse: 21.3042\n",
            "[1000]\ttraining's rmse: 18.3569\tvalid_1's rmse: 21.0068\n",
            "[1500]\ttraining's rmse: 17.5371\tvalid_1's rmse: 20.9259\n",
            "[2000]\ttraining's rmse: 16.8782\tvalid_1's rmse: 20.8768\n",
            "[2500]\ttraining's rmse: 16.3129\tvalid_1's rmse: 20.8569\n",
            "[3000]\ttraining's rmse: 15.8042\tvalid_1's rmse: 20.8484\n",
            "[3500]\ttraining's rmse: 15.3453\tvalid_1's rmse: 20.8369\n",
            "Early stopping, best iteration is:\n",
            "[3364]\ttraining's rmse: 15.4687\tvalid_1's rmse: 20.8353\n",
            "-----FOLD 3/5-----\n",
            "train_data nums: 156760, valid_data nums: 39181\n",
            "191\n",
            "[LightGBM] [Info] This is the GPU trainer!!\n",
            "[LightGBM] [Info] Total Bins 24072\n",
            "[LightGBM] [Info] Number of data points in the train set: 156760, number of used features: 113\n",
            "[LightGBM] [Info] Using GPU Device: Tesla T4, Vendor: NVIDIA Corporation\n",
            "[LightGBM] [Info] Compiling OpenCL Kernel with 256 bins...\n",
            "[LightGBM] [Info] GPU programs have been built\n",
            "[LightGBM] [Info] Size of histogram bin entry: 8\n",
            "[LightGBM] [Info] 113 dense feature groups (17.34 MB) transferred to GPU in 0.012365 secs. 0 sparse feature groups\n",
            "[LightGBM] [Info] Start training from score 60.259055\n",
            "Training until validation scores don't improve for 200 rounds\n",
            "[500]\ttraining's rmse: 19.6233\tvalid_1's rmse: 22.2981\n",
            "[1000]\ttraining's rmse: 18.3247\tvalid_1's rmse: 21.9611\n",
            "[1500]\ttraining's rmse: 17.5045\tvalid_1's rmse: 21.852\n",
            "[2000]\ttraining's rmse: 16.8531\tvalid_1's rmse: 21.8001\n",
            "[2500]\ttraining's rmse: 16.2955\tvalid_1's rmse: 21.7775\n",
            "[3000]\ttraining's rmse: 15.7861\tvalid_1's rmse: 21.7496\n",
            "[3500]\ttraining's rmse: 15.3276\tvalid_1's rmse: 21.7236\n",
            "[4000]\ttraining's rmse: 14.9007\tvalid_1's rmse: 21.7087\n",
            "[4500]\ttraining's rmse: 14.5042\tvalid_1's rmse: 21.6986\n",
            "[5000]\ttraining's rmse: 14.1315\tvalid_1's rmse: 21.697\n",
            "Early stopping, best iteration is:\n",
            "[4822]\ttraining's rmse: 14.2618\tvalid_1's rmse: 21.6941\n",
            "-----FOLD 4/5-----\n",
            "train_data nums: 156730, valid_data nums: 39211\n",
            "191\n",
            "[LightGBM] [Info] This is the GPU trainer!!\n",
            "[LightGBM] [Info] Total Bins 24082\n",
            "[LightGBM] [Info] Number of data points in the train set: 156730, number of used features: 113\n",
            "[LightGBM] [Info] Using GPU Device: Tesla T4, Vendor: NVIDIA Corporation\n",
            "[LightGBM] [Info] Compiling OpenCL Kernel with 256 bins...\n",
            "[LightGBM] [Info] GPU programs have been built\n",
            "[LightGBM] [Info] Size of histogram bin entry: 8\n",
            "[LightGBM] [Info] 113 dense feature groups (17.34 MB) transferred to GPU in 0.011617 secs. 0 sparse feature groups\n",
            "[LightGBM] [Info] Start training from score 59.072621\n",
            "Training until validation scores don't improve for 200 rounds\n",
            "[500]\ttraining's rmse: 19.4576\tvalid_1's rmse: 22.0161\n",
            "[1000]\ttraining's rmse: 18.1427\tvalid_1's rmse: 21.6359\n",
            "[1500]\ttraining's rmse: 17.3223\tvalid_1's rmse: 21.5048\n",
            "[2000]\ttraining's rmse: 16.679\tvalid_1's rmse: 21.4305\n",
            "[2500]\ttraining's rmse: 16.1146\tvalid_1's rmse: 21.3842\n",
            "[3000]\ttraining's rmse: 15.6109\tvalid_1's rmse: 21.3641\n",
            "[3500]\ttraining's rmse: 15.1546\tvalid_1's rmse: 21.3425\n",
            "[4000]\ttraining's rmse: 14.734\tvalid_1's rmse: 21.3247\n",
            "[4500]\ttraining's rmse: 14.3381\tvalid_1's rmse: 21.3069\n",
            "[5000]\ttraining's rmse: 13.9645\tvalid_1's rmse: 21.3006\n",
            "Early stopping, best iteration is:\n",
            "[5134]\ttraining's rmse: 13.8689\tvalid_1's rmse: 21.2969\n",
            "-----FOLD 5/5-----\n",
            "train_data nums: 156761, valid_data nums: 39180\n",
            "191\n",
            "[LightGBM] [Info] This is the GPU trainer!!\n",
            "[LightGBM] [Info] Total Bins 24076\n",
            "[LightGBM] [Info] Number of data points in the train set: 156761, number of used features: 113\n",
            "[LightGBM] [Info] Using GPU Device: Tesla T4, Vendor: NVIDIA Corporation\n",
            "[LightGBM] [Info] Compiling OpenCL Kernel with 256 bins...\n",
            "[LightGBM] [Info] GPU programs have been built\n",
            "[LightGBM] [Info] Size of histogram bin entry: 8\n",
            "[LightGBM] [Info] 113 dense feature groups (17.34 MB) transferred to GPU in 0.011794 secs. 0 sparse feature groups\n",
            "[LightGBM] [Info] Start training from score 58.656422\n",
            "Training until validation scores don't improve for 200 rounds\n",
            "[500]\ttraining's rmse: 19.4115\tvalid_1's rmse: 22.2649\n",
            "[1000]\ttraining's rmse: 18.1182\tvalid_1's rmse: 21.8951\n",
            "[1500]\ttraining's rmse: 17.3057\tvalid_1's rmse: 21.7824\n",
            "[2000]\ttraining's rmse: 16.6548\tvalid_1's rmse: 21.7168\n",
            "[2500]\ttraining's rmse: 16.0996\tvalid_1's rmse: 21.6694\n",
            "[3000]\ttraining's rmse: 15.6013\tvalid_1's rmse: 21.6356\n",
            "[3500]\ttraining's rmse: 15.1474\tvalid_1's rmse: 21.6061\n",
            "[4000]\ttraining's rmse: 14.7275\tvalid_1's rmse: 21.5797\n",
            "[4500]\ttraining's rmse: 14.336\tvalid_1's rmse: 21.5555\n",
            "[5000]\ttraining's rmse: 13.9655\tvalid_1's rmse: 21.5339\n",
            "[5500]\ttraining's rmse: 13.6162\tvalid_1's rmse: 21.5267\n",
            "[6000]\ttraining's rmse: 13.2763\tvalid_1's rmse: 21.5151\n",
            "[6500]\ttraining's rmse: 12.9531\tvalid_1's rmse: 21.4997\n",
            "[7000]\ttraining's rmse: 12.6459\tvalid_1's rmse: 21.49\n",
            "Early stopping, best iteration is:\n",
            "[7139]\ttraining's rmse: 12.5612\tvalid_1's rmse: 21.4821\n"
          ]
        }
      ]
    },
    {
      "cell_type": "code",
      "source": [
        "train_data"
      ],
      "metadata": {
        "colab": {
          "base_uri": "https://localhost:8080/",
          "height": 487
        },
        "id": "1tOBp3bl68FE",
        "outputId": "60e7ab4b-d6a1-45ab-d168-8983ee7d5a48"
      },
      "execution_count": 51,
      "outputs": [
        {
          "output_type": "execute_result",
          "data": {
            "text/plain": [
              "            id  year  month  day  Country  City       lat        lon  co_cnt  \\\n",
              "0            1  2019      1    1        0    19 -27.46794  153.02809      38   \n",
              "1            2  2019      1    1        0    39 -12.46113  130.84185      47   \n",
              "2            3  2019      1    1        0   117 -37.81400  144.96332      17   \n",
              "3            4  2019      1    1        0   140 -32.92953  151.78010      63   \n",
              "4            5  2019      1    1        0   153 -31.95224  115.86140      47   \n",
              "...        ...   ...    ...  ...      ...   ...       ...        ...     ...   \n",
              "156756  195935  2021     12   31       27    24  51.48000   -3.18000     123   \n",
              "156757  195937  2021     12   31       28    83  30.33218  -81.65565      12   \n",
              "156758  195939  2021     12   31       28   120  43.03890  -87.90647     171   \n",
              "156759  195940  2021     12   31       29    68  21.02450  105.84117      31   \n",
              "156760  195941  2021     12   31       29    78  20.95045  107.07336      26   \n",
              "\n",
              "        co_min  ...  dew_mid+co_mid  dew_mid+o3_mid  dew_mid+so2_mid  \\\n",
              "0        0.749  ...          12.948          14.653           10.826   \n",
              "1        2.594  ...          26.994          31.385           23.915   \n",
              "2        1.190  ...          14.330          25.660           14.597   \n",
              "3        4.586  ...          21.729          24.826           13.915   \n",
              "4        4.689  ...          11.958           5.626            9.071   \n",
              "...        ...  ...             ...             ...              ...   \n",
              "156756   2.237  ...           7.823          27.835            4.494   \n",
              "156757   0.694  ...          23.674          31.974           23.767   \n",
              "156758   1.975  ...          10.158          10.928            6.446   \n",
              "156759   2.613  ...          10.147          22.917            9.981   \n",
              "156760   0.069  ...          10.492          13.512           11.213   \n",
              "\n",
              "        dew_mid+no2_mid  dew_mid+temperature_mid  dew_mid+humidity_mid  \\\n",
              "0                10.887                   24.396                80.784   \n",
              "1                24.114                   53.938                98.089   \n",
              "2                15.884                   13.133                82.202   \n",
              "3                28.156                   30.504                97.605   \n",
              "4                24.417                   15.099                80.013   \n",
              "...                 ...                      ...                   ...   \n",
              "156756           10.020                    7.644                66.891   \n",
              "156757           23.750                   49.914               111.051   \n",
              "156758            8.375                    8.585                79.037   \n",
              "156759           14.184                   13.282                85.920   \n",
              "156760           22.427                   35.268                94.027   \n",
              "\n",
              "        dew_mid+pressure_mid  dew_mid+ws_mid  nearest_city  nearest_pm25_mid  \n",
              "0                   1026.079          11.446            82           174.370  \n",
              "1                    994.065          27.286            89           167.063  \n",
              "2                    893.133          15.240           133           110.224  \n",
              "3                   1027.230          11.188           133           110.224  \n",
              "4                   1026.269           4.032            23            13.741  \n",
              "...                      ...             ...           ...               ...  \n",
              "156756              1018.534           4.248           146               NaN  \n",
              "156757              1030.774          25.389           146               NaN  \n",
              "156758              1031.875           4.618           146               NaN  \n",
              "156759              1035.150          10.501            48            62.021  \n",
              "156760              1029.521          13.147            40            36.523  \n",
              "\n",
              "[156761 rows x 117 columns]"
            ],
            "text/html": [
              "\n",
              "  <div id=\"df-7fb28b56-4eec-43fd-8e66-ac5ede029957\">\n",
              "    <div class=\"colab-df-container\">\n",
              "      <div>\n",
              "<style scoped>\n",
              "    .dataframe tbody tr th:only-of-type {\n",
              "        vertical-align: middle;\n",
              "    }\n",
              "\n",
              "    .dataframe tbody tr th {\n",
              "        vertical-align: top;\n",
              "    }\n",
              "\n",
              "    .dataframe thead th {\n",
              "        text-align: right;\n",
              "    }\n",
              "</style>\n",
              "<table border=\"1\" class=\"dataframe\">\n",
              "  <thead>\n",
              "    <tr style=\"text-align: right;\">\n",
              "      <th></th>\n",
              "      <th>id</th>\n",
              "      <th>year</th>\n",
              "      <th>month</th>\n",
              "      <th>day</th>\n",
              "      <th>Country</th>\n",
              "      <th>City</th>\n",
              "      <th>lat</th>\n",
              "      <th>lon</th>\n",
              "      <th>co_cnt</th>\n",
              "      <th>co_min</th>\n",
              "      <th>...</th>\n",
              "      <th>dew_mid+co_mid</th>\n",
              "      <th>dew_mid+o3_mid</th>\n",
              "      <th>dew_mid+so2_mid</th>\n",
              "      <th>dew_mid+no2_mid</th>\n",
              "      <th>dew_mid+temperature_mid</th>\n",
              "      <th>dew_mid+humidity_mid</th>\n",
              "      <th>dew_mid+pressure_mid</th>\n",
              "      <th>dew_mid+ws_mid</th>\n",
              "      <th>nearest_city</th>\n",
              "      <th>nearest_pm25_mid</th>\n",
              "    </tr>\n",
              "  </thead>\n",
              "  <tbody>\n",
              "    <tr>\n",
              "      <th>0</th>\n",
              "      <td>1</td>\n",
              "      <td>2019</td>\n",
              "      <td>1</td>\n",
              "      <td>1</td>\n",
              "      <td>0</td>\n",
              "      <td>19</td>\n",
              "      <td>-27.46794</td>\n",
              "      <td>153.02809</td>\n",
              "      <td>38</td>\n",
              "      <td>0.749</td>\n",
              "      <td>...</td>\n",
              "      <td>12.948</td>\n",
              "      <td>14.653</td>\n",
              "      <td>10.826</td>\n",
              "      <td>10.887</td>\n",
              "      <td>24.396</td>\n",
              "      <td>80.784</td>\n",
              "      <td>1026.079</td>\n",
              "      <td>11.446</td>\n",
              "      <td>82</td>\n",
              "      <td>174.370</td>\n",
              "    </tr>\n",
              "    <tr>\n",
              "      <th>1</th>\n",
              "      <td>2</td>\n",
              "      <td>2019</td>\n",
              "      <td>1</td>\n",
              "      <td>1</td>\n",
              "      <td>0</td>\n",
              "      <td>39</td>\n",
              "      <td>-12.46113</td>\n",
              "      <td>130.84185</td>\n",
              "      <td>47</td>\n",
              "      <td>2.594</td>\n",
              "      <td>...</td>\n",
              "      <td>26.994</td>\n",
              "      <td>31.385</td>\n",
              "      <td>23.915</td>\n",
              "      <td>24.114</td>\n",
              "      <td>53.938</td>\n",
              "      <td>98.089</td>\n",
              "      <td>994.065</td>\n",
              "      <td>27.286</td>\n",
              "      <td>89</td>\n",
              "      <td>167.063</td>\n",
              "    </tr>\n",
              "    <tr>\n",
              "      <th>2</th>\n",
              "      <td>3</td>\n",
              "      <td>2019</td>\n",
              "      <td>1</td>\n",
              "      <td>1</td>\n",
              "      <td>0</td>\n",
              "      <td>117</td>\n",
              "      <td>-37.81400</td>\n",
              "      <td>144.96332</td>\n",
              "      <td>17</td>\n",
              "      <td>1.190</td>\n",
              "      <td>...</td>\n",
              "      <td>14.330</td>\n",
              "      <td>25.660</td>\n",
              "      <td>14.597</td>\n",
              "      <td>15.884</td>\n",
              "      <td>13.133</td>\n",
              "      <td>82.202</td>\n",
              "      <td>893.133</td>\n",
              "      <td>15.240</td>\n",
              "      <td>133</td>\n",
              "      <td>110.224</td>\n",
              "    </tr>\n",
              "    <tr>\n",
              "      <th>3</th>\n",
              "      <td>4</td>\n",
              "      <td>2019</td>\n",
              "      <td>1</td>\n",
              "      <td>1</td>\n",
              "      <td>0</td>\n",
              "      <td>140</td>\n",
              "      <td>-32.92953</td>\n",
              "      <td>151.78010</td>\n",
              "      <td>63</td>\n",
              "      <td>4.586</td>\n",
              "      <td>...</td>\n",
              "      <td>21.729</td>\n",
              "      <td>24.826</td>\n",
              "      <td>13.915</td>\n",
              "      <td>28.156</td>\n",
              "      <td>30.504</td>\n",
              "      <td>97.605</td>\n",
              "      <td>1027.230</td>\n",
              "      <td>11.188</td>\n",
              "      <td>133</td>\n",
              "      <td>110.224</td>\n",
              "    </tr>\n",
              "    <tr>\n",
              "      <th>4</th>\n",
              "      <td>5</td>\n",
              "      <td>2019</td>\n",
              "      <td>1</td>\n",
              "      <td>1</td>\n",
              "      <td>0</td>\n",
              "      <td>153</td>\n",
              "      <td>-31.95224</td>\n",
              "      <td>115.86140</td>\n",
              "      <td>47</td>\n",
              "      <td>4.689</td>\n",
              "      <td>...</td>\n",
              "      <td>11.958</td>\n",
              "      <td>5.626</td>\n",
              "      <td>9.071</td>\n",
              "      <td>24.417</td>\n",
              "      <td>15.099</td>\n",
              "      <td>80.013</td>\n",
              "      <td>1026.269</td>\n",
              "      <td>4.032</td>\n",
              "      <td>23</td>\n",
              "      <td>13.741</td>\n",
              "    </tr>\n",
              "    <tr>\n",
              "      <th>...</th>\n",
              "      <td>...</td>\n",
              "      <td>...</td>\n",
              "      <td>...</td>\n",
              "      <td>...</td>\n",
              "      <td>...</td>\n",
              "      <td>...</td>\n",
              "      <td>...</td>\n",
              "      <td>...</td>\n",
              "      <td>...</td>\n",
              "      <td>...</td>\n",
              "      <td>...</td>\n",
              "      <td>...</td>\n",
              "      <td>...</td>\n",
              "      <td>...</td>\n",
              "      <td>...</td>\n",
              "      <td>...</td>\n",
              "      <td>...</td>\n",
              "      <td>...</td>\n",
              "      <td>...</td>\n",
              "      <td>...</td>\n",
              "      <td>...</td>\n",
              "    </tr>\n",
              "    <tr>\n",
              "      <th>156756</th>\n",
              "      <td>195935</td>\n",
              "      <td>2021</td>\n",
              "      <td>12</td>\n",
              "      <td>31</td>\n",
              "      <td>27</td>\n",
              "      <td>24</td>\n",
              "      <td>51.48000</td>\n",
              "      <td>-3.18000</td>\n",
              "      <td>123</td>\n",
              "      <td>2.237</td>\n",
              "      <td>...</td>\n",
              "      <td>7.823</td>\n",
              "      <td>27.835</td>\n",
              "      <td>4.494</td>\n",
              "      <td>10.020</td>\n",
              "      <td>7.644</td>\n",
              "      <td>66.891</td>\n",
              "      <td>1018.534</td>\n",
              "      <td>4.248</td>\n",
              "      <td>146</td>\n",
              "      <td>NaN</td>\n",
              "    </tr>\n",
              "    <tr>\n",
              "      <th>156757</th>\n",
              "      <td>195937</td>\n",
              "      <td>2021</td>\n",
              "      <td>12</td>\n",
              "      <td>31</td>\n",
              "      <td>28</td>\n",
              "      <td>83</td>\n",
              "      <td>30.33218</td>\n",
              "      <td>-81.65565</td>\n",
              "      <td>12</td>\n",
              "      <td>0.694</td>\n",
              "      <td>...</td>\n",
              "      <td>23.674</td>\n",
              "      <td>31.974</td>\n",
              "      <td>23.767</td>\n",
              "      <td>23.750</td>\n",
              "      <td>49.914</td>\n",
              "      <td>111.051</td>\n",
              "      <td>1030.774</td>\n",
              "      <td>25.389</td>\n",
              "      <td>146</td>\n",
              "      <td>NaN</td>\n",
              "    </tr>\n",
              "    <tr>\n",
              "      <th>156758</th>\n",
              "      <td>195939</td>\n",
              "      <td>2021</td>\n",
              "      <td>12</td>\n",
              "      <td>31</td>\n",
              "      <td>28</td>\n",
              "      <td>120</td>\n",
              "      <td>43.03890</td>\n",
              "      <td>-87.90647</td>\n",
              "      <td>171</td>\n",
              "      <td>1.975</td>\n",
              "      <td>...</td>\n",
              "      <td>10.158</td>\n",
              "      <td>10.928</td>\n",
              "      <td>6.446</td>\n",
              "      <td>8.375</td>\n",
              "      <td>8.585</td>\n",
              "      <td>79.037</td>\n",
              "      <td>1031.875</td>\n",
              "      <td>4.618</td>\n",
              "      <td>146</td>\n",
              "      <td>NaN</td>\n",
              "    </tr>\n",
              "    <tr>\n",
              "      <th>156759</th>\n",
              "      <td>195940</td>\n",
              "      <td>2021</td>\n",
              "      <td>12</td>\n",
              "      <td>31</td>\n",
              "      <td>29</td>\n",
              "      <td>68</td>\n",
              "      <td>21.02450</td>\n",
              "      <td>105.84117</td>\n",
              "      <td>31</td>\n",
              "      <td>2.613</td>\n",
              "      <td>...</td>\n",
              "      <td>10.147</td>\n",
              "      <td>22.917</td>\n",
              "      <td>9.981</td>\n",
              "      <td>14.184</td>\n",
              "      <td>13.282</td>\n",
              "      <td>85.920</td>\n",
              "      <td>1035.150</td>\n",
              "      <td>10.501</td>\n",
              "      <td>48</td>\n",
              "      <td>62.021</td>\n",
              "    </tr>\n",
              "    <tr>\n",
              "      <th>156760</th>\n",
              "      <td>195941</td>\n",
              "      <td>2021</td>\n",
              "      <td>12</td>\n",
              "      <td>31</td>\n",
              "      <td>29</td>\n",
              "      <td>78</td>\n",
              "      <td>20.95045</td>\n",
              "      <td>107.07336</td>\n",
              "      <td>26</td>\n",
              "      <td>0.069</td>\n",
              "      <td>...</td>\n",
              "      <td>10.492</td>\n",
              "      <td>13.512</td>\n",
              "      <td>11.213</td>\n",
              "      <td>22.427</td>\n",
              "      <td>35.268</td>\n",
              "      <td>94.027</td>\n",
              "      <td>1029.521</td>\n",
              "      <td>13.147</td>\n",
              "      <td>40</td>\n",
              "      <td>36.523</td>\n",
              "    </tr>\n",
              "  </tbody>\n",
              "</table>\n",
              "<p>156761 rows × 117 columns</p>\n",
              "</div>\n",
              "      <button class=\"colab-df-convert\" onclick=\"convertToInteractive('df-7fb28b56-4eec-43fd-8e66-ac5ede029957')\"\n",
              "              title=\"Convert this dataframe to an interactive table.\"\n",
              "              style=\"display:none;\">\n",
              "        \n",
              "  <svg xmlns=\"http://www.w3.org/2000/svg\" height=\"24px\"viewBox=\"0 0 24 24\"\n",
              "       width=\"24px\">\n",
              "    <path d=\"M0 0h24v24H0V0z\" fill=\"none\"/>\n",
              "    <path d=\"M18.56 5.44l.94 2.06.94-2.06 2.06-.94-2.06-.94-.94-2.06-.94 2.06-2.06.94zm-11 1L8.5 8.5l.94-2.06 2.06-.94-2.06-.94L8.5 2.5l-.94 2.06-2.06.94zm10 10l.94 2.06.94-2.06 2.06-.94-2.06-.94-.94-2.06-.94 2.06-2.06.94z\"/><path d=\"M17.41 7.96l-1.37-1.37c-.4-.4-.92-.59-1.43-.59-.52 0-1.04.2-1.43.59L10.3 9.45l-7.72 7.72c-.78.78-.78 2.05 0 2.83L4 21.41c.39.39.9.59 1.41.59.51 0 1.02-.2 1.41-.59l7.78-7.78 2.81-2.81c.8-.78.8-2.07 0-2.86zM5.41 20L4 18.59l7.72-7.72 1.47 1.35L5.41 20z\"/>\n",
              "  </svg>\n",
              "      </button>\n",
              "      \n",
              "  <style>\n",
              "    .colab-df-container {\n",
              "      display:flex;\n",
              "      flex-wrap:wrap;\n",
              "      gap: 12px;\n",
              "    }\n",
              "\n",
              "    .colab-df-convert {\n",
              "      background-color: #E8F0FE;\n",
              "      border: none;\n",
              "      border-radius: 50%;\n",
              "      cursor: pointer;\n",
              "      display: none;\n",
              "      fill: #1967D2;\n",
              "      height: 32px;\n",
              "      padding: 0 0 0 0;\n",
              "      width: 32px;\n",
              "    }\n",
              "\n",
              "    .colab-df-convert:hover {\n",
              "      background-color: #E2EBFA;\n",
              "      box-shadow: 0px 1px 2px rgba(60, 64, 67, 0.3), 0px 1px 3px 1px rgba(60, 64, 67, 0.15);\n",
              "      fill: #174EA6;\n",
              "    }\n",
              "\n",
              "    [theme=dark] .colab-df-convert {\n",
              "      background-color: #3B4455;\n",
              "      fill: #D2E3FC;\n",
              "    }\n",
              "\n",
              "    [theme=dark] .colab-df-convert:hover {\n",
              "      background-color: #434B5C;\n",
              "      box-shadow: 0px 1px 3px 1px rgba(0, 0, 0, 0.15);\n",
              "      filter: drop-shadow(0px 1px 2px rgba(0, 0, 0, 0.3));\n",
              "      fill: #FFFFFF;\n",
              "    }\n",
              "  </style>\n",
              "\n",
              "      <script>\n",
              "        const buttonEl =\n",
              "          document.querySelector('#df-7fb28b56-4eec-43fd-8e66-ac5ede029957 button.colab-df-convert');\n",
              "        buttonEl.style.display =\n",
              "          google.colab.kernel.accessAllowed ? 'block' : 'none';\n",
              "\n",
              "        async function convertToInteractive(key) {\n",
              "          const element = document.querySelector('#df-7fb28b56-4eec-43fd-8e66-ac5ede029957');\n",
              "          const dataTable =\n",
              "            await google.colab.kernel.invokeFunction('convertToInteractive',\n",
              "                                                     [key], {});\n",
              "          if (!dataTable) return;\n",
              "\n",
              "          const docLinkHtml = 'Like what you see? Visit the ' +\n",
              "            '<a target=\"_blank\" href=https://colab.research.google.com/notebooks/data_table.ipynb>data table notebook</a>'\n",
              "            + ' to learn more about interactive tables.';\n",
              "          element.innerHTML = '';\n",
              "          dataTable['output_type'] = 'display_data';\n",
              "          await google.colab.output.renderOutput(dataTable, element);\n",
              "          const docLink = document.createElement('div');\n",
              "          docLink.innerHTML = docLinkHtml;\n",
              "          element.appendChild(docLink);\n",
              "        }\n",
              "      </script>\n",
              "    </div>\n",
              "  </div>\n",
              "  "
            ]
          },
          "metadata": {},
          "execution_count": 51
        }
      ]
    },
    {
      "cell_type": "code",
      "source": [
        "viz_feature_importances(feature_importance)"
      ],
      "metadata": {
        "colab": {
          "base_uri": "https://localhost:8080/",
          "height": 1000
        },
        "id": "RJWd2VaA1NGQ",
        "outputId": "d8ada6e1-49b1-4d1b-f403-4a66c25870a2"
      },
      "execution_count": 52,
      "outputs": [
        {
          "output_type": "display_data",
          "data": {
            "text/plain": [
              "<Figure size 2160x1440 with 1 Axes>"
            ],
            "image/png": "[encoded data removed]"
          },
          "metadata": {
            "needs_background": "light"
          }
        }
      ]
    },
    {
      "cell_type": "code",
      "source": [
        "a = np.clip(train_oof[\"oof\"], 0, 450)\n",
        "oof_score = np.sqrt(mean_squared_error(train_oof[\"pm25_mid\"], a))\n",
        "oof_score = format(oof_score, \".4f\")\n",
        "print(f\"oof score: {oof_score}\")\n",
        "\n",
        "### d_cs_flg 21.89 ###\n",
        "\n",
        "# 24.11\n",
        "# 20.85"
      ],
      "metadata": {
        "colab": {
          "base_uri": "https://localhost:8080/"
        },
        "id": "t16XNLJ21NIl",
        "outputId": "816c4bd2-407e-4f88-9655-12e4f7cbb2cb"
      },
      "execution_count": 53,
      "outputs": [
        {
          "output_type": "stream",
          "name": "stdout",
          "text": [
            "oof score: 21.9185\n"
          ]
        }
      ]
    },
    {
      "cell_type": "code",
      "source": [
        ""
      ],
      "metadata": {
        "id": "pmkagr3x1NLf"
      },
      "execution_count": null,
      "outputs": []
    },
    {
      "cell_type": "code",
      "execution_count": null,
      "metadata": {
        "id": "eAWRkjDaaIta"
      },
      "outputs": [],
      "source": [
        "train_oof[[\"id\",\"pm25_mid\", \"kfold\", \"oof\"]].to_csv(os.path.join(OOF_DIR, \"oof.csv\"), index= False)"
      ]
    },
    {
      "cell_type": "markdown",
      "metadata": {
        "id": "8vAXJVnWSySV"
      },
      "source": [
        "# predict"
      ]
    },
    {
      "cell_type": "code",
      "execution_count": null,
      "metadata": {
        "id": "p1434DZVHg0W"
      },
      "outputs": [],
      "source": [
        "sum_predict = None\n",
        "for model in models:\n",
        "    predict = model.predict(\n",
        "        test_df__[use_cols],\n",
        "    )\n",
        "    if sum_predict is None:\n",
        "        sum_predict = predict\n",
        "    else:\n",
        "        sum_predict += predict\n",
        "\n",
        "mean_predict = sum_predict / len(models)"
      ]
    },
    {
      "cell_type": "code",
      "execution_count": null,
      "metadata": {
        "id": "LjcrS25rrje9"
      },
      "outputs": [],
      "source": [
        "print(len(mean_predict))\n",
        "print(sample_df.shape)\n",
        "print(test_df.shape)"
      ]
    },
    {
      "cell_type": "code",
      "execution_count": null,
      "metadata": {
        "id": "xot64X_yHg4L"
      },
      "outputs": [],
      "source": [
        "sample_df.loc[:,\"predict\"] = np.clip(mean_predict, 0, 450)"
      ]
    },
    {
      "cell_type": "code",
      "execution_count": null,
      "metadata": {
        "id": "kVae9iW6cL0D"
      },
      "outputs": [],
      "source": [
        "sample_df.head()"
      ]
    },
    {
      "cell_type": "code",
      "execution_count": null,
      "metadata": {
        "id": "87NkPMdTSrmH"
      },
      "outputs": [],
      "source": [
        "sample_df.to_csv(os.path.join(SUB_DIR, \"submission.csv\"), index= False, header = False)"
      ]
    },
    {
      "cell_type": "markdown",
      "metadata": {
        "id": "ZO0WqelkHyfS"
      },
      "source": [
        "# submit"
      ]
    },
    {
      "cell_type": "code",
      "execution_count": null,
      "metadata": {
        "id": "PhTe6h6yDH8X"
      },
      "outputs": [],
      "source": [
        "!pip install signate > /dev/null\n",
        "!mkdir /root/.signate\n",
        "!cp /content/drive/MyDrive/signate/signate.json /root/.signate/signate.json"
      ]
    },
    {
      "cell_type": "code",
      "execution_count": null,
      "metadata": {
        "id": "oSmQPSHLTX6E"
      },
      "outputs": [],
      "source": [
        "submission_file = os.path.join(SUB_DIR, \"submission.csv\")"
      ]
    },
    {
      "cell_type": "code",
      "execution_count": null,
      "metadata": {
        "id": "8yM6uPondJnm"
      },
      "outputs": [],
      "source": [
        "comment = f\"cv:{oof_score}_\" + NOTEBOOK_NAME\n",
        "comment"
      ]
    },
    {
      "cell_type": "markdown",
      "metadata": {
        "id": "LvoIkzVdibh-"
      },
      "source": [
        "# Submit"
      ]
    },
    {
      "cell_type": "code",
      "execution_count": null,
      "metadata": {
        "id": "69-UNJ1YTuej"
      },
      "outputs": [],
      "source": [
        "# !signate submit --competition-id=624 {submission_file} --note {comment}"
      ]
    },
    {
      "cell_type": "code",
      "source": [
        ""
      ],
      "metadata": {
        "id": "OhKj-ijxqL1-"
      },
      "execution_count": null,
      "outputs": []
    },
    {
      "cell_type": "markdown",
      "metadata": {
        "id": "fdianTtHED1W"
      },
      "source": [
        "https://signate.jp/competitions/624/submissions"
      ]
    },
    {
      "cell_type": "code",
      "execution_count": null,
      "metadata": {
        "id": "RrKqaQNXq6HS"
      },
      "outputs": [],
      "source": [
        "train_df[[\"City\", \"month\", \"pm25_mid\"]].groupby([\"City\"]).describe()"
      ]
    },
    {
      "cell_type": "code",
      "source": [
        "train_df.columns"
      ],
      "metadata": {
        "id": "Zf19grzU6L2A"
      },
      "execution_count": null,
      "outputs": []
    },
    {
      "cell_type": "code",
      "source": [
        "train_df[[\"co_cnt\", \"co_var\", \"co_min\", \"co_max\", \"co_mid\"]]"
      ],
      "metadata": {
        "id": "qXndbaZZ5NF8"
      },
      "execution_count": null,
      "outputs": []
    },
    {
      "cell_type": "code",
      "source": [
        "gen = np.random.default_rng()\n",
        "\n",
        "rnd = gen.normal(size=38)\n",
        "\n",
        "print(len(rnd), rnd.mean(), rnd.std())"
      ],
      "metadata": {
        "id": "TR28Gf_Q9J2V"
      },
      "execution_count": null,
      "outputs": []
    },
    {
      "cell_type": "code",
      "execution_count": null,
      "metadata": {
        "id": "MVDD0781EEep"
      },
      "outputs": [],
      "source": [
        "plt.hist(train_df[train_df[\"City\"] == \"Adapazarı\"][\"pm25_mid\"], bins = 100)"
      ]
    },
    {
      "cell_type": "code",
      "source": [
        ""
      ],
      "metadata": {
        "id": "TGGg9zDl4-nn"
      },
      "execution_count": null,
      "outputs": []
    }
  ],
  "metadata": {
    "accelerator": "GPU",
    "colab": {
      "collapsed_sections": [
        "8vAXJVnWSySV",
        "ZO0WqelkHyfS"
      ],
      "machine_shape": "hm",
      "name": "FP026-22",
      "provenance": [],
      "authorship_tag": "ABX9TyMs0id/pv2Lh2e9Su/L09d2",
      "include_colab_link": true
    },
    "kernelspec": {
      "display_name": "Python 3",
      "name": "python3"
    },
    "language_info": {
      "name": "python"
    },
    "widgets": {
      "application/vnd.jupyter.widget-state+json": {
        "af64b8aade83488d91ab2ab865eeef44": {
          "model_module": "@jupyter-widgets/controls",
          "model_name": "HBoxModel",
          "model_module_version": "1.5.0",
          "state": {
            "_dom_classes": [],
            "_model_module": "@jupyter-widgets/controls",
            "_model_module_version": "1.5.0",
            "_model_name": "HBoxModel",
            "_view_count": null,
            "_view_module": "@jupyter-widgets/controls",
            "_view_module_version": "1.5.0",
            "_view_name": "HBoxView",
            "box_style": "",
            "children": [
              "IPY_MODEL_9f7b10fbbe0d44b49fcf6453fac405f0",
              "IPY_MODEL_4efc7c220f914642917c4d5837077e7a",
              "IPY_MODEL_70bcd655d6ad4e06bf2aca85147ace9d"
            ],
            "layout": "IPY_MODEL_96c4ffe7cf6a4985a15c3f1600a94249"
          }
        },
        "9f7b10fbbe0d44b49fcf6453fac405f0": {
          "model_module": "@jupyter-widgets/controls",
          "model_name": "HTMLModel",
          "model_module_version": "1.5.0",
          "state": {
            "_dom_classes": [],
            "_model_module": "@jupyter-widgets/controls",
            "_model_module_version": "1.5.0",
            "_model_name": "HTMLModel",
            "_view_count": null,
            "_view_module": "@jupyter-widgets/controls",
            "_view_module_version": "1.5.0",
            "_view_name": "HTMLView",
            "description": "",
            "description_tooltip": null,
            "layout": "IPY_MODEL_7eacea9b8f07491686e33f36d4f7d0a9",
            "placeholder": "​",
            "style": "IPY_MODEL_4ccac912f110453796567539585a5eb0",
            "value": "100%"
          }
        },
        "4efc7c220f914642917c4d5837077e7a": {
          "model_module": "@jupyter-widgets/controls",
          "model_name": "FloatProgressModel",
          "model_module_version": "1.5.0",
          "state": {
            "_dom_classes": [],
            "_model_module": "@jupyter-widgets/controls",
            "_model_module_version": "1.5.0",
            "_model_name": "FloatProgressModel",
            "_view_count": null,
            "_view_module": "@jupyter-widgets/controls",
            "_view_module_version": "1.5.0",
            "_view_name": "ProgressView",
            "bar_style": "success",
            "description": "",
            "description_tooltip": null,
            "layout": "IPY_MODEL_9e9b850299334463b44c65292e1c5e07",
            "max": 302,
            "min": 0,
            "orientation": "horizontal",
            "style": "IPY_MODEL_1668a602cca941aa8a55db487b84c122",
            "value": 302
          }
        },
        "70bcd655d6ad4e06bf2aca85147ace9d": {
          "model_module": "@jupyter-widgets/controls",
          "model_name": "HTMLModel",
          "model_module_version": "1.5.0",
          "state": {
            "_dom_classes": [],
            "_model_module": "@jupyter-widgets/controls",
            "_model_module_version": "1.5.0",
            "_model_name": "HTMLModel",
            "_view_count": null,
            "_view_module": "@jupyter-widgets/controls",
            "_view_module_version": "1.5.0",
            "_view_name": "HTMLView",
            "description": "",
            "description_tooltip": null,
            "layout": "IPY_MODEL_5d142e5732044affa0383ff80083399b",
            "placeholder": "​",
            "style": "IPY_MODEL_e43ccce240344c689c9b926cdf0bfef9",
            "value": " 302/302 [00:43&lt;00:00,  7.87it/s]"
          }
        },
        "96c4ffe7cf6a4985a15c3f1600a94249": {
          "model_module": "@jupyter-widgets/base",
          "model_name": "LayoutModel",
          "model_module_version": "1.2.0",
          "state": {
            "_model_module": "@jupyter-widgets/base",
            "_model_module_version": "1.2.0",
            "_model_name": "LayoutModel",
            "_view_count": null,
            "_view_module": "@jupyter-widgets/base",
            "_view_module_version": "1.2.0",
            "_view_name": "LayoutView",
            "align_content": null,
            "align_items": null,
            "align_self": null,
            "border": null,
            "bottom": null,
            "display": null,
            "flex": null,
            "flex_flow": null,
            "grid_area": null,
            "grid_auto_columns": null,
            "grid_auto_flow": null,
            "grid_auto_rows": null,
            "grid_column": null,
            "grid_gap": null,
            "grid_row": null,
            "grid_template_areas": null,
            "grid_template_columns": null,
            "grid_template_rows": null,
            "height": null,
            "justify_content": null,
            "justify_items": null,
            "left": null,
            "margin": null,
            "max_height": null,
            "max_width": null,
            "min_height": null,
            "min_width": null,
            "object_fit": null,
            "object_position": null,
            "order": null,
            "overflow": null,
            "overflow_x": null,
            "overflow_y": null,
            "padding": null,
            "right": null,
            "top": null,
            "visibility": null,
            "width": null
          }
        },
        "7eacea9b8f07491686e33f36d4f7d0a9": {
          "model_module": "@jupyter-widgets/base",
          "model_name": "LayoutModel",
          "model_module_version": "1.2.0",
          "state": {
            "_model_module": "@jupyter-widgets/base",
            "_model_module_version": "1.2.0",
            "_model_name": "LayoutModel",
            "_view_count": null,
            "_view_module": "@jupyter-widgets/base",
            "_view_module_version": "1.2.0",
            "_view_name": "LayoutView",
            "align_content": null,
            "align_items": null,
            "align_self": null,
            "border": null,
            "bottom": null,
            "display": null,
            "flex": null,
            "flex_flow": null,
            "grid_area": null,
            "grid_auto_columns": null,
            "grid_auto_flow": null,
            "grid_auto_rows": null,
            "grid_column": null,
            "grid_gap": null,
            "grid_row": null,
            "grid_template_areas": null,
            "grid_template_columns": null,
            "grid_template_rows": null,
            "height": null,
            "justify_content": null,
            "justify_items": null,
            "left": null,
            "margin": null,
            "max_height": null,
            "max_width": null,
            "min_height": null,
            "min_width": null,
            "object_fit": null,
            "object_position": null,
            "order": null,
            "overflow": null,
            "overflow_x": null,
            "overflow_y": null,
            "padding": null,
            "right": null,
            "top": null,
            "visibility": null,
            "width": null
          }
        },
        "4ccac912f110453796567539585a5eb0": {
          "model_module": "@jupyter-widgets/controls",
          "model_name": "DescriptionStyleModel",
          "model_module_version": "1.5.0",
          "state": {
            "_model_module": "@jupyter-widgets/controls",
            "_model_module_version": "1.5.0",
            "_model_name": "DescriptionStyleModel",
            "_view_count": null,
            "_view_module": "@jupyter-widgets/base",
            "_view_module_version": "1.2.0",
            "_view_name": "StyleView",
            "description_width": ""
          }
        },
        "9e9b850299334463b44c65292e1c5e07": {
          "model_module": "@jupyter-widgets/base",
          "model_name": "LayoutModel",
          "model_module_version": "1.2.0",
          "state": {
            "_model_module": "@jupyter-widgets/base",
            "_model_module_version": "1.2.0",
            "_model_name": "LayoutModel",
            "_view_count": null,
            "_view_module": "@jupyter-widgets/base",
            "_view_module_version": "1.2.0",
            "_view_name": "LayoutView",
            "align_content": null,
            "align_items": null,
            "align_self": null,
            "border": null,
            "bottom": null,
            "display": null,
            "flex": null,
            "flex_flow": null,
            "grid_area": null,
            "grid_auto_columns": null,
            "grid_auto_flow": null,
            "grid_auto_rows": null,
            "grid_column": null,
            "grid_gap": null,
            "grid_row": null,
            "grid_template_areas": null,
            "grid_template_columns": null,
            "grid_template_rows": null,
            "height": null,
            "justify_content": null,
            "justify_items": null,
            "left": null,
            "margin": null,
            "max_height": null,
            "max_width": null,
            "min_height": null,
            "min_width": null,
            "object_fit": null,
            "object_position": null,
            "order": null,
            "overflow": null,
            "overflow_x": null,
            "overflow_y": null,
            "padding": null,
            "right": null,
            "top": null,
            "visibility": null,
            "width": null
          }
        },
        "1668a602cca941aa8a55db487b84c122": {
          "model_module": "@jupyter-widgets/controls",
          "model_name": "ProgressStyleModel",
          "model_module_version": "1.5.0",
          "state": {
            "_model_module": "@jupyter-widgets/controls",
            "_model_module_version": "1.5.0",
            "_model_name": "ProgressStyleModel",
            "_view_count": null,
            "_view_module": "@jupyter-widgets/base",
            "_view_module_version": "1.2.0",
            "_view_name": "StyleView",
            "bar_color": null,
            "description_width": ""
          }
        },
        "5d142e5732044affa0383ff80083399b": {
          "model_module": "@jupyter-widgets/base",
          "model_name": "LayoutModel",
          "model_module_version": "1.2.0",
          "state": {
            "_model_module": "@jupyter-widgets/base",
            "_model_module_version": "1.2.0",
            "_model_name": "LayoutModel",
            "_view_count": null,
            "_view_module": "@jupyter-widgets/base",
            "_view_module_version": "1.2.0",
            "_view_name": "LayoutView",
            "align_content": null,
            "align_items": null,
            "align_self": null,
            "border": null,
            "bottom": null,
            "display": null,
            "flex": null,
            "flex_flow": null,
            "grid_area": null,
            "grid_auto_columns": null,
            "grid_auto_flow": null,
            "grid_auto_rows": null,
            "grid_column": null,
            "grid_gap": null,
            "grid_row": null,
            "grid_template_areas": null,
            "grid_template_columns": null,
            "grid_template_rows": null,
            "height": null,
            "justify_content": null,
            "justify_items": null,
            "left": null,
            "margin": null,
            "max_height": null,
            "max_width": null,
            "min_height": null,
            "min_width": null,
            "object_fit": null,
            "object_position": null,
            "order": null,
            "overflow": null,
            "overflow_x": null,
            "overflow_y": null,
            "padding": null,
            "right": null,
            "top": null,
            "visibility": null,
            "width": null
          }
        },
        "e43ccce240344c689c9b926cdf0bfef9": {
          "model_module": "@jupyter-widgets/controls",
          "model_name": "DescriptionStyleModel",
          "model_module_version": "1.5.0",
          "state": {
            "_model_module": "@jupyter-widgets/controls",
            "_model_module_version": "1.5.0",
            "_model_name": "DescriptionStyleModel",
            "_view_count": null,
            "_view_module": "@jupyter-widgets/base",
            "_view_module_version": "1.2.0",
            "_view_name": "StyleView",
            "description_width": ""
          }
        },
        "9339b164774f468fbbf6cc20dffbe285": {
          "model_module": "@jupyter-widgets/controls",
          "model_name": "HBoxModel",
          "model_module_version": "1.5.0",
          "state": {
            "_dom_classes": [],
            "_model_module": "@jupyter-widgets/controls",
            "_model_module_version": "1.5.0",
            "_model_name": "HBoxModel",
            "_view_count": null,
            "_view_module": "@jupyter-widgets/controls",
            "_view_module_version": "1.5.0",
            "_view_name": "HBoxView",
            "box_style": "",
            "children": [
              "IPY_MODEL_5b37fd84522446f19fb90af6a66b57e0",
              "IPY_MODEL_8be2200332c544fc8b68ac02a179469d",
              "IPY_MODEL_65b9218c394f4969ae7c54ab5c15bb74"
            ],
            "layout": "IPY_MODEL_b1db54c45d834a589b11b6733c4b0df3"
          }
        },
        "5b37fd84522446f19fb90af6a66b57e0": {
          "model_module": "@jupyter-widgets/controls",
          "model_name": "HTMLModel",
          "model_module_version": "1.5.0",
          "state": {
            "_dom_classes": [],
            "_model_module": "@jupyter-widgets/controls",
            "_model_module_version": "1.5.0",
            "_model_name": "HTMLModel",
            "_view_count": null,
            "_view_module": "@jupyter-widgets/controls",
            "_view_module_version": "1.5.0",
            "_view_name": "HTMLView",
            "description": "",
            "description_tooltip": null,
            "layout": "IPY_MODEL_3c0adeac66a14d559c07b8112a05785b",
            "placeholder": "​",
            "style": "IPY_MODEL_aacd3eb50fc8405182c8155efa0b8c47",
            "value": "100%"
          }
        },
        "8be2200332c544fc8b68ac02a179469d": {
          "model_module": "@jupyter-widgets/controls",
          "model_name": "FloatProgressModel",
          "model_module_version": "1.5.0",
          "state": {
            "_dom_classes": [],
            "_model_module": "@jupyter-widgets/controls",
            "_model_module_version": "1.5.0",
            "_model_name": "FloatProgressModel",
            "_view_count": null,
            "_view_module": "@jupyter-widgets/controls",
            "_view_module_version": "1.5.0",
            "_view_name": "ProgressView",
            "bar_style": "success",
            "description": "",
            "description_tooltip": null,
            "layout": "IPY_MODEL_39e6210a46694962810837b3c6260e8b",
            "max": 195941,
            "min": 0,
            "orientation": "horizontal",
            "style": "IPY_MODEL_993271f52abb46d285cb99824f1b5105",
            "value": 195941
          }
        },
        "65b9218c394f4969ae7c54ab5c15bb74": {
          "model_module": "@jupyter-widgets/controls",
          "model_name": "HTMLModel",
          "model_module_version": "1.5.0",
          "state": {
            "_dom_classes": [],
            "_model_module": "@jupyter-widgets/controls",
            "_model_module_version": "1.5.0",
            "_model_name": "HTMLModel",
            "_view_count": null,
            "_view_module": "@jupyter-widgets/controls",
            "_view_module_version": "1.5.0",
            "_view_name": "HTMLView",
            "description": "",
            "description_tooltip": null,
            "layout": "IPY_MODEL_b156e3f1965341d2b127b69983457e20",
            "placeholder": "​",
            "style": "IPY_MODEL_8d1488d4b76843dcbe1ec2c314da34f5",
            "value": " 195941/195941 [01:50&lt;00:00, 1811.62it/s]"
          }
        },
        "b1db54c45d834a589b11b6733c4b0df3": {
          "model_module": "@jupyter-widgets/base",
          "model_name": "LayoutModel",
          "model_module_version": "1.2.0",
          "state": {
            "_model_module": "@jupyter-widgets/base",
            "_model_module_version": "1.2.0",
            "_model_name": "LayoutModel",
            "_view_count": null,
            "_view_module": "@jupyter-widgets/base",
            "_view_module_version": "1.2.0",
            "_view_name": "LayoutView",
            "align_content": null,
            "align_items": null,
            "align_self": null,
            "border": null,
            "bottom": null,
            "display": null,
            "flex": null,
            "flex_flow": null,
            "grid_area": null,
            "grid_auto_columns": null,
            "grid_auto_flow": null,
            "grid_auto_rows": null,
            "grid_column": null,
            "grid_gap": null,
            "grid_row": null,
            "grid_template_areas": null,
            "grid_template_columns": null,
            "grid_template_rows": null,
            "height": null,
            "justify_content": null,
            "justify_items": null,
            "left": null,
            "margin": null,
            "max_height": null,
            "max_width": null,
            "min_height": null,
            "min_width": null,
            "object_fit": null,
            "object_position": null,
            "order": null,
            "overflow": null,
            "overflow_x": null,
            "overflow_y": null,
            "padding": null,
            "right": null,
            "top": null,
            "visibility": null,
            "width": null
          }
        },
        "3c0adeac66a14d559c07b8112a05785b": {
          "model_module": "@jupyter-widgets/base",
          "model_name": "LayoutModel",
          "model_module_version": "1.2.0",
          "state": {
            "_model_module": "@jupyter-widgets/base",
            "_model_module_version": "1.2.0",
            "_model_name": "LayoutModel",
            "_view_count": null,
            "_view_module": "@jupyter-widgets/base",
            "_view_module_version": "1.2.0",
            "_view_name": "LayoutView",
            "align_content": null,
            "align_items": null,
            "align_self": null,
            "border": null,
            "bottom": null,
            "display": null,
            "flex": null,
            "flex_flow": null,
            "grid_area": null,
            "grid_auto_columns": null,
            "grid_auto_flow": null,
            "grid_auto_rows": null,
            "grid_column": null,
            "grid_gap": null,
            "grid_row": null,
            "grid_template_areas": null,
            "grid_template_columns": null,
            "grid_template_rows": null,
            "height": null,
            "justify_content": null,
            "justify_items": null,
            "left": null,
            "margin": null,
            "max_height": null,
            "max_width": null,
            "min_height": null,
            "min_width": null,
            "object_fit": null,
            "object_position": null,
            "order": null,
            "overflow": null,
            "overflow_x": null,
            "overflow_y": null,
            "padding": null,
            "right": null,
            "top": null,
            "visibility": null,
            "width": null
          }
        },
        "aacd3eb50fc8405182c8155efa0b8c47": {
          "model_module": "@jupyter-widgets/controls",
          "model_name": "DescriptionStyleModel",
          "model_module_version": "1.5.0",
          "state": {
            "_model_module": "@jupyter-widgets/controls",
            "_model_module_version": "1.5.0",
            "_model_name": "DescriptionStyleModel",
            "_view_count": null,
            "_view_module": "@jupyter-widgets/base",
            "_view_module_version": "1.2.0",
            "_view_name": "StyleView",
            "description_width": ""
          }
        },
        "39e6210a46694962810837b3c6260e8b": {
          "model_module": "@jupyter-widgets/base",
          "model_name": "LayoutModel",
          "model_module_version": "1.2.0",
          "state": {
            "_model_module": "@jupyter-widgets/base",
            "_model_module_version": "1.2.0",
            "_model_name": "LayoutModel",
            "_view_count": null,
            "_view_module": "@jupyter-widgets/base",
            "_view_module_version": "1.2.0",
            "_view_name": "LayoutView",
            "align_content": null,
            "align_items": null,
            "align_self": null,
            "border": null,
            "bottom": null,
            "display": null,
            "flex": null,
            "flex_flow": null,
            "grid_area": null,
            "grid_auto_columns": null,
            "grid_auto_flow": null,
            "grid_auto_rows": null,
            "grid_column": null,
            "grid_gap": null,
            "grid_row": null,
            "grid_template_areas": null,
            "grid_template_columns": null,
            "grid_template_rows": null,
            "height": null,
            "justify_content": null,
            "justify_items": null,
            "left": null,
            "margin": null,
            "max_height": null,
            "max_width": null,
            "min_height": null,
            "min_width": null,
            "object_fit": null,
            "object_position": null,
            "order": null,
            "overflow": null,
            "overflow_x": null,
            "overflow_y": null,
            "padding": null,
            "right": null,
            "top": null,
            "visibility": null,
            "width": null
          }
        },
        "993271f52abb46d285cb99824f1b5105": {
          "model_module": "@jupyter-widgets/controls",
          "model_name": "ProgressStyleModel",
          "model_module_version": "1.5.0",
          "state": {
            "_model_module": "@jupyter-widgets/controls",
            "_model_module_version": "1.5.0",
            "_model_name": "ProgressStyleModel",
            "_view_count": null,
            "_view_module": "@jupyter-widgets/base",
            "_view_module_version": "1.2.0",
            "_view_name": "StyleView",
            "bar_color": null,
            "description_width": ""
          }
        },
        "b156e3f1965341d2b127b69983457e20": {
          "model_module": "@jupyter-widgets/base",
          "model_name": "LayoutModel",
          "model_module_version": "1.2.0",
          "state": {
            "_model_module": "@jupyter-widgets/base",
            "_model_module_version": "1.2.0",
            "_model_name": "LayoutModel",
            "_view_count": null,
            "_view_module": "@jupyter-widgets/base",
            "_view_module_version": "1.2.0",
            "_view_name": "LayoutView",
            "align_content": null,
            "align_items": null,
            "align_self": null,
            "border": null,
            "bottom": null,
            "display": null,
            "flex": null,
            "flex_flow": null,
            "grid_area": null,
            "grid_auto_columns": null,
            "grid_auto_flow": null,
            "grid_auto_rows": null,
            "grid_column": null,
            "grid_gap": null,
            "grid_row": null,
            "grid_template_areas": null,
            "grid_template_columns": null,
            "grid_template_rows": null,
            "height": null,
            "justify_content": null,
            "justify_items": null,
            "left": null,
            "margin": null,
            "max_height": null,
            "max_width": null,
            "min_height": null,
            "min_width": null,
            "object_fit": null,
            "object_position": null,
            "order": null,
            "overflow": null,
            "overflow_x": null,
            "overflow_y": null,
            "padding": null,
            "right": null,
            "top": null,
            "visibility": null,
            "width": null
          }
        },
        "8d1488d4b76843dcbe1ec2c314da34f5": {
          "model_module": "@jupyter-widgets/controls",
          "model_name": "DescriptionStyleModel",
          "model_module_version": "1.5.0",
          "state": {
            "_model_module": "@jupyter-widgets/controls",
            "_model_module_version": "1.5.0",
            "_model_name": "DescriptionStyleModel",
            "_view_count": null,
            "_view_module": "@jupyter-widgets/base",
            "_view_module_version": "1.2.0",
            "_view_name": "StyleView",
            "description_width": ""
          }
        },
        "a15d58e090c646d49039e882fddc81cf": {
          "model_module": "@jupyter-widgets/controls",
          "model_name": "HBoxModel",
          "model_module_version": "1.5.0",
          "state": {
            "_dom_classes": [],
            "_model_module": "@jupyter-widgets/controls",
            "_model_module_version": "1.5.0",
            "_model_name": "HBoxModel",
            "_view_count": null,
            "_view_module": "@jupyter-widgets/controls",
            "_view_module_version": "1.5.0",
            "_view_name": "HBoxView",
            "box_style": "",
            "children": [
              "IPY_MODEL_ae50e9f9734f41a3857f11837482a72f",
              "IPY_MODEL_68c1de87c3ec496599a4c3f76436866e",
              "IPY_MODEL_c447895a4ad047148bf220a848e489fe"
            ],
            "layout": "IPY_MODEL_105d64d00ce24265a43e1ec38b9125dd"
          }
        },
        "ae50e9f9734f41a3857f11837482a72f": {
          "model_module": "@jupyter-widgets/controls",
          "model_name": "HTMLModel",
          "model_module_version": "1.5.0",
          "state": {
            "_dom_classes": [],
            "_model_module": "@jupyter-widgets/controls",
            "_model_module_version": "1.5.0",
            "_model_name": "HTMLModel",
            "_view_count": null,
            "_view_module": "@jupyter-widgets/controls",
            "_view_module_version": "1.5.0",
            "_view_name": "HTMLView",
            "description": "",
            "description_tooltip": null,
            "layout": "IPY_MODEL_2ffd51975282456fa92bda258df4c6a8",
            "placeholder": "​",
            "style": "IPY_MODEL_8cb9fa6f89884b1f881707a30e43b4f1",
            "value": "100%"
          }
        },
        "68c1de87c3ec496599a4c3f76436866e": {
          "model_module": "@jupyter-widgets/controls",
          "model_name": "FloatProgressModel",
          "model_module_version": "1.5.0",
          "state": {
            "_dom_classes": [],
            "_model_module": "@jupyter-widgets/controls",
            "_model_module_version": "1.5.0",
            "_model_name": "FloatProgressModel",
            "_view_count": null,
            "_view_module": "@jupyter-widgets/controls",
            "_view_module_version": "1.5.0",
            "_view_name": "ProgressView",
            "bar_style": "success",
            "description": "",
            "description_tooltip": null,
            "layout": "IPY_MODEL_db4c894eb28e498bafa42fab24f24f76",
            "max": 53509,
            "min": 0,
            "orientation": "horizontal",
            "style": "IPY_MODEL_1598097a48534f019c0332ac92be0a24",
            "value": 53509
          }
        },
        "c447895a4ad047148bf220a848e489fe": {
          "model_module": "@jupyter-widgets/controls",
          "model_name": "HTMLModel",
          "model_module_version": "1.5.0",
          "state": {
            "_dom_classes": [],
            "_model_module": "@jupyter-widgets/controls",
            "_model_module_version": "1.5.0",
            "_model_name": "HTMLModel",
            "_view_count": null,
            "_view_module": "@jupyter-widgets/controls",
            "_view_module_version": "1.5.0",
            "_view_name": "HTMLView",
            "description": "",
            "description_tooltip": null,
            "layout": "IPY_MODEL_f122b2bb29a84ca6bde6a06aa7672da2",
            "placeholder": "​",
            "style": "IPY_MODEL_af32d72b354f4db3a07c2daf12824be5",
            "value": " 53509/53509 [00:30&lt;00:00, 1787.55it/s]"
          }
        },
        "105d64d00ce24265a43e1ec38b9125dd": {
          "model_module": "@jupyter-widgets/base",
          "model_name": "LayoutModel",
          "model_module_version": "1.2.0",
          "state": {
            "_model_module": "@jupyter-widgets/base",
            "_model_module_version": "1.2.0",
            "_model_name": "LayoutModel",
            "_view_count": null,
            "_view_module": "@jupyter-widgets/base",
            "_view_module_version": "1.2.0",
            "_view_name": "LayoutView",
            "align_content": null,
            "align_items": null,
            "align_self": null,
            "border": null,
            "bottom": null,
            "display": null,
            "flex": null,
            "flex_flow": null,
            "grid_area": null,
            "grid_auto_columns": null,
            "grid_auto_flow": null,
            "grid_auto_rows": null,
            "grid_column": null,
            "grid_gap": null,
            "grid_row": null,
            "grid_template_areas": null,
            "grid_template_columns": null,
            "grid_template_rows": null,
            "height": null,
            "justify_content": null,
            "justify_items": null,
            "left": null,
            "margin": null,
            "max_height": null,
            "max_width": null,
            "min_height": null,
            "min_width": null,
            "object_fit": null,
            "object_position": null,
            "order": null,
            "overflow": null,
            "overflow_x": null,
            "overflow_y": null,
            "padding": null,
            "right": null,
            "top": null,
            "visibility": null,
            "width": null
          }
        },
        "2ffd51975282456fa92bda258df4c6a8": {
          "model_module": "@jupyter-widgets/base",
          "model_name": "LayoutModel",
          "model_module_version": "1.2.0",
          "state": {
            "_model_module": "@jupyter-widgets/base",
            "_model_module_version": "1.2.0",
            "_model_name": "LayoutModel",
            "_view_count": null,
            "_view_module": "@jupyter-widgets/base",
            "_view_module_version": "1.2.0",
            "_view_name": "LayoutView",
            "align_content": null,
            "align_items": null,
            "align_self": null,
            "border": null,
            "bottom": null,
            "display": null,
            "flex": null,
            "flex_flow": null,
            "grid_area": null,
            "grid_auto_columns": null,
            "grid_auto_flow": null,
            "grid_auto_rows": null,
            "grid_column": null,
            "grid_gap": null,
            "grid_row": null,
            "grid_template_areas": null,
            "grid_template_columns": null,
            "grid_template_rows": null,
            "height": null,
            "justify_content": null,
            "justify_items": null,
            "left": null,
            "margin": null,
            "max_height": null,
            "max_width": null,
            "min_height": null,
            "min_width": null,
            "object_fit": null,
            "object_position": null,
            "order": null,
            "overflow": null,
            "overflow_x": null,
            "overflow_y": null,
            "padding": null,
            "right": null,
            "top": null,
            "visibility": null,
            "width": null
          }
        },
        "8cb9fa6f89884b1f881707a30e43b4f1": {
          "model_module": "@jupyter-widgets/controls",
          "model_name": "DescriptionStyleModel",
          "model_module_version": "1.5.0",
          "state": {
            "_model_module": "@jupyter-widgets/controls",
            "_model_module_version": "1.5.0",
            "_model_name": "DescriptionStyleModel",
            "_view_count": null,
            "_view_module": "@jupyter-widgets/base",
            "_view_module_version": "1.2.0",
            "_view_name": "StyleView",
            "description_width": ""
          }
        },
        "db4c894eb28e498bafa42fab24f24f76": {
          "model_module": "@jupyter-widgets/base",
          "model_name": "LayoutModel",
          "model_module_version": "1.2.0",
          "state": {
            "_model_module": "@jupyter-widgets/base",
            "_model_module_version": "1.2.0",
            "_model_name": "LayoutModel",
            "_view_count": null,
            "_view_module": "@jupyter-widgets/base",
            "_view_module_version": "1.2.0",
            "_view_name": "LayoutView",
            "align_content": null,
            "align_items": null,
            "align_self": null,
            "border": null,
            "bottom": null,
            "display": null,
            "flex": null,
            "flex_flow": null,
            "grid_area": null,
            "grid_auto_columns": null,
            "grid_auto_flow": null,
            "grid_auto_rows": null,
            "grid_column": null,
            "grid_gap": null,
            "grid_row": null,
            "grid_template_areas": null,
            "grid_template_columns": null,
            "grid_template_rows": null,
            "height": null,
            "justify_content": null,
            "justify_items": null,
            "left": null,
            "margin": null,
            "max_height": null,
            "max_width": null,
            "min_height": null,
            "min_width": null,
            "object_fit": null,
            "object_position": null,
            "order": null,
            "overflow": null,
            "overflow_x": null,
            "overflow_y": null,
            "padding": null,
            "right": null,
            "top": null,
            "visibility": null,
            "width": null
          }
        },
        "1598097a48534f019c0332ac92be0a24": {
          "model_module": "@jupyter-widgets/controls",
          "model_name": "ProgressStyleModel",
          "model_module_version": "1.5.0",
          "state": {
            "_model_module": "@jupyter-widgets/controls",
            "_model_module_version": "1.5.0",
            "_model_name": "ProgressStyleModel",
            "_view_count": null,
            "_view_module": "@jupyter-widgets/base",
            "_view_module_version": "1.2.0",
            "_view_name": "StyleView",
            "bar_color": null,
            "description_width": ""
          }
        },
        "f122b2bb29a84ca6bde6a06aa7672da2": {
          "model_module": "@jupyter-widgets/base",
          "model_name": "LayoutModel",
          "model_module_version": "1.2.0",
          "state": {
            "_model_module": "@jupyter-widgets/base",
            "_model_module_version": "1.2.0",
            "_model_name": "LayoutModel",
            "_view_count": null,
            "_view_module": "@jupyter-widgets/base",
            "_view_module_version": "1.2.0",
            "_view_name": "LayoutView",
            "align_content": null,
            "align_items": null,
            "align_self": null,
            "border": null,
            "bottom": null,
            "display": null,
            "flex": null,
            "flex_flow": null,
            "grid_area": null,
            "grid_auto_columns": null,
            "grid_auto_flow": null,
            "grid_auto_rows": null,
            "grid_column": null,
            "grid_gap": null,
            "grid_row": null,
            "grid_template_areas": null,
            "grid_template_columns": null,
            "grid_template_rows": null,
            "height": null,
            "justify_content": null,
            "justify_items": null,
            "left": null,
            "margin": null,
            "max_height": null,
            "max_width": null,
            "min_height": null,
            "min_width": null,
            "object_fit": null,
            "object_position": null,
            "order": null,
            "overflow": null,
            "overflow_x": null,
            "overflow_y": null,
            "padding": null,
            "right": null,
            "top": null,
            "visibility": null,
            "width": null
          }
        },
        "af32d72b354f4db3a07c2daf12824be5": {
          "model_module": "@jupyter-widgets/controls",
          "model_name": "DescriptionStyleModel",
          "model_module_version": "1.5.0",
          "state": {
            "_model_module": "@jupyter-widgets/controls",
            "_model_module_version": "1.5.0",
            "_model_name": "DescriptionStyleModel",
            "_view_count": null,
            "_view_module": "@jupyter-widgets/base",
            "_view_module_version": "1.2.0",
            "_view_name": "StyleView",
            "description_width": ""
          }
        }
      }
    }
  },
  "nbformat": 4,
  "nbformat_minor": 0
}